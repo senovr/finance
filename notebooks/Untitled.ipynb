{
 "cells": [
  {
   "cell_type": "code",
   "execution_count": 1,
   "metadata": {},
   "outputs": [],
   "source": [
    "from clickhouse_driver import Client"
   ]
  },
  {
   "cell_type": "code",
   "execution_count": 7,
   "metadata": {},
   "outputs": [],
   "source": [
    "client = Client('localhost', \n",
    "                user='sergey', \n",
    "                password='280752', \n",
    "                secure=True, \n",
    "                verify=False, \n",
    "                database='default',\n",
    "                compression=False)"
   ]
  },
  {
   "cell_type": "code",
   "execution_count": 15,
   "metadata": {},
   "outputs": [],
   "source": [
    "client = Client('localhost',\n",
    "               #user='default', \n",
    "                password='280752', )"
   ]
  },
  {
   "cell_type": "code",
   "execution_count": 16,
   "metadata": {},
   "outputs": [
    {
     "name": "stdout",
     "output_type": "stream",
     "text": [
      "RESULT: <class 'list'>: [(datetime.datetime(2020, 3, 31, 7, 36, 38), '20.3.5.21')]\n",
      " ROW: <class 'tuple'>: (datetime.datetime(2020, 3, 31, 7, 36, 38), '20.3.5.21')\n",
      "  COLUMN: <class 'datetime.datetime'>: 2020-03-31 07:36:38\n",
      "  COLUMN: <class 'str'>: 20.3.5.21\n"
     ]
    }
   ],
   "source": [
    "result = client.execute('SELECT now(), version()')\n",
    "print(\"RESULT: {0}: {1}\".format(type(result), result))\n",
    "for t in result:\n",
    "    print(\" ROW: {0}: {1}\".format(type(t), t))\n",
    "    for v in t:\n",
    "        print(\"  COLUMN: {0}: {1}\".format(type(v), v))"
   ]
  },
  {
   "cell_type": "code",
   "execution_count": 45,
   "metadata": {},
   "outputs": [
    {
     "name": "stdout",
     "output_type": "stream",
     "text": [
      "[]\n",
      "[]\n"
     ]
    }
   ],
   "source": [
    "r1 = client.execute('DROP TABLE IF EXISTS iris')\n",
    "print(r1)\n",
    "r2 = client.execute('CREATE TABLE iris ('\n",
    "                    'sepal_length Float64, sepal_width Float64, '\n",
    "                    'petal_length Float64, petal_width Float64, '\n",
    "                    'species String) ENGINE = Log ')\n",
    "                    #' PARTITION BY species ORDER BY (species)')\n",
    "print(r2)"
   ]
  },
  {
   "cell_type": "code",
   "execution_count": 53,
   "metadata": {},
   "outputs": [
    {
     "name": "stdout",
     "output_type": "stream",
     "text": [
      "[]\n",
      "[]\n"
     ]
    }
   ],
   "source": [
    "r1 = client.execute('DROP TABLE IF EXISTS tmp')\n",
    "print(r1)\n",
    "r2 = client.execute('CREATE TABLE tmp ('\n",
    "                    'figi String, '\n",
    "                    'interval String, o Float64, '\n",
    "                    'c Float64, h Float64, '\n",
    "                    'l Float64, v Int64, '\n",
    "                    'time DateTime, ticker String, '\n",
    "                    'isin String, min_price_increment Float64,'\n",
    "                    'lot Int64, currency String,'\n",
    "                    'name String, type String) ENGINE = Log ')\n",
    "                    #' PARTITION BY species ORDER BY (species)')\n",
    "print(r2)"
   ]
  },
  {
   "cell_type": "code",
   "execution_count": 52,
   "metadata": {},
   "outputs": [
    {
     "ename": "NameError",
     "evalue": "name 'df' is not defined",
     "output_type": "error",
     "traceback": [
      "\u001b[1;31m---------------------------------------------------------------------------\u001b[0m",
      "\u001b[1;31mNameError\u001b[0m                                 Traceback (most recent call last)",
      "\u001b[1;32m<ipython-input-52-b97a7e5de78b>\u001b[0m in \u001b[0;36m<module>\u001b[1;34m\u001b[0m\n\u001b[1;32m----> 1\u001b[1;33m \u001b[0mclient\u001b[0m\u001b[1;33m.\u001b[0m\u001b[0mexecute\u001b[0m\u001b[1;33m(\u001b[0m\u001b[1;34m\"INSERT INTO tmp VALUES\"\u001b[0m\u001b[1;33m,\u001b[0m \u001b[1;33m[\u001b[0m\u001b[0mtuple\u001b[0m\u001b[1;33m(\u001b[0m\u001b[0mx\u001b[0m\u001b[1;33m)\u001b[0m \u001b[1;32mfor\u001b[0m \u001b[0mx\u001b[0m \u001b[1;32min\u001b[0m \u001b[0mdf\u001b[0m\u001b[1;33m.\u001b[0m\u001b[0mvalues\u001b[0m\u001b[1;33m]\u001b[0m\u001b[1;33m)\u001b[0m\u001b[1;33m\u001b[0m\u001b[1;33m\u001b[0m\u001b[0m\n\u001b[0m\u001b[0;32m      2\u001b[0m \u001b[0mclient\u001b[0m\u001b[1;33m.\u001b[0m\u001b[0mexecute\u001b[0m\u001b[1;33m(\u001b[0m\u001b[1;34m\"SELECT count(*) FROM iris\"\u001b[0m\u001b[1;33m)\u001b[0m\u001b[1;33m\u001b[0m\u001b[1;33m\u001b[0m\u001b[0m\n",
      "\u001b[1;31mNameError\u001b[0m: name 'df' is not defined"
     ]
    }
   ],
   "source": [
    "client.execute(\"INSERT INTO tmp VALUES\", [tuple(x) for x in df.values])\n",
    "client.execute(\"SELECT count(*) FROM iris\")"
   ]
  },
  {
   "cell_type": "code",
   "execution_count": null,
   "metadata": {},
   "outputs": [],
   "source": []
  }
 ],
 "metadata": {
  "kernelspec": {
   "display_name": "Python [conda env:DL_py378]",
   "language": "python",
   "name": "conda-env-DL_py378-py"
  },
  "language_info": {
   "codemirror_mode": {
    "name": "ipython",
    "version": 3
   },
   "file_extension": ".py",
   "mimetype": "text/x-python",
   "name": "python",
   "nbconvert_exporter": "python",
   "pygments_lexer": "ipython3",
   "version": "3.7.7"
  }
 },
 "nbformat": 4,
 "nbformat_minor": 4
}
