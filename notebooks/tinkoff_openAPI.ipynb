{
 "cells": [
  {
   "cell_type": "code",
   "execution_count": null,
   "metadata": {},
   "outputs": [],
   "source": [
    "from openapi_client import openapi\n",
    "from datetime import datetime, timedelta\n",
    "from pytz import timezone\n",
    "import pandas as pd\n",
    "import time\n",
    "from dotenv import load_dotenv, find_dotenv\n",
    "# find .env automagically by walking up directories until it's found\n",
    "dotenv_path = find_dotenv()\n",
    "# load up the entries as environment variables\n",
    "load_dotenv(dotenv_path)\n",
    "token = os.environ.get('APIKEY_SANDBOX')\n",
    " \n",
    "client = openapi.sandbox_api_client(token)\n",
    "client.sandbox.sandbox_register_post()\n",
    "client.sandbox.sandbox_clear_post()\n",
    "client.sandbox.sandbox_currencies_balance_post(sandbox_set_currency_balance_request={\"currency\": \"USD\", \"balance\": 1000})"
   ]
  },
  {
   "cell_type": "code",
   "execution_count": null,
   "metadata": {},
   "outputs": [],
   "source": [
    "def get_instruments(instrument=None):\n",
    "    \"\"\"\n",
    "    Gets list of instruments (bonds, stocks, ETFs that traded on tinkoff-invest broker)\n",
    "\n",
    "    Args:\n",
    "        instrument(str) : can be either stock, bond, etf. \n",
    "   \n",
    "    Returns:\n",
    "        df (Pandas dataframe) : list of instruments available for trade\n",
    "\n",
    "    Raises:\n",
    "        Error if not defined instrument or wrong instrument name is provided as input.\n",
    "    \"\"\"\n",
    "    if instrument=='stock':\n",
    "        tickers=client.market.market_stocks_get_with_http_info()\n",
    "    elif instrument=='bond':\n",
    "        tickers=client.market.market_bonds_get_with_http_info()\n",
    "    elif instrument=='etf':\n",
    "        tickers=client.market.market_etfs_get_with_http_info()\n",
    "    else:\n",
    "        print(f'Wrong instrument defined. Acceptable are stock, bond, etf. You provided {instrument}')\n",
    "        return None\n",
    "    list_of_tickers=[]\n",
    "    for item in tickers[0].payload.instruments:\n",
    "        list_of_tickers.append(item.to_dict())\n",
    "    df=pd.DataFrame.from_records(list_of_tickers)\n",
    "    return df"
   ]
  },
  {
   "cell_type": "code",
   "execution_count": null,
   "metadata": {},
   "outputs": [],
   "source": [
    "tick=get_instruments(instrument='stock')"
   ]
  },
  {
   "cell_type": "code",
   "execution_count": null,
   "metadata": {},
   "outputs": [],
   "source": [
    "tick"
   ]
  },
  {
   "cell_type": "code",
   "execution_count": null,
   "metadata": {},
   "outputs": [],
   "source": [
    "bond=get_instruments(instrument='bond')"
   ]
  },
  {
   "cell_type": "code",
   "execution_count": null,
   "metadata": {},
   "outputs": [],
   "source": [
    "bond"
   ]
  },
  {
   "cell_type": "code",
   "execution_count": null,
   "metadata": {},
   "outputs": [],
   "source": [
    "etf=get_instruments(instrument='etf')\n"
   ]
  },
  {
   "cell_type": "code",
   "execution_count": null,
   "metadata": {},
   "outputs": [],
   "source": [
    "etf"
   ]
  },
  {
   "cell_type": "code",
   "execution_count": null,
   "metadata": {},
   "outputs": [],
   "source": [
    "def detailed_history(figi='BBG00M0C8YM7',\n",
    "                    _from=None,\n",
    "                    to=None,\n",
    "                    interval=\"1min\"):\n",
    "    if to==None:\n",
    "        endTime=datetime.now()\n",
    "    else:\n",
    "        endTime= to\n",
    "    if _from==None:\n",
    "        days_span=1\n",
    "        startTime = datetime.now() - timedelta(days=days_span)\n",
    "    else:\n",
    "        startTime=_from\n",
    "    #print(endTime)\n",
    "    #print(startTime)\n",
    "    \n",
    "    startTime_list=[]\n",
    "    endTime_list=[]\n",
    "    \n",
    "    startTime_list.append(startTime.strftime('%Y-%m-%dT%H:%M:%S')+\"+07:00\")\n",
    "    endTime_list.append(endTime.strftime('%Y-%m-%dT%H:%M:%S')+\"+07:00\")\n",
    "    \n",
    "    if (endTime-startTime).days>1:\n",
    "        startTime_list=[]\n",
    "        endTime_list=[]\n",
    "        endTime=to\n",
    "        for i in range((to-_from).days):\n",
    "            #print(i)\n",
    "            newStartTime=endTime-timedelta(days=1)\n",
    "            startTime_list.append(newStartTime.strftime('%Y-%m-%dT%H:%M:%S')+\"+07:00\")\n",
    "            endTime_list.append(endTime.strftime('%Y-%m-%dT%H:%M:%S')+\"+07:00\")\n",
    "            endTime=newStartTime\n",
    "    #print(startTime_list)\n",
    "    #print(endTime_list)\n",
    "    list_df=[]\n",
    "    for i in range(len(startTime_list)):\n",
    "        tickers=client.market.market_candles_get_with_http_info(figi=figi,\n",
    "                                                        _from=startTime_list[i],\n",
    "                                                        to=endTime_list[i],\n",
    "                                                        interval=\"1min\")\n",
    "        list_of_tickers=[]\n",
    "        for item in tickers[0].payload.candles:\n",
    "            list_of_tickers.append(item.to_dict())\n",
    "        df=pd.DataFrame.from_records(list_of_tickers)\n",
    "        list_df.append(df)\n",
    "        \n",
    "    df_merge = list_df[0]\n",
    "    n=len(list_df)\n",
    "    print(f\"Concat frame 0. Dataframe with data (row,col) : {df_merge.shape}.\")\n",
    "    for i in range(1, n):\n",
    "        df_merge = pd.concat([df_merge, list_df[i]], sort=False)\n",
    "        print(f\"Concat frame {i}. Dataframe with data (row,col) : {df_merge.shape}.\")\n",
    "    return df_merge\n",
    "            \n",
    "        \n",
    "    \n",
    "    "
   ]
  },
  {
   "cell_type": "code",
   "execution_count": null,
   "metadata": {},
   "outputs": [],
   "source": [
    "#test#1 - 1 day request\n",
    "from datetime import datetime\n",
    "days_span=1\n",
    "startTime = datetime.now() - timedelta(days=days_span)\n",
    "endTime = datetime.now()\n",
    "print(\"test1\")\n",
    "df_merge1=detailed_history(_from=startTime,\n",
    "                    to=endTime)\n",
    "#test#2 - 10 days request\n",
    "from datetime import datetime\n",
    "days_span=10\n",
    "startTime = datetime.now() - timedelta(days=days_span)\n",
    "endTime = datetime.now()\n",
    "print(\"test2\")\n",
    "df_merge2=detailed_history(_from=startTime,\n",
    "                    to=endTime)\n",
    "#test#3-no data provided\n",
    "print(\"test3\")\n",
    "df_merge3=detailed_history()"
   ]
  },
  {
   "cell_type": "code",
   "execution_count": null,
   "metadata": {},
   "outputs": [],
   "source": [
    "df_merge2"
   ]
  },
  {
   "cell_type": "code",
   "execution_count": null,
   "metadata": {},
   "outputs": [],
   "source": [
    "df_merge2.info()"
   ]
  },
  {
   "cell_type": "code",
   "execution_count": null,
   "metadata": {},
   "outputs": [],
   "source": [
    "from datetime import datetime\n",
    "days_span=10\n",
    "startTime = datetime.now() - timedelta(days=days_span)\n",
    "endTime = datetime.now()\n",
    "for figi in etf.figi.unique():\n",
    "    print(\"retrieving figi: \"+figi+ \" ticker: \"+etf[etf.figi==figi].ticker.values)\n",
    "    list_df=[]\n",
    "    df=detailed_history(figi=figi,\n",
    "                                                        _from=startTime,\n",
    "                                                        to=endTime,\n",
    "                                                        interval=\"1min\")\n",
    "    time.sleep(5)\n",
    "    list_df.append(df)\n",
    "df_merge = list_df[0]\n",
    "n=len(list_df)\n",
    "print(f\"Concat frame 0. Dataframe with data (row,col) : {df_merge.shape}.\")\n",
    "for i in range(1, n):\n",
    "    df_merge = pd.concat([df_merge, list_df[i]], sort=False)\n",
    "    print(f\"Concat frame {i}. Dataframe with data (row,col) : {df_merge.shape}.\")\n",
    "\n"
   ]
  },
  {
   "cell_type": "code",
   "execution_count": null,
   "metadata": {},
   "outputs": [],
   "source": [
    "from tqdm import tqdm\n",
    "def get_detailed_data(data,_from=None,to=None):\n",
    "    \n",
    "    for figi in tqdm(data.figi.unique()):\n",
    "        print(\"retrieving figi: \"+figi+ \" ticker: \"+data[data.figi==figi].ticker.values)\n",
    "        list_df=[]\n",
    "        df=detailed_history(figi=figi,\n",
    "                                                            _from=_from,\n",
    "                                                            to=to,\n",
    "                                                            interval=\"1min\")\n",
    "        time.sleep(3)\n",
    "        list_df.append(df)\n",
    "    \n",
    "    df_merge = list_df[0]\n",
    "    n=len(list_df)\n",
    "    print(f\"Concat frame 0. Dataframe with data (row,col) : {df_merge.shape}.\")\n",
    "    for i in range(1, n):\n",
    "        df_merge = pd.concat([df_merge, list_df[i]], sort=False)\n",
    "        print(f\"Concat frame {i}. Dataframe with data (row,col) : {df_merge.shape}.\")\n",
    "    return df_merge"
   ]
  },
  {
   "cell_type": "code",
   "execution_count": null,
   "metadata": {
    "scrolled": false
   },
   "outputs": [],
   "source": [
    "from datetime import datetime\n",
    "days_span=90\n",
    "startTime = datetime.now() - timedelta(days=days_span)\n",
    "endTime = datetime.now()\n",
    "tick_data=get_detailed_data(tick,_from=startTime,to=endTime)"
   ]
  },
  {
   "cell_type": "code",
   "execution_count": null,
   "metadata": {},
   "outputs": [],
   "source": [
    "etf_data=get_detailed_data(etf,_from=startTime,to=endTime)"
   ]
  },
  {
   "cell_type": "code",
   "execution_count": null,
   "metadata": {},
   "outputs": [],
   "source": [
    "bonds_data=get_detailed_data(bond,_from=startTime,to=endTime)"
   ]
  },
  {
   "cell_type": "code",
   "execution_count": null,
   "metadata": {},
   "outputs": [],
   "source": [
    "def set_balance():\n",
    "    balance_set = client.sandbox.sandbox_currencies_balance_post({\"currency\": \"USD\", \"balance\": 10000})\n",
    "    print(\"balance\")\n",
    "    print(balance_set)\n",
    "    print()\n",
    "\n",
    "\n",
    "def print_24hr_operations():\n",
    "    now = datetime.now(tz=timezone('Europe/Moscow'))\n",
    "    yesterday = now - timedelta(days=1)\n",
    "    ops = client.operations.operations_get(_from=yesterday.isoformat(), to=now.isoformat())\n",
    "    print(\"operations\")\n",
    "    print(ops)\n",
    "    print()\n",
    "\n",
    "\n",
    "def print_orders():\n",
    "    orders = client.orders.orders_get()\n",
    "    print(\"active orders\")\n",
    "    print(orders)\n",
    "    print()\n",
    "\n",
    "\n",
    "def make_order():\n",
    "    order_response = client.orders.orders_limit_order_post(figi='BBG009S39JX6',\n",
    "                                                           limit_order_request={\"lots\": 1,\n",
    "                                                                                \"operation\": \"Buy\",\n",
    "                                                                                \"price\": 0.01})\n",
    "    print(\"make order\")\n",
    "    print(order_response)\n",
    "    print()\n",
    "    return order_response\n",
    "\n",
    "\n",
    "# won't work in sandbox - orders are being instantly executed\n",
    "def cancel_order(order_id):\n",
    "    cancellation_result = client.orders.orders_cancel_post(order_id=order_id)\n",
    "    print(\"cancel order\")\n",
    "    print(cancellation_result)\n",
    "    print()\n",
    "\n",
    "\n",
    "set_balance()\n",
    "print_24hr_operations()\n",
    "print_orders()\n",
    "order_response = make_order()\n",
    "print_orders()\n",
    "# cancel_order(order_response.payload.order_id)\n",
    "# print_orders()"
   ]
  }
 ],
 "metadata": {
  "kernelspec": {
   "display_name": "Python [conda env:DL_py378]",
   "language": "python",
   "name": "conda-env-DL_py378-py"
  },
  "language_info": {
   "codemirror_mode": {
    "name": "ipython",
    "version": 3
   },
   "file_extension": ".py",
   "mimetype": "text/x-python",
   "name": "python",
   "nbconvert_exporter": "python",
   "pygments_lexer": "ipython3",
   "version": "3.7.7"
  },
  "varInspector": {
   "cols": {
    "lenName": 16,
    "lenType": 16,
    "lenVar": 40
   },
   "kernels_config": {
    "python": {
     "delete_cmd_postfix": "",
     "delete_cmd_prefix": "del ",
     "library": "var_list.py",
     "varRefreshCmd": "print(var_dic_list())"
    },
    "r": {
     "delete_cmd_postfix": ") ",
     "delete_cmd_prefix": "rm(",
     "library": "var_list.r",
     "varRefreshCmd": "cat(var_dic_list()) "
    }
   },
   "types_to_exclude": [
    "module",
    "function",
    "builtin_function_or_method",
    "instance",
    "_Feature"
   ],
   "window_display": false
  }
 },
 "nbformat": 4,
 "nbformat_minor": 2
}
