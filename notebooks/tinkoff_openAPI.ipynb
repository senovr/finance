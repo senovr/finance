{
 "cells": [
  {
   "cell_type": "code",
   "execution_count": 5,
   "metadata": {},
   "outputs": [
    {
     "data": {
      "text/plain": [
       "{'payload': {}, 'status': 'Ok', 'tracking_id': '3977478e1a753f35'}"
      ]
     },
     "execution_count": 5,
     "metadata": {},
     "output_type": "execute_result"
    }
   ],
   "source": [
    "from openapi_client import openapi\n",
    "from datetime import datetime, timedelta\n",
    "from pytz import timezone\n",
    "import pandas as pd\n",
    "import time\n",
    "token = 't.JoZ2IrUuhqPtFViFoymAwQNw_ToCWDEXeBa_A710PV6zLlYf4XW8Z3bWLPEf8cSkt-l3c88ePY2I6-duQjQdXw'\n",
    "client = openapi.sandbox_api_client(token)\n",
    "client.sandbox.sandbox_register_post()\n",
    "client.sandbox.sandbox_clear_post()\n",
    "client.sandbox.sandbox_currencies_balance_post(sandbox_set_currency_balance_request={\"currency\": \"USD\", \"balance\": 1000})"
   ]
  },
  {
   "cell_type": "code",
   "execution_count": 6,
   "metadata": {},
   "outputs": [],
   "source": [
    "def get_instruments(instrument=None):\n",
    "    \"\"\"\n",
    "    Gets list of instruments (bonds, stocks, ETFs that traded on tinkoff-invest broker)\n",
    "\n",
    "    Args:\n",
    "        instrument(str) : can be either stock, bond, etf. \n",
    "   \n",
    "    Returns:\n",
    "        df (Pandas dataframe) : list of instruments available for trade\n",
    "\n",
    "    Raises:\n",
    "        Error if not defined instrument or wrong instrument name is provided as input.\n",
    "    \"\"\"\n",
    "    if instrument=='stock':\n",
    "        tickers=client.market.market_stocks_get_with_http_info()\n",
    "    elif instrument=='bond':\n",
    "        tickers=client.market.market_bonds_get_with_http_info()\n",
    "    elif instrument=='etf':\n",
    "        tickers=client.market.market_etfs_get_with_http_info()\n",
    "    else:\n",
    "        print(f'Wrong instrument defined. Acceptable are stock, bond, etf. You provided {instrument}')\n",
    "        return None\n",
    "    list_of_tickers=[]\n",
    "    for item in tickers[0].payload.instruments:\n",
    "        list_of_tickers.append(item.to_dict())\n",
    "    df=pd.DataFrame.from_records(list_of_tickers)\n",
    "    return df"
   ]
  },
  {
   "cell_type": "code",
   "execution_count": 7,
   "metadata": {},
   "outputs": [],
   "source": [
    "tick=get_instruments(instrument='stock')"
   ]
  },
  {
   "cell_type": "code",
   "execution_count": 8,
   "metadata": {},
   "outputs": [
    {
     "data": {
      "text/html": [
       "<div>\n",
       "<style scoped>\n",
       "    .dataframe tbody tr th:only-of-type {\n",
       "        vertical-align: middle;\n",
       "    }\n",
       "\n",
       "    .dataframe tbody tr th {\n",
       "        vertical-align: top;\n",
       "    }\n",
       "\n",
       "    .dataframe thead th {\n",
       "        text-align: right;\n",
       "    }\n",
       "</style>\n",
       "<table border=\"1\" class=\"dataframe\">\n",
       "  <thead>\n",
       "    <tr style=\"text-align: right;\">\n",
       "      <th></th>\n",
       "      <th>figi</th>\n",
       "      <th>ticker</th>\n",
       "      <th>isin</th>\n",
       "      <th>min_price_increment</th>\n",
       "      <th>lot</th>\n",
       "      <th>currency</th>\n",
       "      <th>name</th>\n",
       "      <th>type</th>\n",
       "    </tr>\n",
       "  </thead>\n",
       "  <tbody>\n",
       "    <tr>\n",
       "      <th>0</th>\n",
       "      <td>BBG000HLJ7M4</td>\n",
       "      <td>IDCC</td>\n",
       "      <td>US45867G1013</td>\n",
       "      <td>0.01</td>\n",
       "      <td>1</td>\n",
       "      <td>USD</td>\n",
       "      <td>InterDigItal Inc</td>\n",
       "      <td>Stock</td>\n",
       "    </tr>\n",
       "    <tr>\n",
       "      <th>1</th>\n",
       "      <td>BBG002293PJ4</td>\n",
       "      <td>RH</td>\n",
       "      <td>US74967X1037</td>\n",
       "      <td>0.01</td>\n",
       "      <td>1</td>\n",
       "      <td>USD</td>\n",
       "      <td>RH</td>\n",
       "      <td>Stock</td>\n",
       "    </tr>\n",
       "    <tr>\n",
       "      <th>2</th>\n",
       "      <td>BBG000CTQBF3</td>\n",
       "      <td>SBUX</td>\n",
       "      <td>US8552441094</td>\n",
       "      <td>0.01</td>\n",
       "      <td>1</td>\n",
       "      <td>USD</td>\n",
       "      <td>Starbucks Corporation</td>\n",
       "      <td>Stock</td>\n",
       "    </tr>\n",
       "    <tr>\n",
       "      <th>3</th>\n",
       "      <td>BBG000BPL8G3</td>\n",
       "      <td>MTSC</td>\n",
       "      <td>US5537771033</td>\n",
       "      <td>0.01</td>\n",
       "      <td>1</td>\n",
       "      <td>USD</td>\n",
       "      <td>MTS Systems Corp</td>\n",
       "      <td>Stock</td>\n",
       "    </tr>\n",
       "    <tr>\n",
       "      <th>4</th>\n",
       "      <td>BBG000BH0FR6</td>\n",
       "      <td>SGEN</td>\n",
       "      <td>US8125781026</td>\n",
       "      <td>0.01</td>\n",
       "      <td>1</td>\n",
       "      <td>USD</td>\n",
       "      <td>Seattle Genetics Inc</td>\n",
       "      <td>Stock</td>\n",
       "    </tr>\n",
       "    <tr>\n",
       "      <th>...</th>\n",
       "      <td>...</td>\n",
       "      <td>...</td>\n",
       "      <td>...</td>\n",
       "      <td>...</td>\n",
       "      <td>...</td>\n",
       "      <td>...</td>\n",
       "      <td>...</td>\n",
       "      <td>...</td>\n",
       "    </tr>\n",
       "    <tr>\n",
       "      <th>1280</th>\n",
       "      <td>BBG00K7T3037</td>\n",
       "      <td>BILI</td>\n",
       "      <td>US0900401060</td>\n",
       "      <td>0.01</td>\n",
       "      <td>1</td>\n",
       "      <td>USD</td>\n",
       "      <td>Bilibili Inc</td>\n",
       "      <td>Stock</td>\n",
       "    </tr>\n",
       "    <tr>\n",
       "      <th>1281</th>\n",
       "      <td>BBG000BG1DH3</td>\n",
       "      <td>COHR</td>\n",
       "      <td>US1924791031</td>\n",
       "      <td>0.01</td>\n",
       "      <td>1</td>\n",
       "      <td>USD</td>\n",
       "      <td>Coherent Inc</td>\n",
       "      <td>Stock</td>\n",
       "    </tr>\n",
       "    <tr>\n",
       "      <th>1282</th>\n",
       "      <td>BBG000BV4DR6</td>\n",
       "      <td>TER</td>\n",
       "      <td>US8807701029</td>\n",
       "      <td>0.01</td>\n",
       "      <td>1</td>\n",
       "      <td>USD</td>\n",
       "      <td>Teradyne Inc</td>\n",
       "      <td>Stock</td>\n",
       "    </tr>\n",
       "    <tr>\n",
       "      <th>1283</th>\n",
       "      <td>BBG000PSXT64</td>\n",
       "      <td>CPS</td>\n",
       "      <td>US21676P1030</td>\n",
       "      <td>0.01</td>\n",
       "      <td>1</td>\n",
       "      <td>USD</td>\n",
       "      <td>Cooper-Standard Holdings Inc</td>\n",
       "      <td>Stock</td>\n",
       "    </tr>\n",
       "    <tr>\n",
       "      <th>1284</th>\n",
       "      <td>BBG005BT60Y8</td>\n",
       "      <td>NVEE</td>\n",
       "      <td>US62945V1098</td>\n",
       "      <td>0.01</td>\n",
       "      <td>1</td>\n",
       "      <td>USD</td>\n",
       "      <td>NV5 Global Inc</td>\n",
       "      <td>Stock</td>\n",
       "    </tr>\n",
       "  </tbody>\n",
       "</table>\n",
       "<p>1285 rows × 8 columns</p>\n",
       "</div>"
      ],
      "text/plain": [
       "              figi ticker          isin  min_price_increment  lot currency  \\\n",
       "0     BBG000HLJ7M4   IDCC  US45867G1013                 0.01    1      USD   \n",
       "1     BBG002293PJ4     RH  US74967X1037                 0.01    1      USD   \n",
       "2     BBG000CTQBF3   SBUX  US8552441094                 0.01    1      USD   \n",
       "3     BBG000BPL8G3   MTSC  US5537771033                 0.01    1      USD   \n",
       "4     BBG000BH0FR6   SGEN  US8125781026                 0.01    1      USD   \n",
       "...            ...    ...           ...                  ...  ...      ...   \n",
       "1280  BBG00K7T3037   BILI  US0900401060                 0.01    1      USD   \n",
       "1281  BBG000BG1DH3   COHR  US1924791031                 0.01    1      USD   \n",
       "1282  BBG000BV4DR6    TER  US8807701029                 0.01    1      USD   \n",
       "1283  BBG000PSXT64    CPS  US21676P1030                 0.01    1      USD   \n",
       "1284  BBG005BT60Y8   NVEE  US62945V1098                 0.01    1      USD   \n",
       "\n",
       "                              name   type  \n",
       "0                 InterDigItal Inc  Stock  \n",
       "1                               RH  Stock  \n",
       "2            Starbucks Corporation  Stock  \n",
       "3                 MTS Systems Corp  Stock  \n",
       "4             Seattle Genetics Inc  Stock  \n",
       "...                            ...    ...  \n",
       "1280                  Bilibili Inc  Stock  \n",
       "1281                  Coherent Inc  Stock  \n",
       "1282                  Teradyne Inc  Stock  \n",
       "1283  Cooper-Standard Holdings Inc  Stock  \n",
       "1284                NV5 Global Inc  Stock  \n",
       "\n",
       "[1285 rows x 8 columns]"
      ]
     },
     "execution_count": 8,
     "metadata": {},
     "output_type": "execute_result"
    }
   ],
   "source": [
    "tick"
   ]
  },
  {
   "cell_type": "code",
   "execution_count": 9,
   "metadata": {},
   "outputs": [],
   "source": [
    "bond=get_instruments(instrument='bond')"
   ]
  },
  {
   "cell_type": "code",
   "execution_count": 10,
   "metadata": {},
   "outputs": [
    {
     "data": {
      "text/html": [
       "<div>\n",
       "<style scoped>\n",
       "    .dataframe tbody tr th:only-of-type {\n",
       "        vertical-align: middle;\n",
       "    }\n",
       "\n",
       "    .dataframe tbody tr th {\n",
       "        vertical-align: top;\n",
       "    }\n",
       "\n",
       "    .dataframe thead th {\n",
       "        text-align: right;\n",
       "    }\n",
       "</style>\n",
       "<table border=\"1\" class=\"dataframe\">\n",
       "  <thead>\n",
       "    <tr style=\"text-align: right;\">\n",
       "      <th></th>\n",
       "      <th>figi</th>\n",
       "      <th>ticker</th>\n",
       "      <th>isin</th>\n",
       "      <th>min_price_increment</th>\n",
       "      <th>lot</th>\n",
       "      <th>currency</th>\n",
       "      <th>name</th>\n",
       "      <th>type</th>\n",
       "    </tr>\n",
       "  </thead>\n",
       "  <tbody>\n",
       "    <tr>\n",
       "      <th>0</th>\n",
       "      <td>BBG00844BD08</td>\n",
       "      <td>RU000A0JU898</td>\n",
       "      <td>RU000A0JU898</td>\n",
       "      <td>0.1</td>\n",
       "      <td>1</td>\n",
       "      <td>RUB</td>\n",
       "      <td>МКБ выпуск 9</td>\n",
       "      <td>Bond</td>\n",
       "    </tr>\n",
       "    <tr>\n",
       "      <th>1</th>\n",
       "      <td>BBG00R05JT04</td>\n",
       "      <td>RU000A1013Y3</td>\n",
       "      <td>RU000A1013Y3</td>\n",
       "      <td>0.1</td>\n",
       "      <td>1</td>\n",
       "      <td>RUB</td>\n",
       "      <td>Черкизово выпуск 2</td>\n",
       "      <td>Bond</td>\n",
       "    </tr>\n",
       "    <tr>\n",
       "      <th>2</th>\n",
       "      <td>BBG00PNLY692</td>\n",
       "      <td>RU000A100DC4</td>\n",
       "      <td>RU000A100DC4</td>\n",
       "      <td>0.1</td>\n",
       "      <td>1</td>\n",
       "      <td>RUB</td>\n",
       "      <td>МСБ-Лизинг 002P выпуск 2</td>\n",
       "      <td>Bond</td>\n",
       "    </tr>\n",
       "    <tr>\n",
       "      <th>3</th>\n",
       "      <td>BBG00KHGQP89</td>\n",
       "      <td>RU000A0ZZ1F6</td>\n",
       "      <td>RU000A0ZZ1F6</td>\n",
       "      <td>0.1</td>\n",
       "      <td>1</td>\n",
       "      <td>RUB</td>\n",
       "      <td>КарМани выпуск 2</td>\n",
       "      <td>Bond</td>\n",
       "    </tr>\n",
       "    <tr>\n",
       "      <th>4</th>\n",
       "      <td>BBG00JYHHXN7</td>\n",
       "      <td>RU000A0ZYR18</td>\n",
       "      <td>RU000A0ZYR18</td>\n",
       "      <td>0.1</td>\n",
       "      <td>1</td>\n",
       "      <td>RUB</td>\n",
       "      <td>Башкирская содовая компания выпуск 1</td>\n",
       "      <td>Bond</td>\n",
       "    </tr>\n",
       "    <tr>\n",
       "      <th>...</th>\n",
       "      <td>...</td>\n",
       "      <td>...</td>\n",
       "      <td>...</td>\n",
       "      <td>...</td>\n",
       "      <td>...</td>\n",
       "      <td>...</td>\n",
       "      <td>...</td>\n",
       "      <td>...</td>\n",
       "    </tr>\n",
       "    <tr>\n",
       "      <th>378</th>\n",
       "      <td>BBG00QYKX940</td>\n",
       "      <td>RU000A1012K4</td>\n",
       "      <td>RU000A1012K4</td>\n",
       "      <td>0.1</td>\n",
       "      <td>1</td>\n",
       "      <td>RUB</td>\n",
       "      <td>СЭЗ им. Серго Орджоникидзе</td>\n",
       "      <td>Bond</td>\n",
       "    </tr>\n",
       "    <tr>\n",
       "      <th>379</th>\n",
       "      <td>BBG00BQZW6R1</td>\n",
       "      <td>RU000A0JW1K9</td>\n",
       "      <td>RU000A0JW1K9</td>\n",
       "      <td>0.1</td>\n",
       "      <td>1</td>\n",
       "      <td>RUB</td>\n",
       "      <td>Томская область выпуск 55</td>\n",
       "      <td>Bond</td>\n",
       "    </tr>\n",
       "    <tr>\n",
       "      <th>380</th>\n",
       "      <td>BBG00PVVTDW6</td>\n",
       "      <td>RU000A100K64</td>\n",
       "      <td>RU000A100K64</td>\n",
       "      <td>0.1</td>\n",
       "      <td>1</td>\n",
       "      <td>RUB</td>\n",
       "      <td>Флай Плэнинг БО-П2</td>\n",
       "      <td>Bond</td>\n",
       "    </tr>\n",
       "    <tr>\n",
       "      <th>381</th>\n",
       "      <td>BBG00PC4M4X3</td>\n",
       "      <td>RU000A100DG5</td>\n",
       "      <td>RU000A100DG5</td>\n",
       "      <td>0.1</td>\n",
       "      <td>1</td>\n",
       "      <td>RUB</td>\n",
       "      <td>Европлан выпуск 6</td>\n",
       "      <td>Bond</td>\n",
       "    </tr>\n",
       "    <tr>\n",
       "      <th>382</th>\n",
       "      <td>BBG00GK3W839</td>\n",
       "      <td>RU000A0JXQ44</td>\n",
       "      <td>RU000A0JXQ44</td>\n",
       "      <td>0.1</td>\n",
       "      <td>1</td>\n",
       "      <td>RUB</td>\n",
       "      <td>РЖД 001Р выпуск 2</td>\n",
       "      <td>Bond</td>\n",
       "    </tr>\n",
       "  </tbody>\n",
       "</table>\n",
       "<p>383 rows × 8 columns</p>\n",
       "</div>"
      ],
      "text/plain": [
       "             figi        ticker          isin  min_price_increment  lot  \\\n",
       "0    BBG00844BD08  RU000A0JU898  RU000A0JU898                  0.1    1   \n",
       "1    BBG00R05JT04  RU000A1013Y3  RU000A1013Y3                  0.1    1   \n",
       "2    BBG00PNLY692  RU000A100DC4  RU000A100DC4                  0.1    1   \n",
       "3    BBG00KHGQP89  RU000A0ZZ1F6  RU000A0ZZ1F6                  0.1    1   \n",
       "4    BBG00JYHHXN7  RU000A0ZYR18  RU000A0ZYR18                  0.1    1   \n",
       "..            ...           ...           ...                  ...  ...   \n",
       "378  BBG00QYKX940  RU000A1012K4  RU000A1012K4                  0.1    1   \n",
       "379  BBG00BQZW6R1  RU000A0JW1K9  RU000A0JW1K9                  0.1    1   \n",
       "380  BBG00PVVTDW6  RU000A100K64  RU000A100K64                  0.1    1   \n",
       "381  BBG00PC4M4X3  RU000A100DG5  RU000A100DG5                  0.1    1   \n",
       "382  BBG00GK3W839  RU000A0JXQ44  RU000A0JXQ44                  0.1    1   \n",
       "\n",
       "    currency                                  name  type  \n",
       "0        RUB                          МКБ выпуск 9  Bond  \n",
       "1        RUB                    Черкизово выпуск 2  Bond  \n",
       "2        RUB              МСБ-Лизинг 002P выпуск 2  Bond  \n",
       "3        RUB                      КарМани выпуск 2  Bond  \n",
       "4        RUB  Башкирская содовая компания выпуск 1  Bond  \n",
       "..       ...                                   ...   ...  \n",
       "378      RUB            СЭЗ им. Серго Орджоникидзе  Bond  \n",
       "379      RUB             Томская область выпуск 55  Bond  \n",
       "380      RUB                    Флай Плэнинг БО-П2  Bond  \n",
       "381      RUB                     Европлан выпуск 6  Bond  \n",
       "382      RUB                     РЖД 001Р выпуск 2  Bond  \n",
       "\n",
       "[383 rows x 8 columns]"
      ]
     },
     "execution_count": 10,
     "metadata": {},
     "output_type": "execute_result"
    }
   ],
   "source": [
    "bond"
   ]
  },
  {
   "cell_type": "code",
   "execution_count": 11,
   "metadata": {},
   "outputs": [],
   "source": [
    "etf=get_instruments(instrument='etf')\n"
   ]
  },
  {
   "cell_type": "code",
   "execution_count": 12,
   "metadata": {},
   "outputs": [
    {
     "data": {
      "text/html": [
       "<div>\n",
       "<style scoped>\n",
       "    .dataframe tbody tr th:only-of-type {\n",
       "        vertical-align: middle;\n",
       "    }\n",
       "\n",
       "    .dataframe tbody tr th {\n",
       "        vertical-align: top;\n",
       "    }\n",
       "\n",
       "    .dataframe thead th {\n",
       "        text-align: right;\n",
       "    }\n",
       "</style>\n",
       "<table border=\"1\" class=\"dataframe\">\n",
       "  <thead>\n",
       "    <tr style=\"text-align: right;\">\n",
       "      <th></th>\n",
       "      <th>figi</th>\n",
       "      <th>ticker</th>\n",
       "      <th>isin</th>\n",
       "      <th>min_price_increment</th>\n",
       "      <th>lot</th>\n",
       "      <th>currency</th>\n",
       "      <th>name</th>\n",
       "      <th>type</th>\n",
       "    </tr>\n",
       "  </thead>\n",
       "  <tbody>\n",
       "    <tr>\n",
       "      <th>0</th>\n",
       "      <td>BBG005DXDPK9</td>\n",
       "      <td>FXGD</td>\n",
       "      <td>IE00B8XB7377</td>\n",
       "      <td>0.2000</td>\n",
       "      <td>1</td>\n",
       "      <td>RUB</td>\n",
       "      <td>Золото</td>\n",
       "      <td>Etf</td>\n",
       "    </tr>\n",
       "    <tr>\n",
       "      <th>1</th>\n",
       "      <td>BBG00M8C8Y03</td>\n",
       "      <td>FXKZ</td>\n",
       "      <td>IE00BG0C3K84</td>\n",
       "      <td>0.1000</td>\n",
       "      <td>1</td>\n",
       "      <td>RUB</td>\n",
       "      <td>Акции казахстанских компаний</td>\n",
       "      <td>Etf</td>\n",
       "    </tr>\n",
       "    <tr>\n",
       "      <th>2</th>\n",
       "      <td>BBG005VKB7D7</td>\n",
       "      <td>FXCN</td>\n",
       "      <td>IE00BD3QFB18</td>\n",
       "      <td>2.0000</td>\n",
       "      <td>1</td>\n",
       "      <td>RUB</td>\n",
       "      <td>Акции китайских компаний</td>\n",
       "      <td>Etf</td>\n",
       "    </tr>\n",
       "    <tr>\n",
       "      <th>3</th>\n",
       "      <td>BBG000000000</td>\n",
       "      <td>TUSD</td>\n",
       "      <td>RU000A1011S9</td>\n",
       "      <td>0.0001</td>\n",
       "      <td>1</td>\n",
       "      <td>USD</td>\n",
       "      <td>Вечный портфель USD</td>\n",
       "      <td>Etf</td>\n",
       "    </tr>\n",
       "    <tr>\n",
       "      <th>4</th>\n",
       "      <td>BBG000000002</td>\n",
       "      <td>TEUR</td>\n",
       "      <td>RU000A1011T7</td>\n",
       "      <td>0.0001</td>\n",
       "      <td>1</td>\n",
       "      <td>EUR</td>\n",
       "      <td>Вечный портфель EUR</td>\n",
       "      <td>Etf</td>\n",
       "    </tr>\n",
       "    <tr>\n",
       "      <th>5</th>\n",
       "      <td>BBG000000001</td>\n",
       "      <td>TRUR</td>\n",
       "      <td>RU000A1011U5</td>\n",
       "      <td>0.0050</td>\n",
       "      <td>1</td>\n",
       "      <td>RUB</td>\n",
       "      <td>Вечный портфель RUB</td>\n",
       "      <td>Etf</td>\n",
       "    </tr>\n",
       "    <tr>\n",
       "      <th>6</th>\n",
       "      <td>BBG00KMXH2C2</td>\n",
       "      <td>RUSB</td>\n",
       "      <td>LU1483649825</td>\n",
       "      <td>0.5000</td>\n",
       "      <td>1</td>\n",
       "      <td>RUB</td>\n",
       "      <td>Долларовые еврооблигации российских эмитентов</td>\n",
       "      <td>Etf</td>\n",
       "    </tr>\n",
       "    <tr>\n",
       "      <th>7</th>\n",
       "      <td>BBG005HLSZ23</td>\n",
       "      <td>FXUS</td>\n",
       "      <td>IE00BD3QHZ91</td>\n",
       "      <td>1.0000</td>\n",
       "      <td>1</td>\n",
       "      <td>RUB</td>\n",
       "      <td>Акции американских компаний</td>\n",
       "      <td>Etf</td>\n",
       "    </tr>\n",
       "    <tr>\n",
       "      <th>8</th>\n",
       "      <td>BBG0073DLHS1</td>\n",
       "      <td>FXRL</td>\n",
       "      <td>IE00BQ1Y6480</td>\n",
       "      <td>0.5000</td>\n",
       "      <td>1</td>\n",
       "      <td>RUB</td>\n",
       "      <td>Акции российских компаний</td>\n",
       "      <td>Etf</td>\n",
       "    </tr>\n",
       "    <tr>\n",
       "      <th>9</th>\n",
       "      <td>BBG005N1KZX4</td>\n",
       "      <td>FXRU</td>\n",
       "      <td>IE00BD5FH213</td>\n",
       "      <td>0.1000</td>\n",
       "      <td>1</td>\n",
       "      <td>RUB</td>\n",
       "      <td>Еврооблигации российских компаний (USD)</td>\n",
       "      <td>Etf</td>\n",
       "    </tr>\n",
       "    <tr>\n",
       "      <th>10</th>\n",
       "      <td>BBG004HNZFH2</td>\n",
       "      <td>FXRB</td>\n",
       "      <td>IE00B7L7CP77</td>\n",
       "      <td>1.0000</td>\n",
       "      <td>1</td>\n",
       "      <td>RUB</td>\n",
       "      <td>Еврооблигации российских компаний (RUB)</td>\n",
       "      <td>Etf</td>\n",
       "    </tr>\n",
       "    <tr>\n",
       "      <th>11</th>\n",
       "      <td>BBG00MF4JRQ8</td>\n",
       "      <td>VTBB</td>\n",
       "      <td>RU000A1002S8</td>\n",
       "      <td>0.1000</td>\n",
       "      <td>1</td>\n",
       "      <td>RUB</td>\n",
       "      <td>ВТБ VTBB</td>\n",
       "      <td>Etf</td>\n",
       "    </tr>\n",
       "    <tr>\n",
       "      <th>12</th>\n",
       "      <td>BBG00R980XY3</td>\n",
       "      <td>FXRW</td>\n",
       "      <td>IE00BK224M36</td>\n",
       "      <td>0.0001</td>\n",
       "      <td>1</td>\n",
       "      <td>RUB</td>\n",
       "      <td>FinEx FXRW</td>\n",
       "      <td>Etf</td>\n",
       "    </tr>\n",
       "    <tr>\n",
       "      <th>13</th>\n",
       "      <td>BBG00M0C8YM7</td>\n",
       "      <td>SBMX</td>\n",
       "      <td>RU000A0ZZH92</td>\n",
       "      <td>0.5000</td>\n",
       "      <td>1</td>\n",
       "      <td>RUB</td>\n",
       "      <td>Сбербанк SBMX</td>\n",
       "      <td>Etf</td>\n",
       "    </tr>\n",
       "    <tr>\n",
       "      <th>14</th>\n",
       "      <td>BBG005HM5979</td>\n",
       "      <td>FXJP</td>\n",
       "      <td>IE00BD3QJ310</td>\n",
       "      <td>1.0000</td>\n",
       "      <td>1</td>\n",
       "      <td>RUB</td>\n",
       "      <td>Акции японских компаний</td>\n",
       "      <td>Etf</td>\n",
       "    </tr>\n",
       "    <tr>\n",
       "      <th>15</th>\n",
       "      <td>BBG006GYFHV6</td>\n",
       "      <td>FXMM</td>\n",
       "      <td>IE00BL3DYX33</td>\n",
       "      <td>0.1000</td>\n",
       "      <td>1</td>\n",
       "      <td>RUB</td>\n",
       "      <td>Казначейские облигации США</td>\n",
       "      <td>Etf</td>\n",
       "    </tr>\n",
       "    <tr>\n",
       "      <th>16</th>\n",
       "      <td>BBG00KMXFK61</td>\n",
       "      <td>RUSE</td>\n",
       "      <td>LU1483649312</td>\n",
       "      <td>0.5000</td>\n",
       "      <td>1</td>\n",
       "      <td>RUB</td>\n",
       "      <td>Акции российских компаний, входящие в индекс РТС</td>\n",
       "      <td>Etf</td>\n",
       "    </tr>\n",
       "    <tr>\n",
       "      <th>17</th>\n",
       "      <td>BBG00R9805F5</td>\n",
       "      <td>FXWO</td>\n",
       "      <td>IE00BK224L29</td>\n",
       "      <td>0.0001</td>\n",
       "      <td>1</td>\n",
       "      <td>RUB</td>\n",
       "      <td>FinEx FXWO</td>\n",
       "      <td>Etf</td>\n",
       "    </tr>\n",
       "    <tr>\n",
       "      <th>18</th>\n",
       "      <td>BBG005H7MXN2</td>\n",
       "      <td>FXDE</td>\n",
       "      <td>IE00BD3QJN10</td>\n",
       "      <td>0.5000</td>\n",
       "      <td>1</td>\n",
       "      <td>RUB</td>\n",
       "      <td>Акции немецких компаний</td>\n",
       "      <td>Etf</td>\n",
       "    </tr>\n",
       "    <tr>\n",
       "      <th>19</th>\n",
       "      <td>BBG00NNQMD85</td>\n",
       "      <td>AKNX</td>\n",
       "      <td>RU000A0ZZTQ4</td>\n",
       "      <td>0.0100</td>\n",
       "      <td>1</td>\n",
       "      <td>USD</td>\n",
       "      <td>Технологии 100 БПИФ</td>\n",
       "      <td>Etf</td>\n",
       "    </tr>\n",
       "    <tr>\n",
       "      <th>20</th>\n",
       "      <td>BBG005HLTYH9</td>\n",
       "      <td>FXIT</td>\n",
       "      <td>IE00BD3QJ757</td>\n",
       "      <td>1.0000</td>\n",
       "      <td>1</td>\n",
       "      <td>RUB</td>\n",
       "      <td>Акции компаний IT-сектора США</td>\n",
       "      <td>Etf</td>\n",
       "    </tr>\n",
       "    <tr>\n",
       "      <th>21</th>\n",
       "      <td>BBG005HM6BL7</td>\n",
       "      <td>FXAU</td>\n",
       "      <td>IE00BD3QF110</td>\n",
       "      <td>1.0000</td>\n",
       "      <td>1</td>\n",
       "      <td>RUB</td>\n",
       "      <td>Акции австралийских компаний</td>\n",
       "      <td>Etf</td>\n",
       "    </tr>\n",
       "    <tr>\n",
       "      <th>22</th>\n",
       "      <td>BBG00NRFC2X2</td>\n",
       "      <td>FXTB</td>\n",
       "      <td>IE00BL3DYW26</td>\n",
       "      <td>0.1000</td>\n",
       "      <td>1</td>\n",
       "      <td>RUB</td>\n",
       "      <td>Казначейские облигации США (USD)</td>\n",
       "      <td>Etf</td>\n",
       "    </tr>\n",
       "    <tr>\n",
       "      <th>23</th>\n",
       "      <td>BBG005HLK5V5</td>\n",
       "      <td>FXUK</td>\n",
       "      <td>IE00BD3QHV53</td>\n",
       "      <td>1.0000</td>\n",
       "      <td>1</td>\n",
       "      <td>RUB</td>\n",
       "      <td>Акции английских компаний</td>\n",
       "      <td>Etf</td>\n",
       "    </tr>\n",
       "  </tbody>\n",
       "</table>\n",
       "</div>"
      ],
      "text/plain": [
       "            figi ticker          isin  min_price_increment  lot currency  \\\n",
       "0   BBG005DXDPK9   FXGD  IE00B8XB7377               0.2000    1      RUB   \n",
       "1   BBG00M8C8Y03   FXKZ  IE00BG0C3K84               0.1000    1      RUB   \n",
       "2   BBG005VKB7D7   FXCN  IE00BD3QFB18               2.0000    1      RUB   \n",
       "3   BBG000000000   TUSD  RU000A1011S9               0.0001    1      USD   \n",
       "4   BBG000000002   TEUR  RU000A1011T7               0.0001    1      EUR   \n",
       "5   BBG000000001   TRUR  RU000A1011U5               0.0050    1      RUB   \n",
       "6   BBG00KMXH2C2   RUSB  LU1483649825               0.5000    1      RUB   \n",
       "7   BBG005HLSZ23   FXUS  IE00BD3QHZ91               1.0000    1      RUB   \n",
       "8   BBG0073DLHS1   FXRL  IE00BQ1Y6480               0.5000    1      RUB   \n",
       "9   BBG005N1KZX4   FXRU  IE00BD5FH213               0.1000    1      RUB   \n",
       "10  BBG004HNZFH2   FXRB  IE00B7L7CP77               1.0000    1      RUB   \n",
       "11  BBG00MF4JRQ8   VTBB  RU000A1002S8               0.1000    1      RUB   \n",
       "12  BBG00R980XY3   FXRW  IE00BK224M36               0.0001    1      RUB   \n",
       "13  BBG00M0C8YM7   SBMX  RU000A0ZZH92               0.5000    1      RUB   \n",
       "14  BBG005HM5979   FXJP  IE00BD3QJ310               1.0000    1      RUB   \n",
       "15  BBG006GYFHV6   FXMM  IE00BL3DYX33               0.1000    1      RUB   \n",
       "16  BBG00KMXFK61   RUSE  LU1483649312               0.5000    1      RUB   \n",
       "17  BBG00R9805F5   FXWO  IE00BK224L29               0.0001    1      RUB   \n",
       "18  BBG005H7MXN2   FXDE  IE00BD3QJN10               0.5000    1      RUB   \n",
       "19  BBG00NNQMD85   AKNX  RU000A0ZZTQ4               0.0100    1      USD   \n",
       "20  BBG005HLTYH9   FXIT  IE00BD3QJ757               1.0000    1      RUB   \n",
       "21  BBG005HM6BL7   FXAU  IE00BD3QF110               1.0000    1      RUB   \n",
       "22  BBG00NRFC2X2   FXTB  IE00BL3DYW26               0.1000    1      RUB   \n",
       "23  BBG005HLK5V5   FXUK  IE00BD3QHV53               1.0000    1      RUB   \n",
       "\n",
       "                                                name type  \n",
       "0                                             Золото  Etf  \n",
       "1                       Акции казахстанских компаний  Etf  \n",
       "2                           Акции китайских компаний  Etf  \n",
       "3                                Вечный портфель USD  Etf  \n",
       "4                                Вечный портфель EUR  Etf  \n",
       "5                                Вечный портфель RUB  Etf  \n",
       "6      Долларовые еврооблигации российских эмитентов  Etf  \n",
       "7                        Акции американских компаний  Etf  \n",
       "8                          Акции российских компаний  Etf  \n",
       "9            Еврооблигации российских компаний (USD)  Etf  \n",
       "10           Еврооблигации российских компаний (RUB)  Etf  \n",
       "11                                          ВТБ VTBB  Etf  \n",
       "12                                        FinEx FXRW  Etf  \n",
       "13                                     Сбербанк SBMX  Etf  \n",
       "14                           Акции японских компаний  Etf  \n",
       "15                        Казначейские облигации США  Etf  \n",
       "16  Акции российских компаний, входящие в индекс РТС  Etf  \n",
       "17                                        FinEx FXWO  Etf  \n",
       "18                           Акции немецких компаний  Etf  \n",
       "19                               Технологии 100 БПИФ  Etf  \n",
       "20                     Акции компаний IT-сектора США  Etf  \n",
       "21                      Акции австралийских компаний  Etf  \n",
       "22                  Казначейские облигации США (USD)  Etf  \n",
       "23                         Акции английских компаний  Etf  "
      ]
     },
     "execution_count": 12,
     "metadata": {},
     "output_type": "execute_result"
    }
   ],
   "source": [
    "etf"
   ]
  },
  {
   "cell_type": "code",
   "execution_count": 13,
   "metadata": {},
   "outputs": [],
   "source": [
    "def detailed_history(figi='BBG00M0C8YM7',\n",
    "                    _from=None,\n",
    "                    to=None,\n",
    "                    interval=\"1min\"):\n",
    "    if to==None:\n",
    "        endTime=datetime.now()\n",
    "    else:\n",
    "        endTime= to\n",
    "    if _from==None:\n",
    "        days_span=1\n",
    "        startTime = datetime.now() - timedelta(days=days_span)\n",
    "    else:\n",
    "        startTime=_from\n",
    "    #print(endTime)\n",
    "    #print(startTime)\n",
    "    \n",
    "    startTime_list=[]\n",
    "    endTime_list=[]\n",
    "    \n",
    "    startTime_list.append(startTime.strftime('%Y-%m-%dT%H:%M:%S')+\"+07:00\")\n",
    "    endTime_list.append(endTime.strftime('%Y-%m-%dT%H:%M:%S')+\"+07:00\")\n",
    "    \n",
    "    if (endTime-startTime).days>1:\n",
    "        startTime_list=[]\n",
    "        endTime_list=[]\n",
    "        endTime=to\n",
    "        for i in range((to-_from).days):\n",
    "            #print(i)\n",
    "            newStartTime=endTime-timedelta(days=1)\n",
    "            startTime_list.append(newStartTime.strftime('%Y-%m-%dT%H:%M:%S')+\"+07:00\")\n",
    "            endTime_list.append(endTime.strftime('%Y-%m-%dT%H:%M:%S')+\"+07:00\")\n",
    "            endTime=newStartTime\n",
    "    #print(startTime_list)\n",
    "    #print(endTime_list)\n",
    "    list_df=[]\n",
    "    for i in range(len(startTime_list)):\n",
    "        tickers=client.market.market_candles_get_with_http_info(figi=figi,\n",
    "                                                        _from=startTime_list[i],\n",
    "                                                        to=endTime_list[i],\n",
    "                                                        interval=\"1min\")\n",
    "        list_of_tickers=[]\n",
    "        for item in tickers[0].payload.candles:\n",
    "            list_of_tickers.append(item.to_dict())\n",
    "        df=pd.DataFrame.from_records(list_of_tickers)\n",
    "        list_df.append(df)\n",
    "        \n",
    "    df_merge = list_df[0]\n",
    "    n=len(list_df)\n",
    "    print(f\"Concat frame 0. Dataframe with data (row,col) : {df_merge.shape}.\")\n",
    "    for i in range(1, n):\n",
    "        df_merge = pd.concat([df_merge, list_df[i]], sort=False)\n",
    "        print(f\"Concat frame {i}. Dataframe with data (row,col) : {df_merge.shape}.\")\n",
    "    return df_merge\n",
    "            \n",
    "        \n",
    "    \n",
    "    "
   ]
  },
  {
   "cell_type": "code",
   "execution_count": 14,
   "metadata": {},
   "outputs": [
    {
     "name": "stdout",
     "output_type": "stream",
     "text": [
      "test1\n",
      "Concat frame 0. Dataframe with data (row,col) : (0, 0).\n",
      "test2\n",
      "Concat frame 0. Dataframe with data (row,col) : (0, 0).\n",
      "Concat frame 1. Dataframe with data (row,col) : (0, 0).\n",
      "Concat frame 2. Dataframe with data (row,col) : (391, 8).\n",
      "Concat frame 3. Dataframe with data (row,col) : (770, 8).\n",
      "Concat frame 4. Dataframe with data (row,col) : (1221, 8).\n",
      "Concat frame 5. Dataframe with data (row,col) : (1611, 8).\n",
      "Concat frame 6. Dataframe with data (row,col) : (1992, 8).\n",
      "Concat frame 7. Dataframe with data (row,col) : (1992, 8).\n",
      "Concat frame 8. Dataframe with data (row,col) : (1992, 8).\n",
      "Concat frame 9. Dataframe with data (row,col) : (2441, 8).\n",
      "test3\n",
      "Concat frame 0. Dataframe with data (row,col) : (0, 0).\n"
     ]
    }
   ],
   "source": [
    "#test#1 - 1 day request\n",
    "from datetime import datetime\n",
    "days_span=1\n",
    "startTime = datetime.now() - timedelta(days=days_span)\n",
    "endTime = datetime.now()\n",
    "print(\"test1\")\n",
    "df_merge1=detailed_history(_from=startTime,\n",
    "                    to=endTime)\n",
    "#test#2 - 10 days request\n",
    "from datetime import datetime\n",
    "days_span=10\n",
    "startTime = datetime.now() - timedelta(days=days_span)\n",
    "endTime = datetime.now()\n",
    "print(\"test2\")\n",
    "df_merge2=detailed_history(_from=startTime,\n",
    "                    to=endTime)\n",
    "#test#3-no data provided\n",
    "print(\"test3\")\n",
    "df_merge3=detailed_history()"
   ]
  },
  {
   "cell_type": "code",
   "execution_count": 15,
   "metadata": {},
   "outputs": [
    {
     "data": {
      "text/html": [
       "<div>\n",
       "<style scoped>\n",
       "    .dataframe tbody tr th:only-of-type {\n",
       "        vertical-align: middle;\n",
       "    }\n",
       "\n",
       "    .dataframe tbody tr th {\n",
       "        vertical-align: top;\n",
       "    }\n",
       "\n",
       "    .dataframe thead th {\n",
       "        text-align: right;\n",
       "    }\n",
       "</style>\n",
       "<table border=\"1\" class=\"dataframe\">\n",
       "  <thead>\n",
       "    <tr style=\"text-align: right;\">\n",
       "      <th></th>\n",
       "      <th>figi</th>\n",
       "      <th>interval</th>\n",
       "      <th>o</th>\n",
       "      <th>c</th>\n",
       "      <th>h</th>\n",
       "      <th>l</th>\n",
       "      <th>v</th>\n",
       "      <th>time</th>\n",
       "    </tr>\n",
       "  </thead>\n",
       "  <tbody>\n",
       "    <tr>\n",
       "      <th>0</th>\n",
       "      <td>BBG00M0C8YM7</td>\n",
       "      <td>1min</td>\n",
       "      <td>1155.0</td>\n",
       "      <td>1169.5</td>\n",
       "      <td>1169.5</td>\n",
       "      <td>1155.0</td>\n",
       "      <td>6</td>\n",
       "      <td>2020-03-27 07:01:00+00:00</td>\n",
       "    </tr>\n",
       "    <tr>\n",
       "      <th>1</th>\n",
       "      <td>BBG00M0C8YM7</td>\n",
       "      <td>1min</td>\n",
       "      <td>1160.0</td>\n",
       "      <td>1160.0</td>\n",
       "      <td>1160.0</td>\n",
       "      <td>1160.0</td>\n",
       "      <td>1</td>\n",
       "      <td>2020-03-27 07:02:00+00:00</td>\n",
       "    </tr>\n",
       "    <tr>\n",
       "      <th>2</th>\n",
       "      <td>BBG00M0C8YM7</td>\n",
       "      <td>1min</td>\n",
       "      <td>1160.0</td>\n",
       "      <td>1133.0</td>\n",
       "      <td>1165.0</td>\n",
       "      <td>1126.5</td>\n",
       "      <td>313</td>\n",
       "      <td>2020-03-27 07:03:00+00:00</td>\n",
       "    </tr>\n",
       "    <tr>\n",
       "      <th>3</th>\n",
       "      <td>BBG00M0C8YM7</td>\n",
       "      <td>1min</td>\n",
       "      <td>1127.0</td>\n",
       "      <td>1133.0</td>\n",
       "      <td>1149.0</td>\n",
       "      <td>1127.0</td>\n",
       "      <td>20</td>\n",
       "      <td>2020-03-27 07:04:00+00:00</td>\n",
       "    </tr>\n",
       "    <tr>\n",
       "      <th>4</th>\n",
       "      <td>BBG00M0C8YM7</td>\n",
       "      <td>1min</td>\n",
       "      <td>1127.5</td>\n",
       "      <td>1148.5</td>\n",
       "      <td>1148.5</td>\n",
       "      <td>1127.5</td>\n",
       "      <td>23</td>\n",
       "      <td>2020-03-27 07:05:00+00:00</td>\n",
       "    </tr>\n",
       "    <tr>\n",
       "      <th>...</th>\n",
       "      <td>...</td>\n",
       "      <td>...</td>\n",
       "      <td>...</td>\n",
       "      <td>...</td>\n",
       "      <td>...</td>\n",
       "      <td>...</td>\n",
       "      <td>...</td>\n",
       "      <td>...</td>\n",
       "    </tr>\n",
       "    <tr>\n",
       "      <th>444</th>\n",
       "      <td>BBG00M0C8YM7</td>\n",
       "      <td>1min</td>\n",
       "      <td>1083.5</td>\n",
       "      <td>1083.5</td>\n",
       "      <td>1083.5</td>\n",
       "      <td>1083.5</td>\n",
       "      <td>2</td>\n",
       "      <td>2020-03-20 15:35:00+00:00</td>\n",
       "    </tr>\n",
       "    <tr>\n",
       "      <th>445</th>\n",
       "      <td>BBG00M0C8YM7</td>\n",
       "      <td>1min</td>\n",
       "      <td>1085.0</td>\n",
       "      <td>1085.0</td>\n",
       "      <td>1085.0</td>\n",
       "      <td>1085.0</td>\n",
       "      <td>11002</td>\n",
       "      <td>2020-03-20 15:38:00+00:00</td>\n",
       "    </tr>\n",
       "    <tr>\n",
       "      <th>446</th>\n",
       "      <td>BBG00M0C8YM7</td>\n",
       "      <td>1min</td>\n",
       "      <td>1083.5</td>\n",
       "      <td>1083.5</td>\n",
       "      <td>1083.5</td>\n",
       "      <td>1083.5</td>\n",
       "      <td>4345</td>\n",
       "      <td>2020-03-20 15:39:00+00:00</td>\n",
       "    </tr>\n",
       "    <tr>\n",
       "      <th>447</th>\n",
       "      <td>BBG00M0C8YM7</td>\n",
       "      <td>1min</td>\n",
       "      <td>1084.5</td>\n",
       "      <td>1084.5</td>\n",
       "      <td>1084.5</td>\n",
       "      <td>1084.5</td>\n",
       "      <td>2474</td>\n",
       "      <td>2020-03-20 15:41:00+00:00</td>\n",
       "    </tr>\n",
       "    <tr>\n",
       "      <th>448</th>\n",
       "      <td>BBG00M0C8YM7</td>\n",
       "      <td>1min</td>\n",
       "      <td>1084.0</td>\n",
       "      <td>1084.0</td>\n",
       "      <td>1084.0</td>\n",
       "      <td>1084.0</td>\n",
       "      <td>5</td>\n",
       "      <td>2020-03-20 15:42:00+00:00</td>\n",
       "    </tr>\n",
       "  </tbody>\n",
       "</table>\n",
       "<p>2441 rows × 8 columns</p>\n",
       "</div>"
      ],
      "text/plain": [
       "             figi interval       o       c       h       l      v  \\\n",
       "0    BBG00M0C8YM7     1min  1155.0  1169.5  1169.5  1155.0      6   \n",
       "1    BBG00M0C8YM7     1min  1160.0  1160.0  1160.0  1160.0      1   \n",
       "2    BBG00M0C8YM7     1min  1160.0  1133.0  1165.0  1126.5    313   \n",
       "3    BBG00M0C8YM7     1min  1127.0  1133.0  1149.0  1127.0     20   \n",
       "4    BBG00M0C8YM7     1min  1127.5  1148.5  1148.5  1127.5     23   \n",
       "..            ...      ...     ...     ...     ...     ...    ...   \n",
       "444  BBG00M0C8YM7     1min  1083.5  1083.5  1083.5  1083.5      2   \n",
       "445  BBG00M0C8YM7     1min  1085.0  1085.0  1085.0  1085.0  11002   \n",
       "446  BBG00M0C8YM7     1min  1083.5  1083.5  1083.5  1083.5   4345   \n",
       "447  BBG00M0C8YM7     1min  1084.5  1084.5  1084.5  1084.5   2474   \n",
       "448  BBG00M0C8YM7     1min  1084.0  1084.0  1084.0  1084.0      5   \n",
       "\n",
       "                         time  \n",
       "0   2020-03-27 07:01:00+00:00  \n",
       "1   2020-03-27 07:02:00+00:00  \n",
       "2   2020-03-27 07:03:00+00:00  \n",
       "3   2020-03-27 07:04:00+00:00  \n",
       "4   2020-03-27 07:05:00+00:00  \n",
       "..                        ...  \n",
       "444 2020-03-20 15:35:00+00:00  \n",
       "445 2020-03-20 15:38:00+00:00  \n",
       "446 2020-03-20 15:39:00+00:00  \n",
       "447 2020-03-20 15:41:00+00:00  \n",
       "448 2020-03-20 15:42:00+00:00  \n",
       "\n",
       "[2441 rows x 8 columns]"
      ]
     },
     "execution_count": 15,
     "metadata": {},
     "output_type": "execute_result"
    }
   ],
   "source": [
    "df_merge2"
   ]
  },
  {
   "cell_type": "code",
   "execution_count": 17,
   "metadata": {},
   "outputs": [
    {
     "name": "stdout",
     "output_type": "stream",
     "text": [
      "<class 'pandas.core.frame.DataFrame'>\n",
      "Int64Index: 2441 entries, 0 to 448\n",
      "Data columns (total 8 columns):\n",
      " #   Column    Non-Null Count  Dtype                  \n",
      "---  ------    --------------  -----                  \n",
      " 0   figi      2441 non-null   object                 \n",
      " 1   interval  2441 non-null   object                 \n",
      " 2   o         2441 non-null   float64                \n",
      " 3   c         2441 non-null   float64                \n",
      " 4   h         2441 non-null   float64                \n",
      " 5   l         2441 non-null   float64                \n",
      " 6   v         2441 non-null   int64                  \n",
      " 7   time      2441 non-null   datetime64[ns, tzutc()]\n",
      "dtypes: datetime64[ns, tzutc()](1), float64(4), int64(1), object(2)\n",
      "memory usage: 171.6+ KB\n"
     ]
    }
   ],
   "source": [
    "df_merge2.info()"
   ]
  },
  {
   "cell_type": "code",
   "execution_count": 14,
   "metadata": {},
   "outputs": [
    {
     "name": "stdout",
     "output_type": "stream",
     "text": [
      "['retrieving figi: BBG005DXDPK9 ticker: FXGD']\n",
      "['retrieving figi: BBG00M8C8Y03 ticker: FXKZ']\n",
      "['retrieving figi: BBG005VKB7D7 ticker: FXCN']\n",
      "['retrieving figi: BBG000000000 ticker: TUSD']\n",
      "['retrieving figi: BBG000000002 ticker: TEUR']\n",
      "['retrieving figi: BBG000000001 ticker: TRUR']\n",
      "['retrieving figi: BBG00KMXH2C2 ticker: RUSB']\n",
      "['retrieving figi: BBG005HLSZ23 ticker: FXUS']\n",
      "['retrieving figi: BBG0073DLHS1 ticker: FXRL']\n",
      "['retrieving figi: BBG005N1KZX4 ticker: FXRU']\n",
      "['retrieving figi: BBG004HNZFH2 ticker: FXRB']\n",
      "['retrieving figi: BBG00MF4JRQ8 ticker: VTBB']\n",
      "['retrieving figi: BBG00R980XY3 ticker: FXRW']\n",
      "['retrieving figi: BBG00M0C8YM7 ticker: SBMX']\n",
      "['retrieving figi: BBG005HM5979 ticker: FXJP']\n",
      "['retrieving figi: BBG006GYFHV6 ticker: FXMM']\n",
      "['retrieving figi: BBG00KMXFK61 ticker: RUSE']\n",
      "['retrieving figi: BBG00R9805F5 ticker: FXWO']\n",
      "['retrieving figi: BBG005H7MXN2 ticker: FXDE']\n",
      "['retrieving figi: BBG00NNQMD85 ticker: AKNX']\n",
      "['retrieving figi: BBG005HLTYH9 ticker: FXIT']\n",
      "['retrieving figi: BBG005HM6BL7 ticker: FXAU']\n",
      "['retrieving figi: BBG00NRFC2X2 ticker: FXTB']\n",
      "['retrieving figi: BBG005HLK5V5 ticker: FXUK']\n",
      "Concat frame 0. Dataframe with data (row,col) : (0, 0).\n"
     ]
    }
   ],
   "source": [
    "from datetime import datetime\n",
    "days_span=10\n",
    "startTime = datetime.now() - timedelta(days=days_span)\n",
    "endTime = datetime.now()\n",
    "for figi in etf.figi.unique():\n",
    "    print(\"retrieving figi: \"+figi+ \" ticker: \"+etf[etf.figi==figi].ticker.values)\n",
    "    list_df=[]\n",
    "    df=detailed_history(figi=figi,\n",
    "                                                        _from=startTime,\n",
    "                                                        to=endTime,\n",
    "                                                        interval=\"1min\")\n",
    "    time.sleep(5)\n",
    "    list_df.append(df)\n",
    "df_merge = list_df[0]\n",
    "n=len(list_df)\n",
    "print(f\"Concat frame 0. Dataframe with data (row,col) : {df_merge.shape}.\")\n",
    "for i in range(1, n):\n",
    "    df_merge = pd.concat([df_merge, list_df[i]], sort=False)\n",
    "    print(f\"Concat frame {i}. Dataframe with data (row,col) : {df_merge.shape}.\")\n",
    "\n"
   ]
  },
  {
   "cell_type": "code",
   "execution_count": 15,
   "metadata": {},
   "outputs": [],
   "source": [
    "from tqdm import tqdm\n",
    "def get_detailed_data(data,_from=None,to=None):\n",
    "    \n",
    "    for figi in tqdm(data.figi.unique()):\n",
    "        print(\"retrieving figi: \"+figi+ \" ticker: \"+data[data.figi==figi].ticker.values)\n",
    "        list_df=[]\n",
    "        df=detailed_history(figi=figi,\n",
    "                                                            _from=_from,\n",
    "                                                            to=to,\n",
    "                                                            interval=\"1min\")\n",
    "        time.sleep(3)\n",
    "        list_df.append(df)\n",
    "    \n",
    "    df_merge = list_df[0]\n",
    "    n=len(list_df)\n",
    "    print(f\"Concat frame 0. Dataframe with data (row,col) : {df_merge.shape}.\")\n",
    "    for i in range(1, n):\n",
    "        df_merge = pd.concat([df_merge, list_df[i]], sort=False)\n",
    "        print(f\"Concat frame {i}. Dataframe with data (row,col) : {df_merge.shape}.\")\n",
    "    return df_merge"
   ]
  },
  {
   "cell_type": "code",
   "execution_count": null,
   "metadata": {
    "scrolled": false
   },
   "outputs": [
    {
     "name": "stderr",
     "output_type": "stream",
     "text": [
      "\r",
      "  0%|                                                                                                                                         | 0/1285 [00:00<?, ?it/s]"
     ]
    },
    {
     "name": "stdout",
     "output_type": "stream",
     "text": [
      "['retrieving figi: BBG000HLJ7M4 ticker: IDCC']\n"
     ]
    },
    {
     "name": "stderr",
     "output_type": "stream",
     "text": [
      "\r",
      "  0%|                                                                                                                               | 1/1285 [00:18<6:46:28, 18.99s/it]"
     ]
    },
    {
     "name": "stdout",
     "output_type": "stream",
     "text": [
      "['retrieving figi: BBG002293PJ4 ticker: RH']\n"
     ]
    },
    {
     "name": "stderr",
     "output_type": "stream",
     "text": [
      "\r",
      "  0%|▏                                                                                                                              | 2/1285 [00:38<6:47:30, 19.06s/it]"
     ]
    },
    {
     "name": "stdout",
     "output_type": "stream",
     "text": [
      "['retrieving figi: BBG000CTQBF3 ticker: SBUX']\n"
     ]
    },
    {
     "name": "stderr",
     "output_type": "stream",
     "text": [
      "\r",
      "  0%|▎                                                                                                                              | 3/1285 [01:03<7:26:10, 20.88s/it]"
     ]
    },
    {
     "name": "stdout",
     "output_type": "stream",
     "text": [
      "['retrieving figi: BBG000BPL8G3 ticker: MTSC']\n"
     ]
    },
    {
     "name": "stderr",
     "output_type": "stream",
     "text": [
      "\r",
      "  0%|▍                                                                                                                              | 4/1285 [01:20<7:00:36, 19.70s/it]"
     ]
    },
    {
     "name": "stdout",
     "output_type": "stream",
     "text": [
      "['retrieving figi: BBG000BH0FR6 ticker: SGEN']\n"
     ]
    },
    {
     "name": "stderr",
     "output_type": "stream",
     "text": [
      "\r",
      "  0%|▍                                                                                                                              | 5/1285 [01:39<6:56:24, 19.52s/it]"
     ]
    },
    {
     "name": "stdout",
     "output_type": "stream",
     "text": [
      "['retrieving figi: BBG004S68758 ticker: BANE']\n"
     ]
    },
    {
     "name": "stderr",
     "output_type": "stream",
     "text": [
      "\r",
      "  0%|▌                                                                                                                              | 6/1285 [01:57<6:46:22, 19.06s/it]"
     ]
    },
    {
     "name": "stdout",
     "output_type": "stream",
     "text": [
      "['retrieving figi: BBG004MN1R41 ticker: NAVI']\n"
     ]
    },
    {
     "name": "stderr",
     "output_type": "stream",
     "text": [
      "\r",
      "  1%|▋                                                                                                                              | 7/1285 [02:16<6:44:37, 19.00s/it]"
     ]
    },
    {
     "name": "stdout",
     "output_type": "stream",
     "text": [
      "['retrieving figi: BBG000BPNP00 ticker: MXIM']\n"
     ]
    },
    {
     "name": "stderr",
     "output_type": "stream",
     "text": [
      "\r",
      "  1%|▊                                                                                                                              | 8/1285 [02:36<6:49:31, 19.24s/it]"
     ]
    },
    {
     "name": "stdout",
     "output_type": "stream",
     "text": [
      "['retrieving figi: BBG000BWS3F3 ticker: WGO']\n"
     ]
    },
    {
     "name": "stderr",
     "output_type": "stream",
     "text": [
      "\r",
      "  1%|▉                                                                                                                              | 9/1285 [02:53<6:39:27, 18.78s/it]"
     ]
    },
    {
     "name": "stdout",
     "output_type": "stream",
     "text": [
      "['retrieving figi: BBG000BF0K17 ticker: CAT']\n"
     ]
    },
    {
     "name": "stderr",
     "output_type": "stream",
     "text": [
      "\r",
      "  1%|▉                                                                                                                             | 10/1285 [03:12<6:42:00, 18.92s/it]"
     ]
    },
    {
     "name": "stdout",
     "output_type": "stream",
     "text": [
      "['retrieving figi: BBG000BTGKK9 ticker: TREX']\n"
     ]
    },
    {
     "name": "stderr",
     "output_type": "stream",
     "text": [
      "\r",
      "  1%|█                                                                                                                             | 11/1285 [03:29<6:27:55, 18.27s/it]"
     ]
    },
    {
     "name": "stdout",
     "output_type": "stream",
     "text": [
      "['retrieving figi: BBG000BZJQL8 ticker: IART']\n"
     ]
    },
    {
     "name": "stderr",
     "output_type": "stream",
     "text": [
      "\r",
      "  1%|█▏                                                                                                                            | 12/1285 [03:47<6:24:40, 18.13s/it]"
     ]
    },
    {
     "name": "stdout",
     "output_type": "stream",
     "text": [
      "['retrieving figi: BBG000BS9HN3 ticker: ROG']\n"
     ]
    },
    {
     "name": "stderr",
     "output_type": "stream",
     "text": [
      "\r",
      "  1%|█▎                                                                                                                            | 13/1285 [03:59<5:47:44, 16.40s/it]"
     ]
    },
    {
     "name": "stdout",
     "output_type": "stream",
     "text": [
      "['retrieving figi: BBG000BS5DR2 ticker: RHI']\n"
     ]
    },
    {
     "name": "stderr",
     "output_type": "stream",
     "text": [
      "\r",
      "  1%|█▎                                                                                                                            | 14/1285 [04:19<6:05:39, 17.26s/it]"
     ]
    },
    {
     "name": "stdout",
     "output_type": "stream",
     "text": [
      "['retrieving figi: BBG000BDHD29 ticker: UNVR']\n"
     ]
    },
    {
     "name": "stderr",
     "output_type": "stream",
     "text": [
      "\r",
      "  1%|█▍                                                                                                                            | 15/1285 [04:36<6:08:05, 17.39s/it]"
     ]
    },
    {
     "name": "stdout",
     "output_type": "stream",
     "text": [
      "['retrieving figi: BBG0077VNXV6 ticker: PYPL']\n"
     ]
    },
    {
     "name": "stderr",
     "output_type": "stream",
     "text": [
      "\r",
      "  1%|█▌                                                                                                                            | 16/1285 [04:59<6:43:27, 19.08s/it]"
     ]
    },
    {
     "name": "stdout",
     "output_type": "stream",
     "text": [
      "['retrieving figi: BBG001R72SR9 ticker: UI']\n"
     ]
    },
    {
     "name": "stderr",
     "output_type": "stream",
     "text": [
      "\r",
      "  1%|█▋                                                                                                                            | 17/1285 [05:14<6:17:29, 17.86s/it]"
     ]
    },
    {
     "name": "stdout",
     "output_type": "stream",
     "text": [
      "['retrieving figi: BBG001JZPSQ2 ticker: SONO']\n"
     ]
    },
    {
     "name": "stderr",
     "output_type": "stream",
     "text": [
      "\r",
      "  1%|█▊                                                                                                                            | 18/1285 [05:31<6:09:13, 17.49s/it]"
     ]
    },
    {
     "name": "stdout",
     "output_type": "stream",
     "text": [
      "['retrieving figi: BBG000FV1Z23 ticker: CCI']\n"
     ]
    },
    {
     "name": "stderr",
     "output_type": "stream",
     "text": [
      "\r",
      "  1%|█▊                                                                                                                            | 19/1285 [05:51<6:26:39, 18.33s/it]"
     ]
    },
    {
     "name": "stdout",
     "output_type": "stream",
     "text": [
      "['retrieving figi: BBG000BFDLV8 ticker: CERN']\n"
     ]
    },
    {
     "name": "stderr",
     "output_type": "stream",
     "text": [
      "\r",
      "  2%|█▉                                                                                                                            | 20/1285 [06:10<6:26:29, 18.33s/it]"
     ]
    },
    {
     "name": "stdout",
     "output_type": "stream",
     "text": [
      "['retrieving figi: BBG002WMH2F2 ticker: SERV']\n"
     ]
    },
    {
     "name": "stderr",
     "output_type": "stream",
     "text": [
      "\r",
      "  2%|██                                                                                                                            | 21/1285 [06:29<6:31:30, 18.58s/it]"
     ]
    },
    {
     "name": "stdout",
     "output_type": "stream",
     "text": [
      "['retrieving figi: BBG000BMWKC5 ticker: KMT']\n"
     ]
    },
    {
     "name": "stderr",
     "output_type": "stream",
     "text": [
      "\r",
      "  2%|██▏                                                                                                                           | 22/1285 [06:48<6:35:29, 18.79s/it]"
     ]
    },
    {
     "name": "stdout",
     "output_type": "stream",
     "text": [
      "['retrieving figi: BBG000DZJVH0 ticker: NXST']\n"
     ]
    },
    {
     "name": "stderr",
     "output_type": "stream",
     "text": [
      "\r",
      "  2%|██▎                                                                                                                           | 23/1285 [07:06<6:27:21, 18.42s/it]"
     ]
    },
    {
     "name": "stdout",
     "output_type": "stream",
     "text": [
      "['retrieving figi: BBG000BQHGR6 ticker: OKE']\n"
     ]
    },
    {
     "name": "stderr",
     "output_type": "stream",
     "text": [
      "\r",
      "  2%|██▎                                                                                                                           | 24/1285 [07:29<6:58:18, 19.90s/it]"
     ]
    },
    {
     "name": "stdout",
     "output_type": "stream",
     "text": [
      "['retrieving figi: BBG000BNSZP1 ticker: MCD']\n"
     ]
    },
    {
     "name": "stderr",
     "output_type": "stream",
     "text": [
      "\r",
      "  2%|██▍                                                                                                                           | 25/1285 [07:54<7:26:55, 21.28s/it]"
     ]
    },
    {
     "name": "stdout",
     "output_type": "stream",
     "text": [
      "['retrieving figi: BBG000BHJSC4 ticker: BBSI']\n"
     ]
    },
    {
     "name": "stderr",
     "output_type": "stream",
     "text": [
      "\r",
      "  2%|██▌                                                                                                                           | 26/1285 [08:05<6:21:54, 18.20s/it]"
     ]
    },
    {
     "name": "stdout",
     "output_type": "stream",
     "text": [
      "['retrieving figi: BBG000BGRY34 ticker: CVS']\n"
     ]
    },
    {
     "name": "stderr",
     "output_type": "stream",
     "text": [
      "\r",
      "  2%|██▋                                                                                                                           | 27/1285 [08:26<6:39:34, 19.06s/it]"
     ]
    },
    {
     "name": "stdout",
     "output_type": "stream",
     "text": [
      "['retrieving figi: BBG000VMWHH5 ticker: DISCK']\n"
     ]
    },
    {
     "name": "stderr",
     "output_type": "stream",
     "text": [
      "\r",
      "  2%|██▋                                                                                                                           | 28/1285 [08:45<6:43:36, 19.27s/it]"
     ]
    },
    {
     "name": "stdout",
     "output_type": "stream",
     "text": [
      "['retrieving figi: BBG000BKH263 ticker: NEO']\n"
     ]
    },
    {
     "name": "stderr",
     "output_type": "stream",
     "text": [
      "\r",
      "  2%|██▊                                                                                                                           | 29/1285 [09:05<6:48:05, 19.50s/it]"
     ]
    },
    {
     "name": "stdout",
     "output_type": "stream",
     "text": [
      "['retrieving figi: BBG000QW7VC1 ticker: HCA']\n"
     ]
    },
    {
     "name": "stderr",
     "output_type": "stream",
     "text": [
      "\r",
      "  2%|██▉                                                                                                                           | 30/1285 [09:25<6:50:35, 19.63s/it]"
     ]
    },
    {
     "name": "stdout",
     "output_type": "stream",
     "text": [
      "['retrieving figi: BBG005YHY0Q7 ticker: JD']\n"
     ]
    },
    {
     "name": "stderr",
     "output_type": "stream",
     "text": [
      "\r",
      "  2%|███                                                                                                                           | 31/1285 [09:45<6:51:46, 19.70s/it]"
     ]
    },
    {
     "name": "stdout",
     "output_type": "stream",
     "text": [
      "['retrieving figi: BBG000C6GN04 ticker: QDEL']\n"
     ]
    },
    {
     "name": "stderr",
     "output_type": "stream",
     "text": [
      "\r",
      "  2%|███▏                                                                                                                          | 32/1285 [10:03<6:41:22, 19.22s/it]"
     ]
    },
    {
     "name": "stdout",
     "output_type": "stream",
     "text": [
      "['retrieving figi: BBG00FH3FM15 ticker: TCRR']\n"
     ]
    },
    {
     "name": "stderr",
     "output_type": "stream",
     "text": [
      "\r",
      "  3%|███▏                                                                                                                          | 33/1285 [10:17<6:07:08, 17.59s/it]"
     ]
    },
    {
     "name": "stdout",
     "output_type": "stream",
     "text": [
      "['retrieving figi: BBG000C41023 ticker: UDR']\n"
     ]
    },
    {
     "name": "stderr",
     "output_type": "stream",
     "text": [
      "\r",
      "  3%|███▎                                                                                                                          | 34/1285 [10:36<6:16:13, 18.04s/it]"
     ]
    },
    {
     "name": "stdout",
     "output_type": "stream",
     "text": [
      "['retrieving figi: BBG000L9CV04 ticker: UPS']\n"
     ]
    },
    {
     "name": "stderr",
     "output_type": "stream",
     "text": [
      "\r",
      "  3%|███▍                                                                                                                          | 35/1285 [10:55<6:22:56, 18.38s/it]"
     ]
    },
    {
     "name": "stdout",
     "output_type": "stream",
     "text": [
      "['retrieving figi: BBG000BBHXQ3 ticker: AJG']\n"
     ]
    },
    {
     "name": "stderr",
     "output_type": "stream",
     "text": [
      "\r",
      "  3%|███▌                                                                                                                          | 36/1285 [11:13<6:18:25, 18.18s/it]"
     ]
    },
    {
     "name": "stdout",
     "output_type": "stream",
     "text": [
      "['retrieving figi: BBG00G4Y2DC1 ticker: WTTR']\n"
     ]
    },
    {
     "name": "stderr",
     "output_type": "stream",
     "text": [
      "\r",
      "  3%|███▋                                                                                                                          | 37/1285 [11:27<5:49:05, 16.78s/it]"
     ]
    },
    {
     "name": "stdout",
     "output_type": "stream",
     "text": [
      "['retrieving figi: BBG000BC15S7 ticker: AON']\n"
     ]
    },
    {
     "name": "stderr",
     "output_type": "stream",
     "text": [
      "\r",
      "  3%|███▋                                                                                                                          | 38/1285 [11:45<5:56:49, 17.17s/it]"
     ]
    },
    {
     "name": "stdout",
     "output_type": "stream",
     "text": [
      "['retrieving figi: BBG000BXQ7R1 ticker: ZNH']\n"
     ]
    },
    {
     "name": "stderr",
     "output_type": "stream",
     "text": [
      "\r",
      "  3%|███▊                                                                                                                          | 39/1285 [11:56<5:18:04, 15.32s/it]"
     ]
    },
    {
     "name": "stdout",
     "output_type": "stream",
     "text": [
      "['retrieving figi: BBG000LJS6B8 ticker: ALGT']\n"
     ]
    },
    {
     "name": "stderr",
     "output_type": "stream",
     "text": [
      "\r",
      "  3%|███▉                                                                                                                          | 40/1285 [12:11<5:17:20, 15.29s/it]"
     ]
    },
    {
     "name": "stdout",
     "output_type": "stream",
     "text": [
      "['retrieving figi: BBG004TC84Z8 ticker: TRMK']\n"
     ]
    },
    {
     "name": "stderr",
     "output_type": "stream",
     "text": [
      "\r",
      "  3%|████                                                                                                                          | 41/1285 [12:32<5:56:19, 17.19s/it]"
     ]
    },
    {
     "name": "stdout",
     "output_type": "stream",
     "text": [
      "['retrieving figi: BBG002R1CW27 ticker: IR']\n"
     ]
    },
    {
     "name": "stderr",
     "output_type": "stream",
     "text": [
      "\r",
      "  3%|████                                                                                                                          | 42/1285 [12:51<6:01:45, 17.46s/it]"
     ]
    },
    {
     "name": "stdout",
     "output_type": "stream",
     "text": [
      "['retrieving figi: BBG000BWSV34 ticker: WHR']\n"
     ]
    },
    {
     "name": "stderr",
     "output_type": "stream",
     "text": [
      "\r",
      "  3%|████▏                                                                                                                         | 43/1285 [13:09<6:04:49, 17.62s/it]"
     ]
    },
    {
     "name": "stdout",
     "output_type": "stream",
     "text": [
      "['retrieving figi: BBG00HCY3Q67 ticker: WH']\n"
     ]
    },
    {
     "name": "stderr",
     "output_type": "stream",
     "text": [
      "\r",
      "  3%|████▎                                                                                                                         | 44/1285 [13:24<5:53:16, 17.08s/it]"
     ]
    },
    {
     "name": "stdout",
     "output_type": "stream",
     "text": [
      "['retrieving figi: BBG004730JJ5 ticker: MOEX']\n"
     ]
    },
    {
     "name": "stderr",
     "output_type": "stream",
     "text": [
      "\r",
      "  4%|████▍                                                                                                                         | 45/1285 [13:46<6:20:50, 18.43s/it]"
     ]
    },
    {
     "name": "stdout",
     "output_type": "stream",
     "text": [
      "['retrieving figi: BBG0016X4XN6 ticker: CSOD']\n"
     ]
    },
    {
     "name": "stderr",
     "output_type": "stream",
     "text": [
      "\r",
      "  4%|████▌                                                                                                                         | 46/1285 [14:02<6:08:27, 17.84s/it]"
     ]
    },
    {
     "name": "stdout",
     "output_type": "stream",
     "text": [
      "['retrieving figi: BBG000BGR6S8 ticker: CYOU']\n"
     ]
    },
    {
     "name": "stderr",
     "output_type": "stream",
     "text": [
      "\r",
      "  4%|████▌                                                                                                                         | 47/1285 [14:14<5:27:59, 15.90s/it]"
     ]
    },
    {
     "name": "stdout",
     "output_type": "stream",
     "text": [
      "['retrieving figi: BBG000K4WS65 ticker: CVCO']\n"
     ]
    },
    {
     "name": "stderr",
     "output_type": "stream",
     "text": [
      "\r",
      "  4%|████▋                                                                                                                         | 48/1285 [14:28<5:16:57, 15.37s/it]"
     ]
    },
    {
     "name": "stdout",
     "output_type": "stream",
     "text": [
      "['retrieving figi: BBG000BB6KF5 ticker: MET']\n"
     ]
    },
    {
     "name": "stderr",
     "output_type": "stream",
     "text": [
      "\r",
      "  4%|████▊                                                                                                                         | 49/1285 [14:47<5:42:31, 16.63s/it]"
     ]
    },
    {
     "name": "stdout",
     "output_type": "stream",
     "text": [
      "['retrieving figi: BBG000BNBPQ0 ticker: LM']\n"
     ]
    },
    {
     "name": "stderr",
     "output_type": "stream",
     "text": [
      "\r",
      "  4%|████▉                                                                                                                         | 50/1285 [15:04<5:41:44, 16.60s/it]"
     ]
    },
    {
     "name": "stdout",
     "output_type": "stream",
     "text": [
      "['retrieving figi: BBG000QY4ZD0 ticker: AGIO']\n"
     ]
    },
    {
     "name": "stderr",
     "output_type": "stream",
     "text": [
      "\r",
      "  4%|█████                                                                                                                         | 51/1285 [15:23<5:54:13, 17.22s/it]"
     ]
    },
    {
     "name": "stdout",
     "output_type": "stream",
     "text": [
      "['retrieving figi: BBG000BSBBP1 ticker: ROL']\n"
     ]
    },
    {
     "name": "stderr",
     "output_type": "stream",
     "text": [
      "\r",
      "  4%|█████                                                                                                                         | 52/1285 [15:40<5:55:05, 17.28s/it]"
     ]
    },
    {
     "name": "stdout",
     "output_type": "stream",
     "text": [
      "['retrieving figi: BBG000BTNGZ4 ticker: OMCL']\n"
     ]
    },
    {
     "name": "stderr",
     "output_type": "stream",
     "text": [
      "\r",
      "  4%|█████▏                                                                                                                        | 53/1285 [15:56<5:48:00, 16.95s/it]"
     ]
    },
    {
     "name": "stdout",
     "output_type": "stream",
     "text": [
      "['retrieving figi: BBG000BR2B91 ticker: PFE']\n"
     ]
    },
    {
     "name": "stderr",
     "output_type": "stream",
     "text": [
      "\r",
      "  4%|█████▎                                                                                                                        | 54/1285 [16:19<6:20:28, 18.54s/it]"
     ]
    },
    {
     "name": "stdout",
     "output_type": "stream",
     "text": [
      "['retrieving figi: BBG004S686N0 ticker: BANEP']\n"
     ]
    },
    {
     "name": "stderr",
     "output_type": "stream",
     "text": [
      "\r",
      "  4%|█████▍                                                                                                                        | 55/1285 [16:38<6:22:45, 18.67s/it]"
     ]
    },
    {
     "name": "stdout",
     "output_type": "stream",
     "text": [
      "['retrieving figi: BBG000BWQFY7 ticker: WFC']\n"
     ]
    },
    {
     "name": "stderr",
     "output_type": "stream",
     "text": [
      "\r",
      "  4%|█████▍                                                                                                                        | 56/1285 [17:00<6:43:28, 19.70s/it]"
     ]
    },
    {
     "name": "stdout",
     "output_type": "stream",
     "text": [
      "['retrieving figi: BBG008F2T3T2 ticker: RUAL']\n"
     ]
    },
    {
     "name": "stderr",
     "output_type": "stream",
     "text": [
      "\r",
      "  4%|█████▌                                                                                                                        | 57/1285 [17:22<6:57:03, 20.38s/it]"
     ]
    },
    {
     "name": "stdout",
     "output_type": "stream",
     "text": [
      "['retrieving figi: BBG000BG5BL8 ticker: CRL']\n"
     ]
    },
    {
     "name": "stderr",
     "output_type": "stream",
     "text": [
      "\r",
      "  5%|█████▋                                                                                                                        | 58/1285 [17:37<6:25:08, 18.83s/it]"
     ]
    },
    {
     "name": "stdout",
     "output_type": "stream",
     "text": [
      "['retrieving figi: BBG000PN9NB9 ticker: ALTR']\n"
     ]
    },
    {
     "name": "stderr",
     "output_type": "stream",
     "text": [
      "\r",
      "  5%|█████▊                                                                                                                        | 59/1285 [17:53<6:11:21, 18.17s/it]"
     ]
    },
    {
     "name": "stdout",
     "output_type": "stream",
     "text": [
      "['retrieving figi: BBG000QBR5J5 ticker: DFS']\n"
     ]
    },
    {
     "name": "stderr",
     "output_type": "stream",
     "text": [
      "\r",
      "  5%|█████▉                                                                                                                        | 60/1285 [18:13<6:17:18, 18.48s/it]"
     ]
    },
    {
     "name": "stdout",
     "output_type": "stream",
     "text": [
      "['retrieving figi: BBG00629NGT2 ticker: TTD']\n"
     ]
    },
    {
     "name": "stderr",
     "output_type": "stream",
     "text": [
      "\r",
      "  5%|█████▉                                                                                                                        | 61/1285 [18:33<6:29:02, 19.07s/it]"
     ]
    },
    {
     "name": "stdout",
     "output_type": "stream",
     "text": [
      "['retrieving figi: BBG0077SYZV6 ticker: BOOT']\n"
     ]
    },
    {
     "name": "stderr",
     "output_type": "stream",
     "text": [
      "\r",
      "  5%|██████                                                                                                                        | 62/1285 [18:51<6:21:57, 18.74s/it]"
     ]
    },
    {
     "name": "stdout",
     "output_type": "stream",
     "text": [
      "['retrieving figi: BBG000BJF1Z8 ticker: FDX']\n"
     ]
    },
    {
     "name": "stderr",
     "output_type": "stream",
     "text": [
      "\r",
      "  5%|██████▏                                                                                                                       | 63/1285 [19:10<6:24:36, 18.88s/it]"
     ]
    },
    {
     "name": "stdout",
     "output_type": "stream",
     "text": [
      "['retrieving figi: BBG005PXTR70 ticker: MBUU']\n"
     ]
    },
    {
     "name": "stderr",
     "output_type": "stream",
     "text": [
      "\r",
      "  5%|██████▎                                                                                                                       | 64/1285 [19:25<5:57:20, 17.56s/it]"
     ]
    },
    {
     "name": "stdout",
     "output_type": "stream",
     "text": [
      "['retrieving figi: BBG000FQRVM3 ticker: WAT']\n"
     ]
    },
    {
     "name": "stderr",
     "output_type": "stream",
     "text": [
      "\r",
      "  5%|██████▎                                                                                                                       | 65/1285 [19:42<5:54:04, 17.41s/it]"
     ]
    },
    {
     "name": "stdout",
     "output_type": "stream",
     "text": [
      "['retrieving figi: BBG000P1K2X6 ticker: GTLS']\n"
     ]
    },
    {
     "name": "stderr",
     "output_type": "stream",
     "text": [
      "\r",
      "  5%|██████▍                                                                                                                       | 66/1285 [19:59<5:54:41, 17.46s/it]"
     ]
    },
    {
     "name": "stdout",
     "output_type": "stream",
     "text": [
      "['retrieving figi: BBG000BJ81C1 ticker: TRV']\n"
     ]
    },
    {
     "name": "stderr",
     "output_type": "stream",
     "text": [
      "\r",
      "  5%|██████▌                                                                                                                       | 67/1285 [20:18<6:01:08, 17.79s/it]"
     ]
    },
    {
     "name": "stdout",
     "output_type": "stream",
     "text": [
      "['retrieving figi: BBG000DW76Y6 ticker: FICO']\n"
     ]
    },
    {
     "name": "stderr",
     "output_type": "stream",
     "text": [
      "\r",
      "  5%|██████▋                                                                                                                       | 68/1285 [20:33<5:44:14, 16.97s/it]"
     ]
    },
    {
     "name": "stdout",
     "output_type": "stream",
     "text": [
      "['retrieving figi: BBG009DFHWG6 ticker: RPD']\n"
     ]
    },
    {
     "name": "stderr",
     "output_type": "stream",
     "text": [
      "\r",
      "  5%|██████▊                                                                                                                       | 69/1285 [20:51<5:51:41, 17.35s/it]"
     ]
    },
    {
     "name": "stdout",
     "output_type": "stream",
     "text": [
      "['retrieving figi: BBG000BG3445 ticker: COO']\n"
     ]
    },
    {
     "name": "stderr",
     "output_type": "stream",
     "text": [
      "\r",
      "  5%|██████▊                                                                                                                       | 70/1285 [21:07<5:41:32, 16.87s/it]"
     ]
    },
    {
     "name": "stdout",
     "output_type": "stream",
     "text": [
      "['retrieving figi: BBG000HN7W02 ticker: PLUS']\n"
     ]
    },
    {
     "name": "stderr",
     "output_type": "stream",
     "text": [
      "\r",
      "  6%|██████▉                                                                                                                       | 71/1285 [21:20<5:15:56, 15.61s/it]"
     ]
    },
    {
     "name": "stdout",
     "output_type": "stream",
     "text": [
      "['retrieving figi: BBG000C4ZZ10 ticker: SIG']\n"
     ]
    },
    {
     "name": "stderr",
     "output_type": "stream",
     "text": [
      "\r",
      "  6%|███████                                                                                                                       | 72/1285 [21:38<5:31:43, 16.41s/it]"
     ]
    },
    {
     "name": "stdout",
     "output_type": "stream",
     "text": [
      "['retrieving figi: BBG002PHSYX9 ticker: FANG']\n"
     ]
    },
    {
     "name": "stderr",
     "output_type": "stream",
     "text": [
      "\r",
      "  6%|███████▏                                                                                                                      | 73/1285 [21:58<5:56:24, 17.64s/it]"
     ]
    },
    {
     "name": "stdout",
     "output_type": "stream",
     "text": [
      "['retrieving figi: BBG000BHLYP4 ticker: CME']\n"
     ]
    },
    {
     "name": "stderr",
     "output_type": "stream",
     "text": [
      "\r",
      "  6%|███████▎                                                                                                                      | 74/1285 [22:17<6:03:39, 18.02s/it]"
     ]
    },
    {
     "name": "stdout",
     "output_type": "stream",
     "text": [
      "['retrieving figi: BBG000BTCH57 ticker: CHRW']\n"
     ]
    },
    {
     "name": "stderr",
     "output_type": "stream",
     "text": [
      "\r",
      "  6%|███████▎                                                                                                                      | 75/1285 [22:36<6:05:18, 18.11s/it]"
     ]
    },
    {
     "name": "stdout",
     "output_type": "stream",
     "text": [
      "['retrieving figi: BBG000BLY663 ticker: CROX']\n"
     ]
    },
    {
     "name": "stderr",
     "output_type": "stream",
     "text": [
      "\r",
      "  6%|███████▍                                                                                                                      | 76/1285 [22:56<6:19:45, 18.85s/it]"
     ]
    },
    {
     "name": "stdout",
     "output_type": "stream",
     "text": [
      "['retrieving figi: BBG000G0Z878 ticker: HIG']\n"
     ]
    },
    {
     "name": "stderr",
     "output_type": "stream",
     "text": [
      "\r",
      "  6%|███████▌                                                                                                                      | 77/1285 [23:22<6:58:59, 20.81s/it]"
     ]
    },
    {
     "name": "stdout",
     "output_type": "stream",
     "text": [
      "['retrieving figi: BBG000HXJB21 ticker: IRBT']\n"
     ]
    },
    {
     "name": "stderr",
     "output_type": "stream",
     "text": [
      "\r",
      "  6%|███████▋                                                                                                                      | 78/1285 [23:48<7:34:21, 22.59s/it]"
     ]
    },
    {
     "name": "stdout",
     "output_type": "stream",
     "text": [
      "['retrieving figi: BBG000RJL816 ticker: TTLK']\n"
     ]
    },
    {
     "name": "stderr",
     "output_type": "stream",
     "text": [
      "\r",
      "  6%|███████▋                                                                                                                      | 79/1285 [24:05<7:00:29, 20.92s/it]"
     ]
    },
    {
     "name": "stdout",
     "output_type": "stream",
     "text": [
      "['retrieving figi: BBG000BGKTF9 ticker: COF']\n"
     ]
    },
    {
     "name": "stderr",
     "output_type": "stream",
     "text": [
      "\r",
      "  6%|███████▊                                                                                                                      | 80/1285 [24:35<7:49:45, 23.39s/it]"
     ]
    },
    {
     "name": "stdout",
     "output_type": "stream",
     "text": [
      "['retrieving figi: BBG000VKG4R5 ticker: MRKU']\n"
     ]
    },
    {
     "name": "stderr",
     "output_type": "stream",
     "text": [
      "\r",
      "  6%|███████▉                                                                                                                      | 81/1285 [24:46<6:37:40, 19.82s/it]"
     ]
    },
    {
     "name": "stdout",
     "output_type": "stream",
     "text": [
      "['retrieving figi: BBG000BJL3N0 ticker: FITB']\n"
     ]
    },
    {
     "name": "stderr",
     "output_type": "stream",
     "text": [
      "\r",
      "  6%|████████                                                                                                                      | 82/1285 [25:11<7:09:06, 21.40s/it]"
     ]
    },
    {
     "name": "stdout",
     "output_type": "stream",
     "text": [
      "['retrieving figi: BBG000QGWY50 ticker: BLUE']\n"
     ]
    },
    {
     "name": "stderr",
     "output_type": "stream",
     "text": [
      "\r",
      "  6%|████████▏                                                                                                                     | 83/1285 [25:38<7:40:30, 22.99s/it]"
     ]
    },
    {
     "name": "stdout",
     "output_type": "stream",
     "text": [
      "['retrieving figi: BBG007GNPYY7 ticker: ALRM']\n"
     ]
    },
    {
     "name": "stderr",
     "output_type": "stream",
     "text": [
      "\r",
      "  7%|████████▏                                                                                                                     | 84/1285 [26:00<7:32:17, 22.60s/it]"
     ]
    },
    {
     "name": "stdout",
     "output_type": "stream",
     "text": [
      "['retrieving figi: BBG000BPD168 ticker: MRK']\n"
     ]
    },
    {
     "name": "stderr",
     "output_type": "stream",
     "text": [
      "\r",
      "  7%|████████▎                                                                                                                     | 85/1285 [26:22<7:29:31, 22.48s/it]"
     ]
    },
    {
     "name": "stdout",
     "output_type": "stream",
     "text": [
      "['retrieving figi: BBG000BHLYS1 ticker: ED']\n"
     ]
    },
    {
     "name": "stderr",
     "output_type": "stream",
     "text": [
      "\r",
      "  7%|████████▍                                                                                                                     | 86/1285 [26:40<7:04:08, 21.22s/it]"
     ]
    },
    {
     "name": "stdout",
     "output_type": "stream",
     "text": [
      "['retrieving figi: BBG0014XR0N5 ticker: CHGG']\n"
     ]
    },
    {
     "name": "stderr",
     "output_type": "stream",
     "text": [
      "\r",
      "  7%|████████▌                                                                                                                     | 87/1285 [26:59<6:49:23, 20.50s/it]"
     ]
    },
    {
     "name": "stdout",
     "output_type": "stream",
     "text": [
      "['retrieving figi: BBG000BNNKG9 ticker: MAS']\n"
     ]
    },
    {
     "name": "stderr",
     "output_type": "stream",
     "text": [
      "\r",
      "  7%|████████▋                                                                                                                     | 88/1285 [27:17<6:33:27, 19.72s/it]"
     ]
    },
    {
     "name": "stdout",
     "output_type": "stream",
     "text": [
      "['retrieving figi: BBG000BH3GZ2 ticker: YUM']\n"
     ]
    },
    {
     "name": "stderr",
     "output_type": "stream",
     "text": [
      "\r",
      "  7%|████████▋                                                                                                                     | 89/1285 [27:36<6:31:33, 19.64s/it]"
     ]
    },
    {
     "name": "stdout",
     "output_type": "stream",
     "text": [
      "['retrieving figi: BBG000TJM7F0 ticker: KDP']\n"
     ]
    },
    {
     "name": "stderr",
     "output_type": "stream",
     "text": [
      "\r",
      "  7%|████████▊                                                                                                                     | 90/1285 [27:55<6:24:12, 19.29s/it]"
     ]
    },
    {
     "name": "stdout",
     "output_type": "stream",
     "text": [
      "['retrieving figi: BBG000M1R011 ticker: NOW']\n"
     ]
    },
    {
     "name": "stderr",
     "output_type": "stream",
     "text": [
      "\r",
      "  7%|████████▉                                                                                                                     | 91/1285 [28:14<6:21:21, 19.16s/it]"
     ]
    },
    {
     "name": "stdout",
     "output_type": "stream",
     "text": [
      "['retrieving figi: BBG000BLZRJ2 ticker: MS']\n"
     ]
    },
    {
     "name": "stderr",
     "output_type": "stream",
     "text": [
      "\r",
      "  7%|█████████                                                                                                                     | 92/1285 [28:35<6:33:08, 19.77s/it]"
     ]
    },
    {
     "name": "stdout",
     "output_type": "stream",
     "text": [
      "['retrieving figi: BBG000C0F570 ticker: XLNX']\n"
     ]
    },
    {
     "name": "stderr",
     "output_type": "stream",
     "text": [
      "\r",
      "  7%|█████████                                                                                                                     | 93/1285 [28:56<6:40:30, 20.16s/it]"
     ]
    },
    {
     "name": "stdout",
     "output_type": "stream",
     "text": [
      "['retrieving figi: BBG000F5VVB6 ticker: NDAQ']\n"
     ]
    },
    {
     "name": "stderr",
     "output_type": "stream",
     "text": [
      "\r",
      "  7%|█████████▏                                                                                                                    | 94/1285 [29:15<6:32:14, 19.76s/it]"
     ]
    },
    {
     "name": "stdout",
     "output_type": "stream",
     "text": [
      "['retrieving figi: BBG000Q1KFH4 ticker: WAL']\n"
     ]
    },
    {
     "name": "stderr",
     "output_type": "stream",
     "text": [
      "\r",
      "  7%|█████████▎                                                                                                                    | 95/1285 [29:35<6:33:29, 19.84s/it]"
     ]
    },
    {
     "name": "stdout",
     "output_type": "stream",
     "text": [
      "['retrieving figi: BBG0084BBZY6 ticker: SEDG']\n"
     ]
    },
    {
     "name": "stderr",
     "output_type": "stream",
     "text": [
      "\r",
      "  7%|█████████▍                                                                                                                    | 96/1285 [29:57<6:46:43, 20.52s/it]"
     ]
    },
    {
     "name": "stdout",
     "output_type": "stream",
     "text": [
      "['retrieving figi: BBG006MDLY05 ticker: GDDY']\n"
     ]
    },
    {
     "name": "stderr",
     "output_type": "stream",
     "text": [
      "\r",
      "  8%|█████████▌                                                                                                                    | 97/1285 [30:16<6:38:08, 20.11s/it]"
     ]
    },
    {
     "name": "stdout",
     "output_type": "stream",
     "text": [
      "['retrieving figi: BBG004731489 ticker: GMKN']\n"
     ]
    },
    {
     "name": "stderr",
     "output_type": "stream",
     "text": [
      "\r",
      "  8%|█████████▌                                                                                                                    | 98/1285 [30:43<7:18:42, 22.18s/it]"
     ]
    },
    {
     "name": "stdout",
     "output_type": "stream",
     "text": [
      "['retrieving figi: BBG000BNY197 ticker: MEI']\n"
     ]
    },
    {
     "name": "stderr",
     "output_type": "stream",
     "text": [
      "\r",
      "  8%|█████████▋                                                                                                                    | 99/1285 [30:58<6:38:24, 20.16s/it]"
     ]
    },
    {
     "name": "stdout",
     "output_type": "stream",
     "text": [
      "['retrieving figi: BBG000K3BC83 ticker: LAD']\n"
     ]
    },
    {
     "name": "stderr",
     "output_type": "stream",
     "text": [
      "\r",
      "  8%|█████████▋                                                                                                                   | 100/1285 [31:13<6:03:33, 18.41s/it]"
     ]
    },
    {
     "name": "stdout",
     "output_type": "stream",
     "text": [
      "['retrieving figi: BBG000TJ6F42 ticker: MRKZ']\n"
     ]
    },
    {
     "name": "stderr",
     "output_type": "stream",
     "text": [
      "\r",
      "  8%|█████████▊                                                                                                                   | 101/1285 [31:28<5:44:56, 17.48s/it]"
     ]
    },
    {
     "name": "stdout",
     "output_type": "stream",
     "text": [
      "['retrieving figi: BBG000QCG7M7 ticker: VRTU']\n"
     ]
    },
    {
     "name": "stderr",
     "output_type": "stream",
     "text": [
      "\r",
      "  8%|█████████▉                                                                                                                   | 102/1285 [31:44<5:34:17, 16.96s/it]"
     ]
    },
    {
     "name": "stdout",
     "output_type": "stream",
     "text": [
      "['retrieving figi: BBG001Z0Q6T5 ticker: MUSA']\n"
     ]
    },
    {
     "name": "stderr",
     "output_type": "stream",
     "text": [
      "\r",
      "  8%|██████████                                                                                                                   | 103/1285 [32:00<5:31:17, 16.82s/it]"
     ]
    },
    {
     "name": "stdout",
     "output_type": "stream",
     "text": [
      "['retrieving figi: BBG000DWG505 ticker: BRK.B']\n"
     ]
    },
    {
     "name": "stderr",
     "output_type": "stream",
     "text": [
      "\r",
      "  8%|██████████                                                                                                                   | 104/1285 [32:21<5:53:23, 17.95s/it]"
     ]
    },
    {
     "name": "stdout",
     "output_type": "stream",
     "text": [
      "['retrieving figi: BBG000BS48J3 ticker: RGEN']\n"
     ]
    },
    {
     "name": "stderr",
     "output_type": "stream",
     "text": [
      "\r",
      "  8%|██████████▏                                                                                                                  | 105/1285 [32:38<5:50:59, 17.85s/it]"
     ]
    },
    {
     "name": "stdout",
     "output_type": "stream",
     "text": [
      "['retrieving figi: BBG007FL7ZD2 ticker: FLOW']\n"
     ]
    },
    {
     "name": "stderr",
     "output_type": "stream",
     "text": [
      "\r",
      "  8%|██████████▎                                                                                                                  | 106/1285 [32:53<5:28:50, 16.73s/it]"
     ]
    },
    {
     "name": "stdout",
     "output_type": "stream",
     "text": [
      "['retrieving figi: BBG000C2ZCH8 ticker: SRE']\n"
     ]
    },
    {
     "name": "stderr",
     "output_type": "stream",
     "text": [
      "\r",
      "  8%|██████████▍                                                                                                                  | 107/1285 [33:17<6:16:29, 19.18s/it]"
     ]
    },
    {
     "name": "stdout",
     "output_type": "stream",
     "text": [
      "['retrieving figi: BBG000Q7GG57 ticker: TGKB']\n"
     ]
    },
    {
     "name": "stderr",
     "output_type": "stream",
     "text": [
      "\r",
      "  8%|██████████▌                                                                                                                  | 108/1285 [33:36<6:12:08, 18.97s/it]"
     ]
    },
    {
     "name": "stdout",
     "output_type": "stream",
     "text": [
      "['retrieving figi: BBG000BV59Y6 ticker: TFX']\n"
     ]
    },
    {
     "name": "stderr",
     "output_type": "stream",
     "text": [
      "\r",
      "  8%|██████████▌                                                                                                                  | 109/1285 [33:53<6:01:17, 18.43s/it]"
     ]
    },
    {
     "name": "stdout",
     "output_type": "stream",
     "text": [
      "['retrieving figi: BBG0064N0ZZ5 ticker: PAYC']\n"
     ]
    },
    {
     "name": "stderr",
     "output_type": "stream",
     "text": [
      "\r",
      "  9%|██████████▋                                                                                                                  | 110/1285 [34:14<6:15:51, 19.19s/it]"
     ]
    },
    {
     "name": "stdout",
     "output_type": "stream",
     "text": [
      "['retrieving figi: BBG000HS77T5 ticker: VZ']\n"
     ]
    },
    {
     "name": "stderr",
     "output_type": "stream",
     "text": [
      "\r",
      "  9%|██████████▊                                                                                                                  | 111/1285 [34:40<6:57:34, 21.34s/it]"
     ]
    },
    {
     "name": "stdout",
     "output_type": "stream",
     "text": [
      "['retrieving figi: BBG000BJQK11 ticker: FOE']\n"
     ]
    },
    {
     "name": "stderr",
     "output_type": "stream",
     "text": [
      "\r",
      "  9%|██████████▉                                                                                                                  | 112/1285 [34:57<6:28:47, 19.89s/it]"
     ]
    },
    {
     "name": "stdout",
     "output_type": "stream",
     "text": [
      "['retrieving figi: BBG0078W3NQ3 ticker: HPE']\n"
     ]
    },
    {
     "name": "stderr",
     "output_type": "stream",
     "text": [
      "\r",
      "  9%|██████████▉                                                                                                                  | 113/1285 [35:17<6:27:38, 19.85s/it]"
     ]
    },
    {
     "name": "stdout",
     "output_type": "stream",
     "text": [
      "['retrieving figi: BBG000C4SKT1 ticker: DY']\n"
     ]
    },
    {
     "name": "stderr",
     "output_type": "stream",
     "text": [
      "\r",
      "  9%|███████████                                                                                                                  | 114/1285 [35:34<6:10:22, 18.98s/it]"
     ]
    },
    {
     "name": "stdout",
     "output_type": "stream",
     "text": [
      "['retrieving figi: BBG0022FMPD5 ticker: EVBG']\n"
     ]
    },
    {
     "name": "stderr",
     "output_type": "stream",
     "text": [
      "\r",
      "  9%|███████████▏                                                                                                                 | 115/1285 [35:52<6:05:33, 18.75s/it]"
     ]
    },
    {
     "name": "stdout",
     "output_type": "stream",
     "text": [
      "['retrieving figi: BBG000BLNNH6 ticker: IBM']\n"
     ]
    },
    {
     "name": "stderr",
     "output_type": "stream",
     "text": [
      "\r",
      "  9%|███████████▎                                                                                                                 | 116/1285 [36:13<6:19:34, 19.48s/it]"
     ]
    },
    {
     "name": "stdout",
     "output_type": "stream",
     "text": [
      "['retrieving figi: BBG000BGPQW1 ticker: CVGW']\n"
     ]
    },
    {
     "name": "stderr",
     "output_type": "stream",
     "text": [
      "\r",
      "  9%|███████████▍                                                                                                                 | 117/1285 [36:30<6:02:18, 18.61s/it]"
     ]
    },
    {
     "name": "stdout",
     "output_type": "stream",
     "text": [
      "['retrieving figi: BBG000BBHPV4 ticker: SYKE']\n"
     ]
    },
    {
     "name": "stderr",
     "output_type": "stream",
     "text": [
      "\r",
      "  9%|███████████▍                                                                                                                 | 118/1285 [36:45<5:40:59, 17.53s/it]"
     ]
    },
    {
     "name": "stdout",
     "output_type": "stream",
     "text": [
      "['retrieving figi: BBG0029SFXB3 ticker: KZOS']\n"
     ]
    },
    {
     "name": "stderr",
     "output_type": "stream",
     "text": [
      "\r",
      "  9%|███████████▌                                                                                                                 | 119/1285 [37:02<5:37:08, 17.35s/it]"
     ]
    },
    {
     "name": "stdout",
     "output_type": "stream",
     "text": [
      "['retrieving figi: BBG000GXZ4W7 ticker: ANSS']\n"
     ]
    },
    {
     "name": "stderr",
     "output_type": "stream",
     "text": [
      "\r",
      "  9%|███████████▋                                                                                                                 | 120/1285 [37:22<5:57:51, 18.43s/it]"
     ]
    },
    {
     "name": "stdout",
     "output_type": "stream",
     "text": [
      "['retrieving figi: BBG000C136Z8 ticker: NTCT']\n"
     ]
    },
    {
     "name": "stderr",
     "output_type": "stream",
     "text": [
      "\r",
      "  9%|███████████▊                                                                                                                 | 121/1285 [37:40<5:54:26, 18.27s/it]"
     ]
    },
    {
     "name": "stdout",
     "output_type": "stream",
     "text": [
      "['retrieving figi: BBG000BP1152 ticker: CIEN']\n"
     ]
    },
    {
     "name": "stderr",
     "output_type": "stream",
     "text": [
      "\r",
      "  9%|███████████▊                                                                                                                 | 122/1285 [38:01<6:06:22, 18.90s/it]"
     ]
    },
    {
     "name": "stdout",
     "output_type": "stream",
     "text": [
      "['retrieving figi: BBG000Q5ZRM7 ticker: DLR']\n"
     ]
    },
    {
     "name": "stderr",
     "output_type": "stream",
     "text": [
      "\r",
      " 10%|███████████▉                                                                                                                 | 123/1285 [38:20<6:09:34, 19.08s/it]"
     ]
    },
    {
     "name": "stdout",
     "output_type": "stream",
     "text": [
      "['retrieving figi: BBG00DYPZ4T0 ticker: BHF']\n"
     ]
    },
    {
     "name": "stderr",
     "output_type": "stream",
     "text": [
      "\r",
      " 10%|████████████                                                                                                                 | 124/1285 [38:40<6:11:56, 19.22s/it]"
     ]
    },
    {
     "name": "stdout",
     "output_type": "stream",
     "text": [
      "['retrieving figi: BBG000CHPMY5 ticker: JBSS']\n"
     ]
    },
    {
     "name": "stderr",
     "output_type": "stream",
     "text": [
      "\r",
      " 10%|████████████▏                                                                                                                | 125/1285 [38:53<5:34:37, 17.31s/it]"
     ]
    },
    {
     "name": "stdout",
     "output_type": "stream",
     "text": [
      "['retrieving figi: BBG000BM0QL7 ticker: AOBC']\n"
     ]
    },
    {
     "name": "stderr",
     "output_type": "stream",
     "text": [
      "\r",
      " 10%|████████████▎                                                                                                                | 126/1285 [39:10<5:33:02, 17.24s/it]"
     ]
    },
    {
     "name": "stdout",
     "output_type": "stream",
     "text": [
      "['retrieving figi: BBG000HT5MG6 ticker: VNDA']\n"
     ]
    },
    {
     "name": "stderr",
     "output_type": "stream",
     "text": [
      "\r",
      " 10%|████████████▎                                                                                                                | 127/1285 [39:30<5:49:20, 18.10s/it]"
     ]
    },
    {
     "name": "stdout",
     "output_type": "stream",
     "text": [
      "['retrieving figi: BBG004S687G6 ticker: MSRS']\n"
     ]
    },
    {
     "name": "stderr",
     "output_type": "stream",
     "text": [
      "\r",
      " 10%|████████████▍                                                                                                                | 128/1285 [39:45<5:31:34, 17.19s/it]"
     ]
    },
    {
     "name": "stdout",
     "output_type": "stream",
     "text": [
      "['retrieving figi: BBG000BWXBC2 ticker: WMT']\n"
     ]
    },
    {
     "name": "stderr",
     "output_type": "stream",
     "text": [
      "\r",
      " 10%|████████████▌                                                                                                                | 129/1285 [40:07<5:58:43, 18.62s/it]"
     ]
    },
    {
     "name": "stdout",
     "output_type": "stream",
     "text": [
      "['retrieving figi: BBG009NRSWJ4 ticker: Z']\n"
     ]
    },
    {
     "name": "stderr",
     "output_type": "stream",
     "text": [
      "\r",
      " 10%|████████████▋                                                                                                                | 130/1285 [40:27<6:09:35, 19.20s/it]"
     ]
    },
    {
     "name": "stdout",
     "output_type": "stream",
     "text": [
      "['retrieving figi: BBG000GQPB11 ticker: MELI']\n"
     ]
    },
    {
     "name": "stderr",
     "output_type": "stream",
     "text": [
      "\r",
      " 10%|████████████▋                                                                                                                | 131/1285 [40:46<6:05:24, 19.00s/it]"
     ]
    },
    {
     "name": "stdout",
     "output_type": "stream",
     "text": [
      "['retrieving figi: BBG000BWHD54 ticker: VNO']\n"
     ]
    },
    {
     "name": "stderr",
     "output_type": "stream",
     "text": [
      "\r",
      " 10%|████████████▊                                                                                                                | 132/1285 [41:07<6:15:51, 19.56s/it]"
     ]
    },
    {
     "name": "stdout",
     "output_type": "stream",
     "text": [
      "['retrieving figi: BBG000PXGT62 ticker: TPX']\n"
     ]
    },
    {
     "name": "stderr",
     "output_type": "stream",
     "text": [
      "\r",
      " 10%|████████████▉                                                                                                                | 133/1285 [41:26<6:12:09, 19.38s/it]"
     ]
    },
    {
     "name": "stdout",
     "output_type": "stream",
     "text": [
      "['retrieving figi: BBG005D1WCQ1 ticker: QIWI']\n"
     ]
    },
    {
     "name": "stderr",
     "output_type": "stream",
     "text": [
      "\r",
      " 10%|█████████████                                                                                                                | 134/1285 [41:45<6:13:32, 19.47s/it]"
     ]
    },
    {
     "name": "stdout",
     "output_type": "stream",
     "text": [
      "['retrieving figi: BBG000BMDBZ1 ticker: JBHT']\n"
     ]
    },
    {
     "name": "stderr",
     "output_type": "stream",
     "text": [
      "\r",
      " 11%|█████████████▏                                                                                                               | 135/1285 [42:05<6:14:05, 19.52s/it]"
     ]
    },
    {
     "name": "stdout",
     "output_type": "stream",
     "text": [
      "['retrieving figi: BBG000BH5DV1 ticker: INTU']\n"
     ]
    },
    {
     "name": "stderr",
     "output_type": "stream",
     "text": [
      "\r",
      " 11%|█████████████▏                                                                                                               | 136/1285 [42:26<6:19:31, 19.82s/it]"
     ]
    },
    {
     "name": "stdout",
     "output_type": "stream",
     "text": [
      "['retrieving figi: BBG000BD53V2 ticker: WWD']\n"
     ]
    },
    {
     "name": "stderr",
     "output_type": "stream",
     "text": [
      "\r",
      " 11%|█████████████▎                                                                                                               | 137/1285 [42:46<6:19:57, 19.86s/it]"
     ]
    },
    {
     "name": "stdout",
     "output_type": "stream",
     "text": [
      "['retrieving figi: BBG000FWGSZ5 ticker: IRKT']\n"
     ]
    },
    {
     "name": "stderr",
     "output_type": "stream",
     "text": [
      "\r",
      " 11%|█████████████▍                                                                                                               | 138/1285 [42:59<5:41:25, 17.86s/it]"
     ]
    },
    {
     "name": "stdout",
     "output_type": "stream",
     "text": [
      "['retrieving figi: BBG000C1BCK2 ticker: NEOG']\n"
     ]
    },
    {
     "name": "stderr",
     "output_type": "stream",
     "text": [
      "\r",
      " 11%|█████████████▌                                                                                                               | 139/1285 [43:18<5:51:50, 18.42s/it]"
     ]
    },
    {
     "name": "stdout",
     "output_type": "stream",
     "text": [
      "['retrieving figi: BBG001QD41M9 ticker: APTV']\n"
     ]
    },
    {
     "name": "stderr",
     "output_type": "stream",
     "text": [
      "\r",
      " 11%|█████████████▌                                                                                                               | 140/1285 [43:40<6:08:12, 19.29s/it]"
     ]
    },
    {
     "name": "stdout",
     "output_type": "stream",
     "text": [
      "['retrieving figi: BBG000LNL298 ticker: NUVA']\n"
     ]
    },
    {
     "name": "stderr",
     "output_type": "stream",
     "text": [
      "\r",
      " 11%|█████████████▋                                                                                                               | 141/1285 [43:58<6:00:10, 18.89s/it]"
     ]
    },
    {
     "name": "stdout",
     "output_type": "stream",
     "text": [
      "['retrieving figi: BBG00L0YTFN8 ticker: FOCS']\n"
     ]
    },
    {
     "name": "stderr",
     "output_type": "stream",
     "text": [
      "\r",
      " 11%|█████████████▊                                                                                                               | 142/1285 [44:11<5:26:58, 17.16s/it]"
     ]
    },
    {
     "name": "stdout",
     "output_type": "stream",
     "text": [
      "['retrieving figi: BBG000CXYSZ6 ticker: FFIV']\n"
     ]
    },
    {
     "name": "stderr",
     "output_type": "stream",
     "text": [
      "\r",
      " 11%|█████████████▉                                                                                                               | 143/1285 [44:32<5:47:45, 18.27s/it]"
     ]
    },
    {
     "name": "stdout",
     "output_type": "stream",
     "text": [
      "['retrieving figi: BBG000BB88K4 ticker: GPI']\n"
     ]
    },
    {
     "name": "stderr",
     "output_type": "stream",
     "text": [
      "\r",
      " 11%|██████████████                                                                                                               | 144/1285 [44:47<5:29:00, 17.30s/it]"
     ]
    },
    {
     "name": "stdout",
     "output_type": "stream",
     "text": [
      "['retrieving figi: BBG000BLH3P8 ticker: HSC']\n"
     ]
    },
    {
     "name": "stderr",
     "output_type": "stream",
     "text": [
      "\r",
      " 11%|██████████████                                                                                                               | 145/1285 [45:05<5:32:08, 17.48s/it]"
     ]
    },
    {
     "name": "stdout",
     "output_type": "stream",
     "text": [
      "['retrieving figi: BBG000BHPL78 ticker: EFX']\n"
     ]
    },
    {
     "name": "stderr",
     "output_type": "stream",
     "text": [
      "\r",
      " 11%|██████████████▏                                                                                                              | 146/1285 [45:23<5:37:34, 17.78s/it]"
     ]
    },
    {
     "name": "stdout",
     "output_type": "stream",
     "text": [
      "['retrieving figi: BBG000HCXFS4 ticker: JOUT']\n"
     ]
    },
    {
     "name": "stderr",
     "output_type": "stream",
     "text": [
      "\r",
      " 11%|██████████████▎                                                                                                              | 147/1285 [45:35<5:04:47, 16.07s/it]"
     ]
    },
    {
     "name": "stdout",
     "output_type": "stream",
     "text": [
      "['retrieving figi: BBG000BC33T9 ticker: ARE']\n"
     ]
    },
    {
     "name": "stderr",
     "output_type": "stream",
     "text": [
      "\r",
      " 12%|██████████████▍                                                                                                              | 148/1285 [45:54<5:20:45, 16.93s/it]"
     ]
    },
    {
     "name": "stdout",
     "output_type": "stream",
     "text": [
      "['retrieving figi: BBG000BKQDQ7 ticker: ROCK']\n"
     ]
    },
    {
     "name": "stderr",
     "output_type": "stream",
     "text": [
      "\r",
      " 12%|██████████████▍                                                                                                              | 149/1285 [46:10<5:13:26, 16.55s/it]"
     ]
    },
    {
     "name": "stdout",
     "output_type": "stream",
     "text": [
      "['retrieving figi: BBG001V9NSB4 ticker: ENTA']\n"
     ]
    },
    {
     "name": "stderr",
     "output_type": "stream",
     "text": [
      "\r",
      " 12%|██████████████▌                                                                                                              | 150/1285 [46:28<5:19:18, 16.88s/it]"
     ]
    },
    {
     "name": "stdout",
     "output_type": "stream",
     "text": [
      "['retrieving figi: BBG005ZVK9P2 ticker: QTWO']\n"
     ]
    },
    {
     "name": "stderr",
     "output_type": "stream",
     "text": [
      "\r",
      " 12%|██████████████▋                                                                                                              | 151/1285 [46:41<5:02:13, 15.99s/it]"
     ]
    },
    {
     "name": "stdout",
     "output_type": "stream",
     "text": [
      "['retrieving figi: BBG000BSD7C2 ticker: RTN']\n"
     ]
    },
    {
     "name": "stderr",
     "output_type": "stream",
     "text": [
      "\r",
      " 12%|██████████████▊                                                                                                              | 152/1285 [47:02<5:29:56, 17.47s/it]"
     ]
    },
    {
     "name": "stdout",
     "output_type": "stream",
     "text": [
      "['retrieving figi: BBG000QDJT53 ticker: GDOT']\n"
     ]
    },
    {
     "name": "stderr",
     "output_type": "stream",
     "text": [
      "\r",
      " 12%|██████████████▉                                                                                                              | 153/1285 [47:20<5:31:43, 17.58s/it]"
     ]
    },
    {
     "name": "stdout",
     "output_type": "stream",
     "text": [
      "['retrieving figi: BBG000BCBYT2 ticker: VRNT']\n"
     ]
    },
    {
     "name": "stderr",
     "output_type": "stream",
     "text": [
      "\r",
      " 12%|██████████████▉                                                                                                              | 154/1285 [47:38<5:34:58, 17.77s/it]"
     ]
    },
    {
     "name": "stdout",
     "output_type": "stream",
     "text": [
      "['retrieving figi: BBG000BNDN65 ticker: LOW']\n"
     ]
    },
    {
     "name": "stderr",
     "output_type": "stream",
     "text": [
      "\r",
      " 12%|███████████████                                                                                                              | 155/1285 [47:59<5:48:20, 18.50s/it]"
     ]
    },
    {
     "name": "stdout",
     "output_type": "stream",
     "text": [
      "['retrieving figi: BBG000CBMH27 ticker: MTG']\n"
     ]
    },
    {
     "name": "stderr",
     "output_type": "stream",
     "text": [
      "\r",
      " 12%|███████████████▏                                                                                                             | 156/1285 [48:15<5:39:01, 18.02s/it]"
     ]
    },
    {
     "name": "stdout",
     "output_type": "stream",
     "text": [
      "['retrieving figi: BBG001C7TST4 ticker: SPLK']\n"
     ]
    },
    {
     "name": "stderr",
     "output_type": "stream",
     "text": [
      "\r",
      " 12%|███████████████▎                                                                                                             | 157/1285 [48:37<5:59:12, 19.11s/it]"
     ]
    },
    {
     "name": "stdout",
     "output_type": "stream",
     "text": [
      "['retrieving figi: BBG000JG0547 ticker: ADP']\n"
     ]
    },
    {
     "name": "stderr",
     "output_type": "stream",
     "text": [
      "\r",
      " 12%|███████████████▎                                                                                                             | 158/1285 [48:57<6:01:27, 19.24s/it]"
     ]
    },
    {
     "name": "stdout",
     "output_type": "stream",
     "text": [
      "['retrieving figi: BBG000BBTJZ1 ticker: ERIE']\n"
     ]
    },
    {
     "name": "stderr",
     "output_type": "stream",
     "text": [
      "\r",
      " 12%|███████████████▍                                                                                                             | 159/1285 [49:11<5:33:12, 17.76s/it]"
     ]
    },
    {
     "name": "stdout",
     "output_type": "stream",
     "text": [
      "['retrieving figi: BBG004S686W0 ticker: UPRO']\n"
     ]
    },
    {
     "name": "stderr",
     "output_type": "stream",
     "text": [
      "\r",
      " 12%|███████████████▌                                                                                                             | 160/1285 [49:34<6:03:00, 19.36s/it]"
     ]
    },
    {
     "name": "stdout",
     "output_type": "stream",
     "text": [
      "['retrieving figi: BBG000BV95H9 ticker: TKR']\n"
     ]
    },
    {
     "name": "stderr",
     "output_type": "stream",
     "text": [
      "\r",
      " 13%|███████████████▋                                                                                                             | 161/1285 [49:52<5:55:53, 19.00s/it]"
     ]
    },
    {
     "name": "stdout",
     "output_type": "stream",
     "text": [
      "['retrieving figi: BBG000CJ2181 ticker: RS']\n"
     ]
    },
    {
     "name": "stderr",
     "output_type": "stream",
     "text": [
      "\r",
      " 13%|███████████████▊                                                                                                             | 162/1285 [50:11<5:51:29, 18.78s/it]"
     ]
    },
    {
     "name": "stdout",
     "output_type": "stream",
     "text": [
      "['retrieving figi: BBG00209SZJ7 ticker: INSP']\n"
     ]
    },
    {
     "name": "stderr",
     "output_type": "stream",
     "text": [
      "\r",
      " 13%|███████████████▊                                                                                                             | 163/1285 [50:25<5:27:43, 17.53s/it]"
     ]
    },
    {
     "name": "stdout",
     "output_type": "stream",
     "text": [
      "['retrieving figi: BBG006D97VY9 ticker: GH']\n"
     ]
    },
    {
     "name": "stderr",
     "output_type": "stream",
     "text": [
      "\r",
      " 13%|███████████████▉                                                                                                             | 164/1285 [50:47<5:51:57, 18.84s/it]"
     ]
    },
    {
     "name": "stdout",
     "output_type": "stream",
     "text": [
      "['retrieving figi: BBG000N9MNX3 ticker: TSLA']\n"
     ]
    },
    {
     "name": "stderr",
     "output_type": "stream",
     "text": [
      "\r",
      " 13%|████████████████                                                                                                             | 165/1285 [51:21<7:16:41, 23.39s/it]"
     ]
    },
    {
     "name": "stdout",
     "output_type": "stream",
     "text": [
      "['retrieving figi: BBG00HFWVGN0 ticker: MFGP']\n"
     ]
    },
    {
     "name": "stderr",
     "output_type": "stream",
     "text": [
      "\r",
      " 13%|████████████████▏                                                                                                            | 166/1285 [51:42<7:02:05, 22.63s/it]"
     ]
    },
    {
     "name": "stdout",
     "output_type": "stream",
     "text": [
      "['retrieving figi: BBG000GZQ728 ticker: XOM']\n"
     ]
    },
    {
     "name": "stderr",
     "output_type": "stream",
     "text": [
      "\r",
      " 13%|████████████████▏                                                                                                            | 167/1285 [52:09<7:26:21, 23.96s/it]"
     ]
    },
    {
     "name": "stdout",
     "output_type": "stream",
     "text": [
      "['retrieving figi: BBG000DV7MX4 ticker: ON']\n"
     ]
    },
    {
     "name": "stderr",
     "output_type": "stream",
     "text": [
      "\r",
      " 13%|████████████████▎                                                                                                            | 168/1285 [52:30<7:09:24, 23.07s/it]"
     ]
    },
    {
     "name": "stdout",
     "output_type": "stream",
     "text": [
      "['retrieving figi: BBG000GQJPZ0 ticker: MSTR']\n"
     ]
    },
    {
     "name": "stderr",
     "output_type": "stream",
     "text": [
      "\r",
      " 13%|████████████████▍                                                                                                            | 169/1285 [52:44<6:20:22, 20.45s/it]"
     ]
    },
    {
     "name": "stdout",
     "output_type": "stream",
     "text": [
      "['retrieving figi: BBG0063GCHH8 ticker: SHAK']\n"
     ]
    },
    {
     "name": "stderr",
     "output_type": "stream",
     "text": [
      "\r",
      " 13%|████████████████▌                                                                                                            | 170/1285 [53:05<6:18:45, 20.38s/it]"
     ]
    },
    {
     "name": "stdout",
     "output_type": "stream",
     "text": [
      "['retrieving figi: BBG000FTLBV7 ticker: IOVA']\n"
     ]
    },
    {
     "name": "stderr",
     "output_type": "stream",
     "text": [
      "\r",
      " 13%|████████████████▋                                                                                                            | 171/1285 [53:24<6:11:58, 20.03s/it]"
     ]
    },
    {
     "name": "stdout",
     "output_type": "stream",
     "text": [
      "['retrieving figi: BBG000CSZKR2 ticker: MBT']\n"
     ]
    },
    {
     "name": "stderr",
     "output_type": "stream",
     "text": [
      "\r",
      " 13%|████████████████▋                                                                                                            | 172/1285 [53:44<6:15:21, 20.24s/it]"
     ]
    },
    {
     "name": "stdout",
     "output_type": "stream",
     "text": [
      "['retrieving figi: BBG000BRRG02 ticker: PVH']\n"
     ]
    },
    {
     "name": "stderr",
     "output_type": "stream",
     "text": [
      "\r",
      " 13%|████████████████▊                                                                                                            | 173/1285 [54:07<6:25:40, 20.81s/it]"
     ]
    },
    {
     "name": "stdout",
     "output_type": "stream",
     "text": [
      "['retrieving figi: BBG000BFS7D3 ticker: CLX']\n"
     ]
    },
    {
     "name": "stderr",
     "output_type": "stream",
     "text": [
      "\r",
      " 14%|████████████████▉                                                                                                            | 174/1285 [54:28<6:26:24, 20.87s/it]"
     ]
    },
    {
     "name": "stdout",
     "output_type": "stream",
     "text": [
      "['retrieving figi: BBG000BW6P59 ticker: USM']\n"
     ]
    },
    {
     "name": "stderr",
     "output_type": "stream",
     "text": [
      "\r",
      " 14%|█████████████████                                                                                                            | 175/1285 [54:41<5:42:34, 18.52s/it]"
     ]
    },
    {
     "name": "stdout",
     "output_type": "stream",
     "text": [
      "['retrieving figi: BBG000DGLTG5 ticker: DLB']\n"
     ]
    },
    {
     "name": "stderr",
     "output_type": "stream",
     "text": [
      "\r",
      " 14%|█████████████████                                                                                                            | 176/1285 [55:02<5:59:21, 19.44s/it]"
     ]
    },
    {
     "name": "stdout",
     "output_type": "stream",
     "text": [
      "['retrieving figi: BBG000BFC848 ticker: KNX']\n"
     ]
    },
    {
     "name": "stderr",
     "output_type": "stream",
     "text": [
      "\r",
      " 14%|█████████████████▏                                                                                                           | 177/1285 [55:23<6:07:45, 19.91s/it]"
     ]
    },
    {
     "name": "stdout",
     "output_type": "stream",
     "text": [
      "['retrieving figi: BBG000BBL0Y1 ticker: ALK']\n"
     ]
    },
    {
     "name": "stderr",
     "output_type": "stream",
     "text": [
      "\r",
      " 14%|█████████████████▎                                                                                                           | 178/1285 [55:43<6:05:09, 19.79s/it]"
     ]
    },
    {
     "name": "stdout",
     "output_type": "stream",
     "text": [
      "['retrieving figi: BBG004S68FR6 ticker: MTLRP']\n"
     ]
    },
    {
     "name": "stderr",
     "output_type": "stream",
     "text": [
      "\r",
      " 14%|█████████████████▍                                                                                                           | 179/1285 [56:02<6:00:56, 19.58s/it]"
     ]
    },
    {
     "name": "stdout",
     "output_type": "stream",
     "text": [
      "['retrieving figi: BBG000BT41Q8 ticker: SLB']\n"
     ]
    },
    {
     "name": "stderr",
     "output_type": "stream",
     "text": [
      "\r",
      " 14%|█████████████████▌                                                                                                           | 180/1285 [56:23<6:06:50, 19.92s/it]"
     ]
    },
    {
     "name": "stdout",
     "output_type": "stream",
     "text": [
      "['retrieving figi: BBG000BS5CM9 ticker: BXP']\n"
     ]
    },
    {
     "name": "stderr",
     "output_type": "stream",
     "text": [
      "\r",
      " 14%|█████████████████▌                                                                                                           | 181/1285 [56:42<6:04:09, 19.79s/it]"
     ]
    },
    {
     "name": "stdout",
     "output_type": "stream",
     "text": [
      "['retrieving figi: BBG000D7JKW9 ticker: CSGP']\n"
     ]
    },
    {
     "name": "stderr",
     "output_type": "stream",
     "text": [
      "\r",
      " 14%|█████████████████▋                                                                                                           | 182/1285 [57:01<5:58:05, 19.48s/it]"
     ]
    },
    {
     "name": "stdout",
     "output_type": "stream",
     "text": [
      "['retrieving figi: BBG001NFKJ68 ticker: NEWR']\n"
     ]
    },
    {
     "name": "stderr",
     "output_type": "stream",
     "text": [
      "\r",
      " 14%|█████████████████▊                                                                                                           | 183/1285 [57:19<5:50:22, 19.08s/it]"
     ]
    },
    {
     "name": "stdout",
     "output_type": "stream",
     "text": [
      "['retrieving figi: BBG000BVMPN3 ticker: TROW']\n"
     ]
    },
    {
     "name": "stderr",
     "output_type": "stream",
     "text": [
      "\r",
      " 14%|█████████████████▉                                                                                                           | 184/1285 [57:38<5:52:16, 19.20s/it]"
     ]
    },
    {
     "name": "stdout",
     "output_type": "stream",
     "text": [
      "['retrieving figi: BBG0029SG1C1 ticker: KZOSP']\n"
     ]
    },
    {
     "name": "stderr",
     "output_type": "stream",
     "text": [
      "\r",
      " 14%|█████████████████▉                                                                                                           | 185/1285 [57:55<5:37:39, 18.42s/it]"
     ]
    },
    {
     "name": "stdout",
     "output_type": "stream",
     "text": [
      "['retrieving figi: BBG0043BYPB8 ticker: PD']\n"
     ]
    },
    {
     "name": "stderr",
     "output_type": "stream",
     "text": [
      "\r",
      " 14%|██████████████████                                                                                                           | 186/1285 [58:12<5:29:02, 17.96s/it]"
     ]
    },
    {
     "name": "stdout",
     "output_type": "stream",
     "text": [
      "['retrieving figi: BBG000NLC9Z6 ticker: LSNG']\n"
     ]
    },
    {
     "name": "stderr",
     "output_type": "stream",
     "text": [
      "\r",
      " 15%|██████████████████▏                                                                                                          | 187/1285 [58:24<4:59:11, 16.35s/it]"
     ]
    },
    {
     "name": "stdout",
     "output_type": "stream",
     "text": [
      "['retrieving figi: BBG000CL9JV4 ticker: SNX']\n"
     ]
    },
    {
     "name": "stderr",
     "output_type": "stream",
     "text": [
      "\r",
      " 15%|██████████████████▎                                                                                                          | 188/1285 [58:42<5:07:40, 16.83s/it]"
     ]
    },
    {
     "name": "stdout",
     "output_type": "stream",
     "text": [
      "['retrieving figi: BBG00475K2X9 ticker: HYDR']\n"
     ]
    },
    {
     "name": "stderr",
     "output_type": "stream",
     "text": [
      "\r",
      " 15%|██████████████████▍                                                                                                          | 189/1285 [59:05<5:36:32, 18.42s/it]"
     ]
    },
    {
     "name": "stdout",
     "output_type": "stream",
     "text": [
      "['retrieving figi: BBG005DXJS36 ticker: TCS']\n"
     ]
    },
    {
     "name": "stderr",
     "output_type": "stream",
     "text": [
      "\r",
      " 15%|██████████████████▍                                                                                                          | 190/1285 [59:25<5:46:06, 18.96s/it]"
     ]
    },
    {
     "name": "stdout",
     "output_type": "stream",
     "text": [
      "['retrieving figi: BBG000DTT624 ticker: ATRI']\n"
     ]
    },
    {
     "name": "stderr",
     "output_type": "stream",
     "text": [
      "\r",
      " 15%|██████████████████▌                                                                                                          | 191/1285 [59:38<5:13:51, 17.21s/it]"
     ]
    },
    {
     "name": "stdout",
     "output_type": "stream",
     "text": [
      "['retrieving figi: BBG0021PH456 ticker: INGN']\n"
     ]
    },
    {
     "name": "stderr",
     "output_type": "stream",
     "text": [
      "\r",
      " 15%|██████████████████▋                                                                                                          | 192/1285 [59:58<5:29:15, 18.07s/it]"
     ]
    },
    {
     "name": "stdout",
     "output_type": "stream",
     "text": [
      "['retrieving figi: BBG000BFVXX0 ticker: CMS']\n"
     ]
    },
    {
     "name": "stderr",
     "output_type": "stream",
     "text": [
      "\r",
      " 15%|██████████████████▍                                                                                                        | 193/1285 [1:00:23<6:04:29, 20.03s/it]"
     ]
    },
    {
     "name": "stdout",
     "output_type": "stream",
     "text": [
      "['retrieving figi: BBG000BY2Y78 ticker: IVZ']\n"
     ]
    },
    {
     "name": "stderr",
     "output_type": "stream",
     "text": [
      "\r",
      " 15%|██████████████████▌                                                                                                        | 194/1285 [1:00:44<6:12:03, 20.46s/it]"
     ]
    },
    {
     "name": "stdout",
     "output_type": "stream",
     "text": [
      "['retrieving figi: BBG000BDCM24 ticker: VCEL']\n"
     ]
    },
    {
     "name": "stderr",
     "output_type": "stream",
     "text": [
      "\r",
      " 15%|██████████████████▋                                                                                                        | 195/1285 [1:01:01<5:52:10, 19.39s/it]"
     ]
    },
    {
     "name": "stdout",
     "output_type": "stream",
     "text": [
      "['retrieving figi: BBG000BH5LT6 ticker: RIG']\n"
     ]
    },
    {
     "name": "stderr",
     "output_type": "stream",
     "text": [
      "\r",
      " 15%|██████████████████▊                                                                                                        | 196/1285 [1:01:24<6:09:26, 20.36s/it]"
     ]
    },
    {
     "name": "stdout",
     "output_type": "stream",
     "text": [
      "['retrieving figi: BBG000BFV758 ticker: MANH']\n"
     ]
    },
    {
     "name": "stderr",
     "output_type": "stream",
     "text": [
      "\r",
      " 15%|██████████████████▊                                                                                                        | 197/1285 [1:01:44<6:07:10, 20.25s/it]"
     ]
    },
    {
     "name": "stdout",
     "output_type": "stream",
     "text": [
      "['retrieving figi: BBG000BRXP69 ticker: EW']\n"
     ]
    },
    {
     "name": "stderr",
     "output_type": "stream",
     "text": [
      "\r",
      " 15%|██████████████████▉                                                                                                        | 198/1285 [1:02:04<6:09:40, 20.41s/it]"
     ]
    },
    {
     "name": "stdout",
     "output_type": "stream",
     "text": [
      "['retrieving figi: BBG000R23VW8 ticker: IPHI']\n"
     ]
    },
    {
     "name": "stderr",
     "output_type": "stream",
     "text": [
      "\r",
      " 15%|███████████████████                                                                                                        | 199/1285 [1:02:21<5:51:41, 19.43s/it]"
     ]
    },
    {
     "name": "stdout",
     "output_type": "stream",
     "text": [
      "['retrieving figi: BBG004S685M3 ticker: RTKMP']\n"
     ]
    },
    {
     "name": "stderr",
     "output_type": "stream",
     "text": [
      "\r",
      " 16%|███████████████████▏                                                                                                       | 200/1285 [1:02:41<5:52:37, 19.50s/it]"
     ]
    },
    {
     "name": "stdout",
     "output_type": "stream",
     "text": [
      "['retrieving figi: BBG004PQN2M2 ticker: BMCH']\n"
     ]
    },
    {
     "name": "stderr",
     "output_type": "stream",
     "text": [
      "\r",
      " 16%|███████████████████▏                                                                                                       | 201/1285 [1:02:58<5:38:21, 18.73s/it]"
     ]
    },
    {
     "name": "stdout",
     "output_type": "stream",
     "text": [
      "['retrieving figi: BBG00KR691K8 ticker: CVET']\n"
     ]
    },
    {
     "name": "stderr",
     "output_type": "stream",
     "text": [
      "\r",
      " 16%|███████████████████▎                                                                                                       | 202/1285 [1:03:18<5:46:01, 19.17s/it]"
     ]
    },
    {
     "name": "stdout",
     "output_type": "stream",
     "text": [
      "['retrieving figi: BBG006L8G4H1 ticker: YNDX']\n"
     ]
    },
    {
     "name": "stderr",
     "output_type": "stream",
     "text": [
      "\r",
      " 16%|███████████████████▍                                                                                                       | 203/1285 [1:03:41<6:05:47, 20.28s/it]"
     ]
    },
    {
     "name": "stdout",
     "output_type": "stream",
     "text": [
      "['retrieving figi: BBG004S68614 ticker: AFKS']\n"
     ]
    },
    {
     "name": "stderr",
     "output_type": "stream",
     "text": [
      "\r",
      " 16%|███████████████████▌                                                                                                       | 204/1285 [1:04:01<6:04:57, 20.26s/it]"
     ]
    },
    {
     "name": "stdout",
     "output_type": "stream",
     "text": [
      "['retrieving figi: BBG000CXQTZ3 ticker: RAVN']\n"
     ]
    },
    {
     "name": "stderr",
     "output_type": "stream",
     "text": [
      "\r",
      " 16%|███████████████████▌                                                                                                       | 205/1285 [1:04:14<5:24:23, 18.02s/it]"
     ]
    },
    {
     "name": "stdout",
     "output_type": "stream",
     "text": [
      "['retrieving figi: BBG000C4Z6C2 ticker: WTS']\n"
     ]
    },
    {
     "name": "stderr",
     "output_type": "stream",
     "text": [
      "\r",
      " 16%|███████████████████▋                                                                                                       | 206/1285 [1:04:26<4:51:18, 16.20s/it]"
     ]
    },
    {
     "name": "stdout",
     "output_type": "stream",
     "text": [
      "['retrieving figi: BBG000CQV2N4 ticker: ICUI']\n"
     ]
    },
    {
     "name": "stderr",
     "output_type": "stream",
     "text": [
      "\r",
      " 16%|███████████████████▊                                                                                                       | 207/1285 [1:04:42<4:51:57, 16.25s/it]"
     ]
    },
    {
     "name": "stdout",
     "output_type": "stream",
     "text": [
      "['retrieving figi: BBG000BX72V8 ticker: NTES']\n"
     ]
    },
    {
     "name": "stderr",
     "output_type": "stream",
     "text": [
      "\r",
      " 16%|███████████████████▉                                                                                                       | 208/1285 [1:05:01<5:02:56, 16.88s/it]"
     ]
    },
    {
     "name": "stdout",
     "output_type": "stream",
     "text": [
      "['retrieving figi: BBG000QM0RZ4 ticker: PBH']\n"
     ]
    },
    {
     "name": "stderr",
     "output_type": "stream",
     "text": [
      "\r",
      " 16%|████████████████████                                                                                                       | 209/1285 [1:05:16<4:54:09, 16.40s/it]"
     ]
    },
    {
     "name": "stdout",
     "output_type": "stream",
     "text": [
      "['retrieving figi: BBG000BR2040 ticker: TNET']\n"
     ]
    },
    {
     "name": "stderr",
     "output_type": "stream",
     "text": [
      "\r",
      " 16%|████████████████████                                                                                                       | 210/1285 [1:05:32<4:49:57, 16.18s/it]"
     ]
    },
    {
     "name": "stdout",
     "output_type": "stream",
     "text": [
      "['retrieving figi: BBG000BB1TH9 ticker: FLR']\n"
     ]
    },
    {
     "name": "stderr",
     "output_type": "stream",
     "text": [
      "\r",
      " 16%|████████████████████▏                                                                                                      | 211/1285 [1:05:51<5:08:22, 17.23s/it]"
     ]
    },
    {
     "name": "stdout",
     "output_type": "stream",
     "text": [
      "['retrieving figi: BBG004S641N5 ticker: BURL']\n"
     ]
    },
    {
     "name": "stderr",
     "output_type": "stream",
     "text": [
      "\r",
      " 16%|████████████████████▎                                                                                                      | 212/1285 [1:06:10<5:13:06, 17.51s/it]"
     ]
    },
    {
     "name": "stdout",
     "output_type": "stream",
     "text": [
      "['retrieving figi: BBG000DW4Q75 ticker: LNT']\n"
     ]
    },
    {
     "name": "stderr",
     "output_type": "stream",
     "text": [
      "\r",
      " 17%|████████████████████▍                                                                                                      | 213/1285 [1:06:29<5:20:17, 17.93s/it]"
     ]
    },
    {
     "name": "stdout",
     "output_type": "stream",
     "text": [
      "['retrieving figi: BBG000BX7DH0 ticker: VRSB']\n"
     ]
    },
    {
     "name": "stderr",
     "output_type": "stream",
     "text": [
      "\r",
      " 17%|████████████████████▍                                                                                                      | 214/1285 [1:06:39<4:42:19, 15.82s/it]"
     ]
    },
    {
     "name": "stdout",
     "output_type": "stream",
     "text": [
      "['retrieving figi: BBG000JLC8L8 ticker: SSD']\n"
     ]
    },
    {
     "name": "stderr",
     "output_type": "stream",
     "text": [
      "\r",
      " 17%|████████████████████▌                                                                                                      | 215/1285 [1:06:54<4:35:42, 15.46s/it]"
     ]
    },
    {
     "name": "stdout",
     "output_type": "stream",
     "text": [
      "['retrieving figi: BBG00341H6M0 ticker: GBT']\n"
     ]
    },
    {
     "name": "stderr",
     "output_type": "stream",
     "text": [
      "\r",
      " 17%|████████████████████▋                                                                                                      | 216/1285 [1:07:13<4:55:37, 16.59s/it]"
     ]
    },
    {
     "name": "stdout",
     "output_type": "stream",
     "text": [
      "['retrieving figi: BBG000BLXT19 ticker: IMMU']\n"
     ]
    },
    {
     "name": "stderr",
     "output_type": "stream",
     "text": [
      "\r",
      " 17%|████████████████████▊                                                                                                      | 217/1285 [1:07:32<5:06:03, 17.19s/it]"
     ]
    },
    {
     "name": "stdout",
     "output_type": "stream",
     "text": [
      "['retrieving figi: BBG000BQ87N0 ticker: ES']\n"
     ]
    },
    {
     "name": "stderr",
     "output_type": "stream",
     "text": [
      "\r",
      " 17%|████████████████████▊                                                                                                      | 218/1285 [1:07:52<5:23:02, 18.17s/it]"
     ]
    },
    {
     "name": "stdout",
     "output_type": "stream",
     "text": [
      "['retrieving figi: BBG00GFMPRK0 ticker: ATUS']\n"
     ]
    },
    {
     "name": "stderr",
     "output_type": "stream",
     "text": [
      "\r",
      " 17%|████████████████████▉                                                                                                      | 219/1285 [1:08:12<5:30:55, 18.63s/it]"
     ]
    },
    {
     "name": "stdout",
     "output_type": "stream",
     "text": [
      "['retrieving figi: BBG000C19QW1 ticker: CHE']\n"
     ]
    },
    {
     "name": "stderr",
     "output_type": "stream",
     "text": [
      "\r",
      " 17%|█████████████████████                                                                                                      | 220/1285 [1:08:25<5:02:57, 17.07s/it]"
     ]
    },
    {
     "name": "stdout",
     "output_type": "stream",
     "text": [
      "['retrieving figi: BBG000BKXYX5 ticker: DECK']\n"
     ]
    },
    {
     "name": "stderr",
     "output_type": "stream",
     "text": [
      "\r",
      " 17%|█████████████████████▏                                                                                                     | 221/1285 [1:08:44<5:12:07, 17.60s/it]"
     ]
    },
    {
     "name": "stdout",
     "output_type": "stream",
     "text": [
      "['retrieving figi: BBG000BQ74K1 ticker: NTRS']\n"
     ]
    },
    {
     "name": "stderr",
     "output_type": "stream",
     "text": [
      "\r",
      " 17%|█████████████████████▏                                                                                                     | 222/1285 [1:09:02<5:14:06, 17.73s/it]"
     ]
    },
    {
     "name": "stdout",
     "output_type": "stream",
     "text": [
      "['retrieving figi: BBG000C7LMS8 ticker: AZO']\n"
     ]
    },
    {
     "name": "stderr",
     "output_type": "stream",
     "text": [
      "\r",
      " 17%|█████████████████████▎                                                                                                     | 223/1285 [1:09:20<5:15:57, 17.85s/it]"
     ]
    },
    {
     "name": "stdout",
     "output_type": "stream",
     "text": [
      "['retrieving figi: BBG000C496P7 ticker: VIAC']\n"
     ]
    },
    {
     "name": "stderr",
     "output_type": "stream",
     "text": [
      "\r",
      " 17%|█████████████████████▍                                                                                                     | 224/1285 [1:09:41<5:31:52, 18.77s/it]"
     ]
    },
    {
     "name": "stdout",
     "output_type": "stream",
     "text": [
      "['retrieving figi: BBG00D0Y81M1 ticker: ASH']\n"
     ]
    },
    {
     "name": "stderr",
     "output_type": "stream",
     "text": [
      "\r",
      " 18%|█████████████████████▌                                                                                                     | 225/1285 [1:09:57<5:17:03, 17.95s/it]"
     ]
    },
    {
     "name": "stdout",
     "output_type": "stream",
     "text": [
      "['retrieving figi: BBG000R7Z112 ticker: DAL']\n"
     ]
    },
    {
     "name": "stderr",
     "output_type": "stream",
     "text": [
      "\r",
      " 18%|█████████████████████▋                                                                                                     | 226/1285 [1:10:20<5:41:30, 19.35s/it]"
     ]
    },
    {
     "name": "stdout",
     "output_type": "stream",
     "text": [
      "['retrieving figi: BBG000KK1L04 ticker: ANIP']\n"
     ]
    },
    {
     "name": "stderr",
     "output_type": "stream",
     "text": [
      "\r",
      " 18%|█████████████████████▋                                                                                                     | 227/1285 [1:10:39<5:39:05, 19.23s/it]"
     ]
    },
    {
     "name": "stdout",
     "output_type": "stream",
     "text": [
      "['retrieving figi: BBG000BPH459 ticker: MSFT']\n"
     ]
    },
    {
     "name": "stderr",
     "output_type": "stream",
     "text": [
      "\r",
      " 18%|█████████████████████▊                                                                                                     | 228/1285 [1:11:10<6:39:46, 22.69s/it]"
     ]
    },
    {
     "name": "stdout",
     "output_type": "stream",
     "text": [
      "['retrieving figi: BBG000DQTXY6 ticker: DHI']\n"
     ]
    },
    {
     "name": "stderr",
     "output_type": "stream",
     "text": [
      "\r",
      " 18%|█████████████████████▉                                                                                                     | 229/1285 [1:11:28<6:17:56, 21.47s/it]"
     ]
    },
    {
     "name": "stdout",
     "output_type": "stream",
     "text": [
      "['retrieving figi: BBG004730ZJ9 ticker: VTBR']\n"
     ]
    },
    {
     "name": "stderr",
     "output_type": "stream",
     "text": [
      "\r",
      " 18%|██████████████████████                                                                                                     | 230/1285 [1:11:50<6:18:33, 21.53s/it]"
     ]
    },
    {
     "name": "stdout",
     "output_type": "stream",
     "text": [
      "['retrieving figi: BBG004T7VS53 ticker: FOXF']\n"
     ]
    },
    {
     "name": "stderr",
     "output_type": "stream",
     "text": [
      "\r",
      " 18%|██████████████████████                                                                                                     | 231/1285 [1:12:04<5:38:47, 19.29s/it]"
     ]
    },
    {
     "name": "stdout",
     "output_type": "stream",
     "text": [
      "['retrieving figi: BBG004731354 ticker: ROSN']\n"
     ]
    },
    {
     "name": "stderr",
     "output_type": "stream",
     "text": [
      "\r",
      " 18%|██████████████████████▏                                                                                                    | 232/1285 [1:12:26<5:51:16, 20.02s/it]"
     ]
    },
    {
     "name": "stdout",
     "output_type": "stream",
     "text": [
      "['retrieving figi: BBG000BB8PG1 ticker: GRA']\n"
     ]
    },
    {
     "name": "stderr",
     "output_type": "stream",
     "text": [
      "\r",
      " 18%|██████████████████████▎                                                                                                    | 233/1285 [1:12:43<5:35:12, 19.12s/it]"
     ]
    },
    {
     "name": "stdout",
     "output_type": "stream",
     "text": [
      "['retrieving figi: BBG00LPTHYD5 ticker: KTB']\n"
     ]
    },
    {
     "name": "stderr",
     "output_type": "stream",
     "text": [
      "\r",
      " 18%|██████████████████████▍                                                                                                    | 234/1285 [1:12:57<5:10:25, 17.72s/it]"
     ]
    },
    {
     "name": "stdout",
     "output_type": "stream",
     "text": [
      "['retrieving figi: BBG000GQSRR5 ticker: NKNC']\n"
     ]
    },
    {
     "name": "stderr",
     "output_type": "stream",
     "text": [
      "\r",
      " 18%|██████████████████████▍                                                                                                    | 235/1285 [1:13:13<5:00:35, 17.18s/it]"
     ]
    },
    {
     "name": "stdout",
     "output_type": "stream",
     "text": [
      "['retrieving figi: BBG000C4HKK2 ticker: SKX']\n"
     ]
    },
    {
     "name": "stderr",
     "output_type": "stream",
     "text": [
      "\r",
      " 18%|██████████████████████▌                                                                                                    | 236/1285 [1:13:32<5:08:23, 17.64s/it]"
     ]
    },
    {
     "name": "stdout",
     "output_type": "stream",
     "text": [
      "['retrieving figi: BBG000F86GP6 ticker: MCO']\n"
     ]
    },
    {
     "name": "stderr",
     "output_type": "stream",
     "text": [
      "\r",
      " 18%|██████████████████████▋                                                                                                    | 237/1285 [1:13:53<5:23:44, 18.53s/it]"
     ]
    },
    {
     "name": "stdout",
     "output_type": "stream",
     "text": [
      "['retrieving figi: BBG000BM2FL9 ticker: ET']\n"
     ]
    },
    {
     "name": "stderr",
     "output_type": "stream",
     "text": [
      "\r",
      " 19%|██████████████████████▊                                                                                                    | 238/1285 [1:14:17<5:54:35, 20.32s/it]"
     ]
    },
    {
     "name": "stdout",
     "output_type": "stream",
     "text": [
      "['retrieving figi: BBG000BV4XJ1 ticker: UTHR']\n"
     ]
    },
    {
     "name": "stderr",
     "output_type": "stream",
     "text": [
      "\r",
      " 19%|██████████████████████▉                                                                                                    | 239/1285 [1:14:35<5:43:20, 19.69s/it]"
     ]
    },
    {
     "name": "stdout",
     "output_type": "stream",
     "text": [
      "['retrieving figi: BBG000BT3HG5 ticker: ZUO']\n"
     ]
    },
    {
     "name": "stderr",
     "output_type": "stream",
     "text": [
      "\r",
      " 19%|██████████████████████▉                                                                                                    | 240/1285 [1:14:53<5:32:31, 19.09s/it]"
     ]
    },
    {
     "name": "stdout",
     "output_type": "stream",
     "text": [
      "['retrieving figi: BBG000D9H9F1 ticker: MYGN']\n"
     ]
    },
    {
     "name": "stderr",
     "output_type": "stream",
     "text": [
      "\r",
      " 19%|███████████████████████                                                                                                    | 241/1285 [1:15:13<5:35:01, 19.25s/it]"
     ]
    },
    {
     "name": "stdout",
     "output_type": "stream",
     "text": [
      "['retrieving figi: BBG000K88H58 ticker: FCN']\n"
     ]
    },
    {
     "name": "stderr",
     "output_type": "stream",
     "text": [
      "\r",
      " 19%|███████████████████████▏                                                                                                   | 242/1285 [1:15:27<5:12:06, 17.95s/it]"
     ]
    },
    {
     "name": "stdout",
     "output_type": "stream",
     "text": [
      "['retrieving figi: BBG000BN8ZK8 ticker: DAR']\n"
     ]
    },
    {
     "name": "stderr",
     "output_type": "stream",
     "text": [
      "\r",
      " 19%|███████████████████████▎                                                                                                   | 243/1285 [1:15:46<5:15:12, 18.15s/it]"
     ]
    },
    {
     "name": "stdout",
     "output_type": "stream",
     "text": [
      "['retrieving figi: BBG000BLFNC0 ticker: GEF']\n"
     ]
    },
    {
     "name": "stderr",
     "output_type": "stream",
     "text": [
      "\r",
      " 19%|███████████████████████▎                                                                                                   | 244/1285 [1:15:58<4:44:02, 16.37s/it]"
     ]
    },
    {
     "name": "stdout",
     "output_type": "stream",
     "text": [
      "['retrieving figi: BBG000RMWQD4 ticker: ENPG']\n"
     ]
    },
    {
     "name": "stderr",
     "output_type": "stream",
     "text": [
      "\r",
      " 19%|███████████████████████▍                                                                                                   | 245/1285 [1:16:10<4:19:41, 14.98s/it]"
     ]
    },
    {
     "name": "stdout",
     "output_type": "stream",
     "text": [
      "['retrieving figi: BBG0088CYPX8 ticker: NLSN']\n"
     ]
    },
    {
     "name": "stderr",
     "output_type": "stream",
     "text": [
      "\r",
      " 19%|███████████████████████▌                                                                                                   | 246/1285 [1:16:27<4:29:26, 15.56s/it]"
     ]
    },
    {
     "name": "stdout",
     "output_type": "stream",
     "text": [
      "['retrieving figi: BBG000BB5792 ticker: RCL']\n"
     ]
    },
    {
     "name": "stderr",
     "output_type": "stream",
     "text": [
      "\r",
      " 19%|███████████████████████▋                                                                                                   | 247/1285 [1:16:49<5:00:50, 17.39s/it]"
     ]
    },
    {
     "name": "stdout",
     "output_type": "stream",
     "text": [
      "['retrieving figi: BBG000C1S2X2 ticker: VRTX']\n"
     ]
    },
    {
     "name": "stderr",
     "output_type": "stream",
     "text": [
      "\r",
      " 19%|███████████████████████▋                                                                                                   | 248/1285 [1:17:09<5:13:38, 18.15s/it]"
     ]
    },
    {
     "name": "stdout",
     "output_type": "stream",
     "text": [
      "['retrieving figi: BBG000BLSL58 ticker: IFF']\n"
     ]
    },
    {
     "name": "stderr",
     "output_type": "stream",
     "text": [
      "\r",
      " 19%|███████████████████████▊                                                                                                   | 249/1285 [1:17:29<5:24:00, 18.76s/it]"
     ]
    },
    {
     "name": "stdout",
     "output_type": "stream",
     "text": [
      "['retrieving figi: BBG006G2JVL2 ticker: BABA']\n"
     ]
    },
    {
     "name": "stderr",
     "output_type": "stream",
     "text": [
      "\r",
      " 19%|███████████████████████▉                                                                                                   | 250/1285 [1:17:55<6:03:35, 21.08s/it]"
     ]
    },
    {
     "name": "stdout",
     "output_type": "stream",
     "text": [
      "['retrieving figi: BBG000BYQ0B1 ticker: TTMI']\n"
     ]
    },
    {
     "name": "stderr",
     "output_type": "stream",
     "text": [
      "\r",
      " 20%|████████████████████████                                                                                                   | 251/1285 [1:18:11<5:36:41, 19.54s/it]"
     ]
    },
    {
     "name": "stdout",
     "output_type": "stream",
     "text": [
      "['retrieving figi: BBG000BBBNC6 ticker: AFL']\n"
     ]
    },
    {
     "name": "stderr",
     "output_type": "stream",
     "text": [
      "\r",
      " 20%|████████████████████████                                                                                                   | 252/1285 [1:18:30<5:33:11, 19.35s/it]"
     ]
    },
    {
     "name": "stdout",
     "output_type": "stream",
     "text": [
      "['retrieving figi: BBG000BJ0932 ticker: MCRI']\n"
     ]
    },
    {
     "name": "stderr",
     "output_type": "stream",
     "text": [
      "\r",
      " 20%|████████████████████████▏                                                                                                  | 253/1285 [1:18:44<5:06:54, 17.84s/it]"
     ]
    },
    {
     "name": "stdout",
     "output_type": "stream",
     "text": [
      "['retrieving figi: BBG000G3QLY3 ticker: AMP']\n"
     ]
    },
    {
     "name": "stderr",
     "output_type": "stream",
     "text": [
      "\r",
      " 20%|████████████████████████▎                                                                                                  | 254/1285 [1:19:04<5:14:21, 18.29s/it]"
     ]
    },
    {
     "name": "stdout",
     "output_type": "stream",
     "text": [
      "['retrieving figi: BBG000BLPBL5 ticker: AVB']\n"
     ]
    },
    {
     "name": "stderr",
     "output_type": "stream",
     "text": [
      "\r",
      " 20%|████████████████████████▍                                                                                                  | 255/1285 [1:19:23<5:18:07, 18.53s/it]"
     ]
    },
    {
     "name": "stdout",
     "output_type": "stream",
     "text": [
      "['retrieving figi: BBG00658F3P3 ticker: SYF']\n"
     ]
    },
    {
     "name": "stderr",
     "output_type": "stream",
     "text": [
      "\r",
      " 20%|████████████████████████▌                                                                                                  | 256/1285 [1:19:42<5:21:45, 18.76s/it]"
     ]
    },
    {
     "name": "stdout",
     "output_type": "stream",
     "text": [
      "['retrieving figi: BBG000RGM5P1 ticker: TEL']\n"
     ]
    },
    {
     "name": "stderr",
     "output_type": "stream",
     "text": [
      "\r",
      " 20%|████████████████████████▌                                                                                                  | 257/1285 [1:20:02<5:25:18, 18.99s/it]"
     ]
    },
    {
     "name": "stdout",
     "output_type": "stream",
     "text": [
      "['retrieving figi: BBG000RP8V70 ticker: CHMK']\n"
     ]
    },
    {
     "name": "stderr",
     "output_type": "stream",
     "text": [
      "\r",
      " 20%|████████████████████████▋                                                                                                  | 258/1285 [1:20:13<4:45:39, 16.69s/it]"
     ]
    },
    {
     "name": "stdout",
     "output_type": "stream",
     "text": [
      "['retrieving figi: BBG000QCW561 ticker: VEON']\n"
     ]
    },
    {
     "name": "stderr",
     "output_type": "stream",
     "text": [
      "\r",
      " 20%|████████████████████████▊                                                                                                  | 259/1285 [1:20:38<5:28:28, 19.21s/it]"
     ]
    },
    {
     "name": "stdout",
     "output_type": "stream",
     "text": [
      "['retrieving figi: BBG0038P3DM3 ticker: RARX']\n"
     ]
    },
    {
     "name": "stderr",
     "output_type": "stream",
     "text": [
      "\r",
      " 20%|████████████████████████▉                                                                                                  | 260/1285 [1:20:53<5:06:41, 17.95s/it]"
     ]
    },
    {
     "name": "stdout",
     "output_type": "stream",
     "text": [
      "['retrieving figi: BBG00475JZZ6 ticker: FEES']\n"
     ]
    },
    {
     "name": "stderr",
     "output_type": "stream",
     "text": [
      "\r",
      " 20%|████████████████████████▉                                                                                                  | 261/1285 [1:21:19<5:44:51, 20.21s/it]"
     ]
    },
    {
     "name": "stdout",
     "output_type": "stream",
     "text": [
      "['retrieving figi: BBG000BKVJK4 ticker: HAS']\n"
     ]
    },
    {
     "name": "stderr",
     "output_type": "stream",
     "text": [
      "\r",
      " 20%|█████████████████████████                                                                                                  | 262/1285 [1:21:41<5:54:53, 20.81s/it]"
     ]
    },
    {
     "name": "stdout",
     "output_type": "stream",
     "text": [
      "['retrieving figi: BBG008N298Y8 ticker: WING']\n"
     ]
    },
    {
     "name": "stderr",
     "output_type": "stream",
     "text": [
      "\r",
      " 20%|█████████████████████████▏                                                                                                 | 263/1285 [1:21:59<5:39:02, 19.90s/it]"
     ]
    },
    {
     "name": "stdout",
     "output_type": "stream",
     "text": [
      "['retrieving figi: BBG004KB3S72 ticker: ESPR']\n"
     ]
    },
    {
     "name": "stderr",
     "output_type": "stream",
     "text": [
      "\r",
      " 21%|█████████████████████████▎                                                                                                 | 264/1285 [1:22:17<5:30:41, 19.43s/it]"
     ]
    },
    {
     "name": "stdout",
     "output_type": "stream",
     "text": [
      "['retrieving figi: BBG000BL79J3 ticker: URBN']\n"
     ]
    },
    {
     "name": "stderr",
     "output_type": "stream",
     "text": [
      "\r",
      " 21%|█████████████████████████▎                                                                                                 | 265/1285 [1:22:39<5:42:35, 20.15s/it]"
     ]
    },
    {
     "name": "stdout",
     "output_type": "stream",
     "text": [
      "['retrieving figi: BBG004HXD0G8 ticker: GNL']\n"
     ]
    },
    {
     "name": "stderr",
     "output_type": "stream",
     "text": [
      "\r",
      " 21%|█████████████████████████▍                                                                                                 | 266/1285 [1:22:53<5:11:03, 18.32s/it]"
     ]
    },
    {
     "name": "stdout",
     "output_type": "stream",
     "text": [
      "['retrieving figi: BBG000C3GN47 ticker: COG']\n"
     ]
    },
    {
     "name": "stderr",
     "output_type": "stream",
     "text": [
      "\r",
      " 21%|█████████████████████████▌                                                                                                 | 267/1285 [1:23:15<5:30:49, 19.50s/it]"
     ]
    },
    {
     "name": "stdout",
     "output_type": "stream",
     "text": [
      "['retrieving figi: BBG000BR3KL6 ticker: PH']\n"
     ]
    },
    {
     "name": "stderr",
     "output_type": "stream",
     "text": [
      "\r",
      " 21%|█████████████████████████▋                                                                                                 | 268/1285 [1:23:34<5:29:17, 19.43s/it]"
     ]
    },
    {
     "name": "stdout",
     "output_type": "stream",
     "text": [
      "['retrieving figi: BBG000D7RKJ5 ticker: EIX']\n"
     ]
    },
    {
     "name": "stderr",
     "output_type": "stream",
     "text": [
      "\r",
      " 21%|█████████████████████████▋                                                                                                 | 269/1285 [1:23:54<5:29:38, 19.47s/it]"
     ]
    },
    {
     "name": "stdout",
     "output_type": "stream",
     "text": [
      "['retrieving figi: BBG000BZCKH3 ticker: MTD']\n"
     ]
    },
    {
     "name": "stderr",
     "output_type": "stream",
     "text": [
      "\r",
      " 21%|█████████████████████████▊                                                                                                 | 270/1285 [1:24:11<5:15:22, 18.64s/it]"
     ]
    },
    {
     "name": "stdout",
     "output_type": "stream",
     "text": [
      "['retrieving figi: BBG000BJ26K7 ticker: ALB']\n"
     ]
    },
    {
     "name": "stderr",
     "output_type": "stream",
     "text": [
      "\r",
      " 21%|█████████████████████████▉                                                                                                 | 271/1285 [1:24:30<5:17:40, 18.80s/it]"
     ]
    },
    {
     "name": "stdout",
     "output_type": "stream",
     "text": [
      "['retrieving figi: BBG000BMQPL1 ticker: KEY']\n"
     ]
    },
    {
     "name": "stderr",
     "output_type": "stream",
     "text": [
      "\r",
      " 21%|██████████████████████████                                                                                                 | 272/1285 [1:24:50<5:25:58, 19.31s/it]"
     ]
    },
    {
     "name": "stdout",
     "output_type": "stream",
     "text": [
      "['retrieving figi: BBG000BFNR17 ticker: ADS']\n"
     ]
    },
    {
     "name": "stderr",
     "output_type": "stream",
     "text": [
      "\r",
      " 21%|██████████████████████████▏                                                                                                | 273/1285 [1:25:08<5:19:05, 18.92s/it]"
     ]
    },
    {
     "name": "stdout",
     "output_type": "stream",
     "text": [
      "['retrieving figi: BBG000GX14P2 ticker: AVAV']\n"
     ]
    },
    {
     "name": "stderr",
     "output_type": "stream",
     "text": [
      "\r",
      " 21%|██████████████████████████▏                                                                                                | 274/1285 [1:25:23<4:58:48, 17.73s/it]"
     ]
    },
    {
     "name": "stdout",
     "output_type": "stream",
     "text": [
      "['retrieving figi: BBG000BPWGR1 ticker: NDSN']\n"
     ]
    },
    {
     "name": "stderr",
     "output_type": "stream",
     "text": [
      "\r",
      " 21%|██████████████████████████▎                                                                                                | 275/1285 [1:25:40<4:52:13, 17.36s/it]"
     ]
    },
    {
     "name": "stdout",
     "output_type": "stream",
     "text": [
      "['retrieving figi: BBG004730RP0 ticker: GAZP']\n"
     ]
    },
    {
     "name": "stderr",
     "output_type": "stream",
     "text": [
      "\r",
      " 21%|██████████████████████████▍                                                                                                | 276/1285 [1:26:05<5:33:50, 19.85s/it]"
     ]
    },
    {
     "name": "stdout",
     "output_type": "stream",
     "text": [
      "['retrieving figi: BBG000BLN497 ticker: SKM']\n"
     ]
    },
    {
     "name": "stderr",
     "output_type": "stream",
     "text": [
      "\r",
      " 22%|██████████████████████████▌                                                                                                | 277/1285 [1:26:21<5:13:57, 18.69s/it]"
     ]
    },
    {
     "name": "stdout",
     "output_type": "stream",
     "text": [
      "['retrieving figi: BBG000RTDY25 ticker: MSCI']\n"
     ]
    },
    {
     "name": "stderr",
     "output_type": "stream",
     "text": [
      "\r",
      " 22%|██████████████████████████▌                                                                                                | 278/1285 [1:26:39<5:09:42, 18.45s/it]"
     ]
    },
    {
     "name": "stdout",
     "output_type": "stream",
     "text": [
      "['retrieving figi: BBG000FKJRC5 ticker: EL']\n"
     ]
    },
    {
     "name": "stderr",
     "output_type": "stream",
     "text": [
      "\r",
      " 22%|██████████████████████████▋                                                                                                | 279/1285 [1:26:57<5:06:52, 18.30s/it]"
     ]
    },
    {
     "name": "stdout",
     "output_type": "stream",
     "text": [
      "['retrieving figi: BBG000BVMGF2 ticker: ALL']\n"
     ]
    },
    {
     "name": "stderr",
     "output_type": "stream",
     "text": [
      "\r",
      " 22%|██████████████████████████▊                                                                                                | 280/1285 [1:27:18<5:17:02, 18.93s/it]"
     ]
    },
    {
     "name": "stdout",
     "output_type": "stream",
     "text": [
      "['retrieving figi: BBG000BJW241 ticker: EXP']\n"
     ]
    },
    {
     "name": "stderr",
     "output_type": "stream",
     "text": [
      "\r",
      " 22%|██████████████████████████▉                                                                                                | 281/1285 [1:27:34<5:02:47, 18.10s/it]"
     ]
    },
    {
     "name": "stdout",
     "output_type": "stream",
     "text": [
      "['retrieving figi: BBG000NWQ9S5 ticker: CSII']\n"
     ]
    },
    {
     "name": "stderr",
     "output_type": "stream",
     "text": [
      "\r",
      " 22%|██████████████████████████▉                                                                                                | 282/1285 [1:27:50<4:54:40, 17.63s/it]"
     ]
    },
    {
     "name": "stdout",
     "output_type": "stream",
     "text": [
      "['retrieving figi: BBG000WCFV84 ticker: LYB']\n"
     ]
    },
    {
     "name": "stderr",
     "output_type": "stream",
     "text": [
      "\r",
      " 22%|███████████████████████████                                                                                                | 283/1285 [1:28:13<5:19:07, 19.11s/it]"
     ]
    },
    {
     "name": "stdout",
     "output_type": "stream",
     "text": [
      "['retrieving figi: BBG000BCTLF6 ticker: BAC']\n"
     ]
    },
    {
     "name": "stderr",
     "output_type": "stream",
     "text": [
      "\r",
      " 22%|███████████████████████████▏                                                                                               | 284/1285 [1:28:36<5:40:54, 20.43s/it]"
     ]
    },
    {
     "name": "stdout",
     "output_type": "stream",
     "text": [
      "['retrieving figi: BBG00R2NHQ65 ticker: OVV']\n"
     ]
    },
    {
     "name": "stderr",
     "output_type": "stream",
     "text": [
      "\r",
      " 22%|███████████████████████████▎                                                                                               | 285/1285 [1:28:55<5:34:05, 20.05s/it]"
     ]
    },
    {
     "name": "stdout",
     "output_type": "stream",
     "text": [
      "['retrieving figi: BBG000BBPFB9 ticker: AMAT']\n"
     ]
    },
    {
     "name": "stderr",
     "output_type": "stream",
     "text": [
      "\r",
      " 22%|███████████████████████████▍                                                                                               | 286/1285 [1:29:17<5:39:53, 20.41s/it]"
     ]
    },
    {
     "name": "stdout",
     "output_type": "stream",
     "text": [
      "['retrieving figi: BBG000P5JQX6 ticker: EHTH']\n"
     ]
    },
    {
     "name": "stderr",
     "output_type": "stream",
     "text": [
      "\r",
      " 22%|███████████████████████████▍                                                                                               | 287/1285 [1:29:36<5:33:31, 20.05s/it]"
     ]
    },
    {
     "name": "stdout",
     "output_type": "stream",
     "text": [
      "['retrieving figi: BBG000BH4R78 ticker: DIS']\n"
     ]
    },
    {
     "name": "stderr",
     "output_type": "stream",
     "text": [
      "\r",
      " 22%|███████████████████████████▌                                                                                               | 288/1285 [1:30:03<6:10:03, 22.27s/it]"
     ]
    },
    {
     "name": "stdout",
     "output_type": "stream",
     "text": [
      "['retrieving figi: BBG0026ZDHR0 ticker: ANAB']\n"
     ]
    },
    {
     "name": "stderr",
     "output_type": "stream",
     "text": [
      "\r",
      " 22%|███████████████████████████▋                                                                                               | 289/1285 [1:30:25<6:06:52, 22.10s/it]"
     ]
    },
    {
     "name": "stdout",
     "output_type": "stream",
     "text": [
      "['retrieving figi: BBG000NLHR27 ticker: VZRZP']\n"
     ]
    },
    {
     "name": "stderr",
     "output_type": "stream",
     "text": [
      "\r",
      " 23%|███████████████████████████▊                                                                                               | 290/1285 [1:30:35<5:07:48, 18.56s/it]"
     ]
    },
    {
     "name": "stdout",
     "output_type": "stream",
     "text": [
      "['retrieving figi: BBG002B2J5X0 ticker: KRKNP']\n"
     ]
    },
    {
     "name": "stderr",
     "output_type": "stream",
     "text": [
      "\r",
      " 23%|███████████████████████████▊                                                                                               | 291/1285 [1:30:50<4:48:13, 17.40s/it]"
     ]
    },
    {
     "name": "stdout",
     "output_type": "stream",
     "text": [
      "['retrieving figi: BBG000C2PW58 ticker: BLK']\n"
     ]
    },
    {
     "name": "stderr",
     "output_type": "stream",
     "text": [
      "\r",
      " 23%|███████████████████████████▉                                                                                               | 292/1285 [1:31:10<5:00:29, 18.16s/it]"
     ]
    },
    {
     "name": "stdout",
     "output_type": "stream",
     "text": [
      "['retrieving figi: BBG000RVD346 ticker: APEI']\n"
     ]
    },
    {
     "name": "stderr",
     "output_type": "stream",
     "text": [
      "\r",
      " 23%|████████████████████████████                                                                                               | 293/1285 [1:31:22<4:28:20, 16.23s/it]"
     ]
    },
    {
     "name": "stdout",
     "output_type": "stream",
     "text": [
      "['retrieving figi: BBG000B9XRY4 ticker: AAPL']\n"
     ]
    },
    {
     "name": "stderr",
     "output_type": "stream",
     "text": [
      "\r",
      " 23%|████████████████████████████▏                                                                                              | 294/1285 [1:31:53<5:41:22, 20.67s/it]"
     ]
    },
    {
     "name": "stdout",
     "output_type": "stream",
     "text": [
      "['retrieving figi: BBG000BSXQV7 ticker: SHW']\n"
     ]
    },
    {
     "name": "stderr",
     "output_type": "stream",
     "text": [
      "\r",
      " 23%|████████████████████████████▏                                                                                              | 295/1285 [1:32:10<5:25:09, 19.71s/it]"
     ]
    },
    {
     "name": "stdout",
     "output_type": "stream",
     "text": [
      "['retrieving figi: BBG000BSBZH7 ticker: ROST']\n"
     ]
    },
    {
     "name": "stderr",
     "output_type": "stream",
     "text": [
      "\r",
      " 23%|████████████████████████████▎                                                                                              | 296/1285 [1:32:30<5:26:53, 19.83s/it]"
     ]
    },
    {
     "name": "stdout",
     "output_type": "stream",
     "text": [
      "['retrieving figi: BBG000BCVJ77 ticker: BAX']\n"
     ]
    },
    {
     "name": "stderr",
     "output_type": "stream",
     "text": [
      "\r",
      " 23%|████████████████████████████▍                                                                                              | 297/1285 [1:32:50<5:24:46, 19.72s/it]"
     ]
    },
    {
     "name": "stdout",
     "output_type": "stream",
     "text": [
      "['retrieving figi: BBG000NV1KK7 ticker: DG']\n"
     ]
    },
    {
     "name": "stderr",
     "output_type": "stream",
     "text": [
      "\r",
      " 23%|████████████████████████████▌                                                                                              | 298/1285 [1:33:09<5:19:28, 19.42s/it]"
     ]
    },
    {
     "name": "stdout",
     "output_type": "stream",
     "text": [
      "['retrieving figi: BBG000BR14K5 ticker: CB']\n"
     ]
    },
    {
     "name": "stderr",
     "output_type": "stream",
     "text": [
      "\r",
      " 23%|████████████████████████████▌                                                                                              | 299/1285 [1:33:31<5:36:09, 20.46s/it]"
     ]
    },
    {
     "name": "stdout",
     "output_type": "stream",
     "text": [
      "['retrieving figi: BBG000BJ5HK0 ticker: AYI']\n"
     ]
    },
    {
     "name": "stderr",
     "output_type": "stream",
     "text": [
      "\r",
      " 23%|████████████████████████████▋                                                                                              | 300/1285 [1:33:49<5:20:28, 19.52s/it]"
     ]
    },
    {
     "name": "stdout",
     "output_type": "stream",
     "text": [
      "['retrieving figi: BBG000BDGHD9 ticker: BMI']\n"
     ]
    },
    {
     "name": "stderr",
     "output_type": "stream",
     "text": [
      "\r",
      " 23%|████████████████████████████▊                                                                                              | 301/1285 [1:34:02<4:49:37, 17.66s/it]"
     ]
    },
    {
     "name": "stdout",
     "output_type": "stream",
     "text": [
      "['retrieving figi: BBG001YV1SM4 ticker: OKTA']\n"
     ]
    },
    {
     "name": "stderr",
     "output_type": "stream",
     "text": [
      "\r",
      " 24%|████████████████████████████▉                                                                                              | 302/1285 [1:34:23<5:03:03, 18.50s/it]"
     ]
    },
    {
     "name": "stdout",
     "output_type": "stream",
     "text": [
      "['retrieving figi: BBG000BBNYF6 ticker: DRI']\n"
     ]
    },
    {
     "name": "stderr",
     "output_type": "stream",
     "text": [
      "\r",
      " 24%|█████████████████████████████                                                                                              | 303/1285 [1:34:42<5:05:05, 18.64s/it]"
     ]
    },
    {
     "name": "stdout",
     "output_type": "stream",
     "text": [
      "['retrieving figi: BBG004S68696 ticker: RASP']\n"
     ]
    },
    {
     "name": "stderr",
     "output_type": "stream",
     "text": [
      "\r",
      " 24%|█████████████████████████████                                                                                              | 304/1285 [1:35:01<5:10:55, 19.02s/it]"
     ]
    },
    {
     "name": "stdout",
     "output_type": "stream",
     "text": [
      "['retrieving figi: BBG000C0LW92 ticker: BSX']\n"
     ]
    },
    {
     "name": "stderr",
     "output_type": "stream",
     "text": [
      "\r",
      " 24%|█████████████████████████████▏                                                                                             | 305/1285 [1:35:21<5:12:18, 19.12s/it]"
     ]
    },
    {
     "name": "stdout",
     "output_type": "stream",
     "text": [
      "['retrieving figi: BBG000BWVCP8 ticker: WMB']\n"
     ]
    },
    {
     "name": "stderr",
     "output_type": "stream",
     "text": [
      "\r",
      " 24%|█████████████████████████████▎                                                                                             | 306/1285 [1:35:39<5:07:23, 18.84s/it]"
     ]
    },
    {
     "name": "stdout",
     "output_type": "stream",
     "text": [
      "['retrieving figi: BBG000K3STR7 ticker: APTK']\n"
     ]
    },
    {
     "name": "stderr",
     "output_type": "stream",
     "text": [
      "\r",
      " 24%|█████████████████████████████▍                                                                                             | 307/1285 [1:35:59<5:10:38, 19.06s/it]"
     ]
    },
    {
     "name": "stdout",
     "output_type": "stream",
     "text": [
      "['retrieving figi: BBG001RWPDW6 ticker: RARE']\n"
     ]
    },
    {
     "name": "stderr",
     "output_type": "stream",
     "text": [
      "\r",
      " 24%|█████████████████████████████▍                                                                                             | 308/1285 [1:36:17<5:05:53, 18.79s/it]"
     ]
    },
    {
     "name": "stdout",
     "output_type": "stream",
     "text": [
      "['retrieving figi: BBG000BKDWB5 ticker: ABG']\n"
     ]
    },
    {
     "name": "stderr",
     "output_type": "stream",
     "text": [
      "\r",
      " 24%|█████████████████████████████▌                                                                                             | 309/1285 [1:36:29<4:35:08, 16.91s/it]"
     ]
    },
    {
     "name": "stdout",
     "output_type": "stream",
     "text": [
      "['retrieving figi: BBG00GX77LW3 ticker: BKI']\n"
     ]
    },
    {
     "name": "stderr",
     "output_type": "stream",
     "text": [
      "\r",
      " 24%|█████████████████████████████▋                                                                                             | 310/1285 [1:36:47<4:37:07, 17.05s/it]"
     ]
    },
    {
     "name": "stdout",
     "output_type": "stream",
     "text": [
      "['retrieving figi: BBG000BWGYF8 ticker: VMC']\n"
     ]
    },
    {
     "name": "stderr",
     "output_type": "stream",
     "text": [
      "\r",
      " 24%|█████████████████████████████▊                                                                                             | 311/1285 [1:37:04<4:40:33, 17.28s/it]"
     ]
    },
    {
     "name": "stdout",
     "output_type": "stream",
     "text": [
      "['retrieving figi: BBG000J79P80 ticker: SXT']\n"
     ]
    },
    {
     "name": "stderr",
     "output_type": "stream",
     "text": [
      "\r",
      " 24%|█████████████████████████████▊                                                                                             | 312/1285 [1:37:21<4:36:48, 17.07s/it]"
     ]
    },
    {
     "name": "stdout",
     "output_type": "stream",
     "text": [
      "['retrieving figi: BBG006Q0HY77 ticker: CFG']\n"
     ]
    },
    {
     "name": "stderr",
     "output_type": "stream",
     "text": [
      "\r",
      " 24%|█████████████████████████████▉                                                                                             | 313/1285 [1:37:39<4:42:45, 17.45s/it]"
     ]
    },
    {
     "name": "stdout",
     "output_type": "stream",
     "text": [
      "['retrieving figi: BBG000BQY289 ticker: PDCO']\n"
     ]
    },
    {
     "name": "stderr",
     "output_type": "stream",
     "text": [
      "\r",
      " 24%|██████████████████████████████                                                                                             | 314/1285 [1:37:57<4:45:18, 17.63s/it]"
     ]
    },
    {
     "name": "stdout",
     "output_type": "stream",
     "text": [
      "['retrieving figi: BBG000BLBVN4 ticker: BKNG']\n"
     ]
    },
    {
     "name": "stderr",
     "output_type": "stream",
     "text": [
      "\r",
      " 25%|██████████████████████████████▏                                                                                            | 315/1285 [1:38:15<4:47:04, 17.76s/it]"
     ]
    },
    {
     "name": "stdout",
     "output_type": "stream",
     "text": [
      "['retrieving figi: BBG000Q0SZJ2 ticker: LOGM']\n"
     ]
    },
    {
     "name": "stderr",
     "output_type": "stream",
     "text": [
      "\r",
      " 25%|██████████████████████████████▏                                                                                            | 316/1285 [1:38:30<4:31:35, 16.82s/it]"
     ]
    },
    {
     "name": "stdout",
     "output_type": "stream",
     "text": [
      "['retrieving figi: BBG000BL8804 ticker: HST']\n"
     ]
    },
    {
     "name": "stderr",
     "output_type": "stream",
     "text": [
      "\r",
      " 25%|██████████████████████████████▎                                                                                            | 317/1285 [1:38:50<4:45:25, 17.69s/it]"
     ]
    },
    {
     "name": "stdout",
     "output_type": "stream",
     "text": [
      "['retrieving figi: BBG00475K6C3 ticker: CHMF']\n"
     ]
    },
    {
     "name": "stderr",
     "output_type": "stream",
     "text": [
      "\r",
      " 25%|██████████████████████████████▍                                                                                            | 318/1285 [1:39:11<5:01:24, 18.70s/it]"
     ]
    },
    {
     "name": "stdout",
     "output_type": "stream",
     "text": [
      "['retrieving figi: BBG000QY3XZ2 ticker: EXPE']\n"
     ]
    },
    {
     "name": "stderr",
     "output_type": "stream",
     "text": [
      "\r",
      " 25%|██████████████████████████████▌                                                                                            | 319/1285 [1:39:31<5:06:01, 19.01s/it]"
     ]
    },
    {
     "name": "stdout",
     "output_type": "stream",
     "text": [
      "['retrieving figi: BBG000C2VBB0 ticker: PTC']\n"
     ]
    },
    {
     "name": "stderr",
     "output_type": "stream",
     "text": [
      "\r",
      " 25%|██████████████████████████████▋                                                                                            | 320/1285 [1:39:49<5:01:17, 18.73s/it]"
     ]
    },
    {
     "name": "stdout",
     "output_type": "stream",
     "text": [
      "['retrieving figi: BBG001HRFJG4 ticker: ZEN']\n"
     ]
    },
    {
     "name": "stderr",
     "output_type": "stream",
     "text": [
      "\r",
      " 25%|██████████████████████████████▋                                                                                            | 321/1285 [1:40:06<4:55:13, 18.37s/it]"
     ]
    },
    {
     "name": "stdout",
     "output_type": "stream",
     "text": [
      "['retrieving figi: BBG000PKZDX4 ticker: KALU']\n"
     ]
    },
    {
     "name": "stderr",
     "output_type": "stream",
     "text": [
      "\r",
      " 25%|██████████████████████████████▊                                                                                            | 322/1285 [1:40:23<4:47:56, 17.94s/it]"
     ]
    },
    {
     "name": "stdout",
     "output_type": "stream",
     "text": [
      "['retrieving figi: BBG000N746D6 ticker: ETFC']\n"
     ]
    },
    {
     "name": "stderr",
     "output_type": "stream",
     "text": [
      "\r",
      " 25%|██████████████████████████████▉                                                                                            | 323/1285 [1:40:43<4:54:34, 18.37s/it]"
     ]
    },
    {
     "name": "stdout",
     "output_type": "stream",
     "text": [
      "['retrieving figi: BBG000BJSBJ0 ticker: NEE']\n"
     ]
    },
    {
     "name": "stderr",
     "output_type": "stream",
     "text": [
      "\r",
      " 25%|███████████████████████████████                                                                                            | 324/1285 [1:41:04<5:07:59, 19.23s/it]"
     ]
    },
    {
     "name": "stdout",
     "output_type": "stream",
     "text": [
      "['retrieving figi: BBG000BN5LG7 ticker: VALE']\n"
     ]
    },
    {
     "name": "stderr",
     "output_type": "stream",
     "text": [
      "\r",
      " 25%|███████████████████████████████                                                                                            | 325/1285 [1:41:23<5:10:03, 19.38s/it]"
     ]
    },
    {
     "name": "stdout",
     "output_type": "stream",
     "text": [
      "['retrieving figi: BBG000BGD7W6 ticker: MAR']\n"
     ]
    },
    {
     "name": "stderr",
     "output_type": "stream",
     "text": [
      "\r",
      " 25%|███████████████████████████████▏                                                                                           | 326/1285 [1:41:43<5:11:00, 19.46s/it]"
     ]
    },
    {
     "name": "stdout",
     "output_type": "stream",
     "text": [
      "['retrieving figi: BBG000CL1FG7 ticker: BRKR']\n"
     ]
    },
    {
     "name": "stderr",
     "output_type": "stream",
     "text": [
      "\r",
      " 25%|███████████████████████████████▎                                                                                           | 327/1285 [1:42:02<5:08:58, 19.35s/it]"
     ]
    },
    {
     "name": "stdout",
     "output_type": "stream",
     "text": [
      "['retrieving figi: BBG000P5LMQ0 ticker: SAIA']\n"
     ]
    },
    {
     "name": "stderr",
     "output_type": "stream",
     "text": [
      "\r",
      " 26%|███████████████████████████████▍                                                                                           | 328/1285 [1:42:20<5:01:31, 18.90s/it]"
     ]
    },
    {
     "name": "stdout",
     "output_type": "stream",
     "text": [
      "['retrieving figi: BBG0016XJ8S0 ticker: TAL']\n"
     ]
    },
    {
     "name": "stderr",
     "output_type": "stream",
     "text": [
      "\r",
      " 26%|███████████████████████████████▍                                                                                           | 329/1285 [1:42:39<5:02:01, 18.96s/it]"
     ]
    },
    {
     "name": "stdout",
     "output_type": "stream",
     "text": [
      "['retrieving figi: BBG000BQQ2S6 ticker: OXY']\n"
     ]
    },
    {
     "name": "stderr",
     "output_type": "stream",
     "text": [
      "\r",
      " 26%|███████████████████████████████▌                                                                                           | 330/1285 [1:43:01<5:17:31, 19.95s/it]"
     ]
    },
    {
     "name": "stdout",
     "output_type": "stream",
     "text": [
      "['retrieving figi: BBG000BSLZY7 ticker: SCHW']\n"
     ]
    },
    {
     "name": "stderr",
     "output_type": "stream",
     "text": [
      "\r",
      " 26%|███████████████████████████████▋                                                                                           | 331/1285 [1:43:21<5:13:53, 19.74s/it]"
     ]
    },
    {
     "name": "stdout",
     "output_type": "stream",
     "text": [
      "['retrieving figi: BBG000BNWG87 ticker: MDT']\n"
     ]
    },
    {
     "name": "stderr",
     "output_type": "stream",
     "text": [
      "\r",
      " 26%|███████████████████████████████▊                                                                                           | 332/1285 [1:43:40<5:10:21, 19.54s/it]"
     ]
    },
    {
     "name": "stdout",
     "output_type": "stream",
     "text": [
      "['retrieving figi: BBG00B6KGNN1 ticker: TWNK']\n"
     ]
    },
    {
     "name": "stderr",
     "output_type": "stream",
     "text": [
      "\r",
      " 26%|███████████████████████████████▊                                                                                           | 333/1285 [1:43:56<4:55:36, 18.63s/it]"
     ]
    },
    {
     "name": "stdout",
     "output_type": "stream",
     "text": [
      "['retrieving figi: BBG009XW2WB8 ticker: PFGC']\n"
     ]
    },
    {
     "name": "stderr",
     "output_type": "stream",
     "text": [
      "\r",
      " 26%|███████████████████████████████▉                                                                                           | 334/1285 [1:44:14<4:49:10, 18.24s/it]"
     ]
    },
    {
     "name": "stdout",
     "output_type": "stream",
     "text": [
      "['retrieving figi: BBG008GC8CP6 ticker: APPF']\n"
     ]
    },
    {
     "name": "stderr",
     "output_type": "stream",
     "text": [
      "\r",
      " 26%|████████████████████████████████                                                                                           | 335/1285 [1:44:31<4:46:33, 18.10s/it]"
     ]
    },
    {
     "name": "stdout",
     "output_type": "stream",
     "text": [
      "['retrieving figi: BBG000BCZYD3 ticker: BDX']\n"
     ]
    },
    {
     "name": "stderr",
     "output_type": "stream",
     "text": [
      "\r",
      " 26%|████████████████████████████████▏                                                                                          | 336/1285 [1:44:52<4:59:51, 18.96s/it]"
     ]
    },
    {
     "name": "stdout",
     "output_type": "stream",
     "text": [
      "['retrieving figi: BBG000CL9VN6 ticker: NFLX']\n"
     ]
    },
    {
     "name": "stderr",
     "output_type": "stream",
     "text": [
      "\r",
      " 26%|████████████████████████████████▎                                                                                          | 337/1285 [1:45:18<5:30:10, 20.90s/it]"
     ]
    },
    {
     "name": "stdout",
     "output_type": "stream",
     "text": [
      "['retrieving figi: BBG000BYYLS8 ticker: TFC']\n"
     ]
    },
    {
     "name": "stderr",
     "output_type": "stream",
     "text": [
      "\r",
      " 26%|████████████████████████████████▎                                                                                          | 338/1285 [1:45:38<5:25:00, 20.59s/it]"
     ]
    },
    {
     "name": "stdout",
     "output_type": "stream",
     "text": [
      "['retrieving figi: BBG000KTF667 ticker: RSTIP']\n"
     ]
    },
    {
     "name": "stderr",
     "output_type": "stream",
     "text": [
      "\r",
      " 26%|████████████████████████████████▍                                                                                          | 339/1285 [1:45:55<5:07:35, 19.51s/it]"
     ]
    },
    {
     "name": "stdout",
     "output_type": "stream",
     "text": [
      "['retrieving figi: BBG000BS73J1 ticker: RJF']\n"
     ]
    },
    {
     "name": "stderr",
     "output_type": "stream",
     "text": [
      "\r",
      " 26%|████████████████████████████████▌                                                                                          | 340/1285 [1:46:17<5:18:43, 20.24s/it]"
     ]
    },
    {
     "name": "stdout",
     "output_type": "stream",
     "text": [
      "['retrieving figi: BBG000BFWF13 ticker: PZZA']\n"
     ]
    },
    {
     "name": "stderr",
     "output_type": "stream",
     "text": [
      "\r",
      " 27%|████████████████████████████████▋                                                                                          | 341/1285 [1:46:37<5:18:28, 20.24s/it]"
     ]
    },
    {
     "name": "stdout",
     "output_type": "stream",
     "text": [
      "['retrieving figi: BBG000F4F1N0 ticker: MTH']\n"
     ]
    },
    {
     "name": "stderr",
     "output_type": "stream",
     "text": [
      "\r",
      " 27%|████████████████████████████████▋                                                                                          | 342/1285 [1:46:55<5:10:46, 19.77s/it]"
     ]
    },
    {
     "name": "stdout",
     "output_type": "stream",
     "text": [
      "['retrieving figi: BBG000L69KL5 ticker: TCX']\n"
     ]
    },
    {
     "name": "stderr",
     "output_type": "stream",
     "text": [
      "\r",
      " 27%|████████████████████████████████▊                                                                                          | 343/1285 [1:47:07<4:33:33, 17.42s/it]"
     ]
    },
    {
     "name": "stdout",
     "output_type": "stream",
     "text": [
      "['retrieving figi: BBG000PCNQN7 ticker: CHA']\n"
     ]
    },
    {
     "name": "stderr",
     "output_type": "stream",
     "text": [
      "\r",
      " 27%|████████████████████████████████▉                                                                                          | 344/1285 [1:47:19<4:05:39, 15.66s/it]"
     ]
    },
    {
     "name": "stdout",
     "output_type": "stream",
     "text": [
      "['retrieving figi: BBG00BLVZ228 ticker: FTV']\n"
     ]
    },
    {
     "name": "stderr",
     "output_type": "stream",
     "text": [
      "\r",
      " 27%|█████████████████████████████████                                                                                          | 345/1285 [1:47:41<4:34:56, 17.55s/it]"
     ]
    },
    {
     "name": "stdout",
     "output_type": "stream",
     "text": [
      "['retrieving figi: BBG006G063F9 ticker: INFO']\n"
     ]
    },
    {
     "name": "stderr",
     "output_type": "stream",
     "text": [
      "\r",
      " 27%|█████████████████████████████████                                                                                          | 346/1285 [1:48:05<5:03:47, 19.41s/it]"
     ]
    },
    {
     "name": "stdout",
     "output_type": "stream",
     "text": [
      "['retrieving figi: BBG000C42VX0 ticker: MMSI']\n"
     ]
    },
    {
     "name": "stderr",
     "output_type": "stream",
     "text": [
      "\r",
      " 27%|█████████████████████████████████▏                                                                                         | 347/1285 [1:48:23<4:56:37, 18.97s/it]"
     ]
    },
    {
     "name": "stdout",
     "output_type": "stream",
     "text": [
      "['retrieving figi: BBG000C4GBR6 ticker: NTGR']\n"
     ]
    },
    {
     "name": "stderr",
     "output_type": "stream",
     "text": [
      "\r",
      " 27%|█████████████████████████████████▎                                                                                         | 348/1285 [1:48:39<4:45:12, 18.26s/it]"
     ]
    },
    {
     "name": "stdout",
     "output_type": "stream",
     "text": [
      "['retrieving figi: BBG000DN4ZT1 ticker: TCBI']\n"
     ]
    },
    {
     "name": "stderr",
     "output_type": "stream",
     "text": [
      "\r",
      " 27%|█████████████████████████████████▍                                                                                         | 349/1285 [1:48:57<4:42:41, 18.12s/it]"
     ]
    },
    {
     "name": "stdout",
     "output_type": "stream",
     "text": [
      "['retrieving figi: BBG000BDJL83 ticker: FDS']\n"
     ]
    },
    {
     "name": "stderr",
     "output_type": "stream",
     "text": [
      "\r",
      " 27%|█████████████████████████████████▌                                                                                         | 350/1285 [1:49:13<4:31:36, 17.43s/it]"
     ]
    },
    {
     "name": "stdout",
     "output_type": "stream",
     "text": [
      "['retrieving figi: BBG000BB8SW7 ticker: PKG']\n"
     ]
    },
    {
     "name": "stderr",
     "output_type": "stream",
     "text": [
      "\r",
      " 27%|█████████████████████████████████▌                                                                                         | 351/1285 [1:49:32<4:41:44, 18.10s/it]"
     ]
    },
    {
     "name": "stdout",
     "output_type": "stream",
     "text": [
      "['retrieving figi: BBG005CHLM96 ticker: EVH']\n"
     ]
    },
    {
     "name": "stderr",
     "output_type": "stream",
     "text": [
      "\r",
      " 27%|█████████████████████████████████▋                                                                                         | 352/1285 [1:49:52<4:47:31, 18.49s/it]"
     ]
    },
    {
     "name": "stdout",
     "output_type": "stream",
     "text": [
      "['retrieving figi: BBG007TJF1N7 ticker: QRVO']\n"
     ]
    },
    {
     "name": "stderr",
     "output_type": "stream",
     "text": [
      "\r",
      " 27%|█████████████████████████████████▊                                                                                         | 353/1285 [1:50:11<4:50:58, 18.73s/it]"
     ]
    },
    {
     "name": "stdout",
     "output_type": "stream",
     "text": [
      "['retrieving figi: BBG0014PFYM2 ticker: RUGR']\n"
     ]
    },
    {
     "name": "stderr",
     "output_type": "stream",
     "text": [
      "\r",
      " 28%|█████████████████████████████████▉                                                                                         | 354/1285 [1:50:28<4:40:14, 18.06s/it]"
     ]
    },
    {
     "name": "stdout",
     "output_type": "stream",
     "text": [
      "['retrieving figi: BBG000C0G1D1 ticker: INTC']\n"
     ]
    },
    {
     "name": "stderr",
     "output_type": "stream",
     "text": [
      "\r",
      " 28%|█████████████████████████████████▉                                                                                         | 355/1285 [1:50:55<5:24:24, 20.93s/it]"
     ]
    },
    {
     "name": "stdout",
     "output_type": "stream",
     "text": [
      "['retrieving figi: BBG000BB5B84 ticker: LII']\n"
     ]
    },
    {
     "name": "stderr",
     "output_type": "stream",
     "text": [
      "\r",
      " 28%|██████████████████████████████████                                                                                         | 356/1285 [1:51:13<5:06:58, 19.83s/it]"
     ]
    },
    {
     "name": "stdout",
     "output_type": "stream",
     "text": [
      "['retrieving figi: BBG009LM28K6 ticker: NGVT']\n"
     ]
    },
    {
     "name": "stderr",
     "output_type": "stream",
     "text": [
      "\r",
      " 28%|██████████████████████████████████▏                                                                                        | 357/1285 [1:51:29<4:52:41, 18.92s/it]"
     ]
    },
    {
     "name": "stdout",
     "output_type": "stream",
     "text": [
      "['retrieving figi: BBG000BQBYR3 ticker: NVR']\n"
     ]
    },
    {
     "name": "stderr",
     "output_type": "stream",
     "text": [
      "\r",
      " 28%|██████████████████████████████████▎                                                                                        | 358/1285 [1:51:45<4:36:22, 17.89s/it]"
     ]
    },
    {
     "name": "stdout",
     "output_type": "stream",
     "text": [
      "['retrieving figi: BBG000BF8CB6 ticker: FIZZ']\n"
     ]
    },
    {
     "name": "stderr",
     "output_type": "stream",
     "text": [
      "\r",
      " 28%|██████████████████████████████████▎                                                                                        | 359/1285 [1:52:04<4:39:40, 18.12s/it]"
     ]
    },
    {
     "name": "stdout",
     "output_type": "stream",
     "text": [
      "['retrieving figi: BBG000CM6L31 ticker: CRMT']\n"
     ]
    },
    {
     "name": "stderr",
     "output_type": "stream",
     "text": [
      "\r",
      " 28%|██████████████████████████████████▍                                                                                        | 360/1285 [1:52:17<4:16:41, 16.65s/it]"
     ]
    },
    {
     "name": "stdout",
     "output_type": "stream",
     "text": [
      "['retrieving figi: BBG000G7W420 ticker: LHCG']\n"
     ]
    },
    {
     "name": "stderr",
     "output_type": "stream",
     "text": [
      "\r",
      " 28%|██████████████████████████████████▌                                                                                        | 361/1285 [1:52:36<4:26:43, 17.32s/it]"
     ]
    },
    {
     "name": "stdout",
     "output_type": "stream",
     "text": [
      "['retrieving figi: BBG000VDC3G9 ticker: ZGNX']\n"
     ]
    },
    {
     "name": "stderr",
     "output_type": "stream",
     "text": [
      "\r",
      " 28%|██████████████████████████████████▋                                                                                        | 362/1285 [1:52:59<4:53:21, 19.07s/it]"
     ]
    },
    {
     "name": "stdout",
     "output_type": "stream",
     "text": [
      "['retrieving figi: BBG000BL30Y9 ticker: MOV']\n"
     ]
    },
    {
     "name": "stderr",
     "output_type": "stream",
     "text": [
      "\r",
      " 28%|██████████████████████████████████▋                                                                                        | 363/1285 [1:53:12<4:28:00, 17.44s/it]"
     ]
    },
    {
     "name": "stdout",
     "output_type": "stream",
     "text": [
      "['retrieving figi: BBG000F369C7 ticker: ECPG']\n"
     ]
    },
    {
     "name": "stderr",
     "output_type": "stream",
     "text": [
      "\r",
      " 28%|██████████████████████████████████▊                                                                                        | 364/1285 [1:53:30<4:26:20, 17.35s/it]"
     ]
    },
    {
     "name": "stdout",
     "output_type": "stream",
     "text": [
      "['retrieving figi: BBG000GVC474 ticker: HALS']\n"
     ]
    },
    {
     "name": "stderr",
     "output_type": "stream",
     "text": [
      "\r",
      " 28%|██████████████████████████████████▉                                                                                        | 365/1285 [1:53:41<3:58:19, 15.54s/it]"
     ]
    },
    {
     "name": "stdout",
     "output_type": "stream",
     "text": [
      "['retrieving figi: BBG000BCQ4P6 ticker: AVY']\n"
     ]
    },
    {
     "name": "stderr",
     "output_type": "stream",
     "text": [
      "\r",
      " 28%|███████████████████████████████████                                                                                        | 366/1285 [1:54:01<4:18:24, 16.87s/it]"
     ]
    },
    {
     "name": "stdout",
     "output_type": "stream",
     "text": [
      "['retrieving figi: BBG000C8H633 ticker: MRO']\n"
     ]
    },
    {
     "name": "stderr",
     "output_type": "stream",
     "text": [
      "\r",
      " 29%|███████████████████████████████████▏                                                                                       | 367/1285 [1:54:22<4:37:23, 18.13s/it]"
     ]
    },
    {
     "name": "stdout",
     "output_type": "stream",
     "text": [
      "['retrieving figi: BBG000BQ8KV2 ticker: NUE']\n"
     ]
    },
    {
     "name": "stderr",
     "output_type": "stream",
     "text": [
      "\r",
      " 29%|███████████████████████████████████▏                                                                                       | 368/1285 [1:54:41<4:43:18, 18.54s/it]"
     ]
    },
    {
     "name": "stdout",
     "output_type": "stream",
     "text": [
      "['retrieving figi: BBG00HQ77DS2 ticker: CARG']\n"
     ]
    },
    {
     "name": "stderr",
     "output_type": "stream",
     "text": [
      "\r",
      " 29%|███████████████████████████████████▎                                                                                       | 369/1285 [1:55:01<4:49:10, 18.94s/it]"
     ]
    },
    {
     "name": "stdout",
     "output_type": "stream",
     "text": [
      "['retrieving figi: BBG000BFXHL6 ticker: MOS']\n"
     ]
    },
    {
     "name": "stderr",
     "output_type": "stream",
     "text": [
      "\r",
      " 29%|███████████████████████████████████▍                                                                                       | 370/1285 [1:55:20<4:47:17, 18.84s/it]"
     ]
    },
    {
     "name": "stdout",
     "output_type": "stream",
     "text": [
      "['retrieving figi: BBG000CC7LQ7 ticker: ZBRA']\n"
     ]
    },
    {
     "name": "stderr",
     "output_type": "stream",
     "text": [
      "\r",
      " 29%|███████████████████████████████████▌                                                                                       | 371/1285 [1:55:40<4:51:16, 19.12s/it]"
     ]
    },
    {
     "name": "stdout",
     "output_type": "stream",
     "text": [
      "['retrieving figi: BBG000R8ZVD1 ticker: LULU']\n"
     ]
    },
    {
     "name": "stderr",
     "output_type": "stream",
     "text": [
      "\r",
      " 29%|███████████████████████████████████▌                                                                                       | 372/1285 [1:56:02<5:04:37, 20.02s/it]"
     ]
    },
    {
     "name": "stdout",
     "output_type": "stream",
     "text": [
      "['retrieving figi: BBG000BHCYJ1 ticker: NKTR']\n"
     ]
    },
    {
     "name": "stderr",
     "output_type": "stream",
     "text": [
      "\r",
      " 29%|███████████████████████████████████▋                                                                                       | 373/1285 [1:56:22<5:02:59, 19.93s/it]"
     ]
    },
    {
     "name": "stdout",
     "output_type": "stream",
     "text": [
      "['retrieving figi: BBG000BC2KW8 ticker: KRG']\n"
     ]
    },
    {
     "name": "stderr",
     "output_type": "stream",
     "text": [
      "\r",
      " 29%|███████████████████████████████████▊                                                                                       | 374/1285 [1:56:36<4:35:47, 18.16s/it]"
     ]
    },
    {
     "name": "stdout",
     "output_type": "stream",
     "text": [
      "['retrieving figi: BBG000PRQ0V9 ticker: VPG']\n"
     ]
    },
    {
     "name": "stderr",
     "output_type": "stream",
     "text": [
      "\r",
      " 29%|███████████████████████████████████▉                                                                                       | 375/1285 [1:56:46<4:02:00, 15.96s/it]"
     ]
    },
    {
     "name": "stdout",
     "output_type": "stream",
     "text": [
      "['retrieving figi: BBG008HNS333 ticker: BZUN']\n"
     ]
    },
    {
     "name": "stderr",
     "output_type": "stream",
     "text": [
      "\r",
      " 29%|███████████████████████████████████▉                                                                                       | 376/1285 [1:57:06<4:19:43, 17.14s/it]"
     ]
    },
    {
     "name": "stdout",
     "output_type": "stream",
     "text": [
      "['retrieving figi: BBG000C1FB75 ticker: ICE']\n"
     ]
    },
    {
     "name": "stderr",
     "output_type": "stream",
     "text": [
      "\r",
      " 29%|████████████████████████████████████                                                                                       | 377/1285 [1:57:28<4:39:56, 18.50s/it]"
     ]
    },
    {
     "name": "stdout",
     "output_type": "stream",
     "text": [
      "['retrieving figi: BBG000BGPTV6 ticker: CMI']\n"
     ]
    },
    {
     "name": "stderr",
     "output_type": "stream",
     "text": [
      "\r",
      " 29%|████████████████████████████████████▏                                                                                      | 378/1285 [1:57:46<4:39:14, 18.47s/it]"
     ]
    },
    {
     "name": "stdout",
     "output_type": "stream",
     "text": [
      "['retrieving figi: BBG000C75N77 ticker: CMA']\n"
     ]
    },
    {
     "name": "stderr",
     "output_type": "stream",
     "text": [
      "\r",
      " 29%|████████████████████████████████████▎                                                                                      | 379/1285 [1:58:06<4:45:34, 18.91s/it]"
     ]
    },
    {
     "name": "stdout",
     "output_type": "stream",
     "text": [
      "['retrieving figi: BBG000PTLGZ1 ticker: LEA']\n"
     ]
    },
    {
     "name": "stderr",
     "output_type": "stream",
     "text": [
      "\r",
      " 30%|████████████████████████████████████▎                                                                                      | 380/1285 [1:58:23<4:36:44, 18.35s/it]"
     ]
    },
    {
     "name": "stdout",
     "output_type": "stream",
     "text": [
      "['retrieving figi: BBG005XVXML5 ticker: SWAV']\n"
     ]
    },
    {
     "name": "stderr",
     "output_type": "stream",
     "text": [
      "\r",
      " 30%|████████████████████████████████████▍                                                                                      | 381/1285 [1:58:38<4:20:01, 17.26s/it]"
     ]
    },
    {
     "name": "stdout",
     "output_type": "stream",
     "text": [
      "['retrieving figi: BBG000VC0T95 ticker: WDAY']\n"
     ]
    },
    {
     "name": "stderr",
     "output_type": "stream",
     "text": [
      "\r",
      " 30%|████████████████████████████████████▌                                                                                      | 382/1285 [1:58:58<4:31:03, 18.01s/it]"
     ]
    },
    {
     "name": "stdout",
     "output_type": "stream",
     "text": [
      "['retrieving figi: BBG000HT5G06 ticker: QLYS']\n"
     ]
    },
    {
     "name": "stderr",
     "output_type": "stream",
     "text": [
      "\r",
      " 30%|████████████████████████████████████▋                                                                                      | 383/1285 [1:59:15<4:26:22, 17.72s/it]"
     ]
    },
    {
     "name": "stdout",
     "output_type": "stream",
     "text": [
      "['retrieving figi: BBG000GMGNB3 ticker: ROLL']\n"
     ]
    },
    {
     "name": "stderr",
     "output_type": "stream",
     "text": [
      "\r",
      " 30%|████████████████████████████████████▊                                                                                      | 384/1285 [1:59:30<4:15:26, 17.01s/it]"
     ]
    },
    {
     "name": "stdout",
     "output_type": "stream",
     "text": [
      "['retrieving figi: BBG000VPGNR2 ticker: CHTR']\n"
     ]
    },
    {
     "name": "stderr",
     "output_type": "stream",
     "text": [
      "\r",
      " 30%|████████████████████████████████████▊                                                                                      | 385/1285 [1:59:50<4:25:51, 17.72s/it]"
     ]
    },
    {
     "name": "stdout",
     "output_type": "stream",
     "text": [
      "['retrieving figi: BBG00KXRCDP0 ticker: CI']\n"
     ]
    },
    {
     "name": "stderr",
     "output_type": "stream",
     "text": [
      "\r",
      " 30%|████████████████████████████████████▉                                                                                      | 386/1285 [2:00:11<4:44:06, 18.96s/it]"
     ]
    },
    {
     "name": "stdout",
     "output_type": "stream",
     "text": [
      "['retrieving figi: BBG009H04M17 ticker: PLNT']\n"
     ]
    },
    {
     "name": "stderr",
     "output_type": "stream",
     "text": [
      "\r",
      " 30%|█████████████████████████████████████                                                                                      | 387/1285 [2:00:31<4:46:49, 19.16s/it]"
     ]
    },
    {
     "name": "stdout",
     "output_type": "stream",
     "text": [
      "['retrieving figi: BBG0047315Y7 ticker: SBERP']\n"
     ]
    },
    {
     "name": "stderr",
     "output_type": "stream",
     "text": [
      "\r",
      " 30%|█████████████████████████████████████▏                                                                                     | 388/1285 [2:00:52<4:54:44, 19.71s/it]"
     ]
    },
    {
     "name": "stdout",
     "output_type": "stream",
     "text": [
      "['retrieving figi: BBG000QTFDQ4 ticker: ATKR']\n"
     ]
    },
    {
     "name": "stderr",
     "output_type": "stream",
     "text": [
      "\r",
      " 30%|█████████████████████████████████████▏                                                                                     | 389/1285 [2:01:07<4:32:26, 18.24s/it]"
     ]
    },
    {
     "name": "stdout",
     "output_type": "stream",
     "text": [
      "['retrieving figi: BBG000QXSSS6 ticker: RDS.A']\n"
     ]
    },
    {
     "name": "stderr",
     "output_type": "stream",
     "text": [
      "\r",
      " 30%|█████████████████████████████████████▎                                                                                     | 390/1285 [2:01:29<4:48:43, 19.36s/it]"
     ]
    },
    {
     "name": "stdout",
     "output_type": "stream",
     "text": [
      "['retrieving figi: BBG000TVRB50 ticker: TREE']\n"
     ]
    },
    {
     "name": "stderr",
     "output_type": "stream",
     "text": [
      "\r",
      " 30%|█████████████████████████████████████▍                                                                                     | 391/1285 [2:01:44<4:31:47, 18.24s/it]"
     ]
    },
    {
     "name": "stdout",
     "output_type": "stream",
     "text": [
      "['retrieving figi: BBG000BNPSQ9 ticker: INCY']\n"
     ]
    },
    {
     "name": "stderr",
     "output_type": "stream",
     "text": [
      "\r",
      " 31%|█████████████████████████████████████▌                                                                                     | 392/1285 [2:02:05<4:41:31, 18.92s/it]"
     ]
    },
    {
     "name": "stdout",
     "output_type": "stream",
     "text": [
      "['retrieving figi: BBG00JHNJW99 ticker: FOXA']\n"
     ]
    },
    {
     "name": "stderr",
     "output_type": "stream",
     "text": [
      "\r",
      " 31%|█████████████████████████████████████▌                                                                                     | 393/1285 [2:02:23<4:39:22, 18.79s/it]"
     ]
    },
    {
     "name": "stdout",
     "output_type": "stream",
     "text": [
      "['retrieving figi: BBG002ZCK2V9 ticker: SSTK']\n"
     ]
    },
    {
     "name": "stderr",
     "output_type": "stream",
     "text": [
      "\r",
      " 31%|█████████████████████████████████████▋                                                                                     | 394/1285 [2:02:36<4:10:03, 16.84s/it]"
     ]
    },
    {
     "name": "stdout",
     "output_type": "stream",
     "text": [
      "['retrieving figi: BBG001Y04TN6 ticker: VRNS']\n"
     ]
    },
    {
     "name": "stderr",
     "output_type": "stream",
     "text": [
      "\r",
      " 31%|█████████████████████████████████████▊                                                                                     | 395/1285 [2:02:52<4:06:26, 16.61s/it]"
     ]
    },
    {
     "name": "stdout",
     "output_type": "stream",
     "text": [
      "['retrieving figi: BBG000PV27K3 ticker: EXR']\n"
     ]
    },
    {
     "name": "stderr",
     "output_type": "stream",
     "text": [
      "\r",
      " 31%|█████████████████████████████████████▉                                                                                     | 396/1285 [2:03:11<4:15:31, 17.25s/it]"
     ]
    },
    {
     "name": "stdout",
     "output_type": "stream",
     "text": [
      "['retrieving figi: BBG000D0FNV3 ticker: WCC']\n"
     ]
    },
    {
     "name": "stderr",
     "output_type": "stream",
     "text": [
      "\r",
      " 31%|██████████████████████████████████████                                                                                     | 397/1285 [2:03:29<4:21:21, 17.66s/it]"
     ]
    },
    {
     "name": "stdout",
     "output_type": "stream",
     "text": [
      "['retrieving figi: BBG000H556T9 ticker: HON']\n"
     ]
    },
    {
     "name": "stderr",
     "output_type": "stream",
     "text": [
      "\r",
      " 31%|██████████████████████████████████████                                                                                     | 398/1285 [2:03:48<4:25:50, 17.98s/it]"
     ]
    },
    {
     "name": "stdout",
     "output_type": "stream",
     "text": [
      "['retrieving figi: BBG000C1BW00 ticker: LMT']\n"
     ]
    },
    {
     "name": "stderr",
     "output_type": "stream",
     "text": [
      "\r",
      " 31%|██████████████████████████████████████▏                                                                                    | 399/1285 [2:04:08<4:34:23, 18.58s/it]"
     ]
    },
    {
     "name": "stdout",
     "output_type": "stream",
     "text": [
      "['retrieving figi: BBG000P1B7C8 ticker: PRSC']\n"
     ]
    },
    {
     "name": "stderr",
     "output_type": "stream",
     "text": [
      "\r",
      " 31%|██████████████████████████████████████▎                                                                                    | 400/1285 [2:04:21<4:09:43, 16.93s/it]"
     ]
    },
    {
     "name": "stdout",
     "output_type": "stream",
     "text": [
      "['retrieving figi: BBG000BG7L34 ticker: RYN']\n"
     ]
    },
    {
     "name": "stderr",
     "output_type": "stream",
     "text": [
      "\r",
      " 31%|██████████████████████████████████████▍                                                                                    | 401/1285 [2:04:38<4:09:22, 16.93s/it]"
     ]
    },
    {
     "name": "stdout",
     "output_type": "stream",
     "text": [
      "['retrieving figi: BBG000BCJ161 ticker: SRPT']\n"
     ]
    },
    {
     "name": "stderr",
     "output_type": "stream",
     "text": [
      "\r",
      " 31%|██████████████████████████████████████▍                                                                                    | 402/1285 [2:04:58<4:20:59, 17.73s/it]"
     ]
    },
    {
     "name": "stdout",
     "output_type": "stream",
     "text": [
      "['retrieving figi: BBG000N7KJX8 ticker: DOCU']\n"
     ]
    },
    {
     "name": "stderr",
     "output_type": "stream",
     "text": [
      "\r",
      " 31%|██████████████████████████████████████▌                                                                                    | 403/1285 [2:05:17<4:26:28, 18.13s/it]"
     ]
    },
    {
     "name": "stdout",
     "output_type": "stream",
     "text": [
      "['retrieving figi: BBG00KMYC574 ticker: PS']\n"
     ]
    },
    {
     "name": "stderr",
     "output_type": "stream",
     "text": [
      "\r",
      " 31%|██████████████████████████████████████▋                                                                                    | 404/1285 [2:05:36<4:30:05, 18.39s/it]"
     ]
    },
    {
     "name": "stdout",
     "output_type": "stream",
     "text": [
      "['retrieving figi: BBG000F61RJ8 ticker: ACM']\n"
     ]
    },
    {
     "name": "stderr",
     "output_type": "stream",
     "text": [
      "\r",
      " 32%|██████████████████████████████████████▊                                                                                    | 405/1285 [2:05:54<4:27:51, 18.26s/it]"
     ]
    },
    {
     "name": "stdout",
     "output_type": "stream",
     "text": [
      "['retrieving figi: BBG000R4Y9C1 ticker: AVLR']\n"
     ]
    },
    {
     "name": "stderr",
     "output_type": "stream",
     "text": [
      "\r",
      " 32%|██████████████████████████████████████▊                                                                                    | 406/1285 [2:06:11<4:23:39, 18.00s/it]"
     ]
    },
    {
     "name": "stdout",
     "output_type": "stream",
     "text": [
      "['retrieving figi: BBG005CPNTQ2 ticker: KHC']\n"
     ]
    },
    {
     "name": "stderr",
     "output_type": "stream",
     "text": [
      "\r",
      " 32%|██████████████████████████████████████▉                                                                                    | 407/1285 [2:06:32<4:36:15, 18.88s/it]"
     ]
    },
    {
     "name": "stdout",
     "output_type": "stream",
     "text": [
      "['retrieving figi: BBG000N7MZ06 ticker: HUBS']\n"
     ]
    },
    {
     "name": "stderr",
     "output_type": "stream",
     "text": [
      "\r",
      " 32%|███████████████████████████████████████                                                                                    | 408/1285 [2:06:49<4:29:14, 18.42s/it]"
     ]
    },
    {
     "name": "stdout",
     "output_type": "stream",
     "text": [
      "['retrieving figi: BBG000R3RKT8 ticker: BEAT']\n"
     ]
    },
    {
     "name": "stderr",
     "output_type": "stream",
     "text": [
      "\r",
      " 32%|███████████████████████████████████████▏                                                                                   | 409/1285 [2:07:05<4:17:08, 17.61s/it]"
     ]
    },
    {
     "name": "stdout",
     "output_type": "stream",
     "text": [
      "['retrieving figi: BBG000BNJHS8 ticker: LUV']\n"
     ]
    },
    {
     "name": "stderr",
     "output_type": "stream",
     "text": [
      "\r",
      " 32%|███████████████████████████████████████▏                                                                                   | 410/1285 [2:07:25<4:26:27, 18.27s/it]"
     ]
    },
    {
     "name": "stdout",
     "output_type": "stream",
     "text": [
      "['retrieving figi: BBG000BKTXF2 ticker: BECN']\n"
     ]
    },
    {
     "name": "stderr",
     "output_type": "stream",
     "text": [
      "\r",
      " 32%|███████████████████████████████████████▎                                                                                   | 411/1285 [2:07:42<4:22:54, 18.05s/it]"
     ]
    },
    {
     "name": "stdout",
     "output_type": "stream",
     "text": [
      "['retrieving figi: BBG001M8HHB7 ticker: TRIP']\n"
     ]
    },
    {
     "name": "stderr",
     "output_type": "stream",
     "text": [
      "\r",
      " 32%|███████████████████████████████████████▍                                                                                   | 412/1285 [2:08:05<4:42:11, 19.39s/it]"
     ]
    },
    {
     "name": "stdout",
     "output_type": "stream",
     "text": [
      "['retrieving figi: BBG000BNPS52 ticker: TRMB']\n"
     ]
    },
    {
     "name": "stderr",
     "output_type": "stream",
     "text": [
      "\r",
      " 32%|███████████████████████████████████████▌                                                                                   | 413/1285 [2:08:24<4:41:29, 19.37s/it]"
     ]
    },
    {
     "name": "stdout",
     "output_type": "stream",
     "text": [
      "['retrieving figi: BBG000BD2NY8 ticker: BF.B']\n"
     ]
    },
    {
     "name": "stderr",
     "output_type": "stream",
     "text": [
      "\r",
      " 32%|███████████████████████████████████████▋                                                                                   | 414/1285 [2:08:42<4:35:30, 18.98s/it]"
     ]
    },
    {
     "name": "stdout",
     "output_type": "stream",
     "text": [
      "['retrieving figi: BBG000DQBZJ7 ticker: ATGE']\n"
     ]
    },
    {
     "name": "stderr",
     "output_type": "stream",
     "text": [
      "\r",
      " 32%|███████████████████████████████████████▋                                                                                   | 415/1285 [2:08:58<4:23:34, 18.18s/it]"
     ]
    },
    {
     "name": "stdout",
     "output_type": "stream",
     "text": [
      "['retrieving figi: BBG000PKWCQ7 ticker: MRKV']\n"
     ]
    },
    {
     "name": "stderr",
     "output_type": "stream",
     "text": [
      "\r",
      " 32%|███████████████████████████████████████▊                                                                                   | 416/1285 [2:09:16<4:21:48, 18.08s/it]"
     ]
    },
    {
     "name": "stdout",
     "output_type": "stream",
     "text": [
      "['retrieving figi: BBG000Q49F45 ticker: CHEP']\n"
     ]
    },
    {
     "name": "stderr",
     "output_type": "stream",
     "text": [
      "\r",
      " 32%|███████████████████████████████████████▉                                                                                   | 417/1285 [2:09:29<4:00:09, 16.60s/it]"
     ]
    },
    {
     "name": "stdout",
     "output_type": "stream",
     "text": [
      "['retrieving figi: BBG00H1CY328 ticker: PETQ']\n"
     ]
    },
    {
     "name": "stderr",
     "output_type": "stream",
     "text": [
      "\r",
      " 33%|████████████████████████████████████████                                                                                   | 418/1285 [2:09:45<3:54:45, 16.25s/it]"
     ]
    },
    {
     "name": "stdout",
     "output_type": "stream",
     "text": [
      "['retrieving figi: BBG000BQDF10 ticker: LEVI']\n"
     ]
    },
    {
     "name": "stderr",
     "output_type": "stream",
     "text": [
      "\r",
      " 33%|████████████████████████████████████████                                                                                   | 419/1285 [2:10:03<4:02:36, 16.81s/it]"
     ]
    },
    {
     "name": "stdout",
     "output_type": "stream",
     "text": [
      "['retrieving figi: BBG000NSCNT7 ticker: PFG']\n"
     ]
    },
    {
     "name": "stderr",
     "output_type": "stream",
     "text": [
      "\r",
      " 33%|████████████████████████████████████████▏                                                                                  | 420/1285 [2:10:22<4:10:51, 17.40s/it]"
     ]
    },
    {
     "name": "stdout",
     "output_type": "stream",
     "text": [
      "['retrieving figi: BBG000BGTX98 ticker: MINI']\n"
     ]
    },
    {
     "name": "stderr",
     "output_type": "stream",
     "text": [
      "\r",
      " 33%|████████████████████████████████████████▎                                                                                  | 421/1285 [2:10:38<4:07:14, 17.17s/it]"
     ]
    },
    {
     "name": "stdout",
     "output_type": "stream",
     "text": [
      "['retrieving figi: BBG00333FYS2 ticker: IQV']\n"
     ]
    },
    {
     "name": "stderr",
     "output_type": "stream",
     "text": [
      "\r",
      " 33%|████████████████████████████████████████▍                                                                                  | 422/1285 [2:10:58<4:18:14, 17.95s/it]"
     ]
    },
    {
     "name": "stdout",
     "output_type": "stream",
     "text": [
      "['retrieving figi: BBG000CTM4J9 ticker: CRI']\n"
     ]
    },
    {
     "name": "stderr",
     "output_type": "stream",
     "text": [
      "\r",
      " 33%|████████████████████████████████████████▍                                                                                  | 423/1285 [2:11:15<4:11:19, 17.49s/it]"
     ]
    },
    {
     "name": "stdout",
     "output_type": "stream",
     "text": [
      "['retrieving figi: BBG000BPXVJ6 ticker: RSG']\n"
     ]
    },
    {
     "name": "stderr",
     "output_type": "stream",
     "text": [
      "\r",
      " 33%|████████████████████████████████████████▌                                                                                  | 424/1285 [2:11:35<4:23:18, 18.35s/it]"
     ]
    },
    {
     "name": "stdout",
     "output_type": "stream",
     "text": [
      "['retrieving figi: BBG000BNTW77 ticker: PRAA']\n"
     ]
    },
    {
     "name": "stderr",
     "output_type": "stream",
     "text": [
      "\r",
      " 33%|████████████████████████████████████████▋                                                                                  | 425/1285 [2:11:51<4:13:11, 17.66s/it]"
     ]
    },
    {
     "name": "stdout",
     "output_type": "stream",
     "text": [
      "['retrieving figi: BBG000BK67C7 ticker: GD']\n"
     ]
    },
    {
     "name": "stderr",
     "output_type": "stream",
     "text": [
      "\r",
      " 33%|████████████████████████████████████████▊                                                                                  | 426/1285 [2:12:12<4:26:00, 18.58s/it]"
     ]
    },
    {
     "name": "stdout",
     "output_type": "stream",
     "text": [
      "['retrieving figi: BBG009S39JX6 ticker: GOOGL']\n"
     ]
    },
    {
     "name": "stderr",
     "output_type": "stream",
     "text": [
      "\r",
      " 33%|████████████████████████████████████████▊                                                                                  | 427/1285 [2:12:35<4:46:09, 20.01s/it]"
     ]
    },
    {
     "name": "stdout",
     "output_type": "stream",
     "text": [
      "['retrieving figi: BBG000C22QV7 ticker: SEE']\n"
     ]
    },
    {
     "name": "stderr",
     "output_type": "stream",
     "text": [
      "\r",
      " 33%|████████████████████████████████████████▉                                                                                  | 428/1285 [2:12:54<4:40:29, 19.64s/it]"
     ]
    },
    {
     "name": "stdout",
     "output_type": "stream",
     "text": [
      "['retrieving figi: BBG000BKXBV7 ticker: ARNA']\n"
     ]
    },
    {
     "name": "stderr",
     "output_type": "stream",
     "text": [
      "\r",
      " 33%|█████████████████████████████████████████                                                                                  | 429/1285 [2:13:13<4:38:39, 19.53s/it]"
     ]
    },
    {
     "name": "stdout",
     "output_type": "stream",
     "text": [
      "['retrieving figi: BBG000F7RCJ1 ticker: AAP']\n"
     ]
    },
    {
     "name": "stderr",
     "output_type": "stream",
     "text": [
      "\r",
      " 33%|█████████████████████████████████████████▏                                                                                 | 430/1285 [2:13:33<4:40:24, 19.68s/it]"
     ]
    },
    {
     "name": "stdout",
     "output_type": "stream",
     "text": [
      "['retrieving figi: BBG001BP77C3 ticker: QADA']\n"
     ]
    },
    {
     "name": "stderr",
     "output_type": "stream",
     "text": [
      "\r",
      " 34%|█████████████████████████████████████████▎                                                                                 | 431/1285 [2:13:44<4:03:18, 17.09s/it]"
     ]
    },
    {
     "name": "stdout",
     "output_type": "stream",
     "text": [
      "['retrieving figi: BBG000C1XVK6 ticker: RE']\n"
     ]
    },
    {
     "name": "stderr",
     "output_type": "stream",
     "text": [
      "\r",
      " 34%|█████████████████████████████████████████▎                                                                                 | 432/1285 [2:14:02<4:04:06, 17.17s/it]"
     ]
    },
    {
     "name": "stdout",
     "output_type": "stream",
     "text": [
      "['retrieving figi: BBG000QW1WH0 ticker: KBTK']\n"
     ]
    },
    {
     "name": "stderr",
     "output_type": "stream",
     "text": [
      "\r",
      " 34%|█████████████████████████████████████████▍                                                                                 | 433/1285 [2:14:12<3:34:19, 15.09s/it]"
     ]
    },
    {
     "name": "stdout",
     "output_type": "stream",
     "text": [
      "['retrieving figi: BBG0026ZGPW3 ticker: FSCT']\n"
     ]
    },
    {
     "name": "stderr",
     "output_type": "stream",
     "text": [
      "\r",
      " 34%|█████████████████████████████████████████▌                                                                                 | 434/1285 [2:14:30<3:45:37, 15.91s/it]"
     ]
    },
    {
     "name": "stdout",
     "output_type": "stream",
     "text": [
      "['retrieving figi: BBG000BQC9V2 ticker: NWL']\n"
     ]
    },
    {
     "name": "stderr",
     "output_type": "stream",
     "text": [
      "\r",
      " 34%|█████████████████████████████████████████▋                                                                                 | 435/1285 [2:14:48<3:55:13, 16.60s/it]"
     ]
    },
    {
     "name": "stdout",
     "output_type": "stream",
     "text": [
      "['retrieving figi: BBG000BHB3M6 ticker: DOV']\n"
     ]
    },
    {
     "name": "stderr",
     "output_type": "stream",
     "text": [
      "\r",
      " 34%|█████████████████████████████████████████▋                                                                                 | 436/1285 [2:15:09<4:12:04, 17.81s/it]"
     ]
    },
    {
     "name": "stdout",
     "output_type": "stream",
     "text": [
      "['retrieving figi: BBG000D898T9 ticker: CAH']\n"
     ]
    },
    {
     "name": "stderr",
     "output_type": "stream",
     "text": [
      "\r",
      " 34%|█████████████████████████████████████████▊                                                                                 | 437/1285 [2:15:28<4:17:47, 18.24s/it]"
     ]
    },
    {
     "name": "stdout",
     "output_type": "stream",
     "text": [
      "['retrieving figi: BBG000BXNJ07 ticker: CY']\n"
     ]
    },
    {
     "name": "stderr",
     "output_type": "stream",
     "text": [
      "\r",
      " 34%|█████████████████████████████████████████▉                                                                                 | 438/1285 [2:15:43<4:04:45, 17.34s/it]"
     ]
    },
    {
     "name": "stdout",
     "output_type": "stream",
     "text": [
      "['retrieving figi: BBG006JS5785 ticker: CDNA']\n"
     ]
    },
    {
     "name": "stderr",
     "output_type": "stream",
     "text": [
      "\r",
      " 34%|██████████████████████████████████████████                                                                                 | 439/1285 [2:16:01<4:08:05, 17.59s/it]"
     ]
    },
    {
     "name": "stdout",
     "output_type": "stream",
     "text": [
      "['retrieving figi: BBG000BBVJZ8 ticker: DVN']\n"
     ]
    },
    {
     "name": "stderr",
     "output_type": "stream",
     "text": [
      "\r",
      " 34%|██████████████████████████████████████████                                                                                 | 440/1285 [2:16:21<4:15:24, 18.14s/it]"
     ]
    },
    {
     "name": "stdout",
     "output_type": "stream",
     "text": [
      "['retrieving figi: BBG000BP4MH0 ticker: MMC']\n"
     ]
    },
    {
     "name": "stderr",
     "output_type": "stream",
     "text": [
      "\r",
      " 34%|██████████████████████████████████████████▏                                                                                | 441/1285 [2:16:40<4:20:22, 18.51s/it]"
     ]
    },
    {
     "name": "stdout",
     "output_type": "stream",
     "text": [
      "['retrieving figi: BBG000BL9C59 ticker: MAC']\n"
     ]
    },
    {
     "name": "stderr",
     "output_type": "stream",
     "text": [
      "\r",
      " 34%|██████████████████████████████████████████▎                                                                                | 442/1285 [2:17:00<4:24:44, 18.84s/it]"
     ]
    },
    {
     "name": "stdout",
     "output_type": "stream",
     "text": [
      "['retrieving figi: BBG00B6WH9G3 ticker: MTCH']\n"
     ]
    },
    {
     "name": "stderr",
     "output_type": "stream",
     "text": [
      "\r",
      " 34%|██████████████████████████████████████████▍                                                                                | 443/1285 [2:17:19<4:25:50, 18.94s/it]"
     ]
    },
    {
     "name": "stdout",
     "output_type": "stream",
     "text": [
      "['retrieving figi: BBG000BP8Z50 ticker: MSI']\n"
     ]
    },
    {
     "name": "stderr",
     "output_type": "stream",
     "text": [
      "\r",
      " 35%|██████████████████████████████████████████▍                                                                                | 444/1285 [2:17:39<4:30:52, 19.33s/it]"
     ]
    },
    {
     "name": "stdout",
     "output_type": "stream",
     "text": [
      "['retrieving figi: BBG000BNHSP9 ticker: JEF']\n"
     ]
    },
    {
     "name": "stderr",
     "output_type": "stream",
     "text": [
      "\r",
      " 35%|██████████████████████████████████████████▌                                                                                | 445/1285 [2:17:56<4:21:59, 18.71s/it]"
     ]
    },
    {
     "name": "stdout",
     "output_type": "stream",
     "text": [
      "['retrieving figi: BBG0035LY913 ticker: NWSA']\n"
     ]
    },
    {
     "name": "stderr",
     "output_type": "stream",
     "text": [
      "\r",
      " 35%|██████████████████████████████████████████▋                                                                                | 446/1285 [2:18:14<4:17:21, 18.40s/it]"
     ]
    },
    {
     "name": "stdout",
     "output_type": "stream",
     "text": [
      "['retrieving figi: BBG00B6G7GL7 ticker: AXSM']\n"
     ]
    },
    {
     "name": "stderr",
     "output_type": "stream",
     "text": [
      "\r",
      " 35%|██████████████████████████████████████████▊                                                                                | 447/1285 [2:18:33<4:20:39, 18.66s/it]"
     ]
    },
    {
     "name": "stdout",
     "output_type": "stream",
     "text": [
      "['retrieving figi: BBG000J0D904 ticker: BIG']\n"
     ]
    },
    {
     "name": "stderr",
     "output_type": "stream",
     "text": [
      "\r",
      " 35%|██████████████████████████████████████████▉                                                                                | 448/1285 [2:18:51<4:18:21, 18.52s/it]"
     ]
    },
    {
     "name": "stdout",
     "output_type": "stream",
     "text": [
      "['retrieving figi: BBG001J2M542 ticker: VCYT']\n"
     ]
    },
    {
     "name": "stderr",
     "output_type": "stream",
     "text": [
      "\r",
      " 35%|██████████████████████████████████████████▉                                                                                | 449/1285 [2:19:08<4:11:24, 18.04s/it]"
     ]
    },
    {
     "name": "stdout",
     "output_type": "stream",
     "text": [
      "['retrieving figi: BBG000BBQCY0 ticker: AMD']\n"
     ]
    },
    {
     "name": "stderr",
     "output_type": "stream",
     "text": [
      "\r",
      " 35%|███████████████████████████████████████████                                                                                | 450/1285 [2:19:41<5:11:22, 22.37s/it]"
     ]
    },
    {
     "name": "stdout",
     "output_type": "stream",
     "text": [
      "['retrieving figi: BBG001B4BV87 ticker: FBHS']\n"
     ]
    },
    {
     "name": "stderr",
     "output_type": "stream",
     "text": [
      "\r",
      " 35%|███████████████████████████████████████████▏                                                                               | 451/1285 [2:19:59<4:52:50, 21.07s/it]"
     ]
    },
    {
     "name": "stdout",
     "output_type": "stream",
     "text": [
      "['retrieving figi: BBG000BPBVW5 ticker: CGNX']\n"
     ]
    },
    {
     "name": "stderr",
     "output_type": "stream",
     "text": [
      "\r",
      " 35%|███████████████████████████████████████████▎                                                                               | 452/1285 [2:20:16<4:37:52, 20.02s/it]"
     ]
    },
    {
     "name": "stdout",
     "output_type": "stream",
     "text": [
      "['retrieving figi: BBG00FYCQ352 ticker: PUMP']\n"
     ]
    },
    {
     "name": "stderr",
     "output_type": "stream",
     "text": [
      "\r",
      " 35%|███████████████████████████████████████████▎                                                                               | 453/1285 [2:20:36<4:34:48, 19.82s/it]"
     ]
    },
    {
     "name": "stdout",
     "output_type": "stream",
     "text": [
      "['retrieving figi: BBG004S68B31 ticker: ALRS']\n"
     ]
    },
    {
     "name": "stderr",
     "output_type": "stream",
     "text": [
      "\r",
      " 35%|███████████████████████████████████████████▍                                                                               | 454/1285 [2:20:56<4:35:22, 19.88s/it]"
     ]
    },
    {
     "name": "stdout",
     "output_type": "stream",
     "text": [
      "['retrieving figi: BBG000BKQG80 ticker: IAC']\n"
     ]
    },
    {
     "name": "stderr",
     "output_type": "stream",
     "text": [
      "\r",
      " 35%|███████████████████████████████████████████▌                                                                               | 455/1285 [2:21:15<4:30:15, 19.54s/it]"
     ]
    },
    {
     "name": "stdout",
     "output_type": "stream",
     "text": [
      "['retrieving figi: BBG000BCMBG4 ticker: FTNT']\n"
     ]
    },
    {
     "name": "stderr",
     "output_type": "stream",
     "text": [
      "\r",
      " 35%|███████████████████████████████████████████▋                                                                               | 456/1285 [2:21:33<4:26:18, 19.27s/it]"
     ]
    },
    {
     "name": "stdout",
     "output_type": "stream",
     "text": [
      "['retrieving figi: BBG000BLCPY4 ticker: HP']\n"
     ]
    },
    {
     "name": "stderr",
     "output_type": "stream",
     "text": [
      "\r",
      " 36%|███████████████████████████████████████████▋                                                                               | 457/1285 [2:21:51<4:21:27, 18.95s/it]"
     ]
    },
    {
     "name": "stdout",
     "output_type": "stream",
     "text": [
      "['retrieving figi: BBG00K53L394 ticker: ETRN']\n"
     ]
    },
    {
     "name": "stderr",
     "output_type": "stream",
     "text": [
      "\r",
      " 36%|███████████████████████████████████████████▊                                                                               | 458/1285 [2:22:11<4:25:10, 19.24s/it]"
     ]
    },
    {
     "name": "stdout",
     "output_type": "stream",
     "text": [
      "['retrieving figi: BBG000BX2YN2 ticker: WWW']\n"
     ]
    },
    {
     "name": "stderr",
     "output_type": "stream",
     "text": [
      "\r",
      " 36%|███████████████████████████████████████████▉                                                                               | 459/1285 [2:22:30<4:21:18, 18.98s/it]"
     ]
    },
    {
     "name": "stdout",
     "output_type": "stream",
     "text": [
      "['retrieving figi: BBG000BHFHP8 ticker: UFS']\n"
     ]
    },
    {
     "name": "stderr",
     "output_type": "stream",
     "text": [
      "\r",
      " 36%|████████████████████████████████████████████                                                                               | 460/1285 [2:22:47<4:13:40, 18.45s/it]"
     ]
    },
    {
     "name": "stdout",
     "output_type": "stream",
     "text": [
      "['retrieving figi: BBG00MJDR6J9 ticker: LEGH']\n"
     ]
    },
    {
     "name": "stderr",
     "output_type": "stream",
     "text": [
      "\r",
      " 36%|████████████████████████████████████████████▏                                                                              | 461/1285 [2:22:58<3:41:33, 16.13s/it]"
     ]
    },
    {
     "name": "stdout",
     "output_type": "stream",
     "text": [
      "['retrieving figi: BBG00HY28P97 ticker: GTX']\n"
     ]
    },
    {
     "name": "stderr",
     "output_type": "stream",
     "text": [
      "\r",
      " 36%|████████████████████████████████████████████▏                                                                              | 462/1285 [2:23:16<3:49:34, 16.74s/it]"
     ]
    },
    {
     "name": "stdout",
     "output_type": "stream",
     "text": [
      "['retrieving figi: BBG000C04224 ticker: CBRE']\n"
     ]
    },
    {
     "name": "stderr",
     "output_type": "stream",
     "text": [
      "\r",
      " 36%|████████████████████████████████████████████▎                                                                              | 463/1285 [2:23:36<4:03:57, 17.81s/it]"
     ]
    },
    {
     "name": "stdout",
     "output_type": "stream",
     "text": [
      "['retrieving figi: BBG000BCFNR4 ticker: CEA']\n"
     ]
    },
    {
     "name": "stderr",
     "output_type": "stream",
     "text": [
      "\r",
      " 36%|████████████████████████████████████████████▍                                                                              | 464/1285 [2:23:47<3:33:47, 15.62s/it]"
     ]
    },
    {
     "name": "stdout",
     "output_type": "stream",
     "text": [
      "['retrieving figi: BBG006Q52RD0 ticker: LNTH']\n"
     ]
    },
    {
     "name": "stderr",
     "output_type": "stream",
     "text": [
      "\r",
      " 36%|████████████████████████████████████████████▌                                                                              | 465/1285 [2:24:03<3:37:53, 15.94s/it]"
     ]
    },
    {
     "name": "stdout",
     "output_type": "stream",
     "text": [
      "['retrieving figi: BBG000DCGRL8 ticker: IPGP']\n"
     ]
    },
    {
     "name": "stderr",
     "output_type": "stream",
     "text": [
      "\r",
      " 36%|████████████████████████████████████████████▌                                                                              | 466/1285 [2:24:22<3:47:18, 16.65s/it]"
     ]
    },
    {
     "name": "stdout",
     "output_type": "stream",
     "text": [
      "['retrieving figi: BBG000CMRVH1 ticker: ACH']\n"
     ]
    },
    {
     "name": "stderr",
     "output_type": "stream",
     "text": [
      "\r",
      " 36%|████████████████████████████████████████████▋                                                                              | 467/1285 [2:24:35<3:33:51, 15.69s/it]"
     ]
    },
    {
     "name": "stdout",
     "output_type": "stream",
     "text": [
      "['retrieving figi: BBG000BR2TH3 ticker: PG']\n"
     ]
    },
    {
     "name": "stderr",
     "output_type": "stream",
     "text": [
      "\r",
      " 36%|████████████████████████████████████████████▊                                                                              | 468/1285 [2:24:56<3:53:56, 17.18s/it]"
     ]
    },
    {
     "name": "stdout",
     "output_type": "stream",
     "text": [
      "['retrieving figi: BBG000BJX8C8 ticker: NOV']\n"
     ]
    },
    {
     "name": "stderr",
     "output_type": "stream",
     "text": [
      "\r",
      " 36%|████████████████████████████████████████████▉                                                                              | 469/1285 [2:25:17<4:09:19, 18.33s/it]"
     ]
    },
    {
     "name": "stdout",
     "output_type": "stream",
     "text": [
      "['retrieving figi: BBG002458LF8 ticker: SELG']\n"
     ]
    },
    {
     "name": "stderr",
     "output_type": "stream",
     "text": [
      "\r",
      " 37%|████████████████████████████████████████████▉                                                                              | 470/1285 [2:25:31<3:53:37, 17.20s/it]"
     ]
    },
    {
     "name": "stdout",
     "output_type": "stream",
     "text": [
      "['retrieving figi: BBG000BZX1N5 ticker: AIZ']\n"
     ]
    },
    {
     "name": "stderr",
     "output_type": "stream",
     "text": [
      "\r",
      " 37%|█████████████████████████████████████████████                                                                              | 471/1285 [2:25:49<3:55:22, 17.35s/it]"
     ]
    },
    {
     "name": "stdout",
     "output_type": "stream",
     "text": [
      "['retrieving figi: BBG000BFD605 ticker: CENT']\n"
     ]
    },
    {
     "name": "stderr",
     "output_type": "stream",
     "text": [
      "\r",
      " 37%|█████████████████████████████████████████████▏                                                                             | 472/1285 [2:26:02<3:39:28, 16.20s/it]"
     ]
    },
    {
     "name": "stdout",
     "output_type": "stream",
     "text": [
      "['retrieving figi: BBG000BLF8D2 ticker: HRL']\n"
     ]
    },
    {
     "name": "stderr",
     "output_type": "stream",
     "text": [
      "\r",
      " 37%|█████████████████████████████████████████████▎                                                                             | 473/1285 [2:26:21<3:50:37, 17.04s/it]"
     ]
    },
    {
     "name": "stdout",
     "output_type": "stream",
     "text": [
      "['retrieving figi: BBG000FV28W9 ticker: LOPE']\n"
     ]
    },
    {
     "name": "stderr",
     "output_type": "stream",
     "text": [
      "\r",
      " 37%|█████████████████████████████████████████████▎                                                                             | 474/1285 [2:26:40<3:56:39, 17.51s/it]"
     ]
    },
    {
     "name": "stdout",
     "output_type": "stream",
     "text": [
      "['retrieving figi: BBG00JRH1P95 ticker: WHD']\n"
     ]
    },
    {
     "name": "stderr",
     "output_type": "stream",
     "text": [
      "\r",
      " 37%|█████████████████████████████████████████████▍                                                                             | 475/1285 [2:26:55<3:47:30, 16.85s/it]"
     ]
    },
    {
     "name": "stdout",
     "output_type": "stream",
     "text": [
      "['retrieving figi: BBG00GQK3WB5 ticker: SMAR']\n"
     ]
    },
    {
     "name": "stderr",
     "output_type": "stream",
     "text": [
      "\r",
      " 37%|█████████████████████████████████████████████▌                                                                             | 476/1285 [2:27:14<3:53:24, 17.31s/it]"
     ]
    },
    {
     "name": "stdout",
     "output_type": "stream",
     "text": [
      "['retrieving figi: BBG000GW06J7 ticker: EBS']\n"
     ]
    },
    {
     "name": "stderr",
     "output_type": "stream",
     "text": [
      "\r",
      " 37%|█████████████████████████████████████████████▋                                                                             | 477/1285 [2:27:33<3:59:46, 17.81s/it]"
     ]
    },
    {
     "name": "stdout",
     "output_type": "stream",
     "text": [
      "['retrieving figi: BBG000Q3JN03 ticker: RF']\n"
     ]
    },
    {
     "name": "stderr",
     "output_type": "stream",
     "text": [
      "\r",
      " 37%|█████████████████████████████████████████████▊                                                                             | 478/1285 [2:27:52<4:05:29, 18.25s/it]"
     ]
    },
    {
     "name": "stdout",
     "output_type": "stream",
     "text": [
      "['retrieving figi: BBG000BF8CN3 ticker: ANDE']\n"
     ]
    },
    {
     "name": "stderr",
     "output_type": "stream",
     "text": [
      "\r",
      " 37%|█████████████████████████████████████████████▊                                                                             | 479/1285 [2:28:07<3:52:04, 17.28s/it]"
     ]
    },
    {
     "name": "stdout",
     "output_type": "stream",
     "text": [
      "['retrieving figi: BBG000NJGX84 ticker: ADUS']\n"
     ]
    },
    {
     "name": "stderr",
     "output_type": "stream",
     "text": [
      "\r",
      " 37%|█████████████████████████████████████████████▉                                                                             | 480/1285 [2:28:21<3:40:26, 16.43s/it]"
     ]
    },
    {
     "name": "stdout",
     "output_type": "stream",
     "text": [
      "['retrieving figi: BBG00R4ZKPN5 ticker: NTCO']\n"
     ]
    },
    {
     "name": "stderr",
     "output_type": "stream",
     "text": [
      "\r",
      " 37%|██████████████████████████████████████████████                                                                             | 481/1285 [2:28:39<3:42:45, 16.62s/it]"
     ]
    },
    {
     "name": "stdout",
     "output_type": "stream",
     "text": [
      "['retrieving figi: BBG000R7RDB4 ticker: CXO']\n"
     ]
    },
    {
     "name": "stderr",
     "output_type": "stream",
     "text": [
      "\r",
      " 38%|██████████████████████████████████████████████▏                                                                            | 482/1285 [2:28:58<3:55:02, 17.56s/it]"
     ]
    },
    {
     "name": "stdout",
     "output_type": "stream",
     "text": [
      "['retrieving figi: BBG000FFDM15 ticker: USB']\n"
     ]
    },
    {
     "name": "stderr",
     "output_type": "stream",
     "text": [
      "\r",
      " 38%|██████████████████████████████████████████████▏                                                                            | 483/1285 [2:29:17<4:00:29, 17.99s/it]"
     ]
    },
    {
     "name": "stdout",
     "output_type": "stream",
     "text": [
      "['retrieving figi: BBG000BKCFC2 ticker: GIS']\n"
     ]
    },
    {
     "name": "stderr",
     "output_type": "stream",
     "text": [
      "\r",
      " 38%|██████████████████████████████████████████████▎                                                                            | 484/1285 [2:29:37<4:08:13, 18.59s/it]"
     ]
    },
    {
     "name": "stdout",
     "output_type": "stream",
     "text": [
      "['retrieving figi: BBG000BL9JQ1 ticker: HFC']\n"
     ]
    },
    {
     "name": "stderr",
     "output_type": "stream",
     "text": [
      "\r",
      " 38%|██████████████████████████████████████████████▍                                                                            | 485/1285 [2:29:57<4:11:31, 18.86s/it]"
     ]
    },
    {
     "name": "stdout",
     "output_type": "stream",
     "text": [
      "['retrieving figi: BBG000D9V7T4 ticker: AAN']\n"
     ]
    },
    {
     "name": "stderr",
     "output_type": "stream",
     "text": [
      "\r",
      " 38%|██████████████████████████████████████████████▌                                                                            | 486/1285 [2:30:16<4:13:36, 19.04s/it]"
     ]
    },
    {
     "name": "stdout",
     "output_type": "stream",
     "text": [
      "['retrieving figi: BBG000BKYVF0 ticker: HCSG']\n"
     ]
    },
    {
     "name": "stderr",
     "output_type": "stream",
     "text": [
      "\r",
      " 38%|██████████████████████████████████████████████▌                                                                            | 487/1285 [2:30:36<4:16:09, 19.26s/it]"
     ]
    },
    {
     "name": "stdout",
     "output_type": "stream",
     "text": [
      "['retrieving figi: BBG000FX3Y66 ticker: PGTI']\n"
     ]
    },
    {
     "name": "stderr",
     "output_type": "stream",
     "text": [
      "\r",
      " 38%|██████████████████████████████████████████████▋                                                                            | 488/1285 [2:30:48<3:48:07, 17.17s/it]"
     ]
    },
    {
     "name": "stdout",
     "output_type": "stream",
     "text": [
      "['retrieving figi: BBG003PS7JV1 ticker: ALLE']\n"
     ]
    },
    {
     "name": "stderr",
     "output_type": "stream",
     "text": [
      "\r",
      " 38%|██████████████████████████████████████████████▊                                                                            | 489/1285 [2:31:08<3:59:28, 18.05s/it]"
     ]
    },
    {
     "name": "stdout",
     "output_type": "stream",
     "text": [
      "['retrieving figi: BBG000BX57K1 ticker: XRAY']\n"
     ]
    },
    {
     "name": "stderr",
     "output_type": "stream",
     "text": [
      "\r",
      " 38%|██████████████████████████████████████████████▉                                                                            | 490/1285 [2:31:27<4:01:56, 18.26s/it]"
     ]
    },
    {
     "name": "stdout",
     "output_type": "stream",
     "text": [
      "['retrieving figi: BBG000RTHVK7 ticker: GCHE']\n"
     ]
    },
    {
     "name": "stderr",
     "output_type": "stream",
     "text": [
      "\r",
      " 38%|██████████████████████████████████████████████▉                                                                            | 491/1285 [2:31:40<3:40:39, 16.67s/it]"
     ]
    },
    {
     "name": "stdout",
     "output_type": "stream",
     "text": [
      "['retrieving figi: BBG000H8R0N8 ticker: RXN']\n"
     ]
    },
    {
     "name": "stderr",
     "output_type": "stream",
     "text": [
      "\r",
      " 38%|███████████████████████████████████████████████                                                                            | 492/1285 [2:31:56<3:38:21, 16.52s/it]"
     ]
    },
    {
     "name": "stdout",
     "output_type": "stream",
     "text": [
      "['retrieving figi: BBG0082W8Q12 ticker: GCP']\n"
     ]
    },
    {
     "name": "stderr",
     "output_type": "stream",
     "text": [
      "\r",
      " 38%|███████████████████████████████████████████████▏                                                                           | 493/1285 [2:32:10<3:28:06, 15.77s/it]"
     ]
    },
    {
     "name": "stdout",
     "output_type": "stream",
     "text": [
      "['retrieving figi: BBG000BP0HX7 ticker: SUPN']\n"
     ]
    },
    {
     "name": "stderr",
     "output_type": "stream",
     "text": [
      "\r",
      " 38%|███████████████████████████████████████████████▎                                                                           | 494/1285 [2:32:28<3:34:10, 16.25s/it]"
     ]
    },
    {
     "name": "stdout",
     "output_type": "stream",
     "text": [
      "['retrieving figi: BBG000BC2C10 ticker: APA']\n"
     ]
    },
    {
     "name": "stderr",
     "output_type": "stream",
     "text": [
      "\r",
      " 39%|███████████████████████████████████████████████▍                                                                           | 495/1285 [2:32:48<3:51:59, 17.62s/it]"
     ]
    },
    {
     "name": "stdout",
     "output_type": "stream",
     "text": [
      "['retrieving figi: BBG000BWFH48 ticker: HSKA']\n"
     ]
    },
    {
     "name": "stderr",
     "output_type": "stream",
     "text": [
      "\r",
      " 39%|███████████████████████████████████████████████▍                                                                           | 496/1285 [2:33:01<3:29:32, 15.94s/it]"
     ]
    },
    {
     "name": "stdout",
     "output_type": "stream",
     "text": [
      "['retrieving figi: BBG000CZ8W54 ticker: HALO']\n"
     ]
    },
    {
     "name": "stderr",
     "output_type": "stream",
     "text": [
      "\r",
      " 39%|███████████████████████████████████████████████▌                                                                           | 497/1285 [2:33:18<3:35:19, 16.40s/it]"
     ]
    },
    {
     "name": "stdout",
     "output_type": "stream",
     "text": [
      "['retrieving figi: BBG000BMHYD1 ticker: JNJ']\n"
     ]
    },
    {
     "name": "stderr",
     "output_type": "stream",
     "text": [
      "\r",
      " 39%|███████████████████████████████████████████████▋                                                                           | 498/1285 [2:33:39<3:53:24, 17.79s/it]"
     ]
    },
    {
     "name": "stdout",
     "output_type": "stream",
     "text": [
      "['retrieving figi: BBG000BX5YM0 ticker: HNP']\n"
     ]
    },
    {
     "name": "stderr",
     "output_type": "stream",
     "text": [
      "\r",
      " 39%|███████████████████████████████████████████████▊                                                                           | 499/1285 [2:33:49<3:22:49, 15.48s/it]"
     ]
    },
    {
     "name": "stdout",
     "output_type": "stream",
     "text": [
      "['retrieving figi: BBG000MM2P62 ticker: FB']\n"
     ]
    },
    {
     "name": "stderr",
     "output_type": "stream",
     "text": [
      "\r",
      " 39%|███████████████████████████████████████████████▊                                                                           | 500/1285 [2:34:15<4:03:20, 18.60s/it]"
     ]
    },
    {
     "name": "stdout",
     "output_type": "stream",
     "text": [
      "['retrieving figi: BBG000BWNFZ9 ticker: WDC']\n"
     ]
    },
    {
     "name": "stderr",
     "output_type": "stream",
     "text": [
      "\r",
      " 39%|███████████████████████████████████████████████▉                                                                           | 501/1285 [2:34:37<4:14:27, 19.47s/it]"
     ]
    },
    {
     "name": "stdout",
     "output_type": "stream",
     "text": [
      "['retrieving figi: BBG00JH9TZ56 ticker: APY']\n"
     ]
    },
    {
     "name": "stderr",
     "output_type": "stream",
     "text": [
      "\r",
      " 39%|████████████████████████████████████████████████                                                                           | 502/1285 [2:34:53<4:01:48, 18.53s/it]"
     ]
    },
    {
     "name": "stdout",
     "output_type": "stream",
     "text": [
      "['retrieving figi: BBG00212PVZ5 ticker: PSTG']\n"
     ]
    },
    {
     "name": "stderr",
     "output_type": "stream",
     "text": [
      "\r",
      " 39%|████████████████████████████████████████████████▏                                                                          | 503/1285 [2:35:12<4:03:13, 18.66s/it]"
     ]
    },
    {
     "name": "stdout",
     "output_type": "stream",
     "text": [
      "['retrieving figi: BBG000VQWH86 ticker: BLNG']\n"
     ]
    },
    {
     "name": "stderr",
     "output_type": "stream",
     "text": [
      "\r",
      " 39%|████████████████████████████████████████████████▏                                                                          | 504/1285 [2:35:24<3:36:10, 16.61s/it]"
     ]
    },
    {
     "name": "stdout",
     "output_type": "stream",
     "text": [
      "['retrieving figi: BBG00JM7QBR6 ticker: PAGS']\n"
     ]
    },
    {
     "name": "stderr",
     "output_type": "stream",
     "text": [
      "\r",
      " 39%|████████████████████████████████████████████████▎                                                                          | 505/1285 [2:35:42<3:41:39, 17.05s/it]"
     ]
    },
    {
     "name": "stdout",
     "output_type": "stream",
     "text": [
      "['retrieving figi: BBG004S687W8 ticker: MSNG']\n"
     ]
    },
    {
     "name": "stderr",
     "output_type": "stream",
     "text": [
      "\r",
      " 39%|████████████████████████████████████████████████▍                                                                          | 506/1285 [2:35:59<3:44:15, 17.27s/it]"
     ]
    },
    {
     "name": "stdout",
     "output_type": "stream",
     "text": [
      "['retrieving figi: BBG000BV0VK7 ticker: TDS']\n"
     ]
    },
    {
     "name": "stderr",
     "output_type": "stream",
     "text": [
      "\r",
      " 39%|████████████████████████████████████████████████▌                                                                          | 507/1285 [2:36:17<3:43:14, 17.22s/it]"
     ]
    },
    {
     "name": "stdout",
     "output_type": "stream",
     "text": [
      "['retrieving figi: BBG001KHJM17 ticker: FIVN']\n"
     ]
    },
    {
     "name": "stderr",
     "output_type": "stream",
     "text": [
      "\r",
      " 40%|████████████████████████████████████████████████▋                                                                          | 508/1285 [2:36:35<3:46:36, 17.50s/it]"
     ]
    },
    {
     "name": "stdout",
     "output_type": "stream",
     "text": [
      "['retrieving figi: BBG000BHR1H9 ticker: SHI']\n"
     ]
    },
    {
     "name": "stderr",
     "output_type": "stream",
     "text": [
      "\r",
      " 40%|████████████████████████████████████████████████▋                                                                          | 509/1285 [2:36:46<3:20:35, 15.51s/it]"
     ]
    },
    {
     "name": "stdout",
     "output_type": "stream",
     "text": [
      "['retrieving figi: BBG000BRJ809 ticker: PPG']\n"
     ]
    },
    {
     "name": "stderr",
     "output_type": "stream",
     "text": [
      "\r",
      " 40%|████████████████████████████████████████████████▊                                                                          | 510/1285 [2:37:04<3:32:10, 16.43s/it]"
     ]
    },
    {
     "name": "stdout",
     "output_type": "stream",
     "text": [
      "['retrieving figi: BBG000BK5DP1 ticker: TGNA']\n"
     ]
    },
    {
     "name": "stderr",
     "output_type": "stream",
     "text": [
      "\r",
      " 40%|████████████████████████████████████████████████▉                                                                          | 511/1285 [2:37:23<3:40:00, 17.05s/it]"
     ]
    },
    {
     "name": "stdout",
     "output_type": "stream",
     "text": [
      "['retrieving figi: BBG000BT5PG5 ticker: SMG']\n"
     ]
    },
    {
     "name": "stderr",
     "output_type": "stream",
     "text": [
      "\r",
      " 40%|█████████████████████████████████████████████████                                                                          | 512/1285 [2:37:41<3:44:17, 17.41s/it]"
     ]
    },
    {
     "name": "stdout",
     "output_type": "stream",
     "text": [
      "['retrieving figi: BBG000BHCP19 ticker: MCHP']\n"
     ]
    },
    {
     "name": "stderr",
     "output_type": "stream",
     "text": [
      "\r",
      " 40%|█████████████████████████████████████████████████                                                                          | 513/1285 [2:38:01<3:52:31, 18.07s/it]"
     ]
    },
    {
     "name": "stdout",
     "output_type": "stream",
     "text": [
      "['retrieving figi: BBG000BS7KS3 ticker: TAP']\n"
     ]
    },
    {
     "name": "stderr",
     "output_type": "stream",
     "text": [
      "\r",
      " 40%|█████████████████████████████████████████████████▏                                                                         | 514/1285 [2:38:19<3:54:04, 18.22s/it]"
     ]
    },
    {
     "name": "stdout",
     "output_type": "stream",
     "text": [
      "['retrieving figi: BBG000BQZMH4 ticker: PEG']\n"
     ]
    },
    {
     "name": "stderr",
     "output_type": "stream",
     "text": [
      "\r",
      " 40%|█████████████████████████████████████████████████▎                                                                         | 515/1285 [2:38:38<3:56:59, 18.47s/it]"
     ]
    },
    {
     "name": "stdout",
     "output_type": "stream",
     "text": [
      "['retrieving figi: BBG004S68829 ticker: TATNP']\n"
     ]
    },
    {
     "name": "stderr",
     "output_type": "stream",
     "text": [
      "\r",
      " 40%|█████████████████████████████████████████████████▍                                                                         | 516/1285 [2:38:58<4:01:52, 18.87s/it]"
     ]
    },
    {
     "name": "stdout",
     "output_type": "stream",
     "text": [
      "['retrieving figi: BBG000BMY992 ticker: KR']\n"
     ]
    },
    {
     "name": "stderr",
     "output_type": "stream",
     "text": [
      "\r",
      " 40%|█████████████████████████████████████████████████▍                                                                         | 517/1285 [2:39:17<4:03:36, 19.03s/it]"
     ]
    },
    {
     "name": "stdout",
     "output_type": "stream",
     "text": [
      "['retrieving figi: BBG0058KMH30 ticker: HLT']\n"
     ]
    },
    {
     "name": "stderr",
     "output_type": "stream",
     "text": [
      "\r",
      " 40%|█████████████████████████████████████████████████▌                                                                         | 518/1285 [2:39:38<4:07:46, 19.38s/it]"
     ]
    },
    {
     "name": "stdout",
     "output_type": "stream",
     "text": [
      "['retrieving figi: BBG000DM2BF3 ticker: SNBR']\n"
     ]
    },
    {
     "name": "stderr",
     "output_type": "stream",
     "text": [
      "\r",
      " 40%|█████████████████████████████████████████████████▋                                                                         | 519/1285 [2:39:53<3:53:11, 18.27s/it]"
     ]
    },
    {
     "name": "stdout",
     "output_type": "stream",
     "text": [
      "['retrieving figi: BBG000BJBZ23 ticker: MKTX']\n"
     ]
    },
    {
     "name": "stderr",
     "output_type": "stream",
     "text": [
      "\r",
      " 40%|█████████████████████████████████████████████████▊                                                                         | 520/1285 [2:40:12<3:55:08, 18.44s/it]"
     ]
    },
    {
     "name": "stdout",
     "output_type": "stream",
     "text": [
      "['retrieving figi: BBG000B9Z0J8 ticker: PLD']\n"
     ]
    },
    {
     "name": "stderr",
     "output_type": "stream",
     "text": [
      "\r",
      " 41%|█████████████████████████████████████████████████▊                                                                         | 521/1285 [2:40:31<3:54:51, 18.44s/it]"
     ]
    },
    {
     "name": "stdout",
     "output_type": "stream",
     "text": [
      "['retrieving figi: BBG0047315D0 ticker: SNGS']\n"
     ]
    },
    {
     "name": "stderr",
     "output_type": "stream",
     "text": [
      "\r",
      " 41%|█████████████████████████████████████████████████▉                                                                         | 522/1285 [2:40:50<3:58:37, 18.76s/it]"
     ]
    },
    {
     "name": "stdout",
     "output_type": "stream",
     "text": [
      "['retrieving figi: BBG000BGYMH7 ticker: MLM']\n"
     ]
    },
    {
     "name": "stderr",
     "output_type": "stream",
     "text": [
      "\r",
      " 41%|██████████████████████████████████████████████████                                                                         | 523/1285 [2:41:10<4:00:57, 18.97s/it]"
     ]
    },
    {
     "name": "stdout",
     "output_type": "stream",
     "text": [
      "['retrieving figi: BBG000BV8DN6 ticker: TJX']\n"
     ]
    },
    {
     "name": "stderr",
     "output_type": "stream",
     "text": [
      "\r",
      " 41%|██████████████████████████████████████████████████▏                                                                        | 524/1285 [2:41:28<4:00:32, 18.97s/it]"
     ]
    },
    {
     "name": "stdout",
     "output_type": "stream",
     "text": [
      "['retrieving figi: BBG000BTQR96 ticker: SWK']\n"
     ]
    },
    {
     "name": "stderr",
     "output_type": "stream",
     "text": [
      "\r",
      " 41%|██████████████████████████████████████████████████▎                                                                        | 525/1285 [2:41:47<4:00:17, 18.97s/it]"
     ]
    },
    {
     "name": "stdout",
     "output_type": "stream",
     "text": [
      "['retrieving figi: BBG000BQLM34 ticker: THRM']\n"
     ]
    },
    {
     "name": "stderr",
     "output_type": "stream",
     "text": [
      "\r",
      " 41%|██████████████████████████████████████████████████▎                                                                        | 526/1285 [2:42:00<3:35:03, 17.00s/it]"
     ]
    },
    {
     "name": "stdout",
     "output_type": "stream",
     "text": [
      "['retrieving figi: BBG00BN96922 ticker: DOW']\n"
     ]
    },
    {
     "name": "stderr",
     "output_type": "stream",
     "text": [
      "\r",
      " 41%|██████████████████████████████████████████████████▍                                                                        | 527/1285 [2:42:20<3:45:34, 17.86s/it]"
     ]
    },
    {
     "name": "stdout",
     "output_type": "stream",
     "text": [
      "['retrieving figi: BBG008NVB1C0 ticker: MNST']\n"
     ]
    },
    {
     "name": "stderr",
     "output_type": "stream",
     "text": [
      "\r",
      " 41%|██████████████████████████████████████████████████▌                                                                        | 528/1285 [2:42:43<4:04:37, 19.39s/it]"
     ]
    },
    {
     "name": "stdout",
     "output_type": "stream",
     "text": [
      "['retrieving figi: BBG000RYC984 ticker: BUD']\n"
     ]
    },
    {
     "name": "stderr",
     "output_type": "stream",
     "text": [
      "\r",
      " 41%|██████████████████████████████████████████████████▋                                                                        | 529/1285 [2:43:10<4:33:37, 21.72s/it]"
     ]
    },
    {
     "name": "stdout",
     "output_type": "stream",
     "text": [
      "['retrieving figi: BBG000BBDV81 ticker: CTSH']\n"
     ]
    },
    {
     "name": "stderr",
     "output_type": "stream",
     "text": [
      "\r",
      " 41%|██████████████████████████████████████████████████▋                                                                        | 530/1285 [2:43:34<4:42:07, 22.42s/it]"
     ]
    },
    {
     "name": "stdout",
     "output_type": "stream",
     "text": [
      "['retrieving figi: BBG000R2YFG7 ticker: BAH']\n"
     ]
    },
    {
     "name": "stderr",
     "output_type": "stream",
     "text": [
      "\r",
      " 41%|██████████████████████████████████████████████████▊                                                                        | 531/1285 [2:43:57<4:44:07, 22.61s/it]"
     ]
    },
    {
     "name": "stdout",
     "output_type": "stream",
     "text": [
      "['retrieving figi: BBG001K003W2 ticker: BAND']\n"
     ]
    },
    {
     "name": "stderr",
     "output_type": "stream",
     "text": [
      "\r",
      " 41%|██████████████████████████████████████████████████▉                                                                        | 532/1285 [2:44:16<4:30:15, 21.53s/it]"
     ]
    },
    {
     "name": "stdout",
     "output_type": "stream",
     "text": [
      "['retrieving figi: BBG000CWL0F5 ticker: EXAS']\n"
     ]
    },
    {
     "name": "stderr",
     "output_type": "stream",
     "text": [
      "\r",
      " 41%|███████████████████████████████████████████████████                                                                        | 533/1285 [2:44:38<4:32:06, 21.71s/it]"
     ]
    },
    {
     "name": "stdout",
     "output_type": "stream",
     "text": [
      "['retrieving figi: BBG000DBD6F6 ticker: KLSB']\n"
     ]
    },
    {
     "name": "stderr",
     "output_type": "stream",
     "text": [
      "\r",
      " 42%|███████████████████████████████████████████████████                                                                        | 534/1285 [2:44:50<3:53:42, 18.67s/it]"
     ]
    },
    {
     "name": "stdout",
     "output_type": "stream",
     "text": [
      "['retrieving figi: BBG000BKLH74 ticker: GPS']\n"
     ]
    },
    {
     "name": "stderr",
     "output_type": "stream",
     "text": [
      "\r",
      " 42%|███████████████████████████████████████████████████▏                                                                       | 535/1285 [2:45:13<4:11:57, 20.16s/it]"
     ]
    },
    {
     "name": "stdout",
     "output_type": "stream",
     "text": [
      "['retrieving figi: BBG000PVGDH9 ticker: TTM']\n"
     ]
    },
    {
     "name": "stderr",
     "output_type": "stream",
     "text": [
      "\r",
      " 42%|███████████████████████████████████████████████████▎                                                                       | 536/1285 [2:45:30<3:57:13, 19.00s/it]"
     ]
    },
    {
     "name": "stdout",
     "output_type": "stream",
     "text": [
      "['retrieving figi: BBG000L4M7F1 ticker: RMD']\n"
     ]
    },
    {
     "name": "stderr",
     "output_type": "stream",
     "text": [
      "\r",
      " 42%|███████████████████████████████████████████████████▍                                                                       | 537/1285 [2:45:47<3:52:08, 18.62s/it]"
     ]
    },
    {
     "name": "stdout",
     "output_type": "stream",
     "text": [
      "['retrieving figi: BBG0019GM953 ticker: JELD']\n"
     ]
    },
    {
     "name": "stderr",
     "output_type": "stream",
     "text": [
      "\r",
      " 42%|███████████████████████████████████████████████████▍                                                                       | 538/1285 [2:46:07<3:57:28, 19.07s/it]"
     ]
    },
    {
     "name": "stdout",
     "output_type": "stream",
     "text": [
      "['retrieving figi: BBG000HG21Y3 ticker: NUS']\n"
     ]
    },
    {
     "name": "stderr",
     "output_type": "stream",
     "text": [
      "\r",
      " 42%|███████████████████████████████████████████████████▌                                                                       | 539/1285 [2:46:27<4:00:14, 19.32s/it]"
     ]
    },
    {
     "name": "stdout",
     "output_type": "stream",
     "text": [
      "['retrieving figi: BBG00FZYFVC5 ticker: DK']\n"
     ]
    },
    {
     "name": "stderr",
     "output_type": "stream",
     "text": [
      "\r",
      " 42%|███████████████████████████████████████████████████▋                                                                       | 540/1285 [2:46:47<4:01:58, 19.49s/it]"
     ]
    },
    {
     "name": "stdout",
     "output_type": "stream",
     "text": [
      "['retrieving figi: BBG009PH3Q86 ticker: RACE']\n"
     ]
    },
    {
     "name": "stderr",
     "output_type": "stream",
     "text": [
      "\r",
      " 42%|███████████████████████████████████████████████████▊                                                                       | 541/1285 [2:47:05<3:54:46, 18.93s/it]"
     ]
    },
    {
     "name": "stdout",
     "output_type": "stream",
     "text": [
      "['retrieving figi: BBG000BY29C7 ticker: TPR']\n"
     ]
    },
    {
     "name": "stderr",
     "output_type": "stream",
     "text": [
      "\r",
      " 42%|███████████████████████████████████████████████████▉                                                                       | 542/1285 [2:47:29<4:12:25, 20.38s/it]"
     ]
    },
    {
     "name": "stdout",
     "output_type": "stream",
     "text": [
      "['retrieving figi: BBG000BKPL53 ticker: ZBH']\n"
     ]
    },
    {
     "name": "stderr",
     "output_type": "stream",
     "text": [
      "\r",
      " 42%|███████████████████████████████████████████████████▉                                                                       | 543/1285 [2:47:54<4:31:17, 21.94s/it]"
     ]
    },
    {
     "name": "stdout",
     "output_type": "stream",
     "text": [
      "['retrieving figi: BBG000CN5CJ3 ticker: RP']\n"
     ]
    },
    {
     "name": "stderr",
     "output_type": "stream",
     "text": [
      "\r",
      " 42%|████████████████████████████████████████████████████                                                                       | 544/1285 [2:48:15<4:27:52, 21.69s/it]"
     ]
    },
    {
     "name": "stdout",
     "output_type": "stream",
     "text": [
      "['retrieving figi: BBG000BFT2L4 ticker: CMCSA']\n"
     ]
    },
    {
     "name": "stderr",
     "output_type": "stream",
     "text": [
      "\r",
      " 42%|████████████████████████████████████████████████████▏                                                                      | 545/1285 [2:48:44<4:52:27, 23.71s/it]"
     ]
    },
    {
     "name": "stdout",
     "output_type": "stream",
     "text": [
      "['retrieving figi: BBG000BFGNJ5 ticker: ALNY']\n"
     ]
    },
    {
     "name": "stderr",
     "output_type": "stream",
     "text": [
      "\r",
      " 42%|████████████████████████████████████████████████████▎                                                                      | 546/1285 [2:49:18<5:31:12, 26.89s/it]"
     ]
    },
    {
     "name": "stdout",
     "output_type": "stream",
     "text": [
      "['retrieving figi: BBG005NMB2L4 ticker: AIMT']\n"
     ]
    },
    {
     "name": "stderr",
     "output_type": "stream",
     "text": [
      "\r",
      " 43%|████████████████████████████████████████████████████▎                                                                      | 547/1285 [2:49:55<6:08:37, 29.97s/it]"
     ]
    },
    {
     "name": "stdout",
     "output_type": "stream",
     "text": [
      "['retrieving figi: BBG001B12Z39 ticker: TCMD']\n"
     ]
    },
    {
     "name": "stderr",
     "output_type": "stream",
     "text": [
      "\r",
      " 43%|████████████████████████████████████████████████████▍                                                                      | 548/1285 [2:50:16<5:33:26, 27.15s/it]"
     ]
    },
    {
     "name": "stdout",
     "output_type": "stream",
     "text": [
      "['retrieving figi: BBG000BF6LY3 ticker: CCL']\n"
     ]
    },
    {
     "name": "stderr",
     "output_type": "stream",
     "text": [
      "\r",
      " 43%|████████████████████████████████████████████████████▌                                                                      | 549/1285 [2:50:50<5:59:23, 29.30s/it]"
     ]
    },
    {
     "name": "stdout",
     "output_type": "stream",
     "text": [
      "['retrieving figi: BBG0020BCPX5 ticker: LASR']\n"
     ]
    },
    {
     "name": "stderr",
     "output_type": "stream",
     "text": [
      "\r",
      " 43%|████████████████████████████████████████████████████▋                                                                      | 550/1285 [2:51:06<5:10:20, 25.33s/it]"
     ]
    },
    {
     "name": "stdout",
     "output_type": "stream",
     "text": [
      "['retrieving figi: BBG007387YL8 ticker: PRAH']\n"
     ]
    },
    {
     "name": "stderr",
     "output_type": "stream",
     "text": [
      "\r",
      " 43%|████████████████████████████████████████████████████▋                                                                      | 551/1285 [2:51:25<4:44:32, 23.26s/it]"
     ]
    },
    {
     "name": "stdout",
     "output_type": "stream",
     "text": [
      "['retrieving figi: BBG003PGJHP5 ticker: TMHC']\n"
     ]
    },
    {
     "name": "stderr",
     "output_type": "stream",
     "text": [
      "\r",
      " 43%|████████████████████████████████████████████████████▊                                                                      | 552/1285 [2:51:48<4:44:50, 23.32s/it]"
     ]
    },
    {
     "name": "stdout",
     "output_type": "stream",
     "text": [
      "['retrieving figi: BBG000BRW644 ticker: EPC']\n"
     ]
    },
    {
     "name": "stderr",
     "output_type": "stream",
     "text": [
      "\r",
      " 43%|████████████████████████████████████████████████████▉                                                                      | 553/1285 [2:52:14<4:55:57, 24.26s/it]"
     ]
    },
    {
     "name": "stdout",
     "output_type": "stream",
     "text": [
      "['retrieving figi: BBG000BLMDQ9 ticker: HXL']\n"
     ]
    },
    {
     "name": "stderr",
     "output_type": "stream",
     "text": [
      "\r",
      " 43%|█████████████████████████████████████████████████████                                                                      | 554/1285 [2:52:42<5:07:41, 25.26s/it]"
     ]
    },
    {
     "name": "stdout",
     "output_type": "stream",
     "text": [
      "['retrieving figi: BBG000BPT0C6 ticker: NBL']\n"
     ]
    },
    {
     "name": "stderr",
     "output_type": "stream",
     "text": [
      "\r",
      " 43%|█████████████████████████████████████████████████████                                                                      | 555/1285 [2:53:11<5:19:30, 26.26s/it]"
     ]
    },
    {
     "name": "stdout",
     "output_type": "stream",
     "text": [
      "['retrieving figi: BBG009Q036D0 ticker: GMS']\n"
     ]
    },
    {
     "name": "stderr",
     "output_type": "stream",
     "text": [
      "\r",
      " 43%|█████████████████████████████████████████████████████▏                                                                     | 556/1285 [2:53:30<4:54:04, 24.20s/it]"
     ]
    },
    {
     "name": "stdout",
     "output_type": "stream",
     "text": [
      "['retrieving figi: BBG000QFH687 ticker: TGKA']\n"
     ]
    },
    {
     "name": "stderr",
     "output_type": "stream",
     "text": [
      "\r",
      " 43%|█████████████████████████████████████████████████████▎                                                                     | 557/1285 [2:54:02<5:22:31, 26.58s/it]"
     ]
    },
    {
     "name": "stdout",
     "output_type": "stream",
     "text": [
      "['retrieving figi: BBG000BBX657 ticker: AMWD']\n"
     ]
    },
    {
     "name": "stderr",
     "output_type": "stream",
     "text": [
      "\r",
      " 43%|█████████████████████████████████████████████████████▍                                                                     | 558/1285 [2:54:20<4:48:18, 23.79s/it]"
     ]
    },
    {
     "name": "stdout",
     "output_type": "stream",
     "text": [
      "['retrieving figi: BBG00FBJ6390 ticker: UPWK']\n"
     ]
    },
    {
     "name": "stderr",
     "output_type": "stream",
     "text": [
      "\r",
      " 44%|█████████████████████████████████████████████████████▌                                                                     | 559/1285 [2:54:41<4:40:39, 23.19s/it]"
     ]
    },
    {
     "name": "stdout",
     "output_type": "stream",
     "text": [
      "['retrieving figi: BBG00359HX70 ticker: ACIA']\n"
     ]
    },
    {
     "name": "stderr",
     "output_type": "stream",
     "text": [
      "\r",
      " 44%|█████████████████████████████████████████████████████▌                                                                     | 560/1285 [2:54:58<4:16:47, 21.25s/it]"
     ]
    },
    {
     "name": "stdout",
     "output_type": "stream",
     "text": [
      "['retrieving figi: BBG000BX3BL3 ticker: WY']\n"
     ]
    },
    {
     "name": "stderr",
     "output_type": "stream",
     "text": [
      "\r",
      " 44%|█████████████████████████████████████████████████████▋                                                                     | 561/1285 [2:55:20<4:18:16, 21.40s/it]"
     ]
    },
    {
     "name": "stdout",
     "output_type": "stream",
     "text": [
      "['retrieving figi: BBG00B8NN386 ticker: GRNT']\n"
     ]
    },
    {
     "name": "stderr",
     "output_type": "stream",
     "text": [
      "\r",
      " 44%|█████████████████████████████████████████████████████▊                                                                     | 562/1285 [2:55:33<3:49:08, 19.02s/it]"
     ]
    },
    {
     "name": "stdout",
     "output_type": "stream",
     "text": [
      "['retrieving figi: BBG000BT13B3 ticker: PRLB']\n"
     ]
    },
    {
     "name": "stderr",
     "output_type": "stream",
     "text": [
      "\r",
      " 44%|█████████████████████████████████████████████████████▉                                                                     | 563/1285 [2:55:49<3:35:42, 17.93s/it]"
     ]
    },
    {
     "name": "stdout",
     "output_type": "stream",
     "text": [
      "['retrieving figi: BBG000CKGBP2 ticker: GILD']\n"
     ]
    },
    {
     "name": "stderr",
     "output_type": "stream",
     "text": [
      "\r",
      " 44%|█████████████████████████████████████████████████████▉                                                                     | 564/1285 [2:56:20<4:23:28, 21.93s/it]"
     ]
    },
    {
     "name": "stdout",
     "output_type": "stream",
     "text": [
      "['retrieving figi: BBG000BB5006 ticker: ADBE']\n"
     ]
    },
    {
     "name": "stderr",
     "output_type": "stream",
     "text": [
      "\r",
      " 44%|██████████████████████████████████████████████████████                                                                     | 565/1285 [2:56:50<4:52:41, 24.39s/it]"
     ]
    },
    {
     "name": "stdout",
     "output_type": "stream",
     "text": [
      "['retrieving figi: BBG000NJ96L6 ticker: RDY']\n"
     ]
    },
    {
     "name": "stderr",
     "output_type": "stream",
     "text": [
      "\r",
      " 44%|██████████████████████████████████████████████████████▏                                                                    | 566/1285 [2:57:03<4:10:33, 20.91s/it]"
     ]
    },
    {
     "name": "stdout",
     "output_type": "stream",
     "text": [
      "['retrieving figi: BBG000BMW2Z0 ticker: KMB']\n"
     ]
    },
    {
     "name": "stderr",
     "output_type": "stream",
     "text": [
      "\r",
      " 44%|██████████████████████████████████████████████████████▎                                                                    | 567/1285 [2:57:27<4:20:44, 21.79s/it]"
     ]
    },
    {
     "name": "stdout",
     "output_type": "stream",
     "text": [
      "['retrieving figi: BBG000F6YP24 ticker: ENRU']\n"
     ]
    },
    {
     "name": "stderr",
     "output_type": "stream",
     "text": [
      "\r",
      " 44%|██████████████████████████████████████████████████████▎                                                                    | 568/1285 [2:58:45<7:43:10, 38.76s/it]"
     ]
    },
    {
     "name": "stdout",
     "output_type": "stream",
     "text": [
      "['retrieving figi: BBG00HY6V6H5 ticker: GTRK']\n"
     ]
    },
    {
     "name": "stderr",
     "output_type": "stream",
     "text": [
      "\r",
      " 44%|██████████████████████████████████████████████████████▍                                                                    | 569/1285 [2:59:02<6:23:29, 32.14s/it]"
     ]
    },
    {
     "name": "stdout",
     "output_type": "stream",
     "text": [
      "['retrieving figi: BBG000BBKZD8 ticker: ANIK']\n"
     ]
    },
    {
     "name": "stderr",
     "output_type": "stream",
     "text": [
      "\r",
      " 44%|██████████████████████████████████████████████████████▌                                                                    | 570/1285 [2:59:22<5:38:59, 28.45s/it]"
     ]
    },
    {
     "name": "stdout",
     "output_type": "stream",
     "text": [
      "['retrieving figi: BBG000BY33P5 ticker: JNPR']\n"
     ]
    },
    {
     "name": "stderr",
     "output_type": "stream",
     "text": [
      "\r",
      " 44%|██████████████████████████████████████████████████████▋                                                                    | 571/1285 [2:59:54<5:51:24, 29.53s/it]"
     ]
    },
    {
     "name": "stdout",
     "output_type": "stream",
     "text": [
      "['retrieving figi: BBG00KT2SCV8 ticker: GSKY']\n"
     ]
    },
    {
     "name": "stderr",
     "output_type": "stream",
     "text": [
      "\r",
      " 45%|██████████████████████████████████████████████████████▊                                                                    | 572/1285 [3:00:13<5:14:04, 26.43s/it]"
     ]
    },
    {
     "name": "stdout",
     "output_type": "stream",
     "text": [
      "['retrieving figi: BBG000BFRF55 ticker: CLF']\n"
     ]
    },
    {
     "name": "stderr",
     "output_type": "stream",
     "text": [
      "\r",
      " 45%|██████████████████████████████████████████████████████▊                                                                    | 573/1285 [3:00:50<5:52:20, 29.69s/it]"
     ]
    },
    {
     "name": "stdout",
     "output_type": "stream",
     "text": [
      "['retrieving figi: BBG00C6H6D40 ticker: USFD']\n"
     ]
    },
    {
     "name": "stderr",
     "output_type": "stream",
     "text": [
      "\r",
      " 45%|██████████████████████████████████████████████████████▉                                                                    | 574/1285 [3:01:12<5:24:30, 27.38s/it]"
     ]
    },
    {
     "name": "stdout",
     "output_type": "stream",
     "text": [
      "['retrieving figi: BBG000BLW102 ticker: IIVI']\n"
     ]
    },
    {
     "name": "stderr",
     "output_type": "stream",
     "text": [
      "\r",
      " 45%|███████████████████████████████████████████████████████                                                                    | 575/1285 [3:01:32<4:56:45, 25.08s/it]"
     ]
    },
    {
     "name": "stdout",
     "output_type": "stream",
     "text": [
      "['retrieving figi: BBG00HPDM5Z2 ticker: SWCH']\n"
     ]
    },
    {
     "name": "stderr",
     "output_type": "stream",
     "text": [
      "\r",
      " 45%|███████████████████████████████████████████████████████▏                                                                   | 576/1285 [3:01:50<4:32:37, 23.07s/it]"
     ]
    },
    {
     "name": "stdout",
     "output_type": "stream",
     "text": [
      "['retrieving figi: BBG000C4QP94 ticker: PRGS']\n"
     ]
    },
    {
     "name": "stderr",
     "output_type": "stream",
     "text": [
      "\r",
      " 45%|███████████████████████████████████████████████████████▏                                                                   | 577/1285 [3:02:09<4:16:57, 21.78s/it]"
     ]
    },
    {
     "name": "stdout",
     "output_type": "stream",
     "text": [
      "['retrieving figi: BBG005Q3MQY4 ticker: ATRA']\n"
     ]
    },
    {
     "name": "stderr",
     "output_type": "stream",
     "text": [
      "\r",
      " 45%|███████████████████████████████████████████████████████▎                                                                   | 578/1285 [3:02:28<4:06:06, 20.89s/it]"
     ]
    },
    {
     "name": "stdout",
     "output_type": "stream",
     "text": [
      "['retrieving figi: BBG000BJ5SS8 ticker: NEU']\n"
     ]
    },
    {
     "name": "stderr",
     "output_type": "stream",
     "text": [
      "\r",
      " 45%|███████████████████████████████████████████████████████▍                                                                   | 579/1285 [3:02:41<3:40:20, 18.73s/it]"
     ]
    },
    {
     "name": "stdout",
     "output_type": "stream",
     "text": [
      "['retrieving figi: BBG000BXMFC3 ticker: URI']\n"
     ]
    },
    {
     "name": "stderr",
     "output_type": "stream",
     "text": [
      "\r",
      " 45%|███████████████████████████████████████████████████████▌                                                                   | 580/1285 [3:03:01<3:41:59, 18.89s/it]"
     ]
    },
    {
     "name": "stdout",
     "output_type": "stream",
     "text": [
      "['retrieving figi: BBG000BVD6X4 ticker: GL']\n"
     ]
    },
    {
     "name": "stderr",
     "output_type": "stream",
     "text": [
      "\r",
      " 45%|███████████████████████████████████████████████████████▌                                                                   | 581/1285 [3:03:20<3:41:44, 18.90s/it]"
     ]
    },
    {
     "name": "stdout",
     "output_type": "stream",
     "text": [
      "['retrieving figi: BBG000BV2BR2 ticker: TECD']\n"
     ]
    },
    {
     "name": "stderr",
     "output_type": "stream",
     "text": [
      "\r",
      " 45%|███████████████████████████████████████████████████████▋                                                                   | 582/1285 [3:03:33<3:23:33, 17.37s/it]"
     ]
    },
    {
     "name": "stdout",
     "output_type": "stream",
     "text": [
      "['retrieving figi: BBG000BMT9T6 ticker: TDY']\n"
     ]
    },
    {
     "name": "stderr",
     "output_type": "stream",
     "text": [
      "\r",
      " 45%|███████████████████████████████████████████████████████▊                                                                   | 583/1285 [3:03:49<3:16:39, 16.81s/it]"
     ]
    },
    {
     "name": "stdout",
     "output_type": "stream",
     "text": [
      "['retrieving figi: BBG00F9XX7H4 ticker: RNFT']\n"
     ]
    },
    {
     "name": "stderr",
     "output_type": "stream",
     "text": [
      "\r",
      " 45%|███████████████████████████████████████████████████████▉                                                                   | 584/1285 [3:04:02<3:04:45, 15.81s/it]"
     ]
    },
    {
     "name": "stdout",
     "output_type": "stream",
     "text": [
      "['retrieving figi: BBG000C7TF41 ticker: HAE']\n"
     ]
    },
    {
     "name": "stderr",
     "output_type": "stream",
     "text": [
      "\r",
      " 46%|███████████████████████████████████████████████████████▉                                                                   | 585/1285 [3:04:20<3:10:34, 16.34s/it]"
     ]
    },
    {
     "name": "stdout",
     "output_type": "stream",
     "text": [
      "['retrieving figi: BBG000BPPN67 ticker: PSA']\n"
     ]
    },
    {
     "name": "stderr",
     "output_type": "stream",
     "text": [
      "\r",
      " 46%|████████████████████████████████████████████████████████                                                                   | 586/1285 [3:04:38<3:17:49, 16.98s/it]"
     ]
    },
    {
     "name": "stdout",
     "output_type": "stream",
     "text": [
      "['retrieving figi: BBG000BRVKH0 ticker: ARWR']\n"
     ]
    },
    {
     "name": "stderr",
     "output_type": "stream",
     "text": [
      "\r",
      " 46%|████████████████████████████████████████████████████████▏                                                                  | 587/1285 [3:04:57<3:23:53, 17.53s/it]"
     ]
    },
    {
     "name": "stdout",
     "output_type": "stream",
     "text": [
      "['retrieving figi: BBG000BJBXZ2 ticker: ZYXI']\n"
     ]
    },
    {
     "name": "stderr",
     "output_type": "stream",
     "text": [
      "\r",
      " 46%|████████████████████████████████████████████████████████▎                                                                  | 588/1285 [3:05:10<3:08:24, 16.22s/it]"
     ]
    },
    {
     "name": "stdout",
     "output_type": "stream",
     "text": [
      "['retrieving figi: BBG000BF33K1 ticker: CBRL']\n"
     ]
    },
    {
     "name": "stderr",
     "output_type": "stream",
     "text": [
      "\r",
      " 46%|████████████████████████████████████████████████████████▍                                                                  | 589/1285 [3:05:27<3:10:11, 16.40s/it]"
     ]
    },
    {
     "name": "stdout",
     "output_type": "stream",
     "text": [
      "['retrieving figi: BBG000BN46R9 ticker: AXGN']\n"
     ]
    },
    {
     "name": "stderr",
     "output_type": "stream",
     "text": [
      "\r",
      " 46%|████████████████████████████████████████████████████████▍                                                                  | 590/1285 [3:05:44<3:10:57, 16.49s/it]"
     ]
    },
    {
     "name": "stdout",
     "output_type": "stream",
     "text": [
      "['retrieving figi: BBG003LYCMB1 ticker: SFIN']\n"
     ]
    },
    {
     "name": "stderr",
     "output_type": "stream",
     "text": [
      "\r",
      " 46%|████████████████████████████████████████████████████████▌                                                                  | 591/1285 [3:05:55<2:52:03, 14.88s/it]"
     ]
    },
    {
     "name": "stdout",
     "output_type": "stream",
     "text": [
      "['retrieving figi: BBG000C5Z1S3 ticker: MU']\n"
     ]
    },
    {
     "name": "stderr",
     "output_type": "stream",
     "text": [
      "\r",
      " 46%|████████████████████████████████████████████████████████▋                                                                  | 592/1285 [3:06:17<3:16:43, 17.03s/it]"
     ]
    },
    {
     "name": "stdout",
     "output_type": "stream",
     "text": [
      "['retrieving figi: BBG004S688G4 ticker: AKRN']\n"
     ]
    },
    {
     "name": "stderr",
     "output_type": "stream",
     "text": [
      "\r",
      " 46%|████████████████████████████████████████████████████████▊                                                                  | 593/1285 [3:06:33<3:12:53, 16.73s/it]"
     ]
    },
    {
     "name": "stdout",
     "output_type": "stream",
     "text": [
      "['retrieving figi: BBG000BKYDP9 ticker: PEAK']\n"
     ]
    },
    {
     "name": "stderr",
     "output_type": "stream",
     "text": [
      "\r",
      " 46%|████████████████████████████████████████████████████████▊                                                                  | 594/1285 [3:06:53<3:22:54, 17.62s/it]"
     ]
    },
    {
     "name": "stdout",
     "output_type": "stream",
     "text": [
      "['retrieving figi: BBG000BCWG90 ticker: KEP']\n"
     ]
    },
    {
     "name": "stderr",
     "output_type": "stream",
     "text": [
      "\r",
      " 46%|████████████████████████████████████████████████████████▉                                                                  | 595/1285 [3:07:04<2:58:47, 15.55s/it]"
     ]
    },
    {
     "name": "stdout",
     "output_type": "stream",
     "text": [
      "['retrieving figi: BBG000BVZP59 ticker: WEX']\n"
     ]
    },
    {
     "name": "stderr",
     "output_type": "stream",
     "text": [
      "\r",
      " 46%|█████████████████████████████████████████████████████████                                                                  | 596/1285 [3:07:21<3:05:20, 16.14s/it]"
     ]
    },
    {
     "name": "stdout",
     "output_type": "stream",
     "text": [
      "['retrieving figi: BBG000BX74M4 ticker: CNXN']\n"
     ]
    },
    {
     "name": "stderr",
     "output_type": "stream",
     "text": [
      "\r",
      " 46%|█████████████████████████████████████████████████████████▏                                                                 | 597/1285 [3:07:34<2:53:58, 15.17s/it]"
     ]
    },
    {
     "name": "stdout",
     "output_type": "stream",
     "text": [
      "['retrieving figi: BBG004RVFCY3 ticker: MGNT']\n"
     ]
    },
    {
     "name": "stderr",
     "output_type": "stream",
     "text": [
      "\r",
      " 47%|█████████████████████████████████████████████████████████▏                                                                 | 598/1285 [3:07:53<3:08:45, 16.49s/it]"
     ]
    },
    {
     "name": "stdout",
     "output_type": "stream",
     "text": [
      "['retrieving figi: BBG009DTD8H2 ticker: UA']\n"
     ]
    },
    {
     "name": "stderr",
     "output_type": "stream",
     "text": [
      "\r",
      " 47%|█████████████████████████████████████████████████████████▎                                                                 | 599/1285 [3:08:12<3:14:07, 16.98s/it]"
     ]
    },
    {
     "name": "stdout",
     "output_type": "stream",
     "text": [
      "['retrieving figi: BBG007N0Z367 ticker: AGRO']\n"
     ]
    },
    {
     "name": "stderr",
     "output_type": "stream",
     "text": [
      "\r",
      " 47%|█████████████████████████████████████████████████████████▍                                                                 | 600/1285 [3:08:30<3:16:56, 17.25s/it]"
     ]
    },
    {
     "name": "stdout",
     "output_type": "stream",
     "text": [
      "['retrieving figi: BBG000BVHBM1 ticker: TOL']\n"
     ]
    },
    {
     "name": "stderr",
     "output_type": "stream",
     "text": [
      "\r",
      " 47%|█████████████████████████████████████████████████████████▌                                                                 | 601/1285 [3:08:48<3:20:34, 17.59s/it]"
     ]
    },
    {
     "name": "stdout",
     "output_type": "stream",
     "text": [
      "['retrieving figi: BBG005BLN209 ticker: DNOW']\n"
     ]
    },
    {
     "name": "stderr",
     "output_type": "stream",
     "text": [
      "\r",
      " 47%|█████████████████████████████████████████████████████████▌                                                                 | 602/1285 [3:09:02<3:09:32, 16.65s/it]"
     ]
    },
    {
     "name": "stdout",
     "output_type": "stream",
     "text": [
      "['retrieving figi: BBG000BCGHH7 ticker: EGHT']\n"
     ]
    },
    {
     "name": "stderr",
     "output_type": "stream",
     "text": [
      "\r",
      " 47%|█████████████████████████████████████████████████████████▋                                                                 | 603/1285 [3:09:21<3:17:16, 17.36s/it]"
     ]
    },
    {
     "name": "stdout",
     "output_type": "stream",
     "text": [
      "['retrieving figi: BBG000BCWWV0 ticker: CMCO']\n"
     ]
    },
    {
     "name": "stderr",
     "output_type": "stream",
     "text": [
      "\r",
      " 47%|█████████████████████████████████████████████████████████▊                                                                 | 604/1285 [3:09:33<2:57:11, 15.61s/it]"
     ]
    },
    {
     "name": "stdout",
     "output_type": "stream",
     "text": [
      "['retrieving figi: BBG000CVWGS6 ticker: ATVI']\n"
     ]
    },
    {
     "name": "stderr",
     "output_type": "stream",
     "text": [
      "\r",
      " 47%|█████████████████████████████████████████████████████████▉                                                                 | 605/1285 [3:09:55<3:19:42, 17.62s/it]"
     ]
    },
    {
     "name": "stdout",
     "output_type": "stream",
     "text": [
      "['retrieving figi: BBG000G25P51 ticker: DIOD']\n"
     ]
    },
    {
     "name": "stderr",
     "output_type": "stream",
     "text": [
      "\r",
      " 47%|██████████████████████████████████████████████████████████                                                                 | 606/1285 [3:10:12<3:16:13, 17.34s/it]"
     ]
    },
    {
     "name": "stdout",
     "output_type": "stream",
     "text": [
      "['retrieving figi: BBG000C2L2L0 ticker: JLL']\n"
     ]
    },
    {
     "name": "stderr",
     "output_type": "stream",
     "text": [
      "\r",
      " 47%|██████████████████████████████████████████████████████████                                                                 | 607/1285 [3:10:29<3:14:01, 17.17s/it]"
     ]
    },
    {
     "name": "stdout",
     "output_type": "stream",
     "text": [
      "['retrieving figi: BBG000BX6BJ3 ticker: Y']\n"
     ]
    },
    {
     "name": "stderr",
     "output_type": "stream",
     "text": [
      "\r",
      " 47%|██████████████████████████████████████████████████████████▏                                                                | 608/1285 [3:10:41<2:58:35, 15.83s/it]"
     ]
    },
    {
     "name": "stdout",
     "output_type": "stream",
     "text": [
      "['retrieving figi: BBG00179VSY7 ticker: VCRA']\n"
     ]
    },
    {
     "name": "stderr",
     "output_type": "stream",
     "text": [
      "\r",
      " 47%|██████████████████████████████████████████████████████████▎                                                                | 609/1285 [3:10:55<2:49:26, 15.04s/it]"
     ]
    },
    {
     "name": "stdout",
     "output_type": "stream",
     "text": [
      "['retrieving figi: BBG000BKRHQ7 ticker: AJRD']\n"
     ]
    },
    {
     "name": "stderr",
     "output_type": "stream",
     "text": [
      "\r",
      " 47%|██████████████████████████████████████████████████████████▍                                                                | 610/1285 [3:11:11<2:53:50, 15.45s/it]"
     ]
    },
    {
     "name": "stdout",
     "output_type": "stream",
     "text": [
      "['retrieving figi: BBG000L8CBX4 ticker: TDG']\n"
     ]
    },
    {
     "name": "stderr",
     "output_type": "stream",
     "text": [
      "\r",
      " 48%|██████████████████████████████████████████████████████████▍                                                                | 611/1285 [3:11:28<2:58:49, 15.92s/it]"
     ]
    },
    {
     "name": "stdout",
     "output_type": "stream",
     "text": [
      "['retrieving figi: BBG000C3NTN5 ticker: HOLX']\n"
     ]
    },
    {
     "name": "stderr",
     "output_type": "stream",
     "text": [
      "\r",
      " 48%|██████████████████████████████████████████████████████████▌                                                                | 612/1285 [3:11:48<3:10:45, 17.01s/it]"
     ]
    },
    {
     "name": "stdout",
     "output_type": "stream",
     "text": [
      "['retrieving figi: BBG000R33BD1 ticker: RETA']\n"
     ]
    },
    {
     "name": "stderr",
     "output_type": "stream",
     "text": [
      "\r",
      " 48%|██████████████████████████████████████████████████████████▋                                                                | 613/1285 [3:12:04<3:09:23, 16.91s/it]"
     ]
    },
    {
     "name": "stdout",
     "output_type": "stream",
     "text": [
      "['retrieving figi: BBG00BN969C1 ticker: CTVA']\n"
     ]
    },
    {
     "name": "stderr",
     "output_type": "stream",
     "text": [
      "\r",
      " 48%|██████████████████████████████████████████████████████████▊                                                                | 614/1285 [3:12:22<3:13:19, 17.29s/it]"
     ]
    },
    {
     "name": "stdout",
     "output_type": "stream",
     "text": [
      "['retrieving figi: BBG000BHG9K0 ticker: ACAD']\n"
     ]
    },
    {
     "name": "stderr",
     "output_type": "stream",
     "text": [
      "\r",
      " 48%|██████████████████████████████████████████████████████████▊                                                                | 615/1285 [3:12:41<3:16:20, 17.58s/it]"
     ]
    },
    {
     "name": "stdout",
     "output_type": "stream",
     "text": [
      "['retrieving figi: BBG001KWG293 ticker: GRUB']\n"
     ]
    },
    {
     "name": "stderr",
     "output_type": "stream",
     "text": [
      "\r",
      " 48%|██████████████████████████████████████████████████████████▉                                                                | 616/1285 [3:13:00<3:20:49, 18.01s/it]"
     ]
    },
    {
     "name": "stdout",
     "output_type": "stream",
     "text": [
      "['retrieving figi: BBG000C23KJ3 ticker: AES']\n"
     ]
    },
    {
     "name": "stderr",
     "output_type": "stream",
     "text": [
      "\r",
      " 48%|███████████████████████████████████████████████████████████                                                                | 617/1285 [3:13:21<3:31:53, 19.03s/it]"
     ]
    },
    {
     "name": "stdout",
     "output_type": "stream",
     "text": [
      "['retrieving figi: BBG000BJP882 ticker: FMC']\n"
     ]
    },
    {
     "name": "stderr",
     "output_type": "stream",
     "text": [
      "\r",
      " 48%|███████████████████████████████████████████████████████████▏                                                               | 618/1285 [3:13:40<3:32:42, 19.13s/it]"
     ]
    },
    {
     "name": "stdout",
     "output_type": "stream",
     "text": [
      "['retrieving figi: BBG000QSXPZ9 ticker: LRN']\n"
     ]
    },
    {
     "name": "stderr",
     "output_type": "stream",
     "text": [
      "\r",
      " 48%|███████████████████████████████████████████████████████████▎                                                               | 619/1285 [3:13:55<3:15:54, 17.65s/it]"
     ]
    },
    {
     "name": "stdout",
     "output_type": "stream",
     "text": [
      "['retrieving figi: BBG000CC53X1 ticker: OSK']\n"
     ]
    },
    {
     "name": "stderr",
     "output_type": "stream",
     "text": [
      "\r",
      " 48%|███████████████████████████████████████████████████████████▎                                                               | 620/1285 [3:14:14<3:21:36, 18.19s/it]"
     ]
    },
    {
     "name": "stdout",
     "output_type": "stream",
     "text": [
      "['retrieving figi: BBG000BNMHS4 ticker: MAN']\n"
     ]
    },
    {
     "name": "stderr",
     "output_type": "stream",
     "text": [
      "\r",
      " 48%|███████████████████████████████████████████████████████████▍                                                               | 621/1285 [3:14:32<3:19:07, 17.99s/it]"
     ]
    },
    {
     "name": "stdout",
     "output_type": "stream",
     "text": [
      "['retrieving figi: BBG000C46HM9 ticker: M']\n"
     ]
    },
    {
     "name": "stderr",
     "output_type": "stream",
     "text": [
      "\r",
      " 48%|███████████████████████████████████████████████████████████▌                                                               | 622/1285 [3:14:57<3:43:24, 20.22s/it]"
     ]
    },
    {
     "name": "stdout",
     "output_type": "stream",
     "text": [
      "['retrieving figi: BBG000BKTFN2 ticker: HAL']\n"
     ]
    },
    {
     "name": "stderr",
     "output_type": "stream",
     "text": [
      "\r",
      " 48%|███████████████████████████████████████████████████████████▋                                                               | 623/1285 [3:15:18<3:44:19, 20.33s/it]"
     ]
    },
    {
     "name": "stdout",
     "output_type": "stream",
     "text": [
      "['retrieving figi: BBG000D9DMK0 ticker: LH']\n"
     ]
    },
    {
     "name": "stderr",
     "output_type": "stream",
     "text": [
      "\r",
      " 49%|███████████████████████████████████████████████████████████▋                                                               | 624/1285 [3:15:35<3:34:29, 19.47s/it]"
     ]
    },
    {
     "name": "stdout",
     "output_type": "stream",
     "text": [
      "['retrieving figi: BBG000BDD940 ticker: WAB']\n"
     ]
    },
    {
     "name": "stderr",
     "output_type": "stream",
     "text": [
      "\r",
      " 49%|███████████████████████████████████████████████████████████▊                                                               | 625/1285 [3:15:53<3:28:36, 18.96s/it]"
     ]
    },
    {
     "name": "stdout",
     "output_type": "stream",
     "text": [
      "['retrieving figi: BBG000Q2HM09 ticker: YELP']\n"
     ]
    },
    {
     "name": "stderr",
     "output_type": "stream",
     "text": [
      "\r",
      " 49%|███████████████████████████████████████████████████████████▉                                                               | 626/1285 [3:16:10<3:22:20, 18.42s/it]"
     ]
    },
    {
     "name": "stdout",
     "output_type": "stream",
     "text": [
      "['retrieving figi: BBG000QXWHD1 ticker: BIDU']\n"
     ]
    },
    {
     "name": "stderr",
     "output_type": "stream",
     "text": [
      "\r",
      " 49%|████████████████████████████████████████████████████████████                                                               | 627/1285 [3:16:36<3:46:10, 20.62s/it]"
     ]
    },
    {
     "name": "stdout",
     "output_type": "stream",
     "text": [
      "['retrieving figi: BBG000BDXCJ5 ticker: CNC']\n"
     ]
    },
    {
     "name": "stderr",
     "output_type": "stream",
     "text": [
      "\r",
      " 49%|████████████████████████████████████████████████████████████                                                               | 628/1285 [3:16:57<3:46:46, 20.71s/it]"
     ]
    },
    {
     "name": "stdout",
     "output_type": "stream",
     "text": [
      "['retrieving figi: BBG000BNFLM9 ticker: LRCX']\n"
     ]
    },
    {
     "name": "stderr",
     "output_type": "stream",
     "text": [
      "\r",
      " 49%|████████████████████████████████████████████████████████████▏                                                              | 629/1285 [3:17:22<4:02:14, 22.16s/it]"
     ]
    },
    {
     "name": "stdout",
     "output_type": "stream",
     "text": [
      "['retrieving figi: BBG005F1DK91 ticker: GTHX']\n"
     ]
    },
    {
     "name": "stderr",
     "output_type": "stream",
     "text": [
      "\r",
      " 49%|████████████████████████████████████████████████████████████▎                                                              | 630/1285 [3:17:42<3:54:39, 21.50s/it]"
     ]
    },
    {
     "name": "stdout",
     "output_type": "stream",
     "text": [
      "['retrieving figi: BBG000FJ0RK9 ticker: LPL']\n"
     ]
    },
    {
     "name": "stderr",
     "output_type": "stream",
     "text": [
      "\r",
      " 49%|████████████████████████████████████████████████████████████▍                                                              | 631/1285 [3:17:56<3:30:42, 19.33s/it]"
     ]
    },
    {
     "name": "stdout",
     "output_type": "stream",
     "text": [
      "['retrieving figi: BBG000BLRT07 ticker: IDXX']\n"
     ]
    },
    {
     "name": "stderr",
     "output_type": "stream",
     "text": [
      "\r",
      " 49%|████████████████████████████████████████████████████████████▍                                                              | 632/1285 [3:18:17<3:34:54, 19.75s/it]"
     ]
    },
    {
     "name": "stdout",
     "output_type": "stream",
     "text": [
      "['retrieving figi: BBG003LFWP05 ticker: BFAM']\n"
     ]
    },
    {
     "name": "stderr",
     "output_type": "stream",
     "text": [
      "\r",
      " 49%|████████████████████████████████████████████████████████████▌                                                              | 633/1285 [3:18:33<3:22:29, 18.63s/it]"
     ]
    },
    {
     "name": "stdout",
     "output_type": "stream",
     "text": [
      "['retrieving figi: BBG000BRNLL2 ticker: ALGN']\n"
     ]
    },
    {
     "name": "stderr",
     "output_type": "stream",
     "text": [
      "\r",
      " 49%|████████████████████████████████████████████████████████████▋                                                              | 634/1285 [3:18:56<3:37:05, 20.01s/it]"
     ]
    },
    {
     "name": "stdout",
     "output_type": "stream",
     "text": [
      "['retrieving figi: BBG000BCSST7 ticker: BA']\n"
     ]
    },
    {
     "name": "stderr",
     "output_type": "stream",
     "text": [
      "\r",
      " 49%|████████████████████████████████████████████████████████████▊                                                              | 635/1285 [3:19:34<4:32:20, 25.14s/it]"
     ]
    },
    {
     "name": "stdout",
     "output_type": "stream",
     "text": [
      "['retrieving figi: BBG000QP35H2 ticker: FATE']\n"
     ]
    },
    {
     "name": "stderr",
     "output_type": "stream",
     "text": [
      "\r",
      " 49%|████████████████████████████████████████████████████████████▉                                                              | 636/1285 [3:19:59<4:31:25, 25.09s/it]"
     ]
    },
    {
     "name": "stdout",
     "output_type": "stream",
     "text": [
      "['retrieving figi: BBG0029SNR63 ticker: CPRI']\n"
     ]
    },
    {
     "name": "stderr",
     "output_type": "stream",
     "text": [
      "\r",
      " 50%|████████████████████████████████████████████████████████████▉                                                              | 637/1285 [3:20:23<4:28:02, 24.82s/it]"
     ]
    },
    {
     "name": "stdout",
     "output_type": "stream",
     "text": [
      "['retrieving figi: BBG001J2QYS9 ticker: CARA']\n"
     ]
    },
    {
     "name": "stderr",
     "output_type": "stream",
     "text": [
      "\r",
      " 50%|█████████████████████████████████████████████████████████████                                                              | 638/1285 [3:20:43<4:11:23, 23.31s/it]"
     ]
    },
    {
     "name": "stdout",
     "output_type": "stream",
     "text": [
      "['retrieving figi: BBG000BSJK37 ticker: T']\n"
     ]
    },
    {
     "name": "stderr",
     "output_type": "stream",
     "text": [
      "\r",
      " 50%|█████████████████████████████████████████████████████████████▏                                                             | 639/1285 [3:21:06<4:11:23, 23.35s/it]"
     ]
    },
    {
     "name": "stdout",
     "output_type": "stream",
     "text": [
      "['retrieving figi: BBG000BQLTW7 ticker: ORCL']\n"
     ]
    },
    {
     "name": "stderr",
     "output_type": "stream",
     "text": [
      "\r",
      " 50%|█████████████████████████████████████████████████████████████▎                                                             | 640/1285 [3:21:29<4:08:26, 23.11s/it]"
     ]
    },
    {
     "name": "stdout",
     "output_type": "stream",
     "text": [
      "['retrieving figi: BBG000HL7499 ticker: WOR']\n"
     ]
    },
    {
     "name": "stderr",
     "output_type": "stream",
     "text": [
      "\r",
      " 50%|█████████████████████████████████████████████████████████████▎                                                             | 641/1285 [3:21:49<3:58:54, 22.26s/it]"
     ]
    },
    {
     "name": "stdout",
     "output_type": "stream",
     "text": [
      "['retrieving figi: BBG000PCQQL6 ticker: QRTEA']\n"
     ]
    },
    {
     "name": "stderr",
     "output_type": "stream",
     "text": [
      "\r",
      " 50%|█████████████████████████████████████████████████████████████▍                                                             | 642/1285 [3:22:13<4:05:27, 22.90s/it]"
     ]
    },
    {
     "name": "stdout",
     "output_type": "stream",
     "text": [
      "['retrieving figi: BBG000LNHHJ9 ticker: KMAZ']\n"
     ]
    },
    {
     "name": "stderr",
     "output_type": "stream",
     "text": [
      "\r",
      " 50%|█████████████████████████████████████████████████████████████▌                                                             | 643/1285 [3:22:28<3:37:56, 20.37s/it]"
     ]
    },
    {
     "name": "stdout",
     "output_type": "stream",
     "text": [
      "['retrieving figi: BBG0078Y1D92 ticker: SYNH']\n"
     ]
    },
    {
     "name": "stderr",
     "output_type": "stream",
     "text": [
      "\r",
      " 50%|█████████████████████████████████████████████████████████████▋                                                             | 644/1285 [3:22:47<3:34:10, 20.05s/it]"
     ]
    },
    {
     "name": "stdout",
     "output_type": "stream",
     "text": [
      "['retrieving figi: BBG000PRJ2Z9 ticker: SPR']\n"
     ]
    },
    {
     "name": "stderr",
     "output_type": "stream",
     "text": [
      "\r",
      " 50%|█████████████████████████████████████████████████████████████▋                                                             | 645/1285 [3:23:06<3:32:14, 19.90s/it]"
     ]
    },
    {
     "name": "stdout",
     "output_type": "stream",
     "text": [
      "['retrieving figi: BBG000R7XX87 ticker: PODD']\n"
     ]
    },
    {
     "name": "stderr",
     "output_type": "stream",
     "text": [
      "\r",
      " 50%|█████████████████████████████████████████████████████████████▊                                                             | 646/1285 [3:23:26<3:32:09, 19.92s/it]"
     ]
    },
    {
     "name": "stdout",
     "output_type": "stream",
     "text": [
      "['retrieving figi: BBG000SK7JS5 ticker: LNZL']\n"
     ]
    },
    {
     "name": "stderr",
     "output_type": "stream",
     "text": [
      "\r",
      " 50%|█████████████████████████████████████████████████████████████▉                                                             | 647/1285 [3:23:39<3:08:49, 17.76s/it]"
     ]
    },
    {
     "name": "stdout",
     "output_type": "stream",
     "text": [
      "['retrieving figi: BBG000CZWZ05 ticker: BMRN']\n"
     ]
    },
    {
     "name": "stderr",
     "output_type": "stream",
     "text": [
      "\r",
      " 50%|██████████████████████████████████████████████████████████████                                                             | 648/1285 [3:24:04<3:31:29, 19.92s/it]"
     ]
    },
    {
     "name": "stdout",
     "output_type": "stream",
     "text": [
      "['retrieving figi: BBG0018X6YV1 ticker: TRCN']\n"
     ]
    },
    {
     "name": "stderr",
     "output_type": "stream",
     "text": [
      "\r",
      " 51%|██████████████████████████████████████████████████████████████                                                             | 649/1285 [3:24:17<3:09:00, 17.83s/it]"
     ]
    },
    {
     "name": "stdout",
     "output_type": "stream",
     "text": [
      "['retrieving figi: BBG000BQ4WF8 ticker: EXEL']\n"
     ]
    },
    {
     "name": "stderr",
     "output_type": "stream",
     "text": [
      "\r",
      " 51%|██████████████████████████████████████████████████████████████▏                                                            | 650/1285 [3:24:41<3:27:40, 19.62s/it]"
     ]
    },
    {
     "name": "stdout",
     "output_type": "stream",
     "text": [
      "['retrieving figi: BBG000BHTPZ4 ticker: SCSC']\n"
     ]
    },
    {
     "name": "stderr",
     "output_type": "stream",
     "text": [
      "\r",
      " 51%|██████████████████████████████████████████████████████████████▎                                                            | 651/1285 [3:24:53<3:03:41, 17.38s/it]"
     ]
    },
    {
     "name": "stdout",
     "output_type": "stream",
     "text": [
      "['retrieving figi: BBG000C734W3 ticker: REGN']\n"
     ]
    },
    {
     "name": "stderr",
     "output_type": "stream",
     "text": [
      "\r",
      " 51%|██████████████████████████████████████████████████████████████▍                                                            | 652/1285 [3:25:14<3:15:15, 18.51s/it]"
     ]
    },
    {
     "name": "stdout",
     "output_type": "stream",
     "text": [
      "['retrieving figi: BBG000BR37X2 ticker: PGR']\n"
     ]
    },
    {
     "name": "stderr",
     "output_type": "stream",
     "text": [
      "\r",
      " 51%|██████████████████████████████████████████████████████████████▌                                                            | 653/1285 [3:25:32<3:12:43, 18.30s/it]"
     ]
    },
    {
     "name": "stdout",
     "output_type": "stream",
     "text": [
      "['retrieving figi: BBG000B9ZV28 ticker: AMED']\n"
     ]
    },
    {
     "name": "stderr",
     "output_type": "stream",
     "text": [
      "\r",
      " 51%|██████████████████████████████████████████████████████████████▌                                                            | 654/1285 [3:25:48<3:05:16, 17.62s/it]"
     ]
    },
    {
     "name": "stdout",
     "output_type": "stream",
     "text": [
      "['retrieving figi: BBG001D8R5D0 ticker: XYL']\n"
     ]
    },
    {
     "name": "stderr",
     "output_type": "stream",
     "text": [
      "\r",
      " 51%|██████████████████████████████████████████████████████████████▋                                                            | 655/1285 [3:26:06<3:05:09, 17.63s/it]"
     ]
    },
    {
     "name": "stdout",
     "output_type": "stream",
     "text": [
      "['retrieving figi: BBG000Q4XNV1 ticker: BDC']\n"
     ]
    },
    {
     "name": "stderr",
     "output_type": "stream",
     "text": [
      "\r",
      " 51%|██████████████████████████████████████████████████████████████▊                                                            | 656/1285 [3:26:22<2:59:51, 17.16s/it]"
     ]
    },
    {
     "name": "stdout",
     "output_type": "stream",
     "text": [
      "['retrieving figi: BBG000BKF014 ticker: LGND']\n"
     ]
    },
    {
     "name": "stderr",
     "output_type": "stream",
     "text": [
      "\r",
      " 51%|██████████████████████████████████████████████████████████████▉                                                            | 657/1285 [3:26:44<3:16:55, 18.81s/it]"
     ]
    },
    {
     "name": "stdout",
     "output_type": "stream",
     "text": [
      "['retrieving figi: BBG000PXZFW2 ticker: WLK']\n"
     ]
    },
    {
     "name": "stderr",
     "output_type": "stream",
     "text": [
      "\r",
      " 51%|██████████████████████████████████████████████████████████████▉                                                            | 658/1285 [3:27:02<3:11:28, 18.32s/it]"
     ]
    },
    {
     "name": "stdout",
     "output_type": "stream",
     "text": [
      "['retrieving figi: BBG00R2JZG39 ticker: OI']\n"
     ]
    },
    {
     "name": "stderr",
     "output_type": "stream",
     "text": [
      "\r",
      " 51%|███████████████████████████████████████████████████████████████                                                            | 659/1285 [3:27:20<3:11:10, 18.32s/it]"
     ]
    },
    {
     "name": "stdout",
     "output_type": "stream",
     "text": [
      "['retrieving figi: BBG000BW8S60 ticker: UTX']\n"
     ]
    },
    {
     "name": "stderr",
     "output_type": "stream",
     "text": [
      "\r",
      " 51%|███████████████████████████████████████████████████████████████▏                                                           | 660/1285 [3:27:39<3:11:40, 18.40s/it]"
     ]
    },
    {
     "name": "stdout",
     "output_type": "stream",
     "text": [
      "['retrieving figi: BBG000C2V3D6 ticker: A']\n"
     ]
    },
    {
     "name": "stderr",
     "output_type": "stream",
     "text": [
      "\r",
      " 51%|███████████████████████████████████████████████████████████████▎                                                           | 661/1285 [3:27:57<3:10:49, 18.35s/it]"
     ]
    },
    {
     "name": "stdout",
     "output_type": "stream",
     "text": [
      "['retrieving figi: BBG000BHJWG1 ticker: AAXN']\n"
     ]
    },
    {
     "name": "stderr",
     "output_type": "stream",
     "text": [
      "\r",
      " 52%|███████████████████████████████████████████████████████████████▎                                                           | 662/1285 [3:28:15<3:10:20, 18.33s/it]"
     ]
    },
    {
     "name": "stdout",
     "output_type": "stream",
     "text": [
      "['retrieving figi: BBG000BBCDZ2 ticker: ROK']\n"
     ]
    },
    {
     "name": "stderr",
     "output_type": "stream",
     "text": [
      "\r",
      " 52%|███████████████████████████████████████████████████████████████▍                                                           | 663/1285 [3:28:34<3:13:33, 18.67s/it]"
     ]
    },
    {
     "name": "stdout",
     "output_type": "stream",
     "text": [
      "['retrieving figi: BBG00JPRDQH1 ticker: BH']\n"
     ]
    },
    {
     "name": "stderr",
     "output_type": "stream",
     "text": [
      "\r",
      " 52%|███████████████████████████████████████████████████████████████▌                                                           | 664/1285 [3:28:47<2:52:36, 16.68s/it]"
     ]
    },
    {
     "name": "stdout",
     "output_type": "stream",
     "text": [
      "['retrieving figi: BBG000RK52V1 ticker: OGKB']\n"
     ]
    },
    {
     "name": "stderr",
     "output_type": "stream",
     "text": [
      "\r",
      " 52%|███████████████████████████████████████████████████████████████▋                                                           | 665/1285 [3:29:17<3:35:03, 20.81s/it]"
     ]
    },
    {
     "name": "stdout",
     "output_type": "stream",
     "text": [
      "['retrieving figi: BBG000GJS7C1 ticker: NBIX']\n"
     ]
    },
    {
     "name": "stderr",
     "output_type": "stream",
     "text": [
      "\r",
      " 52%|███████████████████████████████████████████████████████████████▋                                                           | 666/1285 [3:29:36<3:27:44, 20.14s/it]"
     ]
    },
    {
     "name": "stdout",
     "output_type": "stream",
     "text": [
      "['retrieving figi: BBG000BG7423 ticker: CR']\n"
     ]
    },
    {
     "name": "stderr",
     "output_type": "stream",
     "text": [
      "\r",
      " 52%|███████████████████████████████████████████████████████████████▊                                                           | 667/1285 [3:29:52<3:15:26, 18.98s/it]"
     ]
    },
    {
     "name": "stdout",
     "output_type": "stream",
     "text": [
      "['retrieving figi: BBG000BGXMG9 ticker: CHDN']\n"
     ]
    },
    {
     "name": "stderr",
     "output_type": "stream",
     "text": [
      "\r",
      " 52%|███████████████████████████████████████████████████████████████▉                                                           | 668/1285 [3:30:08<3:07:41, 18.25s/it]"
     ]
    },
    {
     "name": "stdout",
     "output_type": "stream",
     "text": [
      "['retrieving figi: BBG00BN961G4 ticker: DD']\n"
     ]
    },
    {
     "name": "stderr",
     "output_type": "stream",
     "text": [
      "\r",
      " 52%|████████████████████████████████████████████████████████████████                                                           | 669/1285 [3:30:28<3:10:06, 18.52s/it]"
     ]
    },
    {
     "name": "stdout",
     "output_type": "stream",
     "text": [
      "['retrieving figi: BBG000DYGNW7 ticker: MCK']\n"
     ]
    },
    {
     "name": "stderr",
     "output_type": "stream",
     "text": [
      "\r",
      " 52%|████████████████████████████████████████████████████████████████▏                                                          | 670/1285 [3:30:46<3:10:50, 18.62s/it]"
     ]
    },
    {
     "name": "stdout",
     "output_type": "stream",
     "text": [
      "['retrieving figi: BBG001MFW6D6 ticker: CHEF']\n"
     ]
    },
    {
     "name": "stderr",
     "output_type": "stream",
     "text": [
      "\r",
      " 52%|████████████████████████████████████████████████████████████████▏                                                          | 671/1285 [3:31:04<3:07:26, 18.32s/it]"
     ]
    },
    {
     "name": "stdout",
     "output_type": "stream",
     "text": [
      "['retrieving figi: BBG000H01H92 ticker: AMCX']\n"
     ]
    },
    {
     "name": "stderr",
     "output_type": "stream",
     "text": [
      "\r",
      " 52%|████████████████████████████████████████████████████████████████▎                                                          | 672/1285 [3:31:27<3:20:36, 19.64s/it]"
     ]
    },
    {
     "name": "stdout",
     "output_type": "stream",
     "text": [
      "['retrieving figi: BBG000C4QB95 ticker: STAA']\n"
     ]
    },
    {
     "name": "stderr",
     "output_type": "stream",
     "text": [
      "\r",
      " 52%|████████████████████████████████████████████████████████████████▍                                                          | 673/1285 [3:31:49<3:28:47, 20.47s/it]"
     ]
    },
    {
     "name": "stdout",
     "output_type": "stream",
     "text": [
      "['retrieving figi: BBG000BFLXV3 ticker: PPC']\n"
     ]
    },
    {
     "name": "stderr",
     "output_type": "stream",
     "text": [
      "\r",
      " 52%|████████████████████████████████████████████████████████████████▌                                                          | 674/1285 [3:32:08<3:22:35, 19.89s/it]"
     ]
    },
    {
     "name": "stdout",
     "output_type": "stream",
     "text": [
      "['retrieving figi: BBG0027Z6X10 ticker: SRC']\n"
     ]
    },
    {
     "name": "stderr",
     "output_type": "stream",
     "text": [
      "\r",
      " 53%|████████████████████████████████████████████████████████████████▌                                                          | 675/1285 [3:32:24<3:12:48, 18.96s/it]"
     ]
    },
    {
     "name": "stdout",
     "output_type": "stream",
     "text": [
      "['retrieving figi: BBG000BF6756 ticker: CCK']\n"
     ]
    },
    {
     "name": "stderr",
     "output_type": "stream",
     "text": [
      "\r",
      " 53%|████████████████████████████████████████████████████████████████▋                                                          | 676/1285 [3:32:45<3:15:51, 19.30s/it]"
     ]
    },
    {
     "name": "stdout",
     "output_type": "stream",
     "text": [
      "['retrieving figi: BBG000GPXKX9 ticker: FLT']\n"
     ]
    },
    {
     "name": "stderr",
     "output_type": "stream",
     "text": [
      "\r",
      " 53%|████████████████████████████████████████████████████████████████▊                                                          | 677/1285 [3:33:02<3:10:53, 18.84s/it]"
     ]
    },
    {
     "name": "stdout",
     "output_type": "stream",
     "text": [
      "['retrieving figi: BBG009T22D49 ticker: SITE']\n"
     ]
    },
    {
     "name": "stderr",
     "output_type": "stream",
     "text": [
      "\r",
      " 53%|████████████████████████████████████████████████████████████████▉                                                          | 678/1285 [3:33:20<3:05:41, 18.36s/it]"
     ]
    },
    {
     "name": "stdout",
     "output_type": "stream",
     "text": [
      "['retrieving figi: BBG000F964B6 ticker: AWR']\n"
     ]
    },
    {
     "name": "stderr",
     "output_type": "stream",
     "text": [
      "\r",
      " 53%|████████████████████████████████████████████████████████████████▉                                                          | 679/1285 [3:33:36<2:58:41, 17.69s/it]"
     ]
    },
    {
     "name": "stdout",
     "output_type": "stream",
     "text": [
      "['retrieving figi: BBG001DJNR51 ticker: RBCM']\n"
     ]
    },
    {
     "name": "stderr",
     "output_type": "stream",
     "text": [
      "\r",
      " 53%|█████████████████████████████████████████████████████████████████                                                          | 680/1285 [3:33:52<2:52:54, 17.15s/it]"
     ]
    },
    {
     "name": "stdout",
     "output_type": "stream",
     "text": [
      "['retrieving figi: BBG000QPHD08 ticker: AX']\n"
     ]
    },
    {
     "name": "stderr",
     "output_type": "stream",
     "text": [
      "\r",
      " 53%|█████████████████████████████████████████████████████████████████▏                                                         | 681/1285 [3:34:06<2:44:43, 16.36s/it]"
     ]
    },
    {
     "name": "stdout",
     "output_type": "stream",
     "text": [
      "['retrieving figi: BBG004S682J4 ticker: RSTI']\n"
     ]
    },
    {
     "name": "stderr",
     "output_type": "stream",
     "text": [
      "\r",
      " 53%|█████████████████████████████████████████████████████████████████▎                                                         | 682/1285 [3:34:33<3:15:50, 19.49s/it]"
     ]
    },
    {
     "name": "stdout",
     "output_type": "stream",
     "text": [
      "['retrieving figi: BBG005Y3XWH9 ticker: EGRX']\n"
     ]
    },
    {
     "name": "stderr",
     "output_type": "stream",
     "text": [
      "\r",
      " 53%|█████████████████████████████████████████████████████████████████▍                                                         | 683/1285 [3:34:55<3:24:49, 20.41s/it]"
     ]
    },
    {
     "name": "stdout",
     "output_type": "stream",
     "text": [
      "['retrieving figi: BBG000BPZVW9 ticker: NJR']\n"
     ]
    },
    {
     "name": "stderr",
     "output_type": "stream",
     "text": [
      "\r",
      " 53%|█████████████████████████████████████████████████████████████████▍                                                         | 684/1285 [3:35:15<3:22:37, 20.23s/it]"
     ]
    },
    {
     "name": "stdout",
     "output_type": "stream",
     "text": [
      "['retrieving figi: BBG000BD8ZK0 ticker: TSM']\n"
     ]
    },
    {
     "name": "stderr",
     "output_type": "stream",
     "text": [
      "\r",
      " 53%|█████████████████████████████████████████████████████████████████▌                                                         | 685/1285 [3:35:40<3:35:16, 21.53s/it]"
     ]
    },
    {
     "name": "stdout",
     "output_type": "stream",
     "text": [
      "['retrieving figi: BBG005XZHR97 ticker: VRTV']\n"
     ]
    },
    {
     "name": "stderr",
     "output_type": "stream",
     "text": [
      "\r",
      " 53%|█████████████████████████████████████████████████████████████████▋                                                         | 686/1285 [3:35:54<3:11:58, 19.23s/it]"
     ]
    },
    {
     "name": "stdout",
     "output_type": "stream",
     "text": [
      "['retrieving figi: BBG000BBGQF1 ticker: AIR']\n"
     ]
    },
    {
     "name": "stderr",
     "output_type": "stream",
     "text": [
      "\r",
      " 53%|█████████████████████████████████████████████████████████████████▊                                                         | 687/1285 [3:36:12<3:07:44, 18.84s/it]"
     ]
    },
    {
     "name": "stdout",
     "output_type": "stream",
     "text": [
      "['retrieving figi: BBG000BL9MZ4 ticker: MHO']\n"
     ]
    },
    {
     "name": "stderr",
     "output_type": "stream",
     "text": [
      "\r",
      " 54%|█████████████████████████████████████████████████████████████████▊                                                         | 688/1285 [3:36:28<2:59:37, 18.05s/it]"
     ]
    },
    {
     "name": "stdout",
     "output_type": "stream",
     "text": [
      "['retrieving figi: BBG000VG1034 ticker: MRKP']\n"
     ]
    },
    {
     "name": "stderr",
     "output_type": "stream",
     "text": [
      "\r",
      " 54%|█████████████████████████████████████████████████████████████████▉                                                         | 689/1285 [3:36:53<3:19:53, 20.12s/it]"
     ]
    },
    {
     "name": "stdout",
     "output_type": "stream",
     "text": [
      "['retrieving figi: BBG000DBKR53 ticker: SMTC']\n"
     ]
    },
    {
     "name": "stderr",
     "output_type": "stream",
     "text": [
      "\r",
      " 54%|██████████████████████████████████████████████████████████████████                                                         | 690/1285 [3:37:12<3:18:18, 20.00s/it]"
     ]
    },
    {
     "name": "stdout",
     "output_type": "stream",
     "text": [
      "['retrieving figi: BBG000BC5WJ4 ticker: MMS']\n"
     ]
    },
    {
     "name": "stderr",
     "output_type": "stream",
     "text": [
      "\r",
      " 54%|██████████████████████████████████████████████████████████████████▏                                                        | 691/1285 [3:37:30<3:09:39, 19.16s/it]"
     ]
    },
    {
     "name": "stdout",
     "output_type": "stream",
     "text": [
      "['retrieving figi: BBG000BQPC32 ticker: F']\n"
     ]
    },
    {
     "name": "stderr",
     "output_type": "stream",
     "text": [
      "\r",
      " 54%|██████████████████████████████████████████████████████████████████▏                                                        | 692/1285 [3:37:58<3:36:07, 21.87s/it]"
     ]
    },
    {
     "name": "stdout",
     "output_type": "stream",
     "text": [
      "['retrieving figi: BBG00DYNJGH9 ticker: ARNC']\n"
     ]
    },
    {
     "name": "stderr",
     "output_type": "stream",
     "text": [
      "\r",
      " 54%|██████████████████████████████████████████████████████████████████▎                                                        | 693/1285 [3:38:20<3:36:05, 21.90s/it]"
     ]
    },
    {
     "name": "stdout",
     "output_type": "stream",
     "text": [
      "['retrieving figi: BBG000RQ2GY7 ticker: PFPT']\n"
     ]
    },
    {
     "name": "stderr",
     "output_type": "stream",
     "text": [
      "\r",
      " 54%|██████████████████████████████████████████████████████████████████▍                                                        | 694/1285 [3:38:38<3:25:55, 20.91s/it]"
     ]
    },
    {
     "name": "stdout",
     "output_type": "stream",
     "text": [
      "['retrieving figi: BBG000GLG0G0 ticker: GSH']\n"
     ]
    },
    {
     "name": "stderr",
     "output_type": "stream",
     "text": [
      "\r",
      " 54%|██████████████████████████████████████████████████████████████████▌                                                        | 695/1285 [3:38:49<2:54:11, 17.72s/it]"
     ]
    },
    {
     "name": "stdout",
     "output_type": "stream",
     "text": [
      "['retrieving figi: BBG004731032 ticker: LKOH']\n"
     ]
    },
    {
     "name": "stderr",
     "output_type": "stream",
     "text": [
      "\r",
      " 54%|██████████████████████████████████████████████████████████████████▌                                                        | 696/1285 [3:39:17<3:25:33, 20.94s/it]"
     ]
    },
    {
     "name": "stdout",
     "output_type": "stream",
     "text": [
      "['retrieving figi: BBG000BKFZM4 ticker: GLW']\n"
     ]
    },
    {
     "name": "stderr",
     "output_type": "stream",
     "text": [
      "\r",
      " 54%|██████████████████████████████████████████████████████████████████▋                                                        | 697/1285 [3:39:37<3:22:21, 20.65s/it]"
     ]
    },
    {
     "name": "stdout",
     "output_type": "stream",
     "text": [
      "['retrieving figi: BBG000K4ND22 ticker: CVX']\n"
     ]
    },
    {
     "name": "stderr",
     "output_type": "stream",
     "text": [
      "\r",
      " 54%|██████████████████████████████████████████████████████████████████▊                                                        | 698/1285 [3:40:01<3:31:52, 21.66s/it]"
     ]
    },
    {
     "name": "stdout",
     "output_type": "stream",
     "text": [
      "['retrieving figi: BBG000TYXCT9 ticker: HQY']\n"
     ]
    },
    {
     "name": "stderr",
     "output_type": "stream",
     "text": [
      "\r",
      " 54%|██████████████████████████████████████████████████████████████████▉                                                        | 699/1285 [3:40:23<3:31:29, 21.65s/it]"
     ]
    },
    {
     "name": "stdout",
     "output_type": "stream",
     "text": [
      "['retrieving figi: BBG000CVKZY0 ticker: CRVL']\n"
     ]
    },
    {
     "name": "stderr",
     "output_type": "stream",
     "text": [
      "\r",
      " 54%|███████████████████████████████████████████████████████████████████                                                        | 700/1285 [3:40:36<3:07:22, 19.22s/it]"
     ]
    },
    {
     "name": "stdout",
     "output_type": "stream",
     "text": [
      "['retrieving figi: BBG000BTC2N0 ticker: SHEN']\n"
     ]
    },
    {
     "name": "stderr",
     "output_type": "stream",
     "text": [
      "\r",
      " 55%|███████████████████████████████████████████████████████████████████                                                        | 701/1285 [3:40:53<3:00:24, 18.54s/it]"
     ]
    },
    {
     "name": "stdout",
     "output_type": "stream",
     "text": [
      "['retrieving figi: BBG000CCFB17 ticker: HCCI']\n"
     ]
    },
    {
     "name": "stderr",
     "output_type": "stream",
     "text": [
      "\r",
      " 55%|███████████████████████████████████████████████████████████████████▏                                                       | 702/1285 [3:41:04<2:38:52, 16.35s/it]"
     ]
    },
    {
     "name": "stdout",
     "output_type": "stream",
     "text": [
      "['retrieving figi: BBG000R607Y3 ticker: PLZL']\n"
     ]
    },
    {
     "name": "stderr",
     "output_type": "stream",
     "text": [
      "\r",
      " 55%|███████████████████████████████████████████████████████████████████▎                                                       | 703/1285 [3:41:28<3:00:39, 18.62s/it]"
     ]
    },
    {
     "name": "stdout",
     "output_type": "stream",
     "text": [
      "['retrieving figi: BBG000BH1NH9 ticker: DE']\n"
     ]
    },
    {
     "name": "stderr",
     "output_type": "stream",
     "text": [
      "\r",
      " 55%|███████████████████████████████████████████████████████████████████▍                                                       | 704/1285 [3:41:53<3:16:47, 20.32s/it]"
     ]
    },
    {
     "name": "stdout",
     "output_type": "stream",
     "text": [
      "['retrieving figi: BBG001KJ7WJ5 ticker: AERI']\n"
     ]
    },
    {
     "name": "stderr",
     "output_type": "stream",
     "text": [
      "\r",
      " 55%|███████████████████████████████████████████████████████████████████▍                                                       | 705/1285 [3:42:12<3:12:31, 19.92s/it]"
     ]
    },
    {
     "name": "stdout",
     "output_type": "stream",
     "text": [
      "['retrieving figi: BBG00JHNKJY8 ticker: FOX']\n"
     ]
    },
    {
     "name": "stderr",
     "output_type": "stream",
     "text": [
      "\r",
      " 55%|███████████████████████████████████████████████████████████████████▌                                                       | 706/1285 [3:42:30<3:07:04, 19.39s/it]"
     ]
    },
    {
     "name": "stdout",
     "output_type": "stream",
     "text": [
      "['retrieving figi: BBG000BRNH31 ticker: EPAY']\n"
     ]
    },
    {
     "name": "stderr",
     "output_type": "stream",
     "text": [
      "\r",
      " 55%|███████████████████████████████████████████████████████████████████▋                                                       | 707/1285 [3:42:48<3:02:18, 18.93s/it]"
     ]
    },
    {
     "name": "stdout",
     "output_type": "stream",
     "text": [
      "['retrieving figi: BBG000BLMY92 ticker: MAA']\n"
     ]
    },
    {
     "name": "stderr",
     "output_type": "stream",
     "text": [
      "\r",
      " 55%|███████████████████████████████████████████████████████████████████▊                                                       | 708/1285 [3:43:06<2:58:58, 18.61s/it]"
     ]
    },
    {
     "name": "stdout",
     "output_type": "stream",
     "text": [
      "['retrieving figi: BBG000BQWPC5 ticker: PCG']\n"
     ]
    },
    {
     "name": "stderr",
     "output_type": "stream",
     "text": [
      "\r",
      " 55%|███████████████████████████████████████████████████████████████████▊                                                       | 709/1285 [3:43:30<3:15:11, 20.33s/it]"
     ]
    },
    {
     "name": "stdout",
     "output_type": "stream",
     "text": [
      "['retrieving figi: BBG000BX8DC4 ticker: FL']\n"
     ]
    },
    {
     "name": "stderr",
     "output_type": "stream",
     "text": [
      "\r",
      " 55%|███████████████████████████████████████████████████████████████████▉                                                       | 710/1285 [3:43:50<3:14:58, 20.34s/it]"
     ]
    },
    {
     "name": "stdout",
     "output_type": "stream",
     "text": [
      "['retrieving figi: BBG000BGZT72 ticker: AYX']\n"
     ]
    },
    {
     "name": "stderr",
     "output_type": "stream",
     "text": [
      "\r",
      " 55%|████████████████████████████████████████████████████████████████████                                                       | 711/1285 [3:44:09<3:08:56, 19.75s/it]"
     ]
    },
    {
     "name": "stdout",
     "output_type": "stream",
     "text": [
      "['retrieving figi: BBG001BP92V1 ticker: PEN']\n"
     ]
    },
    {
     "name": "stderr",
     "output_type": "stream",
     "text": [
      "\r",
      " 55%|████████████████████████████████████████████████████████████████████▏                                                      | 712/1285 [3:44:25<2:57:48, 18.62s/it]"
     ]
    },
    {
     "name": "stdout",
     "output_type": "stream",
     "text": [
      "['retrieving figi: BBG000D2ZK61 ticker: REX']\n"
     ]
    },
    {
     "name": "stderr",
     "output_type": "stream",
     "text": [
      "\r",
      " 55%|████████████████████████████████████████████████████████████████████▏                                                      | 713/1285 [3:44:35<2:34:22, 16.19s/it]"
     ]
    },
    {
     "name": "stdout",
     "output_type": "stream",
     "text": [
      "['retrieving figi: BBG000CX0P89 ticker: GPN']\n"
     ]
    },
    {
     "name": "stderr",
     "output_type": "stream",
     "text": [
      "\r",
      " 56%|████████████████████████████████████████████████████████████████████▎                                                      | 714/1285 [3:44:58<2:52:47, 18.16s/it]"
     ]
    },
    {
     "name": "stdout",
     "output_type": "stream",
     "text": [
      "['retrieving figi: BBG000BPQD31 ticker: MYL']\n"
     ]
    },
    {
     "name": "stderr",
     "output_type": "stream",
     "text": [
      "\r",
      " 56%|████████████████████████████████████████████████████████████████████▍                                                      | 715/1285 [3:45:22<3:08:44, 19.87s/it]"
     ]
    },
    {
     "name": "stdout",
     "output_type": "stream",
     "text": [
      "['retrieving figi: BBG000BM22F5 ticker: DORM']\n"
     ]
    },
    {
     "name": "stderr",
     "output_type": "stream",
     "text": [
      "\r",
      " 56%|████████████████████████████████████████████████████████████████████▌                                                      | 716/1285 [3:45:37<2:54:04, 18.36s/it]"
     ]
    },
    {
     "name": "stdout",
     "output_type": "stream",
     "text": [
      "['retrieving figi: BBG000BKWSR6 ticker: HBAN']\n"
     ]
    },
    {
     "name": "stderr",
     "output_type": "stream",
     "text": [
      "\r",
      " 56%|████████████████████████████████████████████████████████████████████▋                                                      | 717/1285 [3:45:56<2:57:07, 18.71s/it]"
     ]
    },
    {
     "name": "stdout",
     "output_type": "stream",
     "text": [
      "['retrieving figi: BBG000H8LGK2 ticker: MD']\n"
     ]
    },
    {
     "name": "stderr",
     "output_type": "stream",
     "text": [
      "\r",
      " 56%|████████████████████████████████████████████████████████████████████▋                                                      | 718/1285 [3:46:15<2:58:19, 18.87s/it]"
     ]
    },
    {
     "name": "stdout",
     "output_type": "stream",
     "text": [
      "['retrieving figi: BBG000D4LWF6 ticker: MDLZ']\n"
     ]
    },
    {
     "name": "stderr",
     "output_type": "stream",
     "text": [
      "\r",
      " 56%|████████████████████████████████████████████████████████████████████▊                                                      | 719/1285 [3:46:35<3:00:39, 19.15s/it]"
     ]
    },
    {
     "name": "stdout",
     "output_type": "stream",
     "text": [
      "['retrieving figi: BBG0029KJVB0 ticker: BL']\n"
     ]
    },
    {
     "name": "stderr",
     "output_type": "stream",
     "text": [
      "\r",
      " 56%|████████████████████████████████████████████████████████████████████▉                                                      | 720/1285 [3:46:53<2:56:00, 18.69s/it]"
     ]
    },
    {
     "name": "stdout",
     "output_type": "stream",
     "text": [
      "['retrieving figi: BBG000B9XG87 ticker: AME']\n"
     ]
    },
    {
     "name": "stderr",
     "output_type": "stream",
     "text": [
      "\r",
      " 56%|█████████████████████████████████████████████████████████████████████                                                      | 721/1285 [3:47:11<2:54:48, 18.60s/it]"
     ]
    },
    {
     "name": "stdout",
     "output_type": "stream",
     "text": [
      "['retrieving figi: BBG000QJW156 ticker: BSPB']\n"
     ]
    },
    {
     "name": "stderr",
     "output_type": "stream",
     "text": [
      "\r",
      " 56%|█████████████████████████████████████████████████████████████████████                                                      | 722/1285 [3:47:31<2:58:33, 19.03s/it]"
     ]
    },
    {
     "name": "stdout",
     "output_type": "stream",
     "text": [
      "['retrieving figi: BBG000DY28W5 ticker: BIO']\n"
     ]
    },
    {
     "name": "stderr",
     "output_type": "stream",
     "text": [
      "\r",
      " 56%|█████████████████████████████████████████████████████████████████████▏                                                     | 723/1285 [3:47:45<2:43:55, 17.50s/it]"
     ]
    },
    {
     "name": "stdout",
     "output_type": "stream",
     "text": [
      "['retrieving figi: BBG000PSKYX7 ticker: V']\n"
     ]
    },
    {
     "name": "stderr",
     "output_type": "stream",
     "text": [
      "\r",
      " 56%|█████████████████████████████████████████████████████████████████████▎                                                     | 724/1285 [3:48:13<3:12:12, 20.56s/it]"
     ]
    },
    {
     "name": "stdout",
     "output_type": "stream",
     "text": [
      "['retrieving figi: BBG000BP46T2 ticker: MLHR']\n"
     ]
    },
    {
     "name": "stderr",
     "output_type": "stream",
     "text": [
      "\r",
      " 56%|█████████████████████████████████████████████████████████████████████▍                                                     | 725/1285 [3:48:30<3:03:34, 19.67s/it]"
     ]
    },
    {
     "name": "stdout",
     "output_type": "stream",
     "text": [
      "['retrieving figi: BBG000BBJQV0 ticker: NVDA']\n"
     ]
    },
    {
     "name": "stderr",
     "output_type": "stream",
     "text": [
      "\r",
      " 56%|█████████████████████████████████████████████████████████████████████▍                                                     | 726/1285 [3:48:56<3:20:58, 21.57s/it]"
     ]
    },
    {
     "name": "stdout",
     "output_type": "stream",
     "text": [
      "['retrieving figi: BBG0026ZG4W0 ticker: XNCR']\n"
     ]
    },
    {
     "name": "stderr",
     "output_type": "stream",
     "text": [
      "\r",
      " 57%|█████████████████████████████████████████████████████████████████████▌                                                     | 727/1285 [3:49:15<3:12:09, 20.66s/it]"
     ]
    },
    {
     "name": "stdout",
     "output_type": "stream",
     "text": [
      "['retrieving figi: BBG000LR8515 ticker: SBH']\n"
     ]
    },
    {
     "name": "stderr",
     "output_type": "stream",
     "text": [
      "\r",
      " 57%|█████████████████████████████████████████████████████████████████████▋                                                     | 728/1285 [3:49:33<3:03:22, 19.75s/it]"
     ]
    },
    {
     "name": "stdout",
     "output_type": "stream",
     "text": [
      "['retrieving figi: BBG004RVFFC0 ticker: TATN']\n"
     ]
    },
    {
     "name": "stderr",
     "output_type": "stream",
     "text": [
      "\r",
      " 57%|█████████████████████████████████████████████████████████████████████▊                                                     | 729/1285 [3:50:00<3:25:00, 22.12s/it]"
     ]
    },
    {
     "name": "stdout",
     "output_type": "stream",
     "text": [
      "['retrieving figi: BBG000BLGFJ9 ticker: LHX']\n"
     ]
    },
    {
     "name": "stderr",
     "output_type": "stream",
     "text": [
      "\r",
      " 57%|█████████████████████████████████████████████████████████████████████▉                                                     | 730/1285 [3:50:21<3:19:51, 21.61s/it]"
     ]
    },
    {
     "name": "stdout",
     "output_type": "stream",
     "text": [
      "['retrieving figi: BBG001KY4N87 ticker: ARMK']\n"
     ]
    },
    {
     "name": "stderr",
     "output_type": "stream",
     "text": [
      "\r",
      " 57%|█████████████████████████████████████████████████████████████████████▉                                                     | 731/1285 [3:50:42<3:18:18, 21.48s/it]"
     ]
    },
    {
     "name": "stdout",
     "output_type": "stream",
     "text": [
      "['retrieving figi: BBG000FQ6PY6 ticker: CTXS']\n"
     ]
    },
    {
     "name": "stderr",
     "output_type": "stream",
     "text": [
      "\r",
      " 57%|██████████████████████████████████████████████████████████████████████                                                     | 732/1285 [3:51:00<3:08:52, 20.49s/it]"
     ]
    },
    {
     "name": "stdout",
     "output_type": "stream",
     "text": [
      "['retrieving figi: BBG000BXRPH1 ticker: PXD']\n"
     ]
    },
    {
     "name": "stderr",
     "output_type": "stream",
     "text": [
      "\r",
      " 57%|██████████████████████████████████████████████████████████████████████▏                                                    | 733/1285 [3:51:21<3:08:41, 20.51s/it]"
     ]
    },
    {
     "name": "stdout",
     "output_type": "stream",
     "text": [
      "['retrieving figi: BBG000BHBGN6 ticker: CLR']\n"
     ]
    },
    {
     "name": "stderr",
     "output_type": "stream",
     "text": [
      "\r",
      " 57%|██████████████████████████████████████████████████████████████████████▎                                                    | 734/1285 [3:51:43<3:12:19, 20.94s/it]"
     ]
    },
    {
     "name": "stdout",
     "output_type": "stream",
     "text": [
      "['retrieving figi: BBG0035M2ZB7 ticker: NWS']\n"
     ]
    },
    {
     "name": "stderr",
     "output_type": "stream",
     "text": [
      "\r",
      " 57%|██████████████████████████████████████████████████████████████████████▎                                                    | 735/1285 [3:52:01<3:04:29, 20.13s/it]"
     ]
    },
    {
     "name": "stdout",
     "output_type": "stream",
     "text": [
      "['retrieving figi: BBG000J6XT05 ticker: EXC']\n"
     ]
    },
    {
     "name": "stderr",
     "output_type": "stream",
     "text": [
      "\r",
      " 57%|██████████████████████████████████████████████████████████████████████▍                                                    | 736/1285 [3:52:22<3:08:16, 20.58s/it]"
     ]
    },
    {
     "name": "stdout",
     "output_type": "stream",
     "text": [
      "['retrieving figi: BBG000BB5373 ticker: WU']\n"
     ]
    },
    {
     "name": "stderr",
     "output_type": "stream",
     "text": [
      "\r",
      " 57%|██████████████████████████████████████████████████████████████████████▌                                                    | 737/1285 [3:52:41<3:03:43, 20.11s/it]"
     ]
    },
    {
     "name": "stdout",
     "output_type": "stream",
     "text": [
      "['retrieving figi: BBG0025Y4RY4 ticker: ABBV']\n"
     ]
    },
    {
     "name": "stderr",
     "output_type": "stream",
     "text": [
      "\r",
      " 57%|██████████████████████████████████████████████████████████████████████▋                                                    | 738/1285 [3:53:01<3:02:32, 20.02s/it]"
     ]
    },
    {
     "name": "stdout",
     "output_type": "stream",
     "text": [
      "['retrieving figi: BBG0018SLC07 ticker: SQ']\n"
     ]
    },
    {
     "name": "stderr",
     "output_type": "stream",
     "text": [
      "\r",
      " 58%|██████████████████████████████████████████████████████████████████████▋                                                    | 739/1285 [3:53:22<3:04:30, 20.28s/it]"
     ]
    },
    {
     "name": "stdout",
     "output_type": "stream",
     "text": [
      "['retrieving figi: BBG000BWPP85 ticker: WERN']\n"
     ]
    },
    {
     "name": "stderr",
     "output_type": "stream",
     "text": [
      "\r",
      " 58%|██████████████████████████████████████████████████████████████████████▊                                                    | 740/1285 [3:53:39<2:55:04, 19.27s/it]"
     ]
    },
    {
     "name": "stdout",
     "output_type": "stream",
     "text": [
      "['retrieving figi: BBG00LJYS1P8 ticker: ELAN']\n"
     ]
    },
    {
     "name": "stderr",
     "output_type": "stream",
     "text": [
      "\r",
      " 58%|██████████████████████████████████████████████████████████████████████▉                                                    | 741/1285 [3:53:56<2:49:49, 18.73s/it]"
     ]
    },
    {
     "name": "stdout",
     "output_type": "stream",
     "text": [
      "['retrieving figi: BBG000BL0T06 ticker: UFPI']\n"
     ]
    },
    {
     "name": "stderr",
     "output_type": "stream",
     "text": [
      "\r",
      " 58%|███████████████████████████████████████████████████████████████████████                                                    | 742/1285 [3:54:14<2:45:44, 18.31s/it]"
     ]
    },
    {
     "name": "stdout",
     "output_type": "stream",
     "text": [
      "['retrieving figi: BBG000BF0672 ticker: CASY']\n"
     ]
    },
    {
     "name": "stderr",
     "output_type": "stream",
     "text": [
      "\r",
      " 58%|███████████████████████████████████████████████████████████████████████                                                    | 743/1285 [3:54:31<2:41:22, 17.87s/it]"
     ]
    },
    {
     "name": "stdout",
     "output_type": "stream",
     "text": [
      "['retrieving figi: BBG000FRVHB9 ticker: VTR']\n"
     ]
    },
    {
     "name": "stderr",
     "output_type": "stream",
     "text": [
      "\r",
      " 58%|███████████████████████████████████████████████████████████████████████▏                                                   | 744/1285 [3:54:51<2:46:32, 18.47s/it]"
     ]
    },
    {
     "name": "stdout",
     "output_type": "stream",
     "text": [
      "['retrieving figi: BBG007BBS8B7 ticker: ZYNE']\n"
     ]
    },
    {
     "name": "stderr",
     "output_type": "stream",
     "text": [
      "\r",
      " 58%|███████████████████████████████████████████████████████████████████████▎                                                   | 745/1285 [3:55:08<2:43:25, 18.16s/it]"
     ]
    },
    {
     "name": "stdout",
     "output_type": "stream",
     "text": [
      "['retrieving figi: BBG000BCZBF1 ticker: SAM']\n"
     ]
    },
    {
     "name": "stderr",
     "output_type": "stream",
     "text": [
      "\r",
      " 58%|███████████████████████████████████████████████████████████████████████▍                                                   | 746/1285 [3:55:20<2:26:36, 16.32s/it]"
     ]
    },
    {
     "name": "stdout",
     "output_type": "stream",
     "text": [
      "['retrieving figi: BBG000BGGBT8 ticker: CSL']\n"
     ]
    },
    {
     "name": "stderr",
     "output_type": "stream",
     "text": [
      "\r",
      " 58%|███████████████████████████████████████████████████████████████████████▌                                                   | 747/1285 [3:55:36<2:24:43, 16.14s/it]"
     ]
    },
    {
     "name": "stdout",
     "output_type": "stream",
     "text": [
      "['retrieving figi: BBG000FFH4P5 ticker: FLS']\n"
     ]
    },
    {
     "name": "stderr",
     "output_type": "stream",
     "text": [
      "\r",
      " 58%|███████████████████████████████████████████████████████████████████████▌                                                   | 748/1285 [3:55:54<2:30:03, 16.77s/it]"
     ]
    },
    {
     "name": "stdout",
     "output_type": "stream",
     "text": [
      "['retrieving figi: BBG002YFXL29 ticker: UNKL']\n"
     ]
    },
    {
     "name": "stderr",
     "output_type": "stream",
     "text": [
      "\r",
      " 58%|███████████████████████████████████████████████████████████████████████▋                                                   | 749/1285 [3:56:04<2:11:12, 14.69s/it]"
     ]
    },
    {
     "name": "stdout",
     "output_type": "stream",
     "text": [
      "['retrieving figi: BBG000C8NJ10 ticker: POL']\n"
     ]
    },
    {
     "name": "stderr",
     "output_type": "stream",
     "text": [
      "\r",
      " 58%|███████████████████████████████████████████████████████████████████████▊                                                   | 750/1285 [3:56:22<2:19:38, 15.66s/it]"
     ]
    },
    {
     "name": "stdout",
     "output_type": "stream",
     "text": [
      "['retrieving figi: BBG000FKMP26 ticker: AEIS']\n"
     ]
    },
    {
     "name": "stderr",
     "output_type": "stream",
     "text": [
      "\r",
      " 58%|███████████████████████████████████████████████████████████████████████▉                                                   | 751/1285 [3:56:39<2:23:02, 16.07s/it]"
     ]
    },
    {
     "name": "stdout",
     "output_type": "stream",
     "text": [
      "['retrieving figi: BBG000BX9WL1 ticker: ZION']\n"
     ]
    },
    {
     "name": "stderr",
     "output_type": "stream",
     "text": [
      "\r",
      " 59%|███████████████████████████████████████████████████████████████████████▉                                                   | 752/1285 [3:56:58<2:31:54, 17.10s/it]"
     ]
    },
    {
     "name": "stdout",
     "output_type": "stream",
     "text": [
      "['retrieving figi: BBG000BZ9223 ticker: EOG']\n"
     ]
    },
    {
     "name": "stderr",
     "output_type": "stream",
     "text": [
      "\r",
      " 59%|████████████████████████████████████████████████████████████████████████                                                   | 753/1285 [3:57:19<2:41:28, 18.21s/it]"
     ]
    },
    {
     "name": "stdout",
     "output_type": "stream",
     "text": [
      "['retrieving figi: BBG001BBSZV8 ticker: MSST']\n"
     ]
    },
    {
     "name": "stderr",
     "output_type": "stream",
     "text": [
      "\r",
      " 59%|████████████████████████████████████████████████████████████████████████▏                                                  | 754/1285 [3:57:32<2:27:53, 16.71s/it]"
     ]
    },
    {
     "name": "stdout",
     "output_type": "stream",
     "text": [
      "['retrieving figi: BBG000BBS2Y0 ticker: AMGN']\n"
     ]
    },
    {
     "name": "stderr",
     "output_type": "stream",
     "text": [
      "\r",
      " 59%|████████████████████████████████████████████████████████████████████████▎                                                  | 755/1285 [3:57:52<2:35:29, 17.60s/it]"
     ]
    },
    {
     "name": "stdout",
     "output_type": "stream",
     "text": [
      "['retrieving figi: BBG00K4MPP27 ticker: VNE']\n"
     ]
    },
    {
     "name": "stderr",
     "output_type": "stream",
     "text": [
      "\r",
      " 59%|████████████████████████████████████████████████████████████████████████▎                                                  | 756/1285 [3:58:07<2:28:01, 16.79s/it]"
     ]
    },
    {
     "name": "stdout",
     "output_type": "stream",
     "text": [
      "['retrieving figi: BBG000CHSS88 ticker: ODFL']\n"
     ]
    },
    {
     "name": "stderr",
     "output_type": "stream",
     "text": [
      "\r",
      " 59%|████████████████████████████████████████████████████████████████████████▍                                                  | 757/1285 [3:58:25<2:30:46, 17.13s/it]"
     ]
    },
    {
     "name": "stdout",
     "output_type": "stream",
     "text": [
      "['retrieving figi: BBG000BC1L02 ticker: AOS']\n"
     ]
    },
    {
     "name": "stderr",
     "output_type": "stream",
     "text": [
      "\r",
      " 59%|████████████████████████████████████████████████████████████████████████▌                                                  | 758/1285 [3:58:43<2:33:20, 17.46s/it]"
     ]
    },
    {
     "name": "stdout",
     "output_type": "stream",
     "text": [
      "['retrieving figi: BBG000QS6NV8 ticker: MDGL']\n"
     ]
    },
    {
     "name": "stderr",
     "output_type": "stream",
     "text": [
      "\r",
      " 59%|████████████████████████████████████████████████████████████████████████▋                                                  | 759/1285 [3:58:58<2:27:05, 16.78s/it]"
     ]
    },
    {
     "name": "stdout",
     "output_type": "stream",
     "text": [
      "['retrieving figi: BBG000LD9JQ8 ticker: WYNN']\n"
     ]
    },
    {
     "name": "stderr",
     "output_type": "stream",
     "text": [
      "\r",
      " 59%|████████████████████████████████████████████████████████████████████████▋                                                  | 760/1285 [3:59:18<2:34:35, 17.67s/it]"
     ]
    },
    {
     "name": "stdout",
     "output_type": "stream",
     "text": [
      "['retrieving figi: BBG000BT0CM2 ticker: SIVB']\n"
     ]
    },
    {
     "name": "stderr",
     "output_type": "stream",
     "text": [
      "\r",
      " 59%|████████████████████████████████████████████████████████████████████████▊                                                  | 761/1285 [3:59:35<2:33:37, 17.59s/it]"
     ]
    },
    {
     "name": "stdout",
     "output_type": "stream",
     "text": [
      "['retrieving figi: BBG000BRD0D8 ticker: PNC']\n"
     ]
    },
    {
     "name": "stderr",
     "output_type": "stream",
     "text": [
      "\r",
      " 59%|████████████████████████████████████████████████████████████████████████▉                                                  | 762/1285 [3:59:55<2:39:11, 18.26s/it]"
     ]
    },
    {
     "name": "stdout",
     "output_type": "stream",
     "text": [
      "['retrieving figi: BBG000BJ49H3 ticker: BWA']\n"
     ]
    },
    {
     "name": "stderr",
     "output_type": "stream",
     "text": [
      "\r",
      " 59%|█████████████████████████████████████████████████████████████████████████                                                  | 763/1285 [4:00:14<2:40:15, 18.42s/it]"
     ]
    },
    {
     "name": "stdout",
     "output_type": "stream",
     "text": [
      "['retrieving figi: BBG000MZL2S9 ticker: PMSBP']\n"
     ]
    },
    {
     "name": "stderr",
     "output_type": "stream",
     "text": [
      "\r",
      " 59%|█████████████████████████████████████████████████████████████████████████▏                                                 | 764/1285 [4:00:26<2:23:18, 16.50s/it]"
     ]
    },
    {
     "name": "stdout",
     "output_type": "stream",
     "text": [
      "['retrieving figi: BBG000G2GJT7 ticker: HRTX']\n"
     ]
    },
    {
     "name": "stderr",
     "output_type": "stream",
     "text": [
      "\r",
      " 60%|█████████████████████████████████████████████████████████████████████████▏                                                 | 765/1285 [4:00:45<2:30:17, 17.34s/it]"
     ]
    },
    {
     "name": "stdout",
     "output_type": "stream",
     "text": [
      "['retrieving figi: BBG000BS4MP5 ticker: DDS']\n"
     ]
    },
    {
     "name": "stderr",
     "output_type": "stream",
     "text": [
      "\r",
      " 60%|█████████████████████████████████████████████████████████████████████████▎                                                 | 766/1285 [4:01:00<2:22:33, 16.48s/it]"
     ]
    },
    {
     "name": "stdout",
     "output_type": "stream",
     "text": [
      "['retrieving figi: BBG004S682Z6 ticker: RTKM']\n"
     ]
    },
    {
     "name": "stderr",
     "output_type": "stream",
     "text": [
      "\r",
      " 60%|█████████████████████████████████████████████████████████████████████████▍                                                 | 767/1285 [4:01:22<2:38:24, 18.35s/it]"
     ]
    },
    {
     "name": "stdout",
     "output_type": "stream",
     "text": [
      "['retrieving figi: BBG000BLDV98 ticker: HRB']\n"
     ]
    },
    {
     "name": "stderr",
     "output_type": "stream",
     "text": [
      "\r",
      " 60%|█████████████████████████████████████████████████████████████████████████▌                                                 | 768/1285 [4:01:41<2:38:02, 18.34s/it]"
     ]
    },
    {
     "name": "stdout",
     "output_type": "stream",
     "text": [
      "['retrieving figi: BBG000BP0KQ8 ticker: EA']\n"
     ]
    },
    {
     "name": "stderr",
     "output_type": "stream",
     "text": [
      "\r",
      " 60%|█████████████████████████████████████████████████████████████████████████▌                                                 | 769/1285 [4:01:59<2:37:33, 18.32s/it]"
     ]
    },
    {
     "name": "stdout",
     "output_type": "stream",
     "text": [
      "['retrieving figi: BBG00QPYJ5H0 ticker: TCSG']\n"
     ]
    },
    {
     "name": "stderr",
     "output_type": "stream",
     "text": [
      "\r",
      " 60%|█████████████████████████████████████████████████████████████████████████▋                                                 | 770/1285 [4:02:19<2:42:08, 18.89s/it]"
     ]
    },
    {
     "name": "stdout",
     "output_type": "stream",
     "text": [
      "['retrieving figi: BBG000BTT3D1 ticker: POWI']\n"
     ]
    },
    {
     "name": "stderr",
     "output_type": "stream",
     "text": [
      "\r",
      " 60%|█████████████████████████████████████████████████████████████████████████▊                                                 | 771/1285 [4:02:34<2:30:16, 17.54s/it]"
     ]
    },
    {
     "name": "stdout",
     "output_type": "stream",
     "text": [
      "['retrieving figi: BBG00H6YFFF5 ticker: CBPO']\n"
     ]
    },
    {
     "name": "stderr",
     "output_type": "stream",
     "text": [
      "\r",
      " 60%|█████████████████████████████████████████████████████████████████████████▉                                                 | 772/1285 [4:02:49<2:23:47, 16.82s/it]"
     ]
    },
    {
     "name": "stdout",
     "output_type": "stream",
     "text": [
      "['retrieving figi: BBG000BBK401 ticker: MATX']\n"
     ]
    },
    {
     "name": "stderr",
     "output_type": "stream",
     "text": [
      "\r",
      " 60%|█████████████████████████████████████████████████████████████████████████▉                                                 | 773/1285 [4:03:03<2:15:59, 15.94s/it]"
     ]
    },
    {
     "name": "stdout",
     "output_type": "stream",
     "text": [
      "['retrieving figi: BBG000CH5208 ticker: UNH']\n"
     ]
    },
    {
     "name": "stderr",
     "output_type": "stream",
     "text": [
      "\r",
      " 60%|██████████████████████████████████████████████████████████████████████████                                                 | 774/1285 [4:03:26<2:35:41, 18.28s/it]"
     ]
    },
    {
     "name": "stdout",
     "output_type": "stream",
     "text": [
      "['retrieving figi: BBG000BSFRF3 ticker: SNPS']\n"
     ]
    },
    {
     "name": "stderr",
     "output_type": "stream",
     "text": [
      "\r",
      " 60%|██████████████████████████████████████████████████████████████████████████▏                                                | 775/1285 [4:03:49<2:46:04, 19.54s/it]"
     ]
    },
    {
     "name": "stdout",
     "output_type": "stream",
     "text": [
      "['retrieving figi: BBG000BJZ7V7 ticker: FUL']\n"
     ]
    },
    {
     "name": "stderr",
     "output_type": "stream",
     "text": [
      "\r",
      " 60%|██████████████████████████████████████████████████████████████████████████▎                                                | 776/1285 [4:04:07<2:41:55, 19.09s/it]"
     ]
    },
    {
     "name": "stdout",
     "output_type": "stream",
     "text": [
      "['retrieving figi: BBG000BWPXQ8 ticker: BTI']\n"
     ]
    },
    {
     "name": "stderr",
     "output_type": "stream",
     "text": [
      "\r",
      " 60%|██████████████████████████████████████████████████████████████████████████▎                                                | 777/1285 [4:04:32<2:57:49, 21.00s/it]"
     ]
    },
    {
     "name": "stdout",
     "output_type": "stream",
     "text": [
      "['retrieving figi: BBG000C5HS04 ticker: NKE']\n"
     ]
    },
    {
     "name": "stderr",
     "output_type": "stream",
     "text": [
      "\r",
      " 61%|██████████████████████████████████████████████████████████████████████████▍                                                | 778/1285 [4:04:57<3:06:45, 22.10s/it]"
     ]
    },
    {
     "name": "stdout",
     "output_type": "stream",
     "text": [
      "['retrieving figi: BBG004S68CV8 ticker: VSMO']\n"
     ]
    },
    {
     "name": "stderr",
     "output_type": "stream",
     "text": [
      "\r",
      " 61%|██████████████████████████████████████████████████████████████████████████▌                                                | 779/1285 [4:05:09<2:40:36, 19.04s/it]"
     ]
    },
    {
     "name": "stdout",
     "output_type": "stream",
     "text": [
      "['retrieving figi: BBG000BSHH72 ticker: SCCO']\n"
     ]
    },
    {
     "name": "stderr",
     "output_type": "stream",
     "text": [
      "\r",
      " 61%|██████████████████████████████████████████████████████████████████████████▋                                                | 780/1285 [4:05:26<2:34:36, 18.37s/it]"
     ]
    },
    {
     "name": "stdout",
     "output_type": "stream",
     "text": [
      "['retrieving figi: BBG000HGTH33 ticker: CARS']\n"
     ]
    },
    {
     "name": "stderr",
     "output_type": "stream",
     "text": [
      "\r",
      " 61%|██████████████████████████████████████████████████████████████████████████▊                                                | 781/1285 [4:05:43<2:30:59, 17.98s/it]"
     ]
    },
    {
     "name": "stdout",
     "output_type": "stream",
     "text": [
      "['retrieving figi: BBG000PSJMV7 ticker: TXRH']\n"
     ]
    },
    {
     "name": "stderr",
     "output_type": "stream",
     "text": [
      "\r",
      " 61%|██████████████████████████████████████████████████████████████████████████▊                                                | 782/1285 [4:06:00<2:28:40, 17.73s/it]"
     ]
    },
    {
     "name": "stdout",
     "output_type": "stream",
     "text": [
      "['retrieving figi: BBG000D13GN8 ticker: ZG']\n"
     ]
    },
    {
     "name": "stderr",
     "output_type": "stream",
     "text": [
      "\r",
      " 61%|██████████████████████████████████████████████████████████████████████████▉                                                | 783/1285 [4:06:18<2:29:12, 17.83s/it]"
     ]
    },
    {
     "name": "stdout",
     "output_type": "stream",
     "text": [
      "['retrieving figi: BBG000DB3KT1 ticker: WLTW']\n"
     ]
    },
    {
     "name": "stderr",
     "output_type": "stream",
     "text": [
      "\r",
      " 61%|███████████████████████████████████████████████████████████████████████████                                                | 784/1285 [4:06:36<2:28:58, 17.84s/it]"
     ]
    },
    {
     "name": "stdout",
     "output_type": "stream",
     "text": [
      "['retrieving figi: BBG000BW3299 ticker: UNP']\n"
     ]
    },
    {
     "name": "stderr",
     "output_type": "stream",
     "text": [
      "\r",
      " 61%|███████████████████████████████████████████████████████████████████████████▏                                               | 785/1285 [4:06:55<2:32:37, 18.31s/it]"
     ]
    },
    {
     "name": "stdout",
     "output_type": "stream",
     "text": [
      "['retrieving figi: BBG000BCVG28 ticker: POOL']\n"
     ]
    },
    {
     "name": "stderr",
     "output_type": "stream",
     "text": [
      "\r",
      " 61%|███████████████████████████████████████████████████████████████████████████▏                                               | 786/1285 [4:07:12<2:28:24, 17.84s/it]"
     ]
    },
    {
     "name": "stdout",
     "output_type": "stream",
     "text": [
      "['retrieving figi: BBG00GTWPCQ0 ticker: DLPH']\n"
     ]
    },
    {
     "name": "stderr",
     "output_type": "stream",
     "text": [
      "\r",
      " 61%|███████████████████████████████████████████████████████████████████████████▎                                               | 787/1285 [4:07:31<2:29:50, 18.05s/it]"
     ]
    },
    {
     "name": "stdout",
     "output_type": "stream",
     "text": [
      "['retrieving figi: BBG0059FN811 ticker: KEYS']\n"
     ]
    },
    {
     "name": "stderr",
     "output_type": "stream",
     "text": [
      "\r",
      " 61%|███████████████████████████████████████████████████████████████████████████▍                                               | 788/1285 [4:07:50<2:32:38, 18.43s/it]"
     ]
    },
    {
     "name": "stdout",
     "output_type": "stream",
     "text": [
      "['retrieving figi: BBG000BDTT76 ticker: MTRN']\n"
     ]
    },
    {
     "name": "stderr",
     "output_type": "stream",
     "text": [
      "\r",
      " 61%|███████████████████████████████████████████████████████████████████████████▌                                               | 789/1285 [4:08:03<2:17:54, 16.68s/it]"
     ]
    },
    {
     "name": "stdout",
     "output_type": "stream",
     "text": [
      "['retrieving figi: BBG000BGLRN3 ticker: CTL']\n"
     ]
    },
    {
     "name": "stderr",
     "output_type": "stream",
     "text": [
      "\r",
      " 61%|███████████████████████████████████████████████████████████████████████████▌                                               | 790/1285 [4:08:23<2:27:00, 17.82s/it]"
     ]
    },
    {
     "name": "stdout",
     "output_type": "stream",
     "text": [
      "['retrieving figi: BBG000D9KWL9 ticker: MTB']\n"
     ]
    },
    {
     "name": "stderr",
     "output_type": "stream",
     "text": [
      "\r",
      " 62%|███████████████████████████████████████████████████████████████████████████▋                                               | 791/1285 [4:08:44<2:33:37, 18.66s/it]"
     ]
    },
    {
     "name": "stdout",
     "output_type": "stream",
     "text": [
      "['retrieving figi: BBG000BRJL00 ticker: PPL']\n"
     ]
    },
    {
     "name": "stderr",
     "output_type": "stream",
     "text": [
      "\r",
      " 62%|███████████████████████████████████████████████████████████████████████████▊                                               | 792/1285 [4:09:05<2:40:28, 19.53s/it]"
     ]
    },
    {
     "name": "stdout",
     "output_type": "stream",
     "text": [
      "['retrieving figi: BBG0016T3GQ0 ticker: VC']\n"
     ]
    },
    {
     "name": "stderr",
     "output_type": "stream",
     "text": [
      "\r",
      " 62%|███████████████████████████████████████████████████████████████████████████▉                                               | 793/1285 [4:09:24<2:39:28, 19.45s/it]"
     ]
    },
    {
     "name": "stdout",
     "output_type": "stream",
     "text": [
      "['retrieving figi: BBG000C90DH9 ticker: IPG']\n"
     ]
    },
    {
     "name": "stderr",
     "output_type": "stream",
     "text": [
      "\r",
      " 62%|████████████████████████████████████████████████████████████████████████████                                               | 794/1285 [4:09:46<2:45:14, 20.19s/it]"
     ]
    },
    {
     "name": "stdout",
     "output_type": "stream",
     "text": [
      "['retrieving figi: BBG000BH6360 ticker: DLX']\n"
     ]
    },
    {
     "name": "stderr",
     "output_type": "stream",
     "text": [
      "\r",
      " 62%|████████████████████████████████████████████████████████████████████████████                                               | 795/1285 [4:10:02<2:33:57, 18.85s/it]"
     ]
    },
    {
     "name": "stdout",
     "output_type": "stream",
     "text": [
      "['retrieving figi: BBG000PZ0833 ticker: MGTSP']\n"
     ]
    },
    {
     "name": "stderr",
     "output_type": "stream",
     "text": [
      "\r",
      " 62%|████████████████████████████████████████████████████████████████████████████▏                                              | 796/1285 [4:10:17<2:25:02, 17.80s/it]"
     ]
    },
    {
     "name": "stdout",
     "output_type": "stream",
     "text": [
      "['retrieving figi: BBG000GRZDV1 ticker: STRA']\n"
     ]
    },
    {
     "name": "stderr",
     "output_type": "stream",
     "text": [
      "\r",
      " 62%|████████████████████████████████████████████████████████████████████████████▎                                              | 797/1285 [4:10:32<2:17:12, 16.87s/it]"
     ]
    },
    {
     "name": "stdout",
     "output_type": "stream",
     "text": [
      "['retrieving figi: BBG001WWJTK5 ticker: PLAY']\n"
     ]
    },
    {
     "name": "stderr",
     "output_type": "stream",
     "text": [
      "\r",
      " 62%|████████████████████████████████████████████████████████████████████████████▍                                              | 798/1285 [4:10:51<2:21:31, 17.44s/it]"
     ]
    },
    {
     "name": "stdout",
     "output_type": "stream",
     "text": [
      "['retrieving figi: BBG003DKQRK4 ticker: MYOK']\n"
     ]
    },
    {
     "name": "stderr",
     "output_type": "stream",
     "text": [
      "\r",
      " 62%|████████████████████████████████████████████████████████████████████████████▍                                              | 799/1285 [4:11:09<2:21:44, 17.50s/it]"
     ]
    },
    {
     "name": "stdout",
     "output_type": "stream",
     "text": [
      "['retrieving figi: BBG000JK9DK4 ticker: PLCE']\n"
     ]
    },
    {
     "name": "stderr",
     "output_type": "stream",
     "text": [
      "\r",
      " 62%|████████████████████████████████████████████████████████████████████████████▌                                              | 800/1285 [4:11:27<2:24:33, 17.88s/it]"
     ]
    },
    {
     "name": "stdout",
     "output_type": "stream",
     "text": [
      "['retrieving figi: BBG004S68CP5 ticker: MVID']\n"
     ]
    },
    {
     "name": "stderr",
     "output_type": "stream",
     "text": [
      "\r",
      " 62%|████████████████████████████████████████████████████████████████████████████▋                                              | 801/1285 [4:11:44<2:20:37, 17.43s/it]"
     ]
    },
    {
     "name": "stdout",
     "output_type": "stream",
     "text": [
      "['retrieving figi: BBG000JWD753 ticker: LVS']\n"
     ]
    },
    {
     "name": "stderr",
     "output_type": "stream",
     "text": [
      "\r",
      " 62%|████████████████████████████████████████████████████████████████████████████▊                                              | 802/1285 [4:12:04<2:26:56, 18.25s/it]"
     ]
    },
    {
     "name": "stdout",
     "output_type": "stream",
     "text": [
      "['retrieving figi: BBG0016MQ7C5 ticker: TPIC']\n"
     ]
    },
    {
     "name": "stderr",
     "output_type": "stream",
     "text": [
      "\r",
      " 62%|████████████████████████████████████████████████████████████████████████████▊                                              | 803/1285 [4:12:22<2:26:03, 18.18s/it]"
     ]
    },
    {
     "name": "stdout",
     "output_type": "stream",
     "text": [
      "['retrieving figi: BBG000G6Y5W4 ticker: MKC']\n"
     ]
    },
    {
     "name": "stderr",
     "output_type": "stream",
     "text": [
      "\r",
      " 63%|████████████████████████████████████████████████████████████████████████████▉                                              | 804/1285 [4:12:40<2:24:52, 18.07s/it]"
     ]
    },
    {
     "name": "stdout",
     "output_type": "stream",
     "text": [
      "['retrieving figi: BBG000DFMXT3 ticker: AZPN']\n"
     ]
    },
    {
     "name": "stderr",
     "output_type": "stream",
     "text": [
      "\r",
      " 63%|█████████████████████████████████████████████████████████████████████████████                                              | 805/1285 [4:12:58<2:24:43, 18.09s/it]"
     ]
    },
    {
     "name": "stdout",
     "output_type": "stream",
     "text": [
      "['retrieving figi: BBG0018FQNS6 ticker: PCRX']\n"
     ]
    },
    {
     "name": "stderr",
     "output_type": "stream",
     "text": [
      "\r",
      " 63%|█████████████████████████████████████████████████████████████████████████████▏                                             | 806/1285 [4:13:16<2:25:27, 18.22s/it]"
     ]
    },
    {
     "name": "stdout",
     "output_type": "stream",
     "text": [
      "['retrieving figi: BBG000BPMH90 ticker: MUR']\n"
     ]
    },
    {
     "name": "stderr",
     "output_type": "stream",
     "text": [
      "\r",
      " 63%|█████████████████████████████████████████████████████████████████████████████▏                                             | 807/1285 [4:13:35<2:25:16, 18.23s/it]"
     ]
    },
    {
     "name": "stdout",
     "output_type": "stream",
     "text": [
      "['retrieving figi: BBG000BB9Q78 ticker: SRI']\n"
     ]
    },
    {
     "name": "stderr",
     "output_type": "stream",
     "text": [
      "\r",
      " 63%|█████████████████████████████████████████████████████████████████████████████▎                                             | 808/1285 [4:13:48<2:13:07, 16.74s/it]"
     ]
    },
    {
     "name": "stdout",
     "output_type": "stream",
     "text": [
      "['retrieving figi: BBG000BJ3PD2 ticker: ETN']\n"
     ]
    },
    {
     "name": "stderr",
     "output_type": "stream",
     "text": [
      "\r",
      " 63%|█████████████████████████████████████████████████████████████████████████████▍                                             | 809/1285 [4:14:06<2:16:27, 17.20s/it]"
     ]
    },
    {
     "name": "stdout",
     "output_type": "stream",
     "text": [
      "['retrieving figi: BBG00GVR8YQ9 ticker: LIN']\n"
     ]
    },
    {
     "name": "stderr",
     "output_type": "stream",
     "text": [
      "\r",
      " 63%|█████████████████████████████████████████████████████████████████████████████▌                                             | 810/1285 [4:14:27<2:25:51, 18.42s/it]"
     ]
    },
    {
     "name": "stdout",
     "output_type": "stream",
     "text": [
      "['retrieving figi: BBG000RJ2J04 ticker: SSNC']\n"
     ]
    },
    {
     "name": "stderr",
     "output_type": "stream",
     "text": [
      "\r",
      " 63%|█████████████████████████████████████████████████████████████████████████████▋                                             | 811/1285 [4:14:46<2:26:26, 18.54s/it]"
     ]
    },
    {
     "name": "stdout",
     "output_type": "stream",
     "text": [
      "['retrieving figi: BBG003H0XV18 ticker: YY']\n"
     ]
    },
    {
     "name": "stderr",
     "output_type": "stream",
     "text": [
      "\r",
      " 63%|█████████████████████████████████████████████████████████████████████████████▋                                             | 812/1285 [4:15:04<2:24:06, 18.28s/it]"
     ]
    },
    {
     "name": "stdout",
     "output_type": "stream",
     "text": [
      "['retrieving figi: BBG000N2HDY5 ticker: ANET']\n"
     ]
    },
    {
     "name": "stderr",
     "output_type": "stream",
     "text": [
      "\r",
      " 63%|█████████████████████████████████████████████████████████████████████████████▊                                             | 813/1285 [4:15:23<2:24:54, 18.42s/it]"
     ]
    },
    {
     "name": "stdout",
     "output_type": "stream",
     "text": [
      "['retrieving figi: BBG000PPFKQ7 ticker: BR']\n"
     ]
    },
    {
     "name": "stderr",
     "output_type": "stream",
     "text": [
      "\r",
      " 63%|█████████████████████████████████████████████████████████████████████████████▉                                             | 814/1285 [4:15:40<2:22:17, 18.13s/it]"
     ]
    },
    {
     "name": "stdout",
     "output_type": "stream",
     "text": [
      "['retrieving figi: BBG000G9W6L0 ticker: HUBG']\n"
     ]
    },
    {
     "name": "stderr",
     "output_type": "stream",
     "text": [
      "\r",
      " 63%|██████████████████████████████████████████████████████████████████████████████                                             | 815/1285 [4:15:56<2:16:41, 17.45s/it]"
     ]
    },
    {
     "name": "stdout",
     "output_type": "stream",
     "text": [
      "['retrieving figi: BBG000MHTV89 ticker: EPAM']\n"
     ]
    },
    {
     "name": "stderr",
     "output_type": "stream",
     "text": [
      "\r",
      " 64%|██████████████████████████████████████████████████████████████████████████████                                             | 816/1285 [4:16:13<2:14:58, 17.27s/it]"
     ]
    },
    {
     "name": "stdout",
     "output_type": "stream",
     "text": [
      "['retrieving figi: BBG000BB65D0 ticker: IT']\n"
     ]
    },
    {
     "name": "stderr",
     "output_type": "stream",
     "text": [
      "\r",
      " 64%|██████████████████████████████████████████████████████████████████████████████▏                                            | 817/1285 [4:16:31<2:17:00, 17.56s/it]"
     ]
    },
    {
     "name": "stdout",
     "output_type": "stream",
     "text": [
      "['retrieving figi: BBG000D6L294 ticker: XEC']\n"
     ]
    },
    {
     "name": "stderr",
     "output_type": "stream",
     "text": [
      "\r",
      " 64%|██████████████████████████████████████████████████████████████████████████████▎                                            | 818/1285 [4:16:51<2:22:37, 18.33s/it]"
     ]
    },
    {
     "name": "stdout",
     "output_type": "stream",
     "text": [
      "['retrieving figi: BBG000FLZN98 ticker: MHK']\n"
     ]
    },
    {
     "name": "stderr",
     "output_type": "stream",
     "text": [
      "\r",
      " 64%|██████████████████████████████████████████████████████████████████████████████▍                                            | 819/1285 [4:17:10<2:22:52, 18.40s/it]"
     ]
    },
    {
     "name": "stdout",
     "output_type": "stream",
     "text": [
      "['retrieving figi: BBG000BR54L0 ticker: PHM']\n"
     ]
    },
    {
     "name": "stderr",
     "output_type": "stream",
     "text": [
      "\r",
      " 64%|██████████████████████████████████████████████████████████████████████████████▍                                            | 820/1285 [4:17:30<2:27:59, 19.10s/it]"
     ]
    },
    {
     "name": "stdout",
     "output_type": "stream",
     "text": [
      "['retrieving figi: BBG000BB6WG8 ticker: ADM']\n"
     ]
    },
    {
     "name": "stderr",
     "output_type": "stream",
     "text": [
      "\r",
      " 64%|██████████████████████████████████████████████████████████████████████████████▌                                            | 821/1285 [4:17:50<2:27:57, 19.13s/it]"
     ]
    },
    {
     "name": "stdout",
     "output_type": "stream",
     "text": [
      "['retrieving figi: BBG000C43RR5 ticker: EBAY']\n"
     ]
    },
    {
     "name": "stderr",
     "output_type": "stream",
     "text": [
      "\r",
      " 64%|██████████████████████████████████████████████████████████████████████████████▋                                            | 822/1285 [4:18:10<2:29:33, 19.38s/it]"
     ]
    },
    {
     "name": "stdout",
     "output_type": "stream",
     "text": [
      "['retrieving figi: BBG000G8N9C6 ticker: JWN']\n"
     ]
    },
    {
     "name": "stderr",
     "output_type": "stream",
     "text": [
      "\r",
      " 64%|██████████████████████████████████████████████████████████████████████████████▊                                            | 823/1285 [4:18:28<2:28:00, 19.22s/it]"
     ]
    },
    {
     "name": "stdout",
     "output_type": "stream",
     "text": [
      "['retrieving figi: BBG000BN2DC2 ticker: CRM']\n"
     ]
    },
    {
     "name": "stderr",
     "output_type": "stream",
     "text": [
      "\r",
      " 64%|██████████████████████████████████████████████████████████████████████████████▊                                            | 824/1285 [4:18:49<2:30:16, 19.56s/it]"
     ]
    },
    {
     "name": "stdout",
     "output_type": "stream",
     "text": [
      "['retrieving figi: BBG000H8TVT2 ticker: TGT']\n"
     ]
    },
    {
     "name": "stderr",
     "output_type": "stream",
     "text": [
      "\r",
      " 64%|██████████████████████████████████████████████████████████████████████████████▉                                            | 825/1285 [4:19:08<2:30:06, 19.58s/it]"
     ]
    },
    {
     "name": "stdout",
     "output_type": "stream",
     "text": [
      "['retrieving figi: BBG00FWQ4VD6 ticker: ULTA']\n"
     ]
    },
    {
     "name": "stderr",
     "output_type": "stream",
     "text": [
      "\r",
      " 64%|███████████████████████████████████████████████████████████████████████████████                                            | 826/1285 [4:19:29<2:33:02, 20.01s/it]"
     ]
    },
    {
     "name": "stdout",
     "output_type": "stream",
     "text": [
      "['retrieving figi: BBG000HGYNZ9 ticker: STLD']\n"
     ]
    },
    {
     "name": "stderr",
     "output_type": "stream",
     "text": [
      "\r",
      " 64%|███████████████████████████████████████████████████████████████████████████████▏                                           | 827/1285 [4:19:49<2:31:14, 19.81s/it]"
     ]
    },
    {
     "name": "stdout",
     "output_type": "stream",
     "text": [
      "['retrieving figi: BBG004730N88 ticker: SBER']\n"
     ]
    },
    {
     "name": "stderr",
     "output_type": "stream",
     "text": [
      "\r",
      " 64%|███████████████████████████████████████████████████████████████████████████████▎                                           | 828/1285 [4:20:09<2:32:17, 19.99s/it]"
     ]
    },
    {
     "name": "stdout",
     "output_type": "stream",
     "text": [
      "['retrieving figi: BBG000BQT4L6 ticker: PBCT']\n"
     ]
    },
    {
     "name": "stderr",
     "output_type": "stream",
     "text": [
      "\r",
      " 65%|███████████████████████████████████████████████████████████████████████████████▎                                           | 829/1285 [4:20:28<2:28:10, 19.50s/it]"
     ]
    },
    {
     "name": "stdout",
     "output_type": "stream",
     "text": [
      "['retrieving figi: BBG000BHKYH4 ticker: ECL']\n"
     ]
    },
    {
     "name": "stderr",
     "output_type": "stream",
     "text": [
      "\r",
      " 65%|███████████████████████████████████████████████████████████████████████████████▍                                           | 830/1285 [4:20:48<2:31:00, 19.91s/it]"
     ]
    },
    {
     "name": "stdout",
     "output_type": "stream",
     "text": [
      "['retrieving figi: BBG002B25NL9 ticker: ALNU']\n"
     ]
    },
    {
     "name": "stderr",
     "output_type": "stream",
     "text": [
      "\r",
      " 65%|███████████████████████████████████████████████████████████████████████████████▌                                           | 831/1285 [4:20:58<2:07:54, 16.90s/it]"
     ]
    },
    {
     "name": "stdout",
     "output_type": "stream",
     "text": [
      "['retrieving figi: BBG001C7PMJ2 ticker: APPN']\n"
     ]
    },
    {
     "name": "stderr",
     "output_type": "stream",
     "text": [
      "\r",
      " 65%|███████████████████████████████████████████████████████████████████████████████▋                                           | 832/1285 [4:21:18<2:13:00, 17.62s/it]"
     ]
    },
    {
     "name": "stdout",
     "output_type": "stream",
     "text": [
      "['retrieving figi: BBG000C13CD9 ticker: CDNS']\n"
     ]
    },
    {
     "name": "stderr",
     "output_type": "stream",
     "text": [
      "\r",
      " 65%|███████████████████████████████████████████████████████████████████████████████▋                                           | 833/1285 [4:21:36<2:15:03, 17.93s/it]"
     ]
    },
    {
     "name": "stdout",
     "output_type": "stream",
     "text": [
      "['retrieving figi: BBG000BCLYL9 ticker: MSM']\n"
     ]
    },
    {
     "name": "stderr",
     "output_type": "stream",
     "text": [
      "\r",
      " 65%|███████████████████████████████████████████████████████████████████████████████▊                                           | 834/1285 [4:21:55<2:16:11, 18.12s/it]"
     ]
    },
    {
     "name": "stdout",
     "output_type": "stream",
     "text": [
      "['retrieving figi: BBG000J3D1Y8 ticker: OSUR']\n"
     ]
    },
    {
     "name": "stderr",
     "output_type": "stream",
     "text": [
      "\r",
      " 65%|███████████████████████████████████████████████████████████████████████████████▉                                           | 835/1285 [4:22:10<2:09:31, 17.27s/it]"
     ]
    },
    {
     "name": "stdout",
     "output_type": "stream",
     "text": [
      "['retrieving figi: BBG000MQ1SN9 ticker: DVA']\n"
     ]
    },
    {
     "name": "stderr",
     "output_type": "stream",
     "text": [
      "\r",
      " 65%|████████████████████████████████████████████████████████████████████████████████                                           | 836/1285 [4:22:27<2:09:10, 17.26s/it]"
     ]
    },
    {
     "name": "stdout",
     "output_type": "stream",
     "text": [
      "['retrieving figi: BBG000BQVTF5 ticker: PCAR']\n"
     ]
    },
    {
     "name": "stderr",
     "output_type": "stream",
     "text": [
      "\r",
      " 65%|████████████████████████████████████████████████████████████████████████████████                                           | 837/1285 [4:22:47<2:14:00, 17.95s/it]"
     ]
    },
    {
     "name": "stdout",
     "output_type": "stream",
     "text": [
      "['retrieving figi: BBG000BR85F1 ticker: PTR']\n"
     ]
    },
    {
     "name": "stderr",
     "output_type": "stream",
     "text": [
      "\r",
      " 65%|████████████████████████████████████████████████████████████████████████████████▏                                          | 838/1285 [4:22:59<2:00:38, 16.19s/it]"
     ]
    },
    {
     "name": "stdout",
     "output_type": "stream",
     "text": [
      "['retrieving figi: BBG00P33SY72 ticker: PNTG']\n"
     ]
    },
    {
     "name": "stderr",
     "output_type": "stream",
     "text": [
      "\r",
      " 65%|████████████████████████████████████████████████████████████████████████████████▎                                          | 839/1285 [4:23:12<1:52:42, 15.16s/it]"
     ]
    },
    {
     "name": "stdout",
     "output_type": "stream",
     "text": [
      "['retrieving figi: TCS003QRSQD3 ticker: BFYT']\n"
     ]
    },
    {
     "name": "stderr",
     "output_type": "stream",
     "text": [
      "\r",
      " 65%|████████████████████████████████████████████████████████████████████████████████▍                                          | 840/1285 [4:23:23<1:43:15, 13.92s/it]"
     ]
    },
    {
     "name": "stdout",
     "output_type": "stream",
     "text": [
      "['retrieving figi: BBG000BGYWY6 ticker: ORLY']\n"
     ]
    },
    {
     "name": "stderr",
     "output_type": "stream",
     "text": [
      "\r",
      " 65%|████████████████████████████████████████████████████████████████████████████████▌                                          | 841/1285 [4:23:41<1:53:35, 15.35s/it]"
     ]
    },
    {
     "name": "stdout",
     "output_type": "stream",
     "text": [
      "['retrieving figi: BBG00HXSHDQ9 ticker: FNKO']\n"
     ]
    },
    {
     "name": "stderr",
     "output_type": "stream",
     "text": [
      "\r",
      " 66%|████████████████████████████████████████████████████████████████████████████████▌                                          | 842/1285 [4:24:00<2:00:08, 16.27s/it]"
     ]
    },
    {
     "name": "stdout",
     "output_type": "stream",
     "text": [
      "['retrieving figi: BBG007GJ2F81 ticker: FND']\n"
     ]
    },
    {
     "name": "stderr",
     "output_type": "stream",
     "text": [
      "\r",
      " 66%|████████████████████████████████████████████████████████████████████████████████▋                                          | 843/1285 [4:24:18<2:04:23, 16.89s/it]"
     ]
    },
    {
     "name": "stdout",
     "output_type": "stream",
     "text": [
      "['retrieving figi: BBG000BJD7C2 ticker: FARO']\n"
     ]
    },
    {
     "name": "stderr",
     "output_type": "stream",
     "text": [
      "\r",
      " 66%|████████████████████████████████████████████████████████████████████████████████▊                                          | 844/1285 [4:24:30<1:53:20, 15.42s/it]"
     ]
    },
    {
     "name": "stdout",
     "output_type": "stream",
     "text": [
      "['retrieving figi: BBG000BM5SR2 ticker: IP']\n"
     ]
    },
    {
     "name": "stderr",
     "output_type": "stream",
     "text": [
      "\r",
      " 66%|████████████████████████████████████████████████████████████████████████████████▉                                          | 845/1285 [4:24:49<2:00:50, 16.48s/it]"
     ]
    },
    {
     "name": "stdout",
     "output_type": "stream",
     "text": [
      "['retrieving figi: BBG000QFPM65 ticker: HTHT']\n"
     ]
    },
    {
     "name": "stderr",
     "output_type": "stream",
     "text": [
      "\r",
      " 66%|████████████████████████████████████████████████████████████████████████████████▉                                          | 846/1285 [4:25:07<2:04:22, 17.00s/it]"
     ]
    },
    {
     "name": "stdout",
     "output_type": "stream",
     "text": [
      "['retrieving figi: BBG000BS0ZF1 ticker: RL']\n"
     ]
    },
    {
     "name": "stderr",
     "output_type": "stream",
     "text": [
      "\r",
      " 66%|█████████████████████████████████████████████████████████████████████████████████                                          | 847/1285 [4:25:27<2:09:10, 17.70s/it]"
     ]
    },
    {
     "name": "stdout",
     "output_type": "stream",
     "text": [
      "['retrieving figi: BBG000BBGGQ1 ticker: VLO']\n"
     ]
    },
    {
     "name": "stderr",
     "output_type": "stream",
     "text": [
      "\r",
      " 66%|█████████████████████████████████████████████████████████████████████████████████▏                                         | 848/1285 [4:25:46<2:12:54, 18.25s/it]"
     ]
    },
    {
     "name": "stdout",
     "output_type": "stream",
     "text": [
      "['retrieving figi: BBG001J4BCN4 ticker: COUP']\n"
     ]
    },
    {
     "name": "stderr",
     "output_type": "stream",
     "text": [
      "\r",
      " 66%|█████████████████████████████████████████████████████████████████████████████████▎                                         | 849/1285 [4:26:04<2:11:55, 18.15s/it]"
     ]
    },
    {
     "name": "stdout",
     "output_type": "stream",
     "text": [
      "['retrieving figi: BBG000DQLV23 ticker: BMY']\n"
     ]
    },
    {
     "name": "stderr",
     "output_type": "stream",
     "text": [
      "\r",
      " 66%|█████████████████████████████████████████████████████████████████████████████████▎                                         | 850/1285 [4:26:24<2:15:31, 18.69s/it]"
     ]
    },
    {
     "name": "stdout",
     "output_type": "stream",
     "text": [
      "['retrieving figi: BBG000BJ2D31 ticker: SPG']\n"
     ]
    },
    {
     "name": "stderr",
     "output_type": "stream",
     "text": [
      "\r",
      " 66%|█████████████████████████████████████████████████████████████████████████████████▍                                         | 851/1285 [4:26:44<2:17:25, 19.00s/it]"
     ]
    },
    {
     "name": "stdout",
     "output_type": "stream",
     "text": [
      "['retrieving figi: BBG001KFKQM7 ticker: SFM']\n"
     ]
    },
    {
     "name": "stderr",
     "output_type": "stream",
     "text": [
      "\r",
      " 66%|█████████████████████████████████████████████████████████████████████████████████▌                                         | 852/1285 [4:27:01<2:13:51, 18.55s/it]"
     ]
    },
    {
     "name": "stdout",
     "output_type": "stream",
     "text": [
      "['retrieving figi: BBG004Z2RGW8 ticker: ROLO']\n"
     ]
    },
    {
     "name": "stderr",
     "output_type": "stream",
     "text": [
      "\r",
      " 66%|█████████████████████████████████████████████████████████████████████████████████▋                                         | 853/1285 [4:27:13<1:57:40, 16.34s/it]"
     ]
    },
    {
     "name": "stdout",
     "output_type": "stream",
     "text": [
      "['retrieving figi: BBG000DHPN63 ticker: O']\n"
     ]
    },
    {
     "name": "stderr",
     "output_type": "stream",
     "text": [
      "\r",
      " 66%|█████████████████████████████████████████████████████████████████████████████████▋                                         | 854/1285 [4:27:31<2:02:23, 17.04s/it]"
     ]
    },
    {
     "name": "stdout",
     "output_type": "stream",
     "text": [
      "['retrieving figi: BBG0014GJCT9 ticker: PANW']\n"
     ]
    },
    {
     "name": "stderr",
     "output_type": "stream",
     "text": [
      "\r",
      " 67%|█████████████████████████████████████████████████████████████████████████████████▊                                         | 855/1285 [4:27:51<2:06:57, 17.71s/it]"
     ]
    },
    {
     "name": "stdout",
     "output_type": "stream",
     "text": [
      "['retrieving figi: BBG000BB4HM6 ticker: RAMP']\n"
     ]
    },
    {
     "name": "stderr",
     "output_type": "stream",
     "text": [
      "\r",
      " 67%|█████████████████████████████████████████████████████████████████████████████████▉                                         | 856/1285 [4:28:07<2:04:12, 17.37s/it]"
     ]
    },
    {
     "name": "stdout",
     "output_type": "stream",
     "text": [
      "['retrieving figi: BBG000DQN9R3 ticker: MIDD']\n"
     ]
    },
    {
     "name": "stderr",
     "output_type": "stream",
     "text": [
      "\r",
      " 67%|██████████████████████████████████████████████████████████████████████████████████                                         | 857/1285 [4:28:24<2:03:33, 17.32s/it]"
     ]
    },
    {
     "name": "stdout",
     "output_type": "stream",
     "text": [
      "['retrieving figi: BBG004S68BH6 ticker: PIKK']\n"
     ]
    },
    {
     "name": "stderr",
     "output_type": "stream",
     "text": [
      "\r",
      " 67%|██████████████████████████████████████████████████████████████████████████████████▏                                        | 858/1285 [4:28:42<2:04:21, 17.48s/it]"
     ]
    },
    {
     "name": "stdout",
     "output_type": "stream",
     "text": [
      "['retrieving figi: BBG000CVRFS4 ticker: H']\n"
     ]
    },
    {
     "name": "stderr",
     "output_type": "stream",
     "text": [
      "\r",
      " 67%|██████████████████████████████████████████████████████████████████████████████████▏                                        | 859/1285 [4:29:01<2:07:01, 17.89s/it]"
     ]
    },
    {
     "name": "stdout",
     "output_type": "stream",
     "text": [
      "['retrieving figi: BBG002NLDLV8 ticker: VIPS']\n"
     ]
    },
    {
     "name": "stderr",
     "output_type": "stream",
     "text": [
      "\r",
      " 67%|██████████████████████████████████████████████████████████████████████████████████▎                                        | 860/1285 [4:29:22<2:14:19, 18.96s/it]"
     ]
    },
    {
     "name": "stdout",
     "output_type": "stream",
     "text": [
      "['retrieving figi: BBG000BVPV84 ticker: AMZN']\n"
     ]
    },
    {
     "name": "stderr",
     "output_type": "stream",
     "text": [
      "\r",
      " 67%|██████████████████████████████████████████████████████████████████████████████████▍                                        | 861/1285 [4:29:49<2:29:32, 21.16s/it]"
     ]
    },
    {
     "name": "stdout",
     "output_type": "stream",
     "text": [
      "['retrieving figi: BBG004S689R0 ticker: PHOR']\n"
     ]
    },
    {
     "name": "stderr",
     "output_type": "stream",
     "text": [
      "\r",
      " 67%|██████████████████████████████████████████████████████████████████████████████████▌                                        | 862/1285 [4:30:10<2:28:26, 21.06s/it]"
     ]
    },
    {
     "name": "stdout",
     "output_type": "stream",
     "text": [
      "['retrieving figi: BBG000D5S4M0 ticker: PII']\n"
     ]
    },
    {
     "name": "stderr",
     "output_type": "stream",
     "text": [
      "\r",
      " 67%|██████████████████████████████████████████████████████████████████████████████████▌                                        | 863/1285 [4:30:27<2:20:49, 20.02s/it]"
     ]
    },
    {
     "name": "stdout",
     "output_type": "stream",
     "text": [
      "['retrieving figi: BBG003BNWBP3 ticker: PRFN']\n"
     ]
    },
    {
     "name": "stderr",
     "output_type": "stream",
     "text": [
      "\r",
      " 67%|██████████████████████████████████████████████████████████████████████████████████▋                                        | 864/1285 [4:30:40<2:04:31, 17.75s/it]"
     ]
    },
    {
     "name": "stdout",
     "output_type": "stream",
     "text": [
      "['retrieving figi: BBG004S681B4 ticker: NLMK']\n"
     ]
    },
    {
     "name": "stderr",
     "output_type": "stream",
     "text": [
      "\r",
      " 67%|██████████████████████████████████████████████████████████████████████████████████▊                                        | 865/1285 [4:31:00<2:09:19, 18.48s/it]"
     ]
    },
    {
     "name": "stdout",
     "output_type": "stream",
     "text": [
      "['retrieving figi: BBG000FDBX90 ticker: CNP']\n"
     ]
    },
    {
     "name": "stderr",
     "output_type": "stream",
     "text": [
      "\r",
      " 67%|██████████████████████████████████████████████████████████████████████████████████▉                                        | 866/1285 [4:31:20<2:13:29, 19.12s/it]"
     ]
    },
    {
     "name": "stdout",
     "output_type": "stream",
     "text": [
      "['retrieving figi: BBG004S68JR8 ticker: SVAV']\n"
     ]
    },
    {
     "name": "stderr",
     "output_type": "stream",
     "text": [
      "\r",
      " 67%|██████████████████████████████████████████████████████████████████████████████████▉                                        | 867/1285 [4:31:35<2:03:49, 17.77s/it]"
     ]
    },
    {
     "name": "stdout",
     "output_type": "stream",
     "text": [
      "['retrieving figi: BBG000BG4202 ticker: CPB']\n"
     ]
    },
    {
     "name": "stderr",
     "output_type": "stream",
     "text": [
      "\r",
      " 68%|███████████████████████████████████████████████████████████████████████████████████                                        | 868/1285 [4:31:55<2:08:47, 18.53s/it]"
     ]
    },
    {
     "name": "stdout",
     "output_type": "stream",
     "text": [
      "['retrieving figi: BBG0035WV4N9 ticker: MANU']\n"
     ]
    },
    {
     "name": "stderr",
     "output_type": "stream",
     "text": [
      "\r",
      " 68%|███████████████████████████████████████████████████████████████████████████████████▏                                       | 869/1285 [4:32:06<1:52:47, 16.27s/it]"
     ]
    },
    {
     "name": "stdout",
     "output_type": "stream",
     "text": [
      "['retrieving figi: BBG000C3G9J2 ticker: WRLD']\n"
     ]
    },
    {
     "name": "stderr",
     "output_type": "stream",
     "text": [
      "\r",
      " 68%|███████████████████████████████████████████████████████████████████████████████████▎                                       | 870/1285 [4:32:20<1:48:03, 15.62s/it]"
     ]
    },
    {
     "name": "stdout",
     "output_type": "stream",
     "text": [
      "['retrieving figi: BBG0046L1KL9 ticker: SFIX']\n"
     ]
    },
    {
     "name": "stderr",
     "output_type": "stream",
     "text": [
      "\r",
      " 68%|███████████████████████████████████████████████████████████████████████████████████▎                                       | 871/1285 [4:32:39<1:54:43, 16.63s/it]"
     ]
    },
    {
     "name": "stdout",
     "output_type": "stream",
     "text": [
      "['retrieving figi: BBG000C3FGH9 ticker: GHC']\n"
     ]
    },
    {
     "name": "stderr",
     "output_type": "stream",
     "text": [
      "\r",
      " 68%|███████████████████████████████████████████████████████████████████████████████████▍                                       | 872/1285 [4:32:50<1:42:56, 14.96s/it]"
     ]
    },
    {
     "name": "stdout",
     "output_type": "stream",
     "text": [
      "['retrieving figi: BBG000BJQWD2 ticker: AKAM']\n"
     ]
    },
    {
     "name": "stderr",
     "output_type": "stream",
     "text": [
      "\r",
      " 68%|███████████████████████████████████████████████████████████████████████████████████▌                                       | 873/1285 [4:33:11<1:55:11, 16.77s/it]"
     ]
    },
    {
     "name": "stdout",
     "output_type": "stream",
     "text": [
      "['retrieving figi: BBG000CPBCL8 ticker: OII']\n"
     ]
    },
    {
     "name": "stderr",
     "output_type": "stream",
     "text": [
      "\r",
      " 68%|███████████████████████████████████████████████████████████████████████████████████▋                                       | 874/1285 [4:33:34<2:06:08, 18.42s/it]"
     ]
    },
    {
     "name": "stdout",
     "output_type": "stream",
     "text": [
      "['retrieving figi: BBG008P7F869 ticker: DNLI']\n"
     ]
    },
    {
     "name": "stderr",
     "output_type": "stream",
     "text": [
      "\r",
      " 68%|███████████████████████████████████████████████████████████████████████████████████▊                                       | 875/1285 [4:33:54<2:08:58, 18.88s/it]"
     ]
    },
    {
     "name": "stdout",
     "output_type": "stream",
     "text": [
      "['retrieving figi: BBG000Q4NZ54 ticker: ENV']\n"
     ]
    },
    {
     "name": "stderr",
     "output_type": "stream",
     "text": [
      "\r",
      " 68%|███████████████████████████████████████████████████████████████████████████████████▊                                       | 876/1285 [4:34:08<2:00:14, 17.64s/it]"
     ]
    },
    {
     "name": "stdout",
     "output_type": "stream",
     "text": [
      "['retrieving figi: BBG000H6HNW3 ticker: TWTR']\n"
     ]
    },
    {
     "name": "stderr",
     "output_type": "stream",
     "text": [
      "\r",
      " 68%|███████████████████████████████████████████████████████████████████████████████████▉                                       | 877/1285 [4:34:31<2:09:40, 19.07s/it]"
     ]
    },
    {
     "name": "stdout",
     "output_type": "stream",
     "text": [
      "['retrieving figi: BBG00HVKH3Q0 ticker: ANGI']\n"
     ]
    },
    {
     "name": "stderr",
     "output_type": "stream",
     "text": [
      "\r",
      " 68%|████████████████████████████████████████████████████████████████████████████████████                                       | 878/1285 [4:34:48<2:05:24, 18.49s/it]"
     ]
    },
    {
     "name": "stdout",
     "output_type": "stream",
     "text": [
      "['retrieving figi: BBG000R0L5J4 ticker: TDC']\n"
     ]
    },
    {
     "name": "stderr",
     "output_type": "stream",
     "text": [
      "\r",
      " 68%|████████████████████████████████████████████████████████████████████████████████████▏                                      | 879/1285 [4:35:05<2:02:59, 18.18s/it]"
     ]
    },
    {
     "name": "stdout",
     "output_type": "stream",
     "text": [
      "['retrieving figi: BBG000C101X4 ticker: ABMD']\n"
     ]
    },
    {
     "name": "stderr",
     "output_type": "stream",
     "text": [
      "\r",
      " 68%|████████████████████████████████████████████████████████████████████████████████████▏                                      | 880/1285 [4:35:25<2:05:23, 18.58s/it]"
     ]
    },
    {
     "name": "stdout",
     "output_type": "stream",
     "text": [
      "['retrieving figi: BBG000Q7ZZY2 ticker: UNAC']\n"
     ]
    },
    {
     "name": "stderr",
     "output_type": "stream",
     "text": [
      "\r",
      " 69%|████████████████████████████████████████████████████████████████████████████████████▎                                      | 881/1285 [4:35:36<1:49:56, 16.33s/it]"
     ]
    },
    {
     "name": "stdout",
     "output_type": "stream",
     "text": [
      "['retrieving figi: BBG000NL6ZD9 ticker: IRGZ']\n"
     ]
    },
    {
     "name": "stderr",
     "output_type": "stream",
     "text": [
      "\r",
      " 69%|████████████████████████████████████████████████████████████████████████████████████▍                                      | 882/1285 [4:35:49<1:42:26, 15.25s/it]"
     ]
    },
    {
     "name": "stdout",
     "output_type": "stream",
     "text": [
      "['retrieving figi: BBG000BBD5N1 ticker: SNY']\n"
     ]
    },
    {
     "name": "stderr",
     "output_type": "stream",
     "text": [
      "\r",
      " 69%|████████████████████████████████████████████████████████████████████████████████████▌                                      | 883/1285 [4:36:09<1:52:46, 16.83s/it]"
     ]
    },
    {
     "name": "stdout",
     "output_type": "stream",
     "text": [
      "['retrieving figi: BBG005DLMMZ6 ticker: NMIH']\n"
     ]
    },
    {
     "name": "stderr",
     "output_type": "stream",
     "text": [
      "\r",
      " 69%|████████████████████████████████████████████████████████████████████████████████████▌                                      | 884/1285 [4:36:29<1:57:54, 17.64s/it]"
     ]
    },
    {
     "name": "stdout",
     "output_type": "stream",
     "text": [
      "['retrieving figi: BBG000BQ2C28 ticker: NOC']\n"
     ]
    },
    {
     "name": "stderr",
     "output_type": "stream",
     "text": [
      "\r",
      " 69%|████████████████████████████████████████████████████████████████████████████████████▋                                      | 885/1285 [4:36:49<2:02:39, 18.40s/it]"
     ]
    },
    {
     "name": "stdout",
     "output_type": "stream",
     "text": [
      "['retrieving figi: BBG000BHK836 ticker: FLIR']\n"
     ]
    },
    {
     "name": "stderr",
     "output_type": "stream",
     "text": [
      "\r",
      " 69%|████████████████████████████████████████████████████████████████████████████████████▊                                      | 886/1285 [4:37:07<2:02:14, 18.38s/it]"
     ]
    },
    {
     "name": "stdout",
     "output_type": "stream",
     "text": [
      "['retrieving figi: BBG000RG4ZQ4 ticker: TGKN']\n"
     ]
    },
    {
     "name": "stderr",
     "output_type": "stream",
     "text": [
      "\r",
      " 69%|████████████████████████████████████████████████████████████████████████████████████▉                                      | 887/1285 [4:37:21<1:52:07, 16.90s/it]"
     ]
    },
    {
     "name": "stdout",
     "output_type": "stream",
     "text": [
      "['retrieving figi: BBG000JH6683 ticker: IONS']\n"
     ]
    },
    {
     "name": "stderr",
     "output_type": "stream",
     "text": [
      "\r",
      " 69%|████████████████████████████████████████████████████████████████████████████████████▉                                      | 888/1285 [4:37:39<1:55:08, 17.40s/it]"
     ]
    },
    {
     "name": "stdout",
     "output_type": "stream",
     "text": [
      "['retrieving figi: BBG000BCG930 ticker: ANTM']\n"
     ]
    },
    {
     "name": "stderr",
     "output_type": "stream",
     "text": [
      "\r",
      " 69%|█████████████████████████████████████████████████████████████████████████████████████                                      | 889/1285 [4:37:59<1:58:31, 17.96s/it]"
     ]
    },
    {
     "name": "stdout",
     "output_type": "stream",
     "text": [
      "['retrieving figi: BBG000KK3464 ticker: SBCF']\n"
     ]
    },
    {
     "name": "stderr",
     "output_type": "stream",
     "text": [
      "\r",
      " 69%|█████████████████████████████████████████████████████████████████████████████████████▏                                     | 890/1285 [4:38:16<1:56:31, 17.70s/it]"
     ]
    },
    {
     "name": "stdout",
     "output_type": "stream",
     "text": [
      "['retrieving figi: BBG000BC4185 ticker: HA']\n"
     ]
    },
    {
     "name": "stderr",
     "output_type": "stream",
     "text": [
      "\r",
      " 69%|█████████████████████████████████████████████████████████████████████████████████████▎                                     | 891/1285 [4:38:33<1:55:18, 17.56s/it]"
     ]
    },
    {
     "name": "stdout",
     "output_type": "stream",
     "text": [
      "['retrieving figi: BBG000BC4JJ4 ticker: APD']\n"
     ]
    },
    {
     "name": "stderr",
     "output_type": "stream",
     "text": [
      "\r",
      " 69%|█████████████████████████████████████████████████████████████████████████████████████▍                                     | 892/1285 [4:38:51<1:56:24, 17.77s/it]"
     ]
    },
    {
     "name": "stdout",
     "output_type": "stream",
     "text": [
      "['retrieving figi: BBG000F3CWW7 ticker: JCOM']\n"
     ]
    },
    {
     "name": "stderr",
     "output_type": "stream",
     "text": [
      "\r",
      " 69%|█████████████████████████████████████████████████████████████████████████████████████▍                                     | 893/1285 [4:39:09<1:56:48, 17.88s/it]"
     ]
    },
    {
     "name": "stdout",
     "output_type": "stream",
     "text": [
      "['retrieving figi: BBG000G1C210 ticker: OFIX']\n"
     ]
    },
    {
     "name": "stderr",
     "output_type": "stream",
     "text": [
      "\r",
      " 70%|█████████████████████████████████████████████████████████████████████████████████████▌                                     | 894/1285 [4:39:25<1:51:32, 17.12s/it]"
     ]
    },
    {
     "name": "stdout",
     "output_type": "stream",
     "text": [
      "['retrieving figi: BBG000BD8PN9 ticker: BK']\n"
     ]
    },
    {
     "name": "stderr",
     "output_type": "stream",
     "text": [
      "\r",
      " 70%|█████████████████████████████████████████████████████████████████████████████████████▋                                     | 895/1285 [4:39:44<1:56:26, 17.91s/it]"
     ]
    },
    {
     "name": "stdout",
     "output_type": "stream",
     "text": [
      "['retrieving figi: BBG000BXPZB7 ticker: INGR']\n"
     ]
    },
    {
     "name": "stderr",
     "output_type": "stream",
     "text": [
      "\r",
      " 70%|█████████████████████████████████████████████████████████████████████████████████████▊                                     | 896/1285 [4:40:01<1:53:39, 17.53s/it]"
     ]
    },
    {
     "name": "stdout",
     "output_type": "stream",
     "text": [
      "['retrieving figi: BBG00CBYY6M1 ticker: HGV']\n"
     ]
    },
    {
     "name": "stderr",
     "output_type": "stream",
     "text": [
      "\r",
      " 70%|█████████████████████████████████████████████████████████████████████████████████████▊                                     | 897/1285 [4:40:19<1:53:26, 17.54s/it]"
     ]
    },
    {
     "name": "stdout",
     "output_type": "stream",
     "text": [
      "['retrieving figi: BBG000BVWZF9 ticker: TYL']\n"
     ]
    },
    {
     "name": "stderr",
     "output_type": "stream",
     "text": [
      "\r",
      " 70%|█████████████████████████████████████████████████████████████████████████████████████▉                                     | 898/1285 [4:40:37<1:55:05, 17.84s/it]"
     ]
    },
    {
     "name": "stdout",
     "output_type": "stream",
     "text": [
      "['retrieving figi: BBG000NS3P30 ticker: EXLS']\n"
     ]
    },
    {
     "name": "stderr",
     "output_type": "stream",
     "text": [
      "\r",
      " 70%|██████████████████████████████████████████████████████████████████████████████████████                                     | 899/1285 [4:40:52<1:48:50, 16.92s/it]"
     ]
    },
    {
     "name": "stdout",
     "output_type": "stream",
     "text": [
      "['retrieving figi: BBG000BV6R84 ticker: THO']\n"
     ]
    },
    {
     "name": "stderr",
     "output_type": "stream",
     "text": [
      "\r",
      " 70%|██████████████████████████████████████████████████████████████████████████████████████▏                                    | 900/1285 [4:41:09<1:49:15, 17.03s/it]"
     ]
    },
    {
     "name": "stdout",
     "output_type": "stream",
     "text": [
      "['retrieving figi: BBG000BKNX95 ticker: GT']\n"
     ]
    },
    {
     "name": "stderr",
     "output_type": "stream",
     "text": [
      "\r",
      " 70%|██████████████████████████████████████████████████████████████████████████████████████▏                                    | 901/1285 [4:41:30<1:56:28, 18.20s/it]"
     ]
    },
    {
     "name": "stdout",
     "output_type": "stream",
     "text": [
      "['retrieving figi: BBG000BMQCP6 ticker: KEX']\n"
     ]
    },
    {
     "name": "stderr",
     "output_type": "stream",
     "text": [
      "\r",
      " 70%|██████████████████████████████████████████████████████████████████████████████████████▎                                    | 902/1285 [4:41:48<1:56:17, 18.22s/it]"
     ]
    },
    {
     "name": "stdout",
     "output_type": "stream",
     "text": [
      "['retrieving figi: BBG000BCTQ65 ticker: XEL']\n"
     ]
    },
    {
     "name": "stderr",
     "output_type": "stream",
     "text": [
      "\r",
      " 70%|██████████████████████████████████████████████████████████████████████████████████████▍                                    | 903/1285 [4:42:07<1:57:05, 18.39s/it]"
     ]
    },
    {
     "name": "stdout",
     "output_type": "stream",
     "text": [
      "['retrieving figi: BBG000N7MXL8 ticker: ETSY']\n"
     ]
    },
    {
     "name": "stderr",
     "output_type": "stream",
     "text": [
      "\r",
      " 70%|██████████████████████████████████████████████████████████████████████████████████████▌                                    | 904/1285 [4:42:27<1:59:53, 18.88s/it]"
     ]
    },
    {
     "name": "stdout",
     "output_type": "stream",
     "text": [
      "['retrieving figi: BBG00FN64XT9 ticker: DXC']\n"
     ]
    },
    {
     "name": "stderr",
     "output_type": "stream",
     "text": [
      "\r",
      " 70%|██████████████████████████████████████████████████████████████████████████████████████▋                                    | 905/1285 [4:42:46<2:00:15, 18.99s/it]"
     ]
    },
    {
     "name": "stdout",
     "output_type": "stream",
     "text": [
      "['retrieving figi: BBG000BN53G7 ticker: LEG']\n"
     ]
    },
    {
     "name": "stderr",
     "output_type": "stream",
     "text": [
      "\r",
      " 71%|██████████████████████████████████████████████████████████████████████████████████████▋                                    | 906/1285 [4:43:04<1:57:41, 18.63s/it]"
     ]
    },
    {
     "name": "stdout",
     "output_type": "stream",
     "text": [
      "['retrieving figi: BBG000C4FQG6 ticker: RGR']\n"
     ]
    },
    {
     "name": "stderr",
     "output_type": "stream",
     "text": [
      "\r",
      " 71%|██████████████████████████████████████████████████████████████████████████████████████▊                                    | 907/1285 [4:43:18<1:47:58, 17.14s/it]"
     ]
    },
    {
     "name": "stdout",
     "output_type": "stream",
     "text": [
      "['retrieving figi: BBG000D2ZTS8 ticker: HBI']\n"
     ]
    },
    {
     "name": "stderr",
     "output_type": "stream",
     "text": [
      "\r",
      " 71%|██████████████████████████████████████████████████████████████████████████████████████▉                                    | 908/1285 [4:43:38<1:53:07, 18.00s/it]"
     ]
    },
    {
     "name": "stdout",
     "output_type": "stream",
     "text": [
      "['retrieving figi: BBG00475KHX6 ticker: TRNFP']\n"
     ]
    },
    {
     "name": "stderr",
     "output_type": "stream",
     "text": [
      "\r",
      " 71%|███████████████████████████████████████████████████████████████████████████████████████                                    | 909/1285 [4:43:54<1:49:48, 17.52s/it]"
     ]
    },
    {
     "name": "stdout",
     "output_type": "stream",
     "text": [
      "['retrieving figi: BBG00HY28K89 ticker: REZI']\n"
     ]
    },
    {
     "name": "stderr",
     "output_type": "stream",
     "text": [
      "\r",
      " 71%|███████████████████████████████████████████████████████████████████████████████████████                                    | 910/1285 [4:44:12<1:49:44, 17.56s/it]"
     ]
    },
    {
     "name": "stdout",
     "output_type": "stream",
     "text": [
      "['retrieving figi: BBG000BPRN29 ticker: ONTO']\n"
     ]
    },
    {
     "name": "stderr",
     "output_type": "stream",
     "text": [
      "\r",
      " 71%|███████████████████████████████████████████████████████████████████████████████████████▏                                   | 911/1285 [4:44:26<1:43:27, 16.60s/it]"
     ]
    },
    {
     "name": "stdout",
     "output_type": "stream",
     "text": [
      "['retrieving figi: BBG003338H34 ticker: ZS']\n"
     ]
    },
    {
     "name": "stderr",
     "output_type": "stream",
     "text": [
      "\r",
      " 71%|███████████████████████████████████████████████████████████████████████████████████████▎                                   | 912/1285 [4:44:48<1:52:44, 18.13s/it]"
     ]
    },
    {
     "name": "stdout",
     "output_type": "stream",
     "text": [
      "['retrieving figi: BBG000BQV1S2 ticker: SYNA']\n"
     ]
    },
    {
     "name": "stderr",
     "output_type": "stream",
     "text": [
      "\r",
      " 71%|███████████████████████████████████████████████████████████████████████████████████████▍                                   | 913/1285 [4:45:44<3:03:37, 29.62s/it]"
     ]
    },
    {
     "name": "stdout",
     "output_type": "stream",
     "text": [
      "['retrieving figi: BBG0039320N9 ticker: ZTS']\n"
     ]
    },
    {
     "name": "stderr",
     "output_type": "stream",
     "text": [
      "\r",
      " 71%|███████████████████████████████████████████████████████████████████████████████████████▍                                   | 914/1285 [4:46:31<3:35:23, 34.83s/it]"
     ]
    },
    {
     "name": "stdout",
     "output_type": "stream",
     "text": [
      "['retrieving figi: BBG000BM6N47 ticker: HEAR']\n"
     ]
    },
    {
     "name": "stderr",
     "output_type": "stream",
     "text": [
      "\r",
      " 71%|███████████████████████████████████████████████████████████████████████████████████████▌                                   | 915/1285 [4:46:59<3:21:36, 32.69s/it]"
     ]
    },
    {
     "name": "stdout",
     "output_type": "stream",
     "text": [
      "['retrieving figi: BBG000BB6G37 ticker: ADI']\n"
     ]
    },
    {
     "name": "stderr",
     "output_type": "stream",
     "text": [
      "\r",
      " 71%|███████████████████████████████████████████████████████████████████████████████████████▋                                   | 916/1285 [4:47:37<3:30:22, 34.21s/it]"
     ]
    },
    {
     "name": "stdout",
     "output_type": "stream",
     "text": [
      "['retrieving figi: BBG000BW6JV4 ticker: ITGR']\n"
     ]
    },
    {
     "name": "stderr",
     "output_type": "stream",
     "text": [
      "\r",
      " 71%|███████████████████████████████████████████████████████████████████████████████████████▊                                   | 917/1285 [4:48:10<3:28:39, 34.02s/it]"
     ]
    },
    {
     "name": "stdout",
     "output_type": "stream",
     "text": [
      "['retrieving figi: BBG000C17X76 ticker: BIIB']\n"
     ]
    },
    {
     "name": "stderr",
     "output_type": "stream",
     "text": [
      "\r",
      " 71%|███████████████████████████████████████████████████████████████████████████████████████▊                                   | 918/1285 [4:48:53<3:43:44, 36.58s/it]"
     ]
    },
    {
     "name": "stdout",
     "output_type": "stream",
     "text": [
      "['retrieving figi: BBG007BVZ8H9 ticker: WK']\n"
     ]
    },
    {
     "name": "stderr",
     "output_type": "stream",
     "text": [
      "\r",
      " 72%|███████████████████████████████████████████████████████████████████████████████████████▉                                   | 919/1285 [4:49:21<3:26:28, 33.85s/it]"
     ]
    },
    {
     "name": "stdout",
     "output_type": "stream",
     "text": [
      "['retrieving figi: BBG000CGJMB9 ticker: ESS']\n"
     ]
    },
    {
     "name": "stderr",
     "output_type": "stream",
     "text": [
      "\r",
      " 72%|████████████████████████████████████████████████████████████████████████████████████████                                   | 920/1285 [4:49:54<3:25:02, 33.71s/it]"
     ]
    },
    {
     "name": "stdout",
     "output_type": "stream",
     "text": [
      "['retrieving figi: BBG000BH92D1 ticker: MTOR']\n"
     ]
    },
    {
     "name": "stderr",
     "output_type": "stream",
     "text": [
      "\r",
      " 72%|████████████████████████████████████████████████████████████████████████████████████████▏                                  | 921/1285 [4:50:26<3:22:29, 33.38s/it]"
     ]
    },
    {
     "name": "stdout",
     "output_type": "stream",
     "text": [
      "['retrieving figi: BBG000BN84F3 ticker: DGX']\n"
     ]
    },
    {
     "name": "stderr",
     "output_type": "stream",
     "text": [
      "\r",
      " 72%|████████████████████████████████████████████████████████████████████████████████████████▎                                  | 922/1285 [4:51:03<3:26:52, 34.19s/it]"
     ]
    },
    {
     "name": "stdout",
     "output_type": "stream",
     "text": [
      "['retrieving figi: BBG0019V9M65 ticker: TNDM']\n"
     ]
    },
    {
     "name": "stderr",
     "output_type": "stream",
     "text": [
      "\r",
      " 72%|████████████████████████████████████████████████████████████████████████████████████████▎                                  | 923/1285 [4:51:40<3:32:39, 35.25s/it]"
     ]
    },
    {
     "name": "stdout",
     "output_type": "stream",
     "text": [
      "['retrieving figi: BBG000BH3JF8 ticker: DHR']\n"
     ]
    },
    {
     "name": "stderr",
     "output_type": "stream",
     "text": [
      "\r",
      " 72%|████████████████████████████████████████████████████████████████████████████████████████▍                                  | 924/1285 [4:52:20<3:40:45, 36.69s/it]"
     ]
    },
    {
     "name": "stdout",
     "output_type": "stream",
     "text": [
      "['retrieving figi: BBG000B9YJ35 ticker: APH']\n"
     ]
    },
    {
     "name": "stderr",
     "output_type": "stream",
     "text": [
      "\r",
      " 72%|████████████████████████████████████████████████████████████████████████████████████████▌                                  | 925/1285 [4:52:52<3:30:16, 35.05s/it]"
     ]
    },
    {
     "name": "stdout",
     "output_type": "stream",
     "text": [
      "['retrieving figi: BBG000C5Z443 ticker: CFX']\n"
     ]
    },
    {
     "name": "stderr",
     "output_type": "stream",
     "text": [
      "\r",
      " 72%|████████████████████████████████████████████████████████████████████████████████████████▋                                  | 926/1285 [4:53:24<3:24:27, 34.17s/it]"
     ]
    },
    {
     "name": "stdout",
     "output_type": "stream",
     "text": [
      "['retrieving figi: BBG000DMBXR2 ticker: JPM']\n"
     ]
    },
    {
     "name": "stderr",
     "output_type": "stream",
     "text": [
      "\r",
      " 72%|████████████████████████████████████████████████████████████████████████████████████████▋                                  | 927/1285 [4:53:58<3:24:20, 34.25s/it]"
     ]
    },
    {
     "name": "stdout",
     "output_type": "stream",
     "text": [
      "['retrieving figi: BBG000BM7HL0 ticker: ADSK']\n"
     ]
    },
    {
     "name": "stderr",
     "output_type": "stream",
     "text": [
      "\r",
      " 72%|████████████████████████████████████████████████████████████████████████████████████████▊                                  | 928/1285 [4:54:30<3:19:49, 33.58s/it]"
     ]
    },
    {
     "name": "stdout",
     "output_type": "stream",
     "text": [
      "['retrieving figi: BBG0065B7K59 ticker: MEDP']\n"
     ]
    },
    {
     "name": "stderr",
     "output_type": "stream",
     "text": [
      "\r",
      " 72%|████████████████████████████████████████████████████████████████████████████████████████▉                                  | 929/1285 [4:55:00<3:12:33, 32.45s/it]"
     ]
    },
    {
     "name": "stdout",
     "output_type": "stream",
     "text": [
      "['retrieving figi: BBG000BT9DW0 ticker: SO']\n"
     ]
    },
    {
     "name": "stderr",
     "output_type": "stream",
     "text": [
      "\r",
      " 72%|█████████████████████████████████████████████████████████████████████████████████████████                                  | 930/1285 [4:55:33<3:12:29, 32.53s/it]"
     ]
    },
    {
     "name": "stdout",
     "output_type": "stream",
     "text": [
      "['retrieving figi: BBG000BQTMJ9 ticker: PBI']\n"
     ]
    },
    {
     "name": "stderr",
     "output_type": "stream",
     "text": [
      "\r",
      " 72%|█████████████████████████████████████████████████████████████████████████████████████████                                  | 931/1285 [4:56:03<3:08:17, 31.91s/it]"
     ]
    },
    {
     "name": "stdout",
     "output_type": "stream",
     "text": [
      "['retrieving figi: BBG000BMNBY1 ticker: EEFT']\n"
     ]
    },
    {
     "name": "stderr",
     "output_type": "stream",
     "text": [
      "\r",
      " 73%|█████████████████████████████████████████████████████████████████████████████████████████▏                                 | 932/1285 [4:56:36<3:09:22, 32.19s/it]"
     ]
    },
    {
     "name": "stdout",
     "output_type": "stream",
     "text": [
      "['retrieving figi: BBG007Z9V591 ticker: RGNX']\n"
     ]
    },
    {
     "name": "stderr",
     "output_type": "stream",
     "text": [
      "\r",
      " 73%|█████████████████████████████████████████████████████████████████████████████████████████▎                                 | 933/1285 [4:57:06<3:04:44, 31.49s/it]"
     ]
    },
    {
     "name": "stdout",
     "output_type": "stream",
     "text": [
      "['retrieving figi: BBG000BKR1D6 ticker: GWW']\n"
     ]
    },
    {
     "name": "stderr",
     "output_type": "stream",
     "text": [
      "\r",
      " 73%|█████████████████████████████████████████████████████████████████████████████████████████▍                                 | 934/1285 [4:57:35<3:00:28, 30.85s/it]"
     ]
    },
    {
     "name": "stdout",
     "output_type": "stream",
     "text": [
      "['retrieving figi: BBG004S681W1 ticker: MTSS']\n"
     ]
    },
    {
     "name": "stderr",
     "output_type": "stream",
     "text": [
      "\r",
      " 73%|█████████████████████████████████████████████████████████████████████████████████████████▍                                 | 935/1285 [4:58:09<3:05:57, 31.88s/it]"
     ]
    },
    {
     "name": "stdout",
     "output_type": "stream",
     "text": [
      "['retrieving figi: BBG001C7PM75 ticker: GWRE']\n"
     ]
    },
    {
     "name": "stderr",
     "output_type": "stream",
     "text": [
      "\r",
      " 73%|█████████████████████████████████████████████████████████████████████████████████████████▌                                 | 936/1285 [4:58:38<2:59:30, 30.86s/it]"
     ]
    },
    {
     "name": "stdout",
     "output_type": "stream",
     "text": [
      "['retrieving figi: BBG001CGB489 ticker: VEEV']\n"
     ]
    },
    {
     "name": "stderr",
     "output_type": "stream",
     "text": [
      "\r",
      " 73%|█████████████████████████████████████████████████████████████████████████████████████████▋                                 | 937/1285 [4:59:09<2:59:50, 31.01s/it]"
     ]
    },
    {
     "name": "stdout",
     "output_type": "stream",
     "text": [
      "['retrieving figi: BBG000G30YX4 ticker: ALXN']\n"
     ]
    }
   ],
   "source": [
    "from datetime import datetime\n",
    "days_span=90\n",
    "startTime = datetime.now() - timedelta(days=days_span)\n",
    "endTime = datetime.now()\n",
    "tick_data=get_detailed_data(tick,_from=startTime,to=endTime)"
   ]
  },
  {
   "cell_type": "code",
   "execution_count": null,
   "metadata": {},
   "outputs": [],
   "source": [
    "etf_data=get_detailed_data(etf,_from=startTime,to=endTime)"
   ]
  },
  {
   "cell_type": "code",
   "execution_count": null,
   "metadata": {},
   "outputs": [],
   "source": [
    "bonds_data=get_detailed_data(bond,_from=startTime,to=endTime)"
   ]
  },
  {
   "cell_type": "code",
   "execution_count": null,
   "metadata": {},
   "outputs": [],
   "source": [
    "def set_balance():\n",
    "    balance_set = client.sandbox.sandbox_currencies_balance_post({\"currency\": \"USD\", \"balance\": 10000})\n",
    "    print(\"balance\")\n",
    "    print(balance_set)\n",
    "    print()\n",
    "\n",
    "\n",
    "def print_24hr_operations():\n",
    "    now = datetime.now(tz=timezone('Europe/Moscow'))\n",
    "    yesterday = now - timedelta(days=1)\n",
    "    ops = client.operations.operations_get(_from=yesterday.isoformat(), to=now.isoformat())\n",
    "    print(\"operations\")\n",
    "    print(ops)\n",
    "    print()\n",
    "\n",
    "\n",
    "def print_orders():\n",
    "    orders = client.orders.orders_get()\n",
    "    print(\"active orders\")\n",
    "    print(orders)\n",
    "    print()\n",
    "\n",
    "\n",
    "def make_order():\n",
    "    order_response = client.orders.orders_limit_order_post(figi='BBG009S39JX6',\n",
    "                                                           limit_order_request={\"lots\": 1,\n",
    "                                                                                \"operation\": \"Buy\",\n",
    "                                                                                \"price\": 0.01})\n",
    "    print(\"make order\")\n",
    "    print(order_response)\n",
    "    print()\n",
    "    return order_response\n",
    "\n",
    "\n",
    "# won't work in sandbox - orders are being instantly executed\n",
    "def cancel_order(order_id):\n",
    "    cancellation_result = client.orders.orders_cancel_post(order_id=order_id)\n",
    "    print(\"cancel order\")\n",
    "    print(cancellation_result)\n",
    "    print()\n",
    "\n",
    "\n",
    "set_balance()\n",
    "print_24hr_operations()\n",
    "print_orders()\n",
    "order_response = make_order()\n",
    "print_orders()\n",
    "# cancel_order(order_response.payload.order_id)\n",
    "# print_orders()"
   ]
  }
 ],
 "metadata": {
  "kernelspec": {
   "display_name": "Python [conda env:DL_py378]",
   "language": "python",
   "name": "conda-env-DL_py378-py"
  },
  "language_info": {
   "codemirror_mode": {
    "name": "ipython",
    "version": 3
   },
   "file_extension": ".py",
   "mimetype": "text/x-python",
   "name": "python",
   "nbconvert_exporter": "python",
   "pygments_lexer": "ipython3",
   "version": "3.7.7"
  },
  "varInspector": {
   "cols": {
    "lenName": 16,
    "lenType": 16,
    "lenVar": 40
   },
   "kernels_config": {
    "python": {
     "delete_cmd_postfix": "",
     "delete_cmd_prefix": "del ",
     "library": "var_list.py",
     "varRefreshCmd": "print(var_dic_list())"
    },
    "r": {
     "delete_cmd_postfix": ") ",
     "delete_cmd_prefix": "rm(",
     "library": "var_list.r",
     "varRefreshCmd": "cat(var_dic_list()) "
    }
   },
   "types_to_exclude": [
    "module",
    "function",
    "builtin_function_or_method",
    "instance",
    "_Feature"
   ],
   "window_display": false
  }
 },
 "nbformat": 4,
 "nbformat_minor": 2
}
